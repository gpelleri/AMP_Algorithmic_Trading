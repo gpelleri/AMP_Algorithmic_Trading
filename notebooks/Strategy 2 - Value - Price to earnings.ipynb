{
 "cells": [
  {
   "cell_type": "markdown",
   "id": "c9845cbf-0607-45c9-a8d4-f1361d30a826",
   "metadata": {},
   "source": [
    "# Strategy 2.2 - Price to Earnings Strategy"
   ]
  },
  {
   "cell_type": "code",
   "execution_count": 1,
   "id": "e7a406af-1a2f-461d-9c42-ec8561e48247",
   "metadata": {
    "tags": []
   },
   "outputs": [],
   "source": [
    "import sys\n",
    "import os\n",
    "# Get the parent directory of the \"notebook\" folder\n",
    "project_root = os.path.abspath(os.path.join(os.getcwd(), \"..\"))\n",
    "\n",
    "# Add it to the Python path\n",
    "sys.path.append(project_root)"
   ]
  },
  {
   "cell_type": "code",
   "execution_count": 3,
   "id": "6ae3a32e-d286-42c8-9c1f-945dedfe53fe",
   "metadata": {
    "tags": []
   },
   "outputs": [],
   "source": [
    "from strategies.ratio_value import RatioValueStrategy\n",
    "from utils.backtest import Backtest\n",
    "from utils.data_handler import DataHandler\n",
    "import yfinance as yf\n",
    "import pandas as pd\n"
   ]
  },
  {
   "cell_type": "code",
   "execution_count": 4,
   "id": "31f9542c-317f-4856-b2b4-3d17a6fd79b5",
   "metadata": {
    "tags": []
   },
   "outputs": [],
   "source": [
    "%load_ext autoreload\n",
    "%autoreload 2"
   ]
  },
  {
   "cell_type": "code",
   "execution_count": 5,
   "id": "b5c6f8bf-6e31-4ab6-a2e4-2a5cb55db060",
   "metadata": {
    "tags": []
   },
   "outputs": [],
   "source": [
    "%reload_ext autoreload"
   ]
  },
  {
   "cell_type": "code",
   "execution_count": 6,
   "id": "ca4894e9-18b6-4d3c-a433-1a25a5458889",
   "metadata": {
    "tags": []
   },
   "outputs": [],
   "source": [
    "file_name = '../data/PE RATIO.xlsx'\n",
    "\n",
    "# Automatically use the current working directory (or adjust as needed)\n",
    "current_dir = os.getcwd()\n",
    "file_path = os.path.join(current_dir, file_name)"
   ]
  },
  {
   "cell_type": "markdown",
   "id": "b671c0bd-2380-48f2-ac27-a59b65958895",
   "metadata": {},
   "source": [
    "## In sample Backtest to determine the best parameters"
   ]
  },
  {
   "cell_type": "code",
   "execution_count": 8,
   "id": "c92d9127-59be-462c-8d14-424114f69721",
   "metadata": {
    "tags": []
   },
   "outputs": [],
   "source": [
    "# Define tickers and parameter grid\n",
    "tickers = [\n",
    "    \"AAPL\", \"ABT\", \"ADI\", \"ADM\", \"ADP\", \"ADSK\", \"AEE\", \"AEP\", \"AJG\", \"AKAM\",\n",
    "    \"ALB\", \"AMAT\", \"AMD\", \"AME\", \"AMGN\", \"AMT\", \"AMZN\", \"AON\", \"AOS\", \"APA\",\n",
    "    \"APD\", \"APH\", \"ARE\", \"AVB\", \"AVY\", \"AXP\", \"AZO\", \"BA\", \"BAC\", \"BAX\",\n",
    "    \"BBY\", \"BDX\", \"BEN\", \"BIIB\", \"BK\", \"BLK\", \"BMY\", \"BSX\", \"BXP\", \"C\",\n",
    "    \"CAG\", \"CAH\", \"CAT\", \"CB\", \"CCI\", \"CDNS\", \"CHD\", \"CHRW\", \"CINF\", \"CL\",\n",
    "    \"CLX\", \"CMI\", \"CNP\", \"COO\", \"COP\", \"COST\", \"CPB\", \"CPRT\", \"CSCO\", \"CTAS\",\n",
    "    \"CTSH\", \"D\", \"DE\", \"DGX\", \"DHI\", \"DIS\", \"DLTR\", \"DOV\", \"DRI\", \"DTE\",\n",
    "    \"DVA\", \"EA\", \"EBAY\", \"ECL\", \"ED\", \"EFX\", \"EIX\", \"EL\", \"EMN\", \"EMR\",\n",
    "    \"EOG\", \"EQR\", \"ES\", \"ESS\", \"F\", \"FAST\", \"FCX\", \"FDX\", \"FE\", \"FFIV\",\n",
    "    \"FITB\", \"FRT\", \"GD\", \"GE\", \"GILD\", \"GIS\", \"GPC\", \"GWW\", \"HAL\", \"HAS\"\n",
    "] # Add more tickers as needed\n",
    "frequencies = ['weekly', 'monthly', '6month']\n",
    "K = [0.5, 1, 1.5]"
   ]
  },
  {
   "cell_type": "code",
   "execution_count": 9,
   "id": "0ae9b13c-af8b-4718-9c61-b8c309bcc22e",
   "metadata": {
    "tags": []
   },
   "outputs": [
    {
     "name": "stdout",
     "output_type": "stream",
     "text": [
      "\n",
      "--- Evaluating AAPL ---\n",
      "YF.download() has changed argument auto_adjust default to True\n"
     ]
    },
    {
     "name": "stderr",
     "output_type": "stream",
     "text": [
      "[*********************100%***********************]  1 of 1 completed\n"
     ]
    },
    {
     "name": "stdout",
     "output_type": "stream",
     "text": [
      "\n",
      "Testing weekly frequency strategy with k=0.5 for AAPL:\n",
      "Final Portfolio Value: $136,697.20\n",
      "Total Return: 36.70%\n",
      "Sharpe Ratio: 0.24\n",
      "Max Drawdown: -65.41%\n",
      "\n",
      "Testing weekly frequency strategy with k=1 for AAPL:\n",
      "Final Portfolio Value: $241,263.86\n",
      "Total Return: 141.26%\n",
      "Sharpe Ratio: 0.44\n",
      "Max Drawdown: -58.06%\n",
      "\n",
      "Testing weekly frequency strategy with k=1.5 for AAPL:\n",
      "Final Portfolio Value: $170,399.60\n",
      "Total Return: 70.40%\n",
      "Sharpe Ratio: 0.32\n",
      "Max Drawdown: -64.68%\n",
      "\n",
      "Testing monthly frequency strategy with k=0.5 for AAPL:\n"
     ]
    },
    {
     "name": "stderr",
     "output_type": "stream",
     "text": [
      "C:\\Users\\Gautier Pellerin\\Documents\\Code\\AMP_Algorithmic_Trading\\strategies\\ratio_value.py:57: FutureWarning: 'M' is deprecated and will be removed in a future version, please use 'ME' instead.\n",
      "  return data.resample(freq).last().dropna()\n"
     ]
    },
    {
     "name": "stdout",
     "output_type": "stream",
     "text": [
      "Final Portfolio Value: $252,202.55\n",
      "Total Return: 152.20%\n",
      "Sharpe Ratio: 0.45\n",
      "Max Drawdown: -58.83%\n",
      "\n",
      "Testing monthly frequency strategy with k=1 for AAPL:\n"
     ]
    },
    {
     "name": "stderr",
     "output_type": "stream",
     "text": [
      "C:\\Users\\Gautier Pellerin\\Documents\\Code\\AMP_Algorithmic_Trading\\strategies\\ratio_value.py:57: FutureWarning: 'M' is deprecated and will be removed in a future version, please use 'ME' instead.\n",
      "  return data.resample(freq).last().dropna()\n"
     ]
    },
    {
     "name": "stdout",
     "output_type": "stream",
     "text": [
      "Final Portfolio Value: $208,602.23\n",
      "Total Return: 108.60%\n",
      "Sharpe Ratio: 0.39\n",
      "Max Drawdown: -58.83%\n",
      "\n",
      "Testing monthly frequency strategy with k=1.5 for AAPL:\n"
     ]
    },
    {
     "name": "stderr",
     "output_type": "stream",
     "text": [
      "C:\\Users\\Gautier Pellerin\\Documents\\Code\\AMP_Algorithmic_Trading\\strategies\\ratio_value.py:57: FutureWarning: 'M' is deprecated and will be removed in a future version, please use 'ME' instead.\n",
      "  return data.resample(freq).last().dropna()\n"
     ]
    },
    {
     "name": "stdout",
     "output_type": "stream",
     "text": [
      "Final Portfolio Value: $146,408.93\n",
      "Total Return: 46.41%\n",
      "Sharpe Ratio: 0.27\n",
      "Max Drawdown: -58.83%\n",
      "\n",
      "Testing 6month frequency strategy with k=0.5 for AAPL:\n"
     ]
    },
    {
     "name": "stderr",
     "output_type": "stream",
     "text": [
      "C:\\Users\\Gautier Pellerin\\Documents\\Code\\AMP_Algorithmic_Trading\\strategies\\ratio_value.py:57: FutureWarning: 'M' is deprecated and will be removed in a future version, please use 'ME' instead.\n",
      "  return data.resample(freq).last().dropna()\n"
     ]
    },
    {
     "name": "stdout",
     "output_type": "stream",
     "text": [
      "Final Portfolio Value: $1,172,900.17\n",
      "Total Return: 1072.90%\n",
      "Sharpe Ratio: 0.88\n",
      "Max Drawdown: -60.87%\n",
      "\n",
      "Testing 6month frequency strategy with k=1 for AAPL:\n"
     ]
    },
    {
     "name": "stderr",
     "output_type": "stream",
     "text": [
      "C:\\Users\\Gautier Pellerin\\Documents\\Code\\AMP_Algorithmic_Trading\\strategies\\ratio_value.py:57: FutureWarning: 'M' is deprecated and will be removed in a future version, please use 'ME' instead.\n",
      "  return data.resample(freq).last().dropna()\n"
     ]
    },
    {
     "name": "stdout",
     "output_type": "stream",
     "text": [
      "Final Portfolio Value: $655,702.86\n",
      "Total Return: 555.70%\n",
      "Sharpe Ratio: 0.84\n",
      "Max Drawdown: -43.80%\n",
      "\n",
      "Testing 6month frequency strategy with k=1.5 for AAPL:\n"
     ]
    },
    {
     "name": "stderr",
     "output_type": "stream",
     "text": [
      "C:\\Users\\Gautier Pellerin\\Documents\\Code\\AMP_Algorithmic_Trading\\strategies\\ratio_value.py:57: FutureWarning: 'M' is deprecated and will be removed in a future version, please use 'ME' instead.\n",
      "  return data.resample(freq).last().dropna()\n"
     ]
    },
    {
     "name": "stdout",
     "output_type": "stream",
     "text": [
      "Final Portfolio Value: $100,000.00\n",
      "Total Return: 0.00%\n",
      "Sharpe Ratio: nan\n",
      "Max Drawdown: 0.00%\n",
      "\n",
      "Strategy Comparison Table:\n",
      "                Final Value   Return  Sharpe Ratio  Max Drawdown\n",
      "Frequency k                                                     \n",
      "weekly    0.5  1.366972e+05   0.3670        0.2399       -0.6541\n",
      "          1.0  2.412639e+05   1.4126        0.4371       -0.5806\n",
      "          1.5  1.703996e+05   0.7040        0.3180       -0.6468\n",
      "monthly   0.5  2.522026e+05   1.5220        0.4480       -0.5883\n",
      "          1.0  2.086022e+05   1.0860        0.3881       -0.5883\n",
      "          1.5  1.464089e+05   0.4641        0.2688       -0.5883\n",
      "6month    0.5  1.172900e+06  10.7290        0.8773       -0.6087\n",
      "          1.0  6.557029e+05   5.5570        0.8434       -0.4380\n",
      "          1.5  1.000000e+05   0.0000           NaN        0.0000\n",
      "\n",
      "--- Evaluating ABT ---\n"
     ]
    },
    {
     "name": "stderr",
     "output_type": "stream",
     "text": [
      "[*********************100%***********************]  1 of 1 completed\n"
     ]
    },
    {
     "name": "stdout",
     "output_type": "stream",
     "text": [
      "\n",
      "Testing weekly frequency strategy with k=0.5 for ABT:\n",
      "Final Portfolio Value: $66,933.20\n",
      "Total Return: -33.07%\n",
      "Sharpe Ratio: -0.16\n",
      "Max Drawdown: -41.43%\n",
      "\n",
      "Testing weekly frequency strategy with k=1 for ABT:\n",
      "Final Portfolio Value: $78,920.89\n",
      "Total Return: -21.08%\n",
      "Sharpe Ratio: -0.06\n",
      "Max Drawdown: -39.17%\n",
      "\n",
      "Testing weekly frequency strategy with k=1.5 for ABT:\n",
      "Final Portfolio Value: $133,807.43\n",
      "Total Return: 33.81%\n",
      "Sharpe Ratio: 0.24\n",
      "Max Drawdown: -29.39%\n",
      "\n",
      "Testing monthly frequency strategy with k=0.5 for ABT:\n"
     ]
    },
    {
     "name": "stderr",
     "output_type": "stream",
     "text": [
      "C:\\Users\\Gautier Pellerin\\Documents\\Code\\AMP_Algorithmic_Trading\\strategies\\ratio_value.py:57: FutureWarning: 'M' is deprecated and will be removed in a future version, please use 'ME' instead.\n",
      "  return data.resample(freq).last().dropna()\n"
     ]
    },
    {
     "name": "stdout",
     "output_type": "stream",
     "text": [
      "Final Portfolio Value: $117,131.57\n",
      "Total Return: 17.13%\n",
      "Sharpe Ratio: 0.17\n",
      "Max Drawdown: -28.92%\n",
      "\n",
      "Testing monthly frequency strategy with k=1 for ABT:\n"
     ]
    },
    {
     "name": "stderr",
     "output_type": "stream",
     "text": [
      "C:\\Users\\Gautier Pellerin\\Documents\\Code\\AMP_Algorithmic_Trading\\strategies\\ratio_value.py:57: FutureWarning: 'M' is deprecated and will be removed in a future version, please use 'ME' instead.\n",
      "  return data.resample(freq).last().dropna()\n"
     ]
    },
    {
     "name": "stdout",
     "output_type": "stream",
     "text": [
      "Final Portfolio Value: $181,491.36\n",
      "Total Return: 81.49%\n",
      "Sharpe Ratio: 0.42\n",
      "Max Drawdown: -28.93%\n",
      "\n",
      "Testing monthly frequency strategy with k=1.5 for ABT:\n"
     ]
    },
    {
     "name": "stderr",
     "output_type": "stream",
     "text": [
      "C:\\Users\\Gautier Pellerin\\Documents\\Code\\AMP_Algorithmic_Trading\\strategies\\ratio_value.py:57: FutureWarning: 'M' is deprecated and will be removed in a future version, please use 'ME' instead.\n",
      "  return data.resample(freq).last().dropna()\n"
     ]
    },
    {
     "name": "stdout",
     "output_type": "stream",
     "text": [
      "Final Portfolio Value: $151,683.01\n",
      "Total Return: 51.68%\n",
      "Sharpe Ratio: 0.32\n",
      "Max Drawdown: -28.93%\n",
      "\n",
      "Testing 6month frequency strategy with k=0.5 for ABT:\n"
     ]
    },
    {
     "name": "stderr",
     "output_type": "stream",
     "text": [
      "C:\\Users\\Gautier Pellerin\\Documents\\Code\\AMP_Algorithmic_Trading\\strategies\\ratio_value.py:57: FutureWarning: 'M' is deprecated and will be removed in a future version, please use 'ME' instead.\n",
      "  return data.resample(freq).last().dropna()\n"
     ]
    },
    {
     "name": "stdout",
     "output_type": "stream",
     "text": [
      "Final Portfolio Value: $183,102.67\n",
      "Total Return: 83.10%\n",
      "Sharpe Ratio: 0.43\n",
      "Max Drawdown: -28.93%\n",
      "\n",
      "Testing 6month frequency strategy with k=1 for ABT:\n"
     ]
    },
    {
     "name": "stderr",
     "output_type": "stream",
     "text": [
      "C:\\Users\\Gautier Pellerin\\Documents\\Code\\AMP_Algorithmic_Trading\\strategies\\ratio_value.py:57: FutureWarning: 'M' is deprecated and will be removed in a future version, please use 'ME' instead.\n",
      "  return data.resample(freq).last().dropna()\n"
     ]
    },
    {
     "name": "stdout",
     "output_type": "stream",
     "text": [
      "Final Portfolio Value: $140,176.85\n",
      "Total Return: 40.18%\n",
      "Sharpe Ratio: 0.29\n",
      "Max Drawdown: -28.92%\n",
      "\n",
      "Testing 6month frequency strategy with k=1.5 for ABT:\n"
     ]
    },
    {
     "name": "stderr",
     "output_type": "stream",
     "text": [
      "C:\\Users\\Gautier Pellerin\\Documents\\Code\\AMP_Algorithmic_Trading\\strategies\\ratio_value.py:57: FutureWarning: 'M' is deprecated and will be removed in a future version, please use 'ME' instead.\n",
      "  return data.resample(freq).last().dropna()\n"
     ]
    },
    {
     "name": "stdout",
     "output_type": "stream",
     "text": [
      "Final Portfolio Value: $207,951.27\n",
      "Total Return: 107.95%\n",
      "Sharpe Ratio: 0.48\n",
      "Max Drawdown: -28.92%\n",
      "\n",
      "Strategy Comparison Table:\n",
      "               Final Value  Return  Sharpe Ratio  Max Drawdown\n",
      "Frequency k                                                   \n",
      "weekly    0.5   66933.2017 -0.3307       -0.1583       -0.4143\n",
      "          1.0   78920.8916 -0.2108       -0.0586       -0.3917\n",
      "          1.5  133807.4291  0.3381        0.2437       -0.2939\n",
      "monthly   0.5  117131.5674  0.1713        0.1702       -0.2892\n",
      "          1.0  181491.3646  0.8149        0.4180       -0.2893\n",
      "          1.5  151683.0131  0.5168        0.3223       -0.2893\n",
      "6month    0.5  183102.6720  0.8310        0.4259       -0.2893\n",
      "          1.0  140176.8511  0.4018        0.2936       -0.2892\n",
      "          1.5  207951.2662  1.0795        0.4805       -0.2892\n",
      "\n",
      "--- Evaluating ADI ---\n"
     ]
    },
    {
     "name": "stderr",
     "output_type": "stream",
     "text": [
      "[*********************100%***********************]  1 of 1 completed\n"
     ]
    },
    {
     "name": "stdout",
     "output_type": "stream",
     "text": [
      "\n",
      "Testing weekly frequency strategy with k=0.5 for ADI:\n",
      "Final Portfolio Value: $110,124.53\n",
      "Total Return: 10.12%\n",
      "Sharpe Ratio: 0.14\n",
      "Max Drawdown: -29.87%\n",
      "\n",
      "Testing weekly frequency strategy with k=1 for ADI:\n",
      "Final Portfolio Value: $109,581.48\n",
      "Total Return: 9.58%\n",
      "Sharpe Ratio: 0.13\n",
      "Max Drawdown: -24.19%\n",
      "\n",
      "Testing weekly frequency strategy with k=1.5 for ADI:\n",
      "Final Portfolio Value: $129,501.82\n",
      "Total Return: 29.50%\n",
      "Sharpe Ratio: 0.29\n",
      "Max Drawdown: -19.80%\n",
      "\n",
      "Testing monthly frequency strategy with k=0.5 for ADI:\n"
     ]
    },
    {
     "name": "stderr",
     "output_type": "stream",
     "text": [
      "C:\\Users\\Gautier Pellerin\\Documents\\Code\\AMP_Algorithmic_Trading\\strategies\\ratio_value.py:57: FutureWarning: 'M' is deprecated and will be removed in a future version, please use 'ME' instead.\n",
      "  return data.resample(freq).last().dropna()\n"
     ]
    },
    {
     "name": "stdout",
     "output_type": "stream",
     "text": [
      "Final Portfolio Value: $143,172.94\n",
      "Total Return: 43.17%\n",
      "Sharpe Ratio: 0.36\n",
      "Max Drawdown: -22.18%\n",
      "\n",
      "Testing monthly frequency strategy with k=1 for ADI:\n"
     ]
    },
    {
     "name": "stderr",
     "output_type": "stream",
     "text": [
      "C:\\Users\\Gautier Pellerin\\Documents\\Code\\AMP_Algorithmic_Trading\\strategies\\ratio_value.py:57: FutureWarning: 'M' is deprecated and will be removed in a future version, please use 'ME' instead.\n",
      "  return data.resample(freq).last().dropna()\n"
     ]
    },
    {
     "name": "stdout",
     "output_type": "stream",
     "text": [
      "Final Portfolio Value: $131,558.39\n",
      "Total Return: 31.56%\n",
      "Sharpe Ratio: 0.31\n",
      "Max Drawdown: -18.31%\n",
      "\n",
      "Testing monthly frequency strategy with k=1.5 for ADI:\n"
     ]
    },
    {
     "name": "stderr",
     "output_type": "stream",
     "text": [
      "C:\\Users\\Gautier Pellerin\\Documents\\Code\\AMP_Algorithmic_Trading\\strategies\\ratio_value.py:57: FutureWarning: 'M' is deprecated and will be removed in a future version, please use 'ME' instead.\n",
      "  return data.resample(freq).last().dropna()\n"
     ]
    },
    {
     "name": "stdout",
     "output_type": "stream",
     "text": [
      "Final Portfolio Value: $138,781.73\n",
      "Total Return: 38.78%\n",
      "Sharpe Ratio: 0.30\n",
      "Max Drawdown: -26.38%\n",
      "\n",
      "Testing 6month frequency strategy with k=0.5 for ADI:\n"
     ]
    },
    {
     "name": "stderr",
     "output_type": "stream",
     "text": [
      "C:\\Users\\Gautier Pellerin\\Documents\\Code\\AMP_Algorithmic_Trading\\strategies\\ratio_value.py:57: FutureWarning: 'M' is deprecated and will be removed in a future version, please use 'ME' instead.\n",
      "  return data.resample(freq).last().dropna()\n"
     ]
    },
    {
     "name": "stdout",
     "output_type": "stream",
     "text": [
      "Final Portfolio Value: $130,560.38\n",
      "Total Return: 30.56%\n",
      "Sharpe Ratio: 0.37\n",
      "Max Drawdown: -11.01%\n",
      "\n",
      "Testing 6month frequency strategy with k=1 for ADI:\n"
     ]
    },
    {
     "name": "stderr",
     "output_type": "stream",
     "text": [
      "C:\\Users\\Gautier Pellerin\\Documents\\Code\\AMP_Algorithmic_Trading\\strategies\\ratio_value.py:57: FutureWarning: 'M' is deprecated and will be removed in a future version, please use 'ME' instead.\n",
      "  return data.resample(freq).last().dropna()\n"
     ]
    },
    {
     "name": "stdout",
     "output_type": "stream",
     "text": [
      "Final Portfolio Value: $135,465.23\n",
      "Total Return: 35.47%\n",
      "Sharpe Ratio: 0.38\n",
      "Max Drawdown: -11.01%\n",
      "\n",
      "Testing 6month frequency strategy with k=1.5 for ADI:\n"
     ]
    },
    {
     "name": "stderr",
     "output_type": "stream",
     "text": [
      "C:\\Users\\Gautier Pellerin\\Documents\\Code\\AMP_Algorithmic_Trading\\strategies\\ratio_value.py:57: FutureWarning: 'M' is deprecated and will be removed in a future version, please use 'ME' instead.\n",
      "  return data.resample(freq).last().dropna()\n"
     ]
    },
    {
     "name": "stdout",
     "output_type": "stream",
     "text": [
      "Final Portfolio Value: $100,000.00\n",
      "Total Return: 0.00%\n",
      "Sharpe Ratio: nan\n",
      "Max Drawdown: 0.00%\n",
      "\n",
      "Strategy Comparison Table:\n",
      "               Final Value  Return  Sharpe Ratio  Max Drawdown\n",
      "Frequency k                                                   \n",
      "weekly    0.5  110124.5254  0.1012        0.1350       -0.2987\n",
      "          1.0  109581.4791  0.0958        0.1305       -0.2419\n",
      "          1.5  129501.8219  0.2950        0.2902       -0.1980\n",
      "monthly   0.5  143172.9363  0.4317        0.3637       -0.2218\n",
      "          1.0  131558.3907  0.3156        0.3052       -0.1831\n",
      "          1.5  138781.7270  0.3878        0.3048       -0.2638\n",
      "6month    0.5  130560.3835  0.3056        0.3699       -0.1101\n",
      "          1.0  135465.2331  0.3547        0.3762       -0.1101\n",
      "          1.5  100000.0000  0.0000           NaN        0.0000\n",
      "\n",
      "--- Evaluating ADM ---\n"
     ]
    },
    {
     "name": "stderr",
     "output_type": "stream",
     "text": [
      "[*********************100%***********************]  1 of 1 completed\n"
     ]
    },
    {
     "name": "stdout",
     "output_type": "stream",
     "text": [
      "\n",
      "Testing weekly frequency strategy with k=0.5 for ADM:\n",
      "Final Portfolio Value: $57,823.74\n",
      "Total Return: -42.18%\n",
      "Sharpe Ratio: -0.08\n",
      "Max Drawdown: -70.00%\n",
      "\n",
      "Testing weekly frequency strategy with k=1 for ADM:\n",
      "Final Portfolio Value: $90,745.58\n",
      "Total Return: -9.25%\n",
      "Sharpe Ratio: 0.09\n",
      "Max Drawdown: -65.53%\n",
      "\n",
      "Testing weekly frequency strategy with k=1.5 for ADM:\n",
      "Final Portfolio Value: $138,156.94\n",
      "Total Return: 38.16%\n",
      "Sharpe Ratio: 0.24\n",
      "Max Drawdown: -65.72%\n",
      "\n",
      "Testing monthly frequency strategy with k=0.5 for ADM:\n"
     ]
    },
    {
     "name": "stderr",
     "output_type": "stream",
     "text": [
      "C:\\Users\\Gautier Pellerin\\Documents\\Code\\AMP_Algorithmic_Trading\\strategies\\ratio_value.py:57: FutureWarning: 'M' is deprecated and will be removed in a future version, please use 'ME' instead.\n",
      "  return data.resample(freq).last().dropna()\n"
     ]
    },
    {
     "name": "stdout",
     "output_type": "stream",
     "text": [
      "Final Portfolio Value: $74,889.31\n",
      "Total Return: -25.11%\n",
      "Sharpe Ratio: 0.02\n",
      "Max Drawdown: -70.30%\n",
      "\n",
      "Testing monthly frequency strategy with k=1 for ADM:\n"
     ]
    },
    {
     "name": "stderr",
     "output_type": "stream",
     "text": [
      "C:\\Users\\Gautier Pellerin\\Documents\\Code\\AMP_Algorithmic_Trading\\strategies\\ratio_value.py:57: FutureWarning: 'M' is deprecated and will be removed in a future version, please use 'ME' instead.\n",
      "  return data.resample(freq).last().dropna()\n"
     ]
    },
    {
     "name": "stdout",
     "output_type": "stream",
     "text": [
      "Final Portfolio Value: $86,727.88\n",
      "Total Return: -13.27%\n",
      "Sharpe Ratio: 0.08\n",
      "Max Drawdown: -58.10%\n",
      "\n",
      "Testing monthly frequency strategy with k=1.5 for ADM:\n"
     ]
    },
    {
     "name": "stderr",
     "output_type": "stream",
     "text": [
      "C:\\Users\\Gautier Pellerin\\Documents\\Code\\AMP_Algorithmic_Trading\\strategies\\ratio_value.py:57: FutureWarning: 'M' is deprecated and will be removed in a future version, please use 'ME' instead.\n",
      "  return data.resample(freq).last().dropna()\n"
     ]
    },
    {
     "name": "stdout",
     "output_type": "stream",
     "text": [
      "Final Portfolio Value: $247,597.36\n",
      "Total Return: 147.60%\n",
      "Sharpe Ratio: 0.53\n",
      "Max Drawdown: -39.20%\n",
      "\n",
      "Testing 6month frequency strategy with k=0.5 for ADM:\n"
     ]
    },
    {
     "name": "stderr",
     "output_type": "stream",
     "text": [
      "C:\\Users\\Gautier Pellerin\\Documents\\Code\\AMP_Algorithmic_Trading\\strategies\\ratio_value.py:57: FutureWarning: 'M' is deprecated and will be removed in a future version, please use 'ME' instead.\n",
      "  return data.resample(freq).last().dropna()\n"
     ]
    },
    {
     "name": "stdout",
     "output_type": "stream",
     "text": [
      "Final Portfolio Value: $124,646.69\n",
      "Total Return: 24.65%\n",
      "Sharpe Ratio: 0.21\n",
      "Max Drawdown: -67.99%\n",
      "\n",
      "Testing 6month frequency strategy with k=1 for ADM:\n"
     ]
    },
    {
     "name": "stderr",
     "output_type": "stream",
     "text": [
      "C:\\Users\\Gautier Pellerin\\Documents\\Code\\AMP_Algorithmic_Trading\\strategies\\ratio_value.py:57: FutureWarning: 'M' is deprecated and will be removed in a future version, please use 'ME' instead.\n",
      "  return data.resample(freq).last().dropna()\n"
     ]
    },
    {
     "name": "stdout",
     "output_type": "stream",
     "text": [
      "Final Portfolio Value: $226,109.80\n",
      "Total Return: 126.11%\n",
      "Sharpe Ratio: 0.44\n",
      "Max Drawdown: -35.14%\n",
      "\n",
      "Testing 6month frequency strategy with k=1.5 for ADM:\n"
     ]
    },
    {
     "name": "stderr",
     "output_type": "stream",
     "text": [
      "C:\\Users\\Gautier Pellerin\\Documents\\Code\\AMP_Algorithmic_Trading\\strategies\\ratio_value.py:57: FutureWarning: 'M' is deprecated and will be removed in a future version, please use 'ME' instead.\n",
      "  return data.resample(freq).last().dropna()\n"
     ]
    },
    {
     "name": "stdout",
     "output_type": "stream",
     "text": [
      "Final Portfolio Value: $188,035.10\n",
      "Total Return: 88.04%\n",
      "Sharpe Ratio: 0.36\n",
      "Max Drawdown: -35.14%\n",
      "\n",
      "Strategy Comparison Table:\n",
      "               Final Value  Return  Sharpe Ratio  Max Drawdown\n",
      "Frequency k                                                   \n",
      "weekly    0.5   57823.7435 -0.4218       -0.0842       -0.7000\n",
      "          1.0   90745.5798 -0.0925        0.0888       -0.6553\n",
      "          1.5  138156.9414  0.3816        0.2442       -0.6572\n",
      "monthly   0.5   74889.3104 -0.2511        0.0199       -0.7030\n",
      "          1.0   86727.8783 -0.1327        0.0799       -0.5810\n",
      "          1.5  247597.3649  1.4760        0.5299       -0.3920\n",
      "6month    0.5  124646.6939  0.2465        0.2120       -0.6799\n",
      "          1.0  226109.8036  1.2611        0.4426       -0.3514\n",
      "          1.5  188035.0967  0.8804        0.3596       -0.3514\n",
      "\n",
      "--- Evaluating ADP ---\n"
     ]
    },
    {
     "name": "stderr",
     "output_type": "stream",
     "text": [
      "[*********************100%***********************]  1 of 1 completed\n"
     ]
    },
    {
     "name": "stdout",
     "output_type": "stream",
     "text": [
      "\n",
      "Testing weekly frequency strategy with k=0.5 for ADP:\n",
      "Final Portfolio Value: $119,002.33\n",
      "Total Return: 19.00%\n",
      "Sharpe Ratio: 0.19\n",
      "Max Drawdown: -19.17%\n",
      "\n",
      "Testing weekly frequency strategy with k=1 for ADP:\n",
      "Final Portfolio Value: $165,596.61\n",
      "Total Return: 65.60%\n",
      "Sharpe Ratio: 0.40\n",
      "Max Drawdown: -13.64%\n",
      "\n",
      "Testing weekly frequency strategy with k=1.5 for ADP:\n",
      "Final Portfolio Value: $186,862.78\n",
      "Total Return: 86.86%\n",
      "Sharpe Ratio: 0.50\n",
      "Max Drawdown: -19.03%\n",
      "\n",
      "Testing monthly frequency strategy with k=0.5 for ADP:\n"
     ]
    },
    {
     "name": "stderr",
     "output_type": "stream",
     "text": [
      "C:\\Users\\Gautier Pellerin\\Documents\\Code\\AMP_Algorithmic_Trading\\strategies\\ratio_value.py:57: FutureWarning: 'M' is deprecated and will be removed in a future version, please use 'ME' instead.\n",
      "  return data.resample(freq).last().dropna()\n"
     ]
    },
    {
     "name": "stdout",
     "output_type": "stream",
     "text": [
      "Final Portfolio Value: $169,797.12\n",
      "Total Return: 69.80%\n",
      "Sharpe Ratio: 0.44\n",
      "Max Drawdown: -20.06%\n",
      "\n",
      "Testing monthly frequency strategy with k=1 for ADP:\n"
     ]
    },
    {
     "name": "stderr",
     "output_type": "stream",
     "text": [
      "C:\\Users\\Gautier Pellerin\\Documents\\Code\\AMP_Algorithmic_Trading\\strategies\\ratio_value.py:57: FutureWarning: 'M' is deprecated and will be removed in a future version, please use 'ME' instead.\n",
      "  return data.resample(freq).last().dropna()\n"
     ]
    },
    {
     "name": "stdout",
     "output_type": "stream",
     "text": [
      "Final Portfolio Value: $146,617.72\n",
      "Total Return: 46.62%\n",
      "Sharpe Ratio: 0.45\n",
      "Max Drawdown: -15.95%\n",
      "\n",
      "Testing monthly frequency strategy with k=1.5 for ADP:\n"
     ]
    },
    {
     "name": "stderr",
     "output_type": "stream",
     "text": [
      "C:\\Users\\Gautier Pellerin\\Documents\\Code\\AMP_Algorithmic_Trading\\strategies\\ratio_value.py:57: FutureWarning: 'M' is deprecated and will be removed in a future version, please use 'ME' instead.\n",
      "  return data.resample(freq).last().dropna()\n"
     ]
    },
    {
     "name": "stdout",
     "output_type": "stream",
     "text": [
      "Final Portfolio Value: $121,303.38\n",
      "Total Return: 21.30%\n",
      "Sharpe Ratio: 0.46\n",
      "Max Drawdown: -8.16%\n",
      "\n",
      "Testing 6month frequency strategy with k=0.5 for ADP:\n"
     ]
    },
    {
     "name": "stderr",
     "output_type": "stream",
     "text": [
      "C:\\Users\\Gautier Pellerin\\Documents\\Code\\AMP_Algorithmic_Trading\\strategies\\ratio_value.py:57: FutureWarning: 'M' is deprecated and will be removed in a future version, please use 'ME' instead.\n",
      "  return data.resample(freq).last().dropna()\n"
     ]
    },
    {
     "name": "stdout",
     "output_type": "stream",
     "text": [
      "Final Portfolio Value: $135,388.30\n",
      "Total Return: 35.39%\n",
      "Sharpe Ratio: 0.31\n",
      "Max Drawdown: -19.63%\n",
      "\n",
      "Testing 6month frequency strategy with k=1 for ADP:\n"
     ]
    },
    {
     "name": "stderr",
     "output_type": "stream",
     "text": [
      "C:\\Users\\Gautier Pellerin\\Documents\\Code\\AMP_Algorithmic_Trading\\strategies\\ratio_value.py:57: FutureWarning: 'M' is deprecated and will be removed in a future version, please use 'ME' instead.\n",
      "  return data.resample(freq).last().dropna()\n"
     ]
    },
    {
     "name": "stdout",
     "output_type": "stream",
     "text": [
      "Final Portfolio Value: $226,652.67\n",
      "Total Return: 126.65%\n",
      "Sharpe Ratio: 0.59\n",
      "Max Drawdown: -19.63%\n",
      "\n",
      "Testing 6month frequency strategy with k=1.5 for ADP:\n"
     ]
    },
    {
     "name": "stderr",
     "output_type": "stream",
     "text": [
      "C:\\Users\\Gautier Pellerin\\Documents\\Code\\AMP_Algorithmic_Trading\\strategies\\ratio_value.py:57: FutureWarning: 'M' is deprecated and will be removed in a future version, please use 'ME' instead.\n",
      "  return data.resample(freq).last().dropna()\n"
     ]
    },
    {
     "name": "stdout",
     "output_type": "stream",
     "text": [
      "Final Portfolio Value: $100,000.00\n",
      "Total Return: 0.00%\n",
      "Sharpe Ratio: nan\n",
      "Max Drawdown: 0.00%\n",
      "\n",
      "Strategy Comparison Table:\n",
      "               Final Value  Return  Sharpe Ratio  Max Drawdown\n",
      "Frequency k                                                   \n",
      "weekly    0.5  119002.3264  0.1900        0.1902       -0.1917\n",
      "          1.0  165596.6117  0.6560        0.4033       -0.1364\n",
      "          1.5  186862.7808  0.8686        0.4980       -0.1903\n",
      "monthly   0.5  169797.1229  0.6980        0.4437       -0.2006\n",
      "          1.0  146617.7236  0.4662        0.4461       -0.1595\n",
      "          1.5  121303.3789  0.2130        0.4621       -0.0816\n",
      "6month    0.5  135388.2957  0.3539        0.3058       -0.1963\n",
      "          1.0  226652.6668  1.2665        0.5854       -0.1963\n",
      "          1.5  100000.0000  0.0000           NaN        0.0000\n",
      "\n",
      "--- Evaluating ADSK ---\n"
     ]
    },
    {
     "name": "stderr",
     "output_type": "stream",
     "text": [
      "[*********************100%***********************]  1 of 1 completed\n"
     ]
    },
    {
     "name": "stdout",
     "output_type": "stream",
     "text": [
      "\n",
      "Testing weekly frequency strategy with k=0.5 for ADSK:\n",
      "Final Portfolio Value: $59,402.44\n",
      "Total Return: -40.60%\n",
      "Sharpe Ratio: -0.03\n",
      "Max Drawdown: -72.28%\n",
      "\n",
      "Testing weekly frequency strategy with k=1 for ADSK:\n",
      "Final Portfolio Value: $57,936.62\n",
      "Total Return: -42.06%\n",
      "Sharpe Ratio: -0.04\n",
      "Max Drawdown: -69.32%\n",
      "\n",
      "Testing weekly frequency strategy with k=1.5 for ADSK:\n",
      "Final Portfolio Value: $128,546.44\n",
      "Total Return: 28.55%\n",
      "Sharpe Ratio: 0.22\n",
      "Max Drawdown: -65.86%\n",
      "\n",
      "Testing monthly frequency strategy with k=0.5 for ADSK:\n"
     ]
    },
    {
     "name": "stderr",
     "output_type": "stream",
     "text": [
      "C:\\Users\\Gautier Pellerin\\Documents\\Code\\AMP_Algorithmic_Trading\\strategies\\ratio_value.py:57: FutureWarning: 'M' is deprecated and will be removed in a future version, please use 'ME' instead.\n",
      "  return data.resample(freq).last().dropna()\n"
     ]
    },
    {
     "name": "stdout",
     "output_type": "stream",
     "text": [
      "Final Portfolio Value: $52,286.47\n",
      "Total Return: -47.71%\n",
      "Sharpe Ratio: -0.05\n",
      "Max Drawdown: -76.91%\n",
      "\n",
      "Testing monthly frequency strategy with k=1 for ADSK:\n"
     ]
    },
    {
     "name": "stderr",
     "output_type": "stream",
     "text": [
      "C:\\Users\\Gautier Pellerin\\Documents\\Code\\AMP_Algorithmic_Trading\\strategies\\ratio_value.py:57: FutureWarning: 'M' is deprecated and will be removed in a future version, please use 'ME' instead.\n",
      "  return data.resample(freq).last().dropna()\n"
     ]
    },
    {
     "name": "stdout",
     "output_type": "stream",
     "text": [
      "Final Portfolio Value: $43,012.51\n",
      "Total Return: -56.99%\n",
      "Sharpe Ratio: -0.10\n",
      "Max Drawdown: -74.06%\n",
      "\n",
      "Testing monthly frequency strategy with k=1.5 for ADSK:\n"
     ]
    },
    {
     "name": "stderr",
     "output_type": "stream",
     "text": [
      "C:\\Users\\Gautier Pellerin\\Documents\\Code\\AMP_Algorithmic_Trading\\strategies\\ratio_value.py:57: FutureWarning: 'M' is deprecated and will be removed in a future version, please use 'ME' instead.\n",
      "  return data.resample(freq).last().dropna()\n"
     ]
    },
    {
     "name": "stdout",
     "output_type": "stream",
     "text": [
      "Final Portfolio Value: $58,006.25\n",
      "Total Return: -41.99%\n",
      "Sharpe Ratio: -0.01\n",
      "Max Drawdown: -74.05%\n",
      "\n",
      "Testing 6month frequency strategy with k=0.5 for ADSK:\n"
     ]
    },
    {
     "name": "stderr",
     "output_type": "stream",
     "text": [
      "C:\\Users\\Gautier Pellerin\\Documents\\Code\\AMP_Algorithmic_Trading\\strategies\\ratio_value.py:57: FutureWarning: 'M' is deprecated and will be removed in a future version, please use 'ME' instead.\n",
      "  return data.resample(freq).last().dropna()\n"
     ]
    },
    {
     "name": "stdout",
     "output_type": "stream",
     "text": [
      "Final Portfolio Value: $66,091.34\n",
      "Total Return: -33.91%\n",
      "Sharpe Ratio: 0.01\n",
      "Max Drawdown: -76.91%\n",
      "\n",
      "Testing 6month frequency strategy with k=1 for ADSK:\n"
     ]
    },
    {
     "name": "stderr",
     "output_type": "stream",
     "text": [
      "C:\\Users\\Gautier Pellerin\\Documents\\Code\\AMP_Algorithmic_Trading\\strategies\\ratio_value.py:57: FutureWarning: 'M' is deprecated and will be removed in a future version, please use 'ME' instead.\n",
      "  return data.resample(freq).last().dropna()\n"
     ]
    },
    {
     "name": "stdout",
     "output_type": "stream",
     "text": [
      "Final Portfolio Value: $117,458.91\n",
      "Total Return: 17.46%\n",
      "Sharpe Ratio: 0.20\n",
      "Max Drawdown: -76.91%\n",
      "\n",
      "Testing 6month frequency strategy with k=1.5 for ADSK:\n"
     ]
    },
    {
     "name": "stderr",
     "output_type": "stream",
     "text": [
      "C:\\Users\\Gautier Pellerin\\Documents\\Code\\AMP_Algorithmic_Trading\\strategies\\ratio_value.py:57: FutureWarning: 'M' is deprecated and will be removed in a future version, please use 'ME' instead.\n",
      "  return data.resample(freq).last().dropna()\n"
     ]
    },
    {
     "name": "stdout",
     "output_type": "stream",
     "text": [
      "Final Portfolio Value: $179,453.67\n",
      "Total Return: 79.45%\n",
      "Sharpe Ratio: 0.33\n",
      "Max Drawdown: -49.10%\n",
      "\n",
      "Strategy Comparison Table:\n",
      "               Final Value  Return  Sharpe Ratio  Max Drawdown\n",
      "Frequency k                                                   \n",
      "weekly    0.5   59402.4361 -0.4060       -0.0321       -0.7228\n",
      "          1.0   57936.6150 -0.4206       -0.0430       -0.6932\n",
      "          1.5  128546.4408  0.2855        0.2247       -0.6586\n",
      "monthly   0.5   52286.4704 -0.4771       -0.0457       -0.7691\n",
      "          1.0   43012.5088 -0.5699       -0.0970       -0.7406\n",
      "          1.5   58006.2514 -0.4199       -0.0060       -0.7405\n",
      "6month    0.5   66091.3426 -0.3391        0.0054       -0.7691\n",
      "          1.0  117458.9076  0.1746        0.1991       -0.7691\n",
      "          1.5  179453.6732  0.7945        0.3303       -0.4910\n",
      "\n",
      "--- Evaluating AEE ---\n"
     ]
    },
    {
     "name": "stderr",
     "output_type": "stream",
     "text": [
      "[*********************100%***********************]  1 of 1 completed\n"
     ]
    },
    {
     "name": "stdout",
     "output_type": "stream",
     "text": [
      "\n",
      "Testing weekly frequency strategy with k=0.5 for AEE:\n",
      "Final Portfolio Value: $73,220.96\n",
      "Total Return: -26.78%\n",
      "Sharpe Ratio: -0.09\n",
      "Max Drawdown: -51.16%\n",
      "\n",
      "Testing weekly frequency strategy with k=1 for AEE:\n",
      "Final Portfolio Value: $89,057.91\n",
      "Total Return: -10.94%\n",
      "Sharpe Ratio: 0.02\n",
      "Max Drawdown: -49.73%\n",
      "\n",
      "Testing weekly frequency strategy with k=1.5 for AEE:\n",
      "Final Portfolio Value: $152,820.74\n",
      "Total Return: 52.82%\n",
      "Sharpe Ratio: 0.31\n",
      "Max Drawdown: -46.08%\n",
      "\n",
      "Testing monthly frequency strategy with k=0.5 for AEE:\n"
     ]
    },
    {
     "name": "stderr",
     "output_type": "stream",
     "text": [
      "C:\\Users\\Gautier Pellerin\\Documents\\Code\\AMP_Algorithmic_Trading\\strategies\\ratio_value.py:57: FutureWarning: 'M' is deprecated and will be removed in a future version, please use 'ME' instead.\n",
      "  return data.resample(freq).last().dropna()\n"
     ]
    },
    {
     "name": "stdout",
     "output_type": "stream",
     "text": [
      "Final Portfolio Value: $104,819.93\n",
      "Total Return: 4.82%\n",
      "Sharpe Ratio: 0.11\n",
      "Max Drawdown: -55.69%\n",
      "\n",
      "Testing monthly frequency strategy with k=1 for AEE:\n"
     ]
    },
    {
     "name": "stderr",
     "output_type": "stream",
     "text": [
      "C:\\Users\\Gautier Pellerin\\Documents\\Code\\AMP_Algorithmic_Trading\\strategies\\ratio_value.py:57: FutureWarning: 'M' is deprecated and will be removed in a future version, please use 'ME' instead.\n",
      "  return data.resample(freq).last().dropna()\n"
     ]
    },
    {
     "name": "stdout",
     "output_type": "stream",
     "text": [
      "Final Portfolio Value: $86,985.47\n",
      "Total Return: -13.01%\n",
      "Sharpe Ratio: 0.01\n",
      "Max Drawdown: -55.69%\n",
      "\n",
      "Testing monthly frequency strategy with k=1.5 for AEE:\n"
     ]
    },
    {
     "name": "stderr",
     "output_type": "stream",
     "text": [
      "C:\\Users\\Gautier Pellerin\\Documents\\Code\\AMP_Algorithmic_Trading\\strategies\\ratio_value.py:57: FutureWarning: 'M' is deprecated and will be removed in a future version, please use 'ME' instead.\n",
      "  return data.resample(freq).last().dropna()\n"
     ]
    },
    {
     "name": "stdout",
     "output_type": "stream",
     "text": [
      "Final Portfolio Value: $71,414.48\n",
      "Total Return: -28.59%\n",
      "Sharpe Ratio: -0.11\n",
      "Max Drawdown: -55.69%\n",
      "\n",
      "Testing 6month frequency strategy with k=0.5 for AEE:\n"
     ]
    },
    {
     "name": "stderr",
     "output_type": "stream",
     "text": [
      "C:\\Users\\Gautier Pellerin\\Documents\\Code\\AMP_Algorithmic_Trading\\strategies\\ratio_value.py:57: FutureWarning: 'M' is deprecated and will be removed in a future version, please use 'ME' instead.\n",
      "  return data.resample(freq).last().dropna()\n"
     ]
    },
    {
     "name": "stdout",
     "output_type": "stream",
     "text": [
      "Final Portfolio Value: $75,929.75\n",
      "Total Return: -24.07%\n",
      "Sharpe Ratio: -0.08\n",
      "Max Drawdown: -51.59%\n",
      "\n",
      "Testing 6month frequency strategy with k=1 for AEE:\n"
     ]
    },
    {
     "name": "stderr",
     "output_type": "stream",
     "text": [
      "C:\\Users\\Gautier Pellerin\\Documents\\Code\\AMP_Algorithmic_Trading\\strategies\\ratio_value.py:57: FutureWarning: 'M' is deprecated and will be removed in a future version, please use 'ME' instead.\n",
      "  return data.resample(freq).last().dropna()\n"
     ]
    },
    {
     "name": "stdout",
     "output_type": "stream",
     "text": [
      "Final Portfolio Value: $75,929.75\n",
      "Total Return: -24.07%\n",
      "Sharpe Ratio: -0.08\n",
      "Max Drawdown: -51.59%\n",
      "\n",
      "Testing 6month frequency strategy with k=1.5 for AEE:\n"
     ]
    },
    {
     "name": "stderr",
     "output_type": "stream",
     "text": [
      "C:\\Users\\Gautier Pellerin\\Documents\\Code\\AMP_Algorithmic_Trading\\strategies\\ratio_value.py:57: FutureWarning: 'M' is deprecated and will be removed in a future version, please use 'ME' instead.\n",
      "  return data.resample(freq).last().dropna()\n"
     ]
    },
    {
     "name": "stdout",
     "output_type": "stream",
     "text": [
      "Final Portfolio Value: $156,729.61\n",
      "Total Return: 56.73%\n",
      "Sharpe Ratio: 0.35\n",
      "Max Drawdown: -42.36%\n",
      "\n",
      "Strategy Comparison Table:\n",
      "               Final Value  Return  Sharpe Ratio  Max Drawdown\n",
      "Frequency k                                                   \n",
      "weekly    0.5   73220.9607 -0.2678       -0.0889       -0.5116\n",
      "          1.0   89057.9064 -0.1094        0.0180       -0.4973\n",
      "          1.5  152820.7374  0.5282        0.3105       -0.4608\n",
      "monthly   0.5  104819.9332  0.0482        0.1137       -0.5569\n",
      "          1.0   86985.4687 -0.1301        0.0142       -0.5569\n",
      "          1.5   71414.4781 -0.2859       -0.1115       -0.5569\n",
      "6month    0.5   75929.7547 -0.2407       -0.0764       -0.5159\n",
      "          1.0   75929.7547 -0.2407       -0.0764       -0.5159\n",
      "          1.5  156729.6054  0.5673        0.3522       -0.4236\n",
      "\n",
      "--- Evaluating AEP ---\n"
     ]
    },
    {
     "name": "stderr",
     "output_type": "stream",
     "text": [
      "[*********************100%***********************]  1 of 1 completed\n"
     ]
    },
    {
     "name": "stdout",
     "output_type": "stream",
     "text": [
      "Skipping AEP: No valid PE data in selected date range.\n",
      "\n",
      "--- Evaluating AJG ---\n"
     ]
    },
    {
     "name": "stderr",
     "output_type": "stream",
     "text": [
      "[*********************100%***********************]  1 of 1 completed\n"
     ]
    },
    {
     "name": "stdout",
     "output_type": "stream",
     "text": [
      "\n",
      "Testing weekly frequency strategy with k=0.5 for AJG:\n",
      "Final Portfolio Value: $63,886.65\n",
      "Total Return: -36.11%\n",
      "Sharpe Ratio: -0.14\n",
      "Max Drawdown: -54.70%\n",
      "\n",
      "Testing weekly frequency strategy with k=1 for AJG:\n",
      "Final Portfolio Value: $106,205.77\n",
      "Total Return: 6.21%\n",
      "Sharpe Ratio: 0.12\n",
      "Max Drawdown: -48.11%\n",
      "\n",
      "Testing weekly frequency strategy with k=1.5 for AJG:\n",
      "Final Portfolio Value: $145,614.88\n",
      "Total Return: 45.61%\n",
      "Sharpe Ratio: 0.28\n",
      "Max Drawdown: -49.58%\n",
      "\n",
      "Testing monthly frequency strategy with k=0.5 for AJG:\n"
     ]
    },
    {
     "name": "stderr",
     "output_type": "stream",
     "text": [
      "C:\\Users\\Gautier Pellerin\\Documents\\Code\\AMP_Algorithmic_Trading\\strategies\\ratio_value.py:57: FutureWarning: 'M' is deprecated and will be removed in a future version, please use 'ME' instead.\n",
      "  return data.resample(freq).last().dropna()\n"
     ]
    },
    {
     "name": "stdout",
     "output_type": "stream",
     "text": [
      "Final Portfolio Value: $158,282.49\n",
      "Total Return: 58.28%\n",
      "Sharpe Ratio: 0.33\n",
      "Max Drawdown: -43.72%\n",
      "\n",
      "Testing monthly frequency strategy with k=1 for AJG:\n"
     ]
    },
    {
     "name": "stderr",
     "output_type": "stream",
     "text": [
      "C:\\Users\\Gautier Pellerin\\Documents\\Code\\AMP_Algorithmic_Trading\\strategies\\ratio_value.py:57: FutureWarning: 'M' is deprecated and will be removed in a future version, please use 'ME' instead.\n",
      "  return data.resample(freq).last().dropna()\n"
     ]
    },
    {
     "name": "stdout",
     "output_type": "stream",
     "text": [
      "Final Portfolio Value: $181,657.72\n",
      "Total Return: 81.66%\n",
      "Sharpe Ratio: 0.39\n",
      "Max Drawdown: -43.72%\n",
      "\n",
      "Testing monthly frequency strategy with k=1.5 for AJG:\n"
     ]
    },
    {
     "name": "stderr",
     "output_type": "stream",
     "text": [
      "C:\\Users\\Gautier Pellerin\\Documents\\Code\\AMP_Algorithmic_Trading\\strategies\\ratio_value.py:57: FutureWarning: 'M' is deprecated and will be removed in a future version, please use 'ME' instead.\n",
      "  return data.resample(freq).last().dropna()\n"
     ]
    },
    {
     "name": "stdout",
     "output_type": "stream",
     "text": [
      "Final Portfolio Value: $151,187.47\n",
      "Total Return: 51.19%\n",
      "Sharpe Ratio: 0.47\n",
      "Max Drawdown: -16.60%\n",
      "\n",
      "Testing 6month frequency strategy with k=0.5 for AJG:\n"
     ]
    },
    {
     "name": "stderr",
     "output_type": "stream",
     "text": [
      "C:\\Users\\Gautier Pellerin\\Documents\\Code\\AMP_Algorithmic_Trading\\strategies\\ratio_value.py:57: FutureWarning: 'M' is deprecated and will be removed in a future version, please use 'ME' instead.\n",
      "  return data.resample(freq).last().dropna()\n"
     ]
    },
    {
     "name": "stdout",
     "output_type": "stream",
     "text": [
      "Final Portfolio Value: $189,271.86\n",
      "Total Return: 89.27%\n",
      "Sharpe Ratio: 0.48\n",
      "Max Drawdown: -21.65%\n",
      "\n",
      "Testing 6month frequency strategy with k=1 for AJG:\n"
     ]
    },
    {
     "name": "stderr",
     "output_type": "stream",
     "text": [
      "C:\\Users\\Gautier Pellerin\\Documents\\Code\\AMP_Algorithmic_Trading\\strategies\\ratio_value.py:57: FutureWarning: 'M' is deprecated and will be removed in a future version, please use 'ME' instead.\n",
      "  return data.resample(freq).last().dropna()\n"
     ]
    },
    {
     "name": "stdout",
     "output_type": "stream",
     "text": [
      "Final Portfolio Value: $133,343.78\n",
      "Total Return: 33.34%\n",
      "Sharpe Ratio: 0.39\n",
      "Max Drawdown: -16.60%\n",
      "\n",
      "Testing 6month frequency strategy with k=1.5 for AJG:\n"
     ]
    },
    {
     "name": "stderr",
     "output_type": "stream",
     "text": [
      "C:\\Users\\Gautier Pellerin\\Documents\\Code\\AMP_Algorithmic_Trading\\strategies\\ratio_value.py:57: FutureWarning: 'M' is deprecated and will be removed in a future version, please use 'ME' instead.\n",
      "  return data.resample(freq).last().dropna()\n"
     ]
    },
    {
     "name": "stdout",
     "output_type": "stream",
     "text": [
      "Final Portfolio Value: $100,000.00\n",
      "Total Return: 0.00%\n",
      "Sharpe Ratio: nan\n",
      "Max Drawdown: 0.00%\n",
      "\n",
      "Strategy Comparison Table:\n",
      "               Final Value  Return  Sharpe Ratio  Max Drawdown\n",
      "Frequency k                                                   \n",
      "weekly    0.5   63886.6459 -0.3611       -0.1399       -0.5470\n",
      "          1.0  106205.7743  0.0621        0.1211       -0.4811\n",
      "          1.5  145614.8835  0.4561        0.2765       -0.4958\n",
      "monthly   0.5  158282.4857  0.5828        0.3284       -0.4372\n",
      "          1.0  181657.7165  0.8166        0.3876       -0.4372\n",
      "          1.5  151187.4683  0.5119        0.4707       -0.1660\n",
      "6month    0.5  189271.8573  0.8927        0.4808       -0.2165\n",
      "          1.0  133343.7777  0.3334        0.3877       -0.1660\n",
      "          1.5  100000.0000  0.0000           NaN        0.0000\n",
      "\n",
      "--- Evaluating AKAM ---\n"
     ]
    },
    {
     "name": "stderr",
     "output_type": "stream",
     "text": [
      "[*********************100%***********************]  1 of 1 completed\n"
     ]
    },
    {
     "name": "stdout",
     "output_type": "stream",
     "text": [
      "\n",
      "Testing weekly frequency strategy with k=0.5 for AKAM:\n",
      "Final Portfolio Value: $146,364.71\n",
      "Total Return: 46.36%\n",
      "Sharpe Ratio: 0.27\n",
      "Max Drawdown: -76.89%\n",
      "\n",
      "Testing weekly frequency strategy with k=1 for AKAM:\n",
      "Final Portfolio Value: $169,647.16\n",
      "Total Return: 69.65%\n",
      "Sharpe Ratio: 0.31\n",
      "Max Drawdown: -77.82%\n",
      "\n",
      "Testing weekly frequency strategy with k=1.5 for AKAM:\n",
      "Final Portfolio Value: $166,476.36\n",
      "Total Return: 66.48%\n",
      "Sharpe Ratio: 0.31\n",
      "Max Drawdown: -66.09%\n",
      "\n",
      "Testing monthly frequency strategy with k=0.5 for AKAM:\n"
     ]
    },
    {
     "name": "stderr",
     "output_type": "stream",
     "text": [
      "C:\\Users\\Gautier Pellerin\\Documents\\Code\\AMP_Algorithmic_Trading\\strategies\\ratio_value.py:57: FutureWarning: 'M' is deprecated and will be removed in a future version, please use 'ME' instead.\n",
      "  return data.resample(freq).last().dropna()\n"
     ]
    },
    {
     "name": "stdout",
     "output_type": "stream",
     "text": [
      "Final Portfolio Value: $76,532.96\n",
      "Total Return: -23.47%\n",
      "Sharpe Ratio: 0.13\n",
      "Max Drawdown: -86.50%\n",
      "\n",
      "Testing monthly frequency strategy with k=1 for AKAM:\n"
     ]
    },
    {
     "name": "stderr",
     "output_type": "stream",
     "text": [
      "C:\\Users\\Gautier Pellerin\\Documents\\Code\\AMP_Algorithmic_Trading\\strategies\\ratio_value.py:57: FutureWarning: 'M' is deprecated and will be removed in a future version, please use 'ME' instead.\n",
      "  return data.resample(freq).last().dropna()\n"
     ]
    },
    {
     "name": "stdout",
     "output_type": "stream",
     "text": [
      "Final Portfolio Value: $65,331.62\n",
      "Total Return: -34.67%\n",
      "Sharpe Ratio: 0.08\n",
      "Max Drawdown: -83.02%\n",
      "\n",
      "Testing monthly frequency strategy with k=1.5 for AKAM:\n"
     ]
    },
    {
     "name": "stderr",
     "output_type": "stream",
     "text": [
      "C:\\Users\\Gautier Pellerin\\Documents\\Code\\AMP_Algorithmic_Trading\\strategies\\ratio_value.py:57: FutureWarning: 'M' is deprecated and will be removed in a future version, please use 'ME' instead.\n",
      "  return data.resample(freq).last().dropna()\n"
     ]
    },
    {
     "name": "stdout",
     "output_type": "stream",
     "text": [
      "Final Portfolio Value: $63,075.26\n",
      "Total Return: -36.92%\n",
      "Sharpe Ratio: 0.09\n",
      "Max Drawdown: -83.02%\n",
      "\n",
      "Testing 6month frequency strategy with k=0.5 for AKAM:\n"
     ]
    },
    {
     "name": "stderr",
     "output_type": "stream",
     "text": [
      "C:\\Users\\Gautier Pellerin\\Documents\\Code\\AMP_Algorithmic_Trading\\strategies\\ratio_value.py:57: FutureWarning: 'M' is deprecated and will be removed in a future version, please use 'ME' instead.\n",
      "  return data.resample(freq).last().dropna()\n"
     ]
    },
    {
     "name": "stdout",
     "output_type": "stream",
     "text": [
      "Final Portfolio Value: $142,887.72\n",
      "Total Return: 42.89%\n",
      "Sharpe Ratio: 0.26\n",
      "Max Drawdown: -76.98%\n",
      "\n",
      "Testing 6month frequency strategy with k=1 for AKAM:\n"
     ]
    },
    {
     "name": "stderr",
     "output_type": "stream",
     "text": [
      "C:\\Users\\Gautier Pellerin\\Documents\\Code\\AMP_Algorithmic_Trading\\strategies\\ratio_value.py:57: FutureWarning: 'M' is deprecated and will be removed in a future version, please use 'ME' instead.\n",
      "  return data.resample(freq).last().dropna()\n"
     ]
    },
    {
     "name": "stdout",
     "output_type": "stream",
     "text": [
      "Final Portfolio Value: $154,942.96\n",
      "Total Return: 54.94%\n",
      "Sharpe Ratio: 0.28\n",
      "Max Drawdown: -76.98%\n",
      "\n",
      "Testing 6month frequency strategy with k=1.5 for AKAM:\n"
     ]
    },
    {
     "name": "stderr",
     "output_type": "stream",
     "text": [
      "C:\\Users\\Gautier Pellerin\\Documents\\Code\\AMP_Algorithmic_Trading\\strategies\\ratio_value.py:57: FutureWarning: 'M' is deprecated and will be removed in a future version, please use 'ME' instead.\n",
      "  return data.resample(freq).last().dropna()\n"
     ]
    },
    {
     "name": "stdout",
     "output_type": "stream",
     "text": [
      "Final Portfolio Value: $100,000.00\n",
      "Total Return: 0.00%\n",
      "Sharpe Ratio: nan\n",
      "Max Drawdown: 0.00%\n",
      "\n",
      "Strategy Comparison Table:\n",
      "               Final Value  Return  Sharpe Ratio  Max Drawdown\n",
      "Frequency k                                                   \n",
      "weekly    0.5  146364.7102  0.4636        0.2731       -0.7689\n",
      "          1.0  169647.1620  0.6965        0.3106       -0.7782\n",
      "          1.5  166476.3560  0.6648        0.3050       -0.6609\n",
      "monthly   0.5   76532.9606 -0.2347        0.1256       -0.8650\n",
      "          1.0   65331.6201 -0.3467        0.0778       -0.8302\n",
      "          1.5   63075.2616 -0.3692        0.0900       -0.8302\n",
      "6month    0.5  142887.7203  0.4289        0.2626       -0.7698\n",
      "          1.0  154942.9582  0.5494        0.2839       -0.7698\n",
      "          1.5  100000.0000  0.0000           NaN        0.0000\n",
      "\n",
      "--- Evaluating ALB ---\n"
     ]
    },
    {
     "name": "stderr",
     "output_type": "stream",
     "text": [
      "[*********************100%***********************]  1 of 1 completed\n"
     ]
    },
    {
     "name": "stdout",
     "output_type": "stream",
     "text": [
      "\n",
      "Testing weekly frequency strategy with k=0.5 for ALB:\n",
      "Final Portfolio Value: $73,262.88\n",
      "Total Return: -26.74%\n",
      "Sharpe Ratio: 0.03\n",
      "Max Drawdown: -63.80%\n",
      "\n",
      "Testing weekly frequency strategy with k=1 for ALB:\n",
      "Final Portfolio Value: $121,535.35\n",
      "Total Return: 21.54%\n",
      "Sharpe Ratio: 0.20\n",
      "Max Drawdown: -60.53%\n",
      "\n",
      "Testing weekly frequency strategy with k=1.5 for ALB:\n",
      "Final Portfolio Value: $225,068.19\n",
      "Total Return: 125.07%\n",
      "Sharpe Ratio: 0.41\n",
      "Max Drawdown: -59.64%\n",
      "\n",
      "Testing monthly frequency strategy with k=0.5 for ALB:\n"
     ]
    },
    {
     "name": "stderr",
     "output_type": "stream",
     "text": [
      "C:\\Users\\Gautier Pellerin\\Documents\\Code\\AMP_Algorithmic_Trading\\strategies\\ratio_value.py:57: FutureWarning: 'M' is deprecated and will be removed in a future version, please use 'ME' instead.\n",
      "  return data.resample(freq).last().dropna()\n"
     ]
    },
    {
     "name": "stdout",
     "output_type": "stream",
     "text": [
      "Final Portfolio Value: $225,579.77\n",
      "Total Return: 125.58%\n",
      "Sharpe Ratio: 0.40\n",
      "Max Drawdown: -65.05%\n",
      "\n",
      "Testing monthly frequency strategy with k=1 for ALB:\n"
     ]
    },
    {
     "name": "stderr",
     "output_type": "stream",
     "text": [
      "C:\\Users\\Gautier Pellerin\\Documents\\Code\\AMP_Algorithmic_Trading\\strategies\\ratio_value.py:57: FutureWarning: 'M' is deprecated and will be removed in a future version, please use 'ME' instead.\n",
      "  return data.resample(freq).last().dropna()\n"
     ]
    },
    {
     "name": "stdout",
     "output_type": "stream",
     "text": [
      "Final Portfolio Value: $157,040.34\n",
      "Total Return: 57.04%\n",
      "Sharpe Ratio: 0.29\n",
      "Max Drawdown: -65.05%\n",
      "\n",
      "Testing monthly frequency strategy with k=1.5 for ALB:\n"
     ]
    },
    {
     "name": "stderr",
     "output_type": "stream",
     "text": [
      "C:\\Users\\Gautier Pellerin\\Documents\\Code\\AMP_Algorithmic_Trading\\strategies\\ratio_value.py:57: FutureWarning: 'M' is deprecated and will be removed in a future version, please use 'ME' instead.\n",
      "  return data.resample(freq).last().dropna()\n"
     ]
    },
    {
     "name": "stdout",
     "output_type": "stream",
     "text": [
      "Final Portfolio Value: $133,519.73\n",
      "Total Return: 33.52%\n",
      "Sharpe Ratio: 0.24\n",
      "Max Drawdown: -66.30%\n",
      "\n",
      "Testing 6month frequency strategy with k=0.5 for ALB:\n"
     ]
    },
    {
     "name": "stderr",
     "output_type": "stream",
     "text": [
      "C:\\Users\\Gautier Pellerin\\Documents\\Code\\AMP_Algorithmic_Trading\\strategies\\ratio_value.py:57: FutureWarning: 'M' is deprecated and will be removed in a future version, please use 'ME' instead.\n",
      "  return data.resample(freq).last().dropna()\n"
     ]
    },
    {
     "name": "stdout",
     "output_type": "stream",
     "text": [
      "Final Portfolio Value: $94,743.73\n",
      "Total Return: -5.26%\n",
      "Sharpe Ratio: 0.10\n",
      "Max Drawdown: -65.05%\n",
      "\n",
      "Testing 6month frequency strategy with k=1 for ALB:\n"
     ]
    },
    {
     "name": "stderr",
     "output_type": "stream",
     "text": [
      "C:\\Users\\Gautier Pellerin\\Documents\\Code\\AMP_Algorithmic_Trading\\strategies\\ratio_value.py:57: FutureWarning: 'M' is deprecated and will be removed in a future version, please use 'ME' instead.\n",
      "  return data.resample(freq).last().dropna()\n"
     ]
    },
    {
     "name": "stdout",
     "output_type": "stream",
     "text": [
      "Final Portfolio Value: $165,686.25\n",
      "Total Return: 65.69%\n",
      "Sharpe Ratio: 0.30\n",
      "Max Drawdown: -65.05%\n",
      "\n",
      "Testing 6month frequency strategy with k=1.5 for ALB:\n"
     ]
    },
    {
     "name": "stderr",
     "output_type": "stream",
     "text": [
      "C:\\Users\\Gautier Pellerin\\Documents\\Code\\AMP_Algorithmic_Trading\\strategies\\ratio_value.py:57: FutureWarning: 'M' is deprecated and will be removed in a future version, please use 'ME' instead.\n",
      "  return data.resample(freq).last().dropna()\n"
     ]
    },
    {
     "name": "stdout",
     "output_type": "stream",
     "text": [
      "Final Portfolio Value: $229,977.95\n",
      "Total Return: 129.98%\n",
      "Sharpe Ratio: 0.42\n",
      "Max Drawdown: -44.81%\n",
      "\n",
      "Strategy Comparison Table:\n",
      "               Final Value  Return  Sharpe Ratio  Max Drawdown\n",
      "Frequency k                                                   \n",
      "weekly    0.5   73262.8801 -0.2674        0.0315       -0.6380\n",
      "          1.0  121535.3484  0.2154        0.2030       -0.6053\n",
      "          1.5  225068.1901  1.2507        0.4113       -0.5964\n",
      "monthly   0.5  225579.7653  1.2558        0.4025       -0.6505\n",
      "          1.0  157040.3436  0.5704        0.2875       -0.6505\n",
      "          1.5  133519.7336  0.3352        0.2376       -0.6630\n",
      "6month    0.5   94743.7304 -0.0526        0.0982       -0.6505\n",
      "          1.0  165686.2534  0.6569        0.3037       -0.6505\n",
      "          1.5  229977.9496  1.2998        0.4175       -0.4481\n",
      "\n",
      "--- Evaluating AMAT ---\n"
     ]
    },
    {
     "name": "stderr",
     "output_type": "stream",
     "text": [
      "[*********************100%***********************]  1 of 1 completed\n"
     ]
    },
    {
     "name": "stdout",
     "output_type": "stream",
     "text": [
      "\n",
      "Testing weekly frequency strategy with k=0.5 for AMAT:\n",
      "Final Portfolio Value: $29,544.92\n",
      "Total Return: -70.46%\n",
      "Sharpe Ratio: -0.39\n",
      "Max Drawdown: -77.69%\n",
      "\n",
      "Testing weekly frequency strategy with k=1 for AMAT:\n",
      "Final Portfolio Value: $45,154.17\n",
      "Total Return: -54.85%\n",
      "Sharpe Ratio: -0.22\n",
      "Max Drawdown: -63.57%\n",
      "\n",
      "Testing weekly frequency strategy with k=1.5 for AMAT:\n",
      "Final Portfolio Value: $63,335.09\n",
      "Total Return: -36.66%\n",
      "Sharpe Ratio: -0.12\n",
      "Max Drawdown: -57.79%\n",
      "\n",
      "Testing monthly frequency strategy with k=0.5 for AMAT:\n"
     ]
    },
    {
     "name": "stderr",
     "output_type": "stream",
     "text": [
      "C:\\Users\\Gautier Pellerin\\Documents\\Code\\AMP_Algorithmic_Trading\\strategies\\ratio_value.py:57: FutureWarning: 'M' is deprecated and will be removed in a future version, please use 'ME' instead.\n",
      "  return data.resample(freq).last().dropna()\n"
     ]
    },
    {
     "name": "stdout",
     "output_type": "stream",
     "text": [
      "Final Portfolio Value: $57,407.66\n",
      "Total Return: -42.59%\n",
      "Sharpe Ratio: -0.09\n",
      "Max Drawdown: -66.84%\n",
      "\n",
      "Testing monthly frequency strategy with k=1 for AMAT:\n"
     ]
    },
    {
     "name": "stderr",
     "output_type": "stream",
     "text": [
      "C:\\Users\\Gautier Pellerin\\Documents\\Code\\AMP_Algorithmic_Trading\\strategies\\ratio_value.py:57: FutureWarning: 'M' is deprecated and will be removed in a future version, please use 'ME' instead.\n",
      "  return data.resample(freq).last().dropna()\n"
     ]
    },
    {
     "name": "stdout",
     "output_type": "stream",
     "text": [
      "Final Portfolio Value: $60,734.37\n",
      "Total Return: -39.27%\n",
      "Sharpe Ratio: -0.09\n",
      "Max Drawdown: -62.41%\n",
      "\n",
      "Testing monthly frequency strategy with k=1.5 for AMAT:\n"
     ]
    },
    {
     "name": "stderr",
     "output_type": "stream",
     "text": [
      "C:\\Users\\Gautier Pellerin\\Documents\\Code\\AMP_Algorithmic_Trading\\strategies\\ratio_value.py:57: FutureWarning: 'M' is deprecated and will be removed in a future version, please use 'ME' instead.\n",
      "  return data.resample(freq).last().dropna()\n"
     ]
    },
    {
     "name": "stdout",
     "output_type": "stream",
     "text": [
      "Final Portfolio Value: $118,453.02\n",
      "Total Return: 18.45%\n",
      "Sharpe Ratio: 0.21\n",
      "Max Drawdown: -22.30%\n",
      "\n",
      "Testing 6month frequency strategy with k=0.5 for AMAT:\n"
     ]
    },
    {
     "name": "stderr",
     "output_type": "stream",
     "text": [
      "C:\\Users\\Gautier Pellerin\\Documents\\Code\\AMP_Algorithmic_Trading\\strategies\\ratio_value.py:57: FutureWarning: 'M' is deprecated and will be removed in a future version, please use 'ME' instead.\n",
      "  return data.resample(freq).last().dropna()\n"
     ]
    },
    {
     "name": "stdout",
     "output_type": "stream",
     "text": [
      "Final Portfolio Value: $56,925.82\n",
      "Total Return: -43.07%\n",
      "Sharpe Ratio: -0.13\n",
      "Max Drawdown: -66.59%\n",
      "\n",
      "Testing 6month frequency strategy with k=1 for AMAT:\n"
     ]
    },
    {
     "name": "stderr",
     "output_type": "stream",
     "text": [
      "C:\\Users\\Gautier Pellerin\\Documents\\Code\\AMP_Algorithmic_Trading\\strategies\\ratio_value.py:57: FutureWarning: 'M' is deprecated and will be removed in a future version, please use 'ME' instead.\n",
      "  return data.resample(freq).last().dropna()\n"
     ]
    },
    {
     "name": "stdout",
     "output_type": "stream",
     "text": [
      "Final Portfolio Value: $66,175.81\n",
      "Total Return: -33.82%\n",
      "Sharpe Ratio: -0.05\n",
      "Max Drawdown: -63.79%\n",
      "\n",
      "Testing 6month frequency strategy with k=1.5 for AMAT:\n"
     ]
    },
    {
     "name": "stderr",
     "output_type": "stream",
     "text": [
      "C:\\Users\\Gautier Pellerin\\Documents\\Code\\AMP_Algorithmic_Trading\\strategies\\ratio_value.py:57: FutureWarning: 'M' is deprecated and will be removed in a future version, please use 'ME' instead.\n",
      "  return data.resample(freq).last().dropna()\n"
     ]
    },
    {
     "name": "stdout",
     "output_type": "stream",
     "text": [
      "Final Portfolio Value: $100,000.00\n",
      "Total Return: 0.00%\n",
      "Sharpe Ratio: nan\n",
      "Max Drawdown: 0.00%\n",
      "\n",
      "Strategy Comparison Table:\n",
      "               Final Value  Return  Sharpe Ratio  Max Drawdown\n",
      "Frequency k                                                   \n",
      "weekly    0.5   29544.9249 -0.7046       -0.3864       -0.7769\n",
      "          1.0   45154.1651 -0.5485       -0.2194       -0.6357\n",
      "          1.5   63335.0948 -0.3666       -0.1193       -0.5779\n",
      "monthly   0.5   57407.6582 -0.4259       -0.0868       -0.6684\n",
      "          1.0   60734.3716 -0.3927       -0.0905       -0.6241\n",
      "          1.5  118453.0177  0.1845        0.2086       -0.2230\n",
      "6month    0.5   56925.8161 -0.4307       -0.1306       -0.6659\n",
      "          1.0   66175.8087 -0.3382       -0.0537       -0.6379\n",
      "          1.5  100000.0000  0.0000           NaN        0.0000\n",
      "\n",
      "--- Evaluating AMD ---\n"
     ]
    },
    {
     "name": "stderr",
     "output_type": "stream",
     "text": [
      "[*********************100%***********************]  1 of 1 completed\n"
     ]
    },
    {
     "name": "stdout",
     "output_type": "stream",
     "text": [
      "\n",
      "Testing weekly frequency strategy with k=0.5 for AMD:\n",
      "Final Portfolio Value: $100,000.00\n",
      "Total Return: 0.00%\n",
      "Sharpe Ratio: nan\n",
      "Max Drawdown: 0.00%\n",
      "\n",
      "Testing weekly frequency strategy with k=1 for AMD:\n",
      "Final Portfolio Value: $100,000.00\n",
      "Total Return: 0.00%\n",
      "Sharpe Ratio: nan\n",
      "Max Drawdown: 0.00%\n",
      "\n",
      "Testing weekly frequency strategy with k=1.5 for AMD:\n",
      "Final Portfolio Value: $100,000.00\n",
      "Total Return: 0.00%\n",
      "Sharpe Ratio: nan\n",
      "Max Drawdown: 0.00%\n",
      "\n",
      "Testing monthly frequency strategy with k=0.5 for AMD:\n"
     ]
    },
    {
     "name": "stderr",
     "output_type": "stream",
     "text": [
      "C:\\Users\\Gautier Pellerin\\Documents\\Code\\AMP_Algorithmic_Trading\\strategies\\ratio_value.py:57: FutureWarning: 'M' is deprecated and will be removed in a future version, please use 'ME' instead.\n",
      "  return data.resample(freq).last().dropna()\n"
     ]
    },
    {
     "name": "stdout",
     "output_type": "stream",
     "text": [
      "Final Portfolio Value: $100,000.00\n",
      "Total Return: 0.00%\n",
      "Sharpe Ratio: nan\n",
      "Max Drawdown: 0.00%\n",
      "\n",
      "Testing monthly frequency strategy with k=1 for AMD:\n"
     ]
    },
    {
     "name": "stderr",
     "output_type": "stream",
     "text": [
      "C:\\Users\\Gautier Pellerin\\Documents\\Code\\AMP_Algorithmic_Trading\\strategies\\ratio_value.py:57: FutureWarning: 'M' is deprecated and will be removed in a future version, please use 'ME' instead.\n",
      "  return data.resample(freq).last().dropna()\n"
     ]
    },
    {
     "name": "stdout",
     "output_type": "stream",
     "text": [
      "Final Portfolio Value: $100,000.00\n",
      "Total Return: 0.00%\n",
      "Sharpe Ratio: nan\n",
      "Max Drawdown: 0.00%\n",
      "\n",
      "Testing monthly frequency strategy with k=1.5 for AMD:\n"
     ]
    },
    {
     "name": "stderr",
     "output_type": "stream",
     "text": [
      "C:\\Users\\Gautier Pellerin\\Documents\\Code\\AMP_Algorithmic_Trading\\strategies\\ratio_value.py:57: FutureWarning: 'M' is deprecated and will be removed in a future version, please use 'ME' instead.\n",
      "  return data.resample(freq).last().dropna()\n"
     ]
    },
    {
     "name": "stdout",
     "output_type": "stream",
     "text": [
      "Final Portfolio Value: $100,000.00\n",
      "Total Return: 0.00%\n",
      "Sharpe Ratio: nan\n",
      "Max Drawdown: 0.00%\n",
      "\n",
      "Testing 6month frequency strategy with k=0.5 for AMD:\n"
     ]
    },
    {
     "name": "stderr",
     "output_type": "stream",
     "text": [
      "C:\\Users\\Gautier Pellerin\\Documents\\Code\\AMP_Algorithmic_Trading\\strategies\\ratio_value.py:57: FutureWarning: 'M' is deprecated and will be removed in a future version, please use 'ME' instead.\n",
      "  return data.resample(freq).last().dropna()\n"
     ]
    },
    {
     "name": "stdout",
     "output_type": "stream",
     "text": [
      "Final Portfolio Value: $100,000.00\n",
      "Total Return: 0.00%\n",
      "Sharpe Ratio: nan\n",
      "Max Drawdown: 0.00%\n",
      "\n",
      "Testing 6month frequency strategy with k=1 for AMD:\n"
     ]
    },
    {
     "name": "stderr",
     "output_type": "stream",
     "text": [
      "C:\\Users\\Gautier Pellerin\\Documents\\Code\\AMP_Algorithmic_Trading\\strategies\\ratio_value.py:57: FutureWarning: 'M' is deprecated and will be removed in a future version, please use 'ME' instead.\n",
      "  return data.resample(freq).last().dropna()\n"
     ]
    },
    {
     "name": "stdout",
     "output_type": "stream",
     "text": [
      "Final Portfolio Value: $100,000.00\n",
      "Total Return: 0.00%\n",
      "Sharpe Ratio: nan\n",
      "Max Drawdown: 0.00%\n",
      "\n",
      "Testing 6month frequency strategy with k=1.5 for AMD:\n"
     ]
    },
    {
     "name": "stderr",
     "output_type": "stream",
     "text": [
      "C:\\Users\\Gautier Pellerin\\Documents\\Code\\AMP_Algorithmic_Trading\\strategies\\ratio_value.py:57: FutureWarning: 'M' is deprecated and will be removed in a future version, please use 'ME' instead.\n",
      "  return data.resample(freq).last().dropna()\n"
     ]
    },
    {
     "name": "stdout",
     "output_type": "stream",
     "text": [
      "Final Portfolio Value: $100,000.00\n",
      "Total Return: 0.00%\n",
      "Sharpe Ratio: nan\n",
      "Max Drawdown: 0.00%\n",
      "Skipping AMD due to error: nan\n",
      "\n",
      "--- Evaluating AME ---\n"
     ]
    },
    {
     "name": "stderr",
     "output_type": "stream",
     "text": [
      "C:\\Users\\Gautier Pellerin\\AppData\\Local\\Temp\\ipykernel_7860\\2177122356.py:57: FutureWarning: The behavior of Series.idxmax with all-NA values, or any-NA and skipna=False, is deprecated. In a future version this will raise ValueError\n",
      "  best_idx = comparison['Sharpe Ratio'].idxmax()\n",
      "[*********************100%***********************]  1 of 1 completed\n"
     ]
    },
    {
     "name": "stdout",
     "output_type": "stream",
     "text": [
      "\n",
      "Testing weekly frequency strategy with k=0.5 for AME:\n",
      "Final Portfolio Value: $137,633.36\n",
      "Total Return: 37.63%\n",
      "Sharpe Ratio: 0.24\n",
      "Max Drawdown: -40.46%\n",
      "\n",
      "Testing weekly frequency strategy with k=1 for AME:\n",
      "Final Portfolio Value: $146,959.47\n",
      "Total Return: 46.96%\n",
      "Sharpe Ratio: 0.27\n",
      "Max Drawdown: -47.14%\n",
      "\n",
      "Testing weekly frequency strategy with k=1.5 for AME:\n",
      "Final Portfolio Value: $282,439.95\n",
      "Total Return: 182.44%\n",
      "Sharpe Ratio: 0.51\n",
      "Max Drawdown: -46.17%\n",
      "\n",
      "Testing monthly frequency strategy with k=0.5 for AME:\n"
     ]
    },
    {
     "name": "stderr",
     "output_type": "stream",
     "text": [
      "C:\\Users\\Gautier Pellerin\\Documents\\Code\\AMP_Algorithmic_Trading\\strategies\\ratio_value.py:57: FutureWarning: 'M' is deprecated and will be removed in a future version, please use 'ME' instead.\n",
      "  return data.resample(freq).last().dropna()\n"
     ]
    },
    {
     "name": "stdout",
     "output_type": "stream",
     "text": [
      "Final Portfolio Value: $168,820.90\n",
      "Total Return: 68.82%\n",
      "Sharpe Ratio: 0.33\n",
      "Max Drawdown: -53.31%\n",
      "\n",
      "Testing monthly frequency strategy with k=1 for AME:\n"
     ]
    },
    {
     "name": "stderr",
     "output_type": "stream",
     "text": [
      "C:\\Users\\Gautier Pellerin\\Documents\\Code\\AMP_Algorithmic_Trading\\strategies\\ratio_value.py:57: FutureWarning: 'M' is deprecated and will be removed in a future version, please use 'ME' instead.\n",
      "  return data.resample(freq).last().dropna()\n"
     ]
    },
    {
     "name": "stdout",
     "output_type": "stream",
     "text": [
      "Final Portfolio Value: $161,891.99\n",
      "Total Return: 61.89%\n",
      "Sharpe Ratio: 0.31\n",
      "Max Drawdown: -53.31%\n",
      "\n",
      "Testing monthly frequency strategy with k=1.5 for AME:\n"
     ]
    },
    {
     "name": "stderr",
     "output_type": "stream",
     "text": [
      "C:\\Users\\Gautier Pellerin\\Documents\\Code\\AMP_Algorithmic_Trading\\strategies\\ratio_value.py:57: FutureWarning: 'M' is deprecated and will be removed in a future version, please use 'ME' instead.\n",
      "  return data.resample(freq).last().dropna()\n"
     ]
    },
    {
     "name": "stdout",
     "output_type": "stream",
     "text": [
      "Final Portfolio Value: $252,700.05\n",
      "Total Return: 152.70%\n",
      "Sharpe Ratio: 0.48\n",
      "Max Drawdown: -39.94%\n",
      "\n",
      "Testing 6month frequency strategy with k=0.5 for AME:\n"
     ]
    },
    {
     "name": "stderr",
     "output_type": "stream",
     "text": [
      "C:\\Users\\Gautier Pellerin\\Documents\\Code\\AMP_Algorithmic_Trading\\strategies\\ratio_value.py:57: FutureWarning: 'M' is deprecated and will be removed in a future version, please use 'ME' instead.\n",
      "  return data.resample(freq).last().dropna()\n"
     ]
    },
    {
     "name": "stdout",
     "output_type": "stream",
     "text": [
      "Final Portfolio Value: $186,495.21\n",
      "Total Return: 86.50%\n",
      "Sharpe Ratio: 0.51\n",
      "Max Drawdown: -25.47%\n",
      "\n",
      "Testing 6month frequency strategy with k=1 for AME:\n"
     ]
    },
    {
     "name": "stderr",
     "output_type": "stream",
     "text": [
      "C:\\Users\\Gautier Pellerin\\Documents\\Code\\AMP_Algorithmic_Trading\\strategies\\ratio_value.py:57: FutureWarning: 'M' is deprecated and will be removed in a future version, please use 'ME' instead.\n",
      "  return data.resample(freq).last().dropna()\n"
     ]
    },
    {
     "name": "stdout",
     "output_type": "stream",
     "text": [
      "Final Portfolio Value: $186,495.21\n",
      "Total Return: 86.50%\n",
      "Sharpe Ratio: 0.51\n",
      "Max Drawdown: -25.47%\n",
      "\n",
      "Testing 6month frequency strategy with k=1.5 for AME:\n"
     ]
    },
    {
     "name": "stderr",
     "output_type": "stream",
     "text": [
      "C:\\Users\\Gautier Pellerin\\Documents\\Code\\AMP_Algorithmic_Trading\\strategies\\ratio_value.py:57: FutureWarning: 'M' is deprecated and will be removed in a future version, please use 'ME' instead.\n",
      "  return data.resample(freq).last().dropna()\n"
     ]
    },
    {
     "name": "stdout",
     "output_type": "stream",
     "text": [
      "Final Portfolio Value: $373,941.53\n",
      "Total Return: 273.94%\n",
      "Sharpe Ratio: 0.72\n",
      "Max Drawdown: -32.59%\n",
      "\n",
      "Strategy Comparison Table:\n",
      "               Final Value  Return  Sharpe Ratio  Max Drawdown\n",
      "Frequency k                                                   \n",
      "weekly    0.5  137633.3581  0.3763        0.2434       -0.4046\n",
      "          1.0  146959.4724  0.4696        0.2725       -0.4714\n",
      "          1.5  282439.9454  1.8244        0.5144       -0.4617\n",
      "monthly   0.5  168820.8976  0.6882        0.3263       -0.5331\n",
      "          1.0  161891.9947  0.6189        0.3063       -0.5331\n",
      "          1.5  252700.0453  1.5270        0.4831       -0.3994\n",
      "6month    0.5  186495.2118  0.8650        0.5095       -0.2547\n",
      "          1.0  186495.2118  0.8650        0.5095       -0.2547\n",
      "          1.5  373941.5268  2.7394        0.7228       -0.3259\n",
      "\n",
      "--- Evaluating AMGN ---\n"
     ]
    },
    {
     "name": "stderr",
     "output_type": "stream",
     "text": [
      "[*********************100%***********************]  1 of 1 completed\n"
     ]
    },
    {
     "name": "stdout",
     "output_type": "stream",
     "text": [
      "\n",
      "Testing weekly frequency strategy with k=0.5 for AMGN:\n",
      "Final Portfolio Value: $71,003.93\n",
      "Total Return: -29.00%\n",
      "Sharpe Ratio: -0.06\n",
      "Max Drawdown: -64.52%\n",
      "\n",
      "Testing weekly frequency strategy with k=1 for AMGN:\n",
      "Final Portfolio Value: $90,499.39\n",
      "Total Return: -9.50%\n",
      "Sharpe Ratio: 0.06\n",
      "Max Drawdown: -59.39%\n",
      "\n",
      "Testing weekly frequency strategy with k=1.5 for AMGN:\n",
      "Final Portfolio Value: $126,677.59\n",
      "Total Return: 26.68%\n",
      "Sharpe Ratio: 0.21\n",
      "Max Drawdown: -57.17%\n",
      "\n",
      "Testing monthly frequency strategy with k=0.5 for AMGN:\n"
     ]
    },
    {
     "name": "stderr",
     "output_type": "stream",
     "text": [
      "C:\\Users\\Gautier Pellerin\\Documents\\Code\\AMP_Algorithmic_Trading\\strategies\\ratio_value.py:57: FutureWarning: 'M' is deprecated and will be removed in a future version, please use 'ME' instead.\n",
      "  return data.resample(freq).last().dropna()\n"
     ]
    },
    {
     "name": "stdout",
     "output_type": "stream",
     "text": [
      "Final Portfolio Value: $159,022.99\n",
      "Total Return: 59.02%\n",
      "Sharpe Ratio: 0.32\n",
      "Max Drawdown: -51.57%\n",
      "\n",
      "Testing monthly frequency strategy with k=1 for AMGN:\n"
     ]
    },
    {
     "name": "stderr",
     "output_type": "stream",
     "text": [
      "C:\\Users\\Gautier Pellerin\\Documents\\Code\\AMP_Algorithmic_Trading\\strategies\\ratio_value.py:57: FutureWarning: 'M' is deprecated and will be removed in a future version, please use 'ME' instead.\n",
      "  return data.resample(freq).last().dropna()\n"
     ]
    },
    {
     "name": "stdout",
     "output_type": "stream",
     "text": [
      "Final Portfolio Value: $114,663.38\n",
      "Total Return: 14.66%\n",
      "Sharpe Ratio: 0.16\n",
      "Max Drawdown: -47.30%\n",
      "\n",
      "Testing monthly frequency strategy with k=1.5 for AMGN:\n"
     ]
    },
    {
     "name": "stderr",
     "output_type": "stream",
     "text": [
      "C:\\Users\\Gautier Pellerin\\Documents\\Code\\AMP_Algorithmic_Trading\\strategies\\ratio_value.py:57: FutureWarning: 'M' is deprecated and will be removed in a future version, please use 'ME' instead.\n",
      "  return data.resample(freq).last().dropna()\n"
     ]
    },
    {
     "name": "stdout",
     "output_type": "stream",
     "text": [
      "Final Portfolio Value: $80,786.47\n",
      "Total Return: -19.21%\n",
      "Sharpe Ratio: -0.11\n",
      "Max Drawdown: -48.04%\n",
      "\n",
      "Testing 6month frequency strategy with k=0.5 for AMGN:\n"
     ]
    },
    {
     "name": "stderr",
     "output_type": "stream",
     "text": [
      "C:\\Users\\Gautier Pellerin\\Documents\\Code\\AMP_Algorithmic_Trading\\strategies\\ratio_value.py:57: FutureWarning: 'M' is deprecated and will be removed in a future version, please use 'ME' instead.\n",
      "  return data.resample(freq).last().dropna()\n"
     ]
    },
    {
     "name": "stdout",
     "output_type": "stream",
     "text": [
      "Final Portfolio Value: $86,832.43\n",
      "Total Return: -13.17%\n",
      "Sharpe Ratio: 0.03\n",
      "Max Drawdown: -47.75%\n",
      "\n",
      "Testing 6month frequency strategy with k=1 for AMGN:\n"
     ]
    },
    {
     "name": "stderr",
     "output_type": "stream",
     "text": [
      "C:\\Users\\Gautier Pellerin\\Documents\\Code\\AMP_Algorithmic_Trading\\strategies\\ratio_value.py:57: FutureWarning: 'M' is deprecated and will be removed in a future version, please use 'ME' instead.\n",
      "  return data.resample(freq).last().dropna()\n"
     ]
    },
    {
     "name": "stdout",
     "output_type": "stream",
     "text": [
      "Final Portfolio Value: $193,095.78\n",
      "Total Return: 93.10%\n",
      "Sharpe Ratio: 0.40\n",
      "Max Drawdown: -31.53%\n",
      "\n",
      "Testing 6month frequency strategy with k=1.5 for AMGN:\n"
     ]
    },
    {
     "name": "stderr",
     "output_type": "stream",
     "text": [
      "C:\\Users\\Gautier Pellerin\\Documents\\Code\\AMP_Algorithmic_Trading\\strategies\\ratio_value.py:57: FutureWarning: 'M' is deprecated and will be removed in a future version, please use 'ME' instead.\n",
      "  return data.resample(freq).last().dropna()\n"
     ]
    },
    {
     "ename": "KeyboardInterrupt",
     "evalue": "",
     "output_type": "error",
     "traceback": [
      "\u001b[1;31m---------------------------------------------------------------------------\u001b[0m",
      "\u001b[1;31mKeyboardInterrupt\u001b[0m                         Traceback (most recent call last)",
      "Cell \u001b[1;32mIn[9], line 38\u001b[0m\n\u001b[0;32m     31\u001b[0m backtest \u001b[38;5;241m=\u001b[39m Backtest(\n\u001b[0;32m     32\u001b[0m     data\u001b[38;5;241m=\u001b[39mprices,\n\u001b[0;32m     33\u001b[0m     strategy\u001b[38;5;241m=\u001b[39mstrategy,\n\u001b[0;32m     34\u001b[0m     plot_results\u001b[38;5;241m=\u001b[39m\u001b[38;5;28;01mFalse\u001b[39;00m\n\u001b[0;32m     35\u001b[0m )\n\u001b[0;32m     37\u001b[0m \u001b[38;5;66;03m# Store results\u001b[39;00m\n\u001b[1;32m---> 38\u001b[0m result \u001b[38;5;241m=\u001b[39m backtest\u001b[38;5;241m.\u001b[39mrun()\n\u001b[0;32m     39\u001b[0m results[freq][thresh] \u001b[38;5;241m=\u001b[39m result\n\u001b[0;32m     41\u001b[0m \u001b[38;5;66;03m# Print metrics\u001b[39;00m\n",
      "File \u001b[1;32m~\\Documents\\Code\\AMP_Algorithmic_Trading\\utils\\backtest.py:33\u001b[0m, in \u001b[0;36mBacktest.run\u001b[1;34m(self)\u001b[0m\n\u001b[0;32m     31\u001b[0m \u001b[38;5;28;01mfor\u001b[39;00m i \u001b[38;5;129;01min\u001b[39;00m \u001b[38;5;28mrange\u001b[39m(\u001b[38;5;241m1\u001b[39m, \u001b[38;5;28mlen\u001b[39m(signals)):\n\u001b[0;32m     32\u001b[0m     signal \u001b[38;5;241m=\u001b[39m signals\u001b[38;5;241m.\u001b[39miloc[i]\n\u001b[1;32m---> 33\u001b[0m     price \u001b[38;5;241m=\u001b[39m \u001b[38;5;28mself\u001b[39m\u001b[38;5;241m.\u001b[39mdata[\u001b[38;5;124m\"\u001b[39m\u001b[38;5;124mClose\u001b[39m\u001b[38;5;124m\"\u001b[39m]\u001b[38;5;241m.\u001b[39miloc[i]\n\u001b[0;32m     35\u001b[0m     \u001b[38;5;28mself\u001b[39m\u001b[38;5;241m.\u001b[39mportfolio\u001b[38;5;241m.\u001b[39mat[\u001b[38;5;28mself\u001b[39m\u001b[38;5;241m.\u001b[39mdata\u001b[38;5;241m.\u001b[39mindex[i], \u001b[38;5;124m'\u001b[39m\u001b[38;5;124mcash\u001b[39m\u001b[38;5;124m'\u001b[39m] \u001b[38;5;241m=\u001b[39m \u001b[38;5;28mself\u001b[39m\u001b[38;5;241m.\u001b[39mportfolio\u001b[38;5;241m.\u001b[39mat[\u001b[38;5;28mself\u001b[39m\u001b[38;5;241m.\u001b[39mdata\u001b[38;5;241m.\u001b[39mindex[i \u001b[38;5;241m-\u001b[39m \u001b[38;5;241m1\u001b[39m], \u001b[38;5;124m'\u001b[39m\u001b[38;5;124mcash\u001b[39m\u001b[38;5;124m'\u001b[39m]\n\u001b[0;32m     36\u001b[0m     \u001b[38;5;28mself\u001b[39m\u001b[38;5;241m.\u001b[39mportfolio\u001b[38;5;241m.\u001b[39mat[\u001b[38;5;28mself\u001b[39m\u001b[38;5;241m.\u001b[39mdata\u001b[38;5;241m.\u001b[39mindex[i], \u001b[38;5;124m'\u001b[39m\u001b[38;5;124mholdings\u001b[39m\u001b[38;5;124m'\u001b[39m] \u001b[38;5;241m=\u001b[39m \u001b[38;5;28mself\u001b[39m\u001b[38;5;241m.\u001b[39mportfolio\u001b[38;5;241m.\u001b[39mat[\u001b[38;5;28mself\u001b[39m\u001b[38;5;241m.\u001b[39mdata\u001b[38;5;241m.\u001b[39mindex[i \u001b[38;5;241m-\u001b[39m \u001b[38;5;241m1\u001b[39m], \u001b[38;5;124m'\u001b[39m\u001b[38;5;124mholdings\u001b[39m\u001b[38;5;124m'\u001b[39m]\n",
      "File \u001b[1;32m~\\anaconda3\\Lib\\site-packages\\pandas\\core\\indexing.py:1189\u001b[0m, in \u001b[0;36m_LocationIndexer.__getitem__\u001b[1;34m(self, key)\u001b[0m\n\u001b[0;32m   1185\u001b[0m \u001b[38;5;28;01melse\u001b[39;00m:\n\u001b[0;32m   1186\u001b[0m     \u001b[38;5;66;03m# we by definition only have the 0th axis\u001b[39;00m\n\u001b[0;32m   1187\u001b[0m     axis \u001b[38;5;241m=\u001b[39m \u001b[38;5;28mself\u001b[39m\u001b[38;5;241m.\u001b[39maxis \u001b[38;5;129;01mor\u001b[39;00m \u001b[38;5;241m0\u001b[39m\n\u001b[1;32m-> 1189\u001b[0m     maybe_callable \u001b[38;5;241m=\u001b[39m com\u001b[38;5;241m.\u001b[39mapply_if_callable(key, \u001b[38;5;28mself\u001b[39m\u001b[38;5;241m.\u001b[39mobj)\n\u001b[0;32m   1190\u001b[0m     maybe_callable \u001b[38;5;241m=\u001b[39m \u001b[38;5;28mself\u001b[39m\u001b[38;5;241m.\u001b[39m_check_deprecated_callable_usage(key, maybe_callable)\n\u001b[0;32m   1191\u001b[0m     \u001b[38;5;28;01mreturn\u001b[39;00m \u001b[38;5;28mself\u001b[39m\u001b[38;5;241m.\u001b[39m_getitem_axis(maybe_callable, axis\u001b[38;5;241m=\u001b[39maxis)\n",
      "File \u001b[1;32m~\\anaconda3\\Lib\\site-packages\\pandas\\core\\common.py:383\u001b[0m, in \u001b[0;36mapply_if_callable\u001b[1;34m(maybe_callable, obj, **kwargs)\u001b[0m\n\u001b[0;32m    372\u001b[0m \u001b[38;5;28;01mdef\u001b[39;00m \u001b[38;5;21mapply_if_callable\u001b[39m(maybe_callable, obj, \u001b[38;5;241m*\u001b[39m\u001b[38;5;241m*\u001b[39mkwargs):\n\u001b[0;32m    373\u001b[0m \u001b[38;5;250m    \u001b[39m\u001b[38;5;124;03m\"\"\"\u001b[39;00m\n\u001b[0;32m    374\u001b[0m \u001b[38;5;124;03m    Evaluate possibly callable input using obj and kwargs if it is callable,\u001b[39;00m\n\u001b[0;32m    375\u001b[0m \u001b[38;5;124;03m    otherwise return as it is.\u001b[39;00m\n\u001b[1;32m   (...)\u001b[0m\n\u001b[0;32m    381\u001b[0m \u001b[38;5;124;03m    **kwargs\u001b[39;00m\n\u001b[0;32m    382\u001b[0m \u001b[38;5;124;03m    \"\"\"\u001b[39;00m\n\u001b[1;32m--> 383\u001b[0m     \u001b[38;5;28;01mif\u001b[39;00m \u001b[38;5;28mcallable\u001b[39m(maybe_callable):\n\u001b[0;32m    384\u001b[0m         \u001b[38;5;28;01mreturn\u001b[39;00m maybe_callable(obj, \u001b[38;5;241m*\u001b[39m\u001b[38;5;241m*\u001b[39mkwargs)\n\u001b[0;32m    386\u001b[0m     \u001b[38;5;28;01mreturn\u001b[39;00m maybe_callable\n",
      "\u001b[1;31mKeyboardInterrupt\u001b[0m: "
     ]
    }
   ],
   "source": [
    "\n",
    "\n",
    "# Initialize final results container\n",
    "all_results = {}\n",
    "best_params = []\n",
    "\n",
    "# Loop over each ticker\n",
    "for ticker in tickers:\n",
    "    print(f\"\\n--- Evaluating {ticker} ---\")\n",
    "\n",
    "    try:\n",
    "        # Initialize data\n",
    "        data_handler = DataHandler(ticker=ticker, start_date='2004-12-12', end_date='2015-12-12')\n",
    "        prices = data_handler.fetch_data()\n",
    "        pe_series = data_handler.fetch_pe_series(file_path)\n",
    "\n",
    "        if pe_series.empty:\n",
    "            print(f\"Skipping {ticker}: No valid PE data in selected date range.\")\n",
    "            continue\n",
    "\n",
    "        results = {}\n",
    "\n",
    "        # Loop over each frequency and threshold\n",
    "        for freq in frequencies:\n",
    "            results[freq] = {}\n",
    "            for thresh in K:\n",
    "                print(f\"\\nTesting {freq} frequency strategy with k={thresh} for {ticker}:\")\n",
    "\n",
    "                # Initialize strategy\n",
    "                strategy = RatioValueStrategy(pe_series, \"PE\", window=5, k=thresh, frequency=freq)\n",
    "\n",
    "                # Run backtest\n",
    "                backtest = Backtest(\n",
    "                    data=prices,\n",
    "                    strategy=strategy,\n",
    "                    plot_results=False\n",
    "                )\n",
    "\n",
    "                # Store results\n",
    "                result = backtest.run()\n",
    "                results[freq][thresh] = result\n",
    "\n",
    "                # Print metrics\n",
    "                print(f\"Final Portfolio Value: ${result['Final Value']:,.2f}\")\n",
    "                print(f\"Total Return: {result['Return']:.2%}\")\n",
    "                print(f\"Sharpe Ratio: {result['Sharpe Ratio']:.2f}\")\n",
    "                print(f\"Max Drawdown: {result['Max Drawdown']:.2%}\")\n",
    "\n",
    "        # Save all results for this ticker\n",
    "        all_results[ticker] = results\n",
    "\n",
    "        # Flatten and create comparison DataFrame\n",
    "        comparison = pd.concat({\n",
    "            freq: pd.DataFrame.from_dict(results[freq], orient='index')\n",
    "            for freq in frequencies\n",
    "        }, names=['Frequency', 'k'])\n",
    "\n",
    "        # Find best combo based on Sharpe Ratio\n",
    "        best_idx = comparison['Sharpe Ratio'].idxmax()\n",
    "        best_row = comparison.loc[best_idx]\n",
    "        best_params.append({\n",
    "            'Ticker': ticker,\n",
    "            'Best Frequency': best_idx[0],\n",
    "            'Best k': best_idx[1],\n",
    "            'Sharpe Ratio': best_row['Sharpe Ratio'],\n",
    "            'Total Return': best_row['Return'],\n",
    "            'Final Value': best_row['Final Value'],\n",
    "            'Max Drawdown': best_row['Max Drawdown']\n",
    "        })\n",
    "\n",
    "        # Optionally show per-stock comparison table\n",
    "        print(\"\\nStrategy Comparison Table:\")\n",
    "        print(comparison.round(4))\n",
    "\n",
    "    except Exception as e:\n",
    "        print(f\"Skipping {ticker} due to error: {e}\")\n",
    "        continue\n",
    "\n",
    "# Convert best parameter summary to DataFrame\n",
    "best_params_df = pd.DataFrame(best_params)\n",
    "print(\"\\n=== Summary of Best Parameters by Ticker ===\")\n",
    "print(best_params_df.round(4))"
   ]
  },
  {
   "cell_type": "markdown",
   "id": "32e3f4ea-d0e1-4810-bee4-ca7fba0a29fb",
   "metadata": {},
   "source": [
    "### Find the best parameters based on in sample testing"
   ]
  },
  {
   "cell_type": "code",
   "execution_count": null,
   "id": "82272d14-2c25-4efc-9cd6-ecffb717e1fc",
   "metadata": {},
   "outputs": [],
   "source": [
    "# Get the top 2 most frequent (frequency, k) combinations\n",
    "top_combinations = (\n",
    "    best_params_df[['Best Frequency', 'Best k']]\n",
    "    .value_counts()\n",
    "    .head(2)\n",
    ")\n",
    "\n",
    "# Display them\n",
    "print(\"\\n✅ Top 2 most common parameter combinations across tickers:\")\n",
    "for i, ((freq, k), count) in enumerate(top_combinations.items(), start=1):\n",
    "    print(f\"{i}. Frequency: {freq}, k: {k} (appears {count} times)\""
   ]
  },
  {
   "cell_type": "markdown",
   "id": "f0772740-3c1b-4a36-9b4e-7086594cbeb2",
   "metadata": {},
   "source": [
    "## Out of sample Backtest with the best parameters from the in-sample analysis"
   ]
  },
  {
   "cell_type": "code",
   "execution_count": 9,
   "id": "b331802d-d9dd-4cbf-9cb7-e8707450d5cd",
   "metadata": {
    "tags": []
   },
   "outputs": [
    {
     "name": "stderr",
     "output_type": "stream",
     "text": [
      "[*********************100%***********************]  1 of 1 completed"
     ]
    },
    {
     "name": "stdout",
     "output_type": "stream",
     "text": [
      "\n",
      "Running backtest for AAPL using best params (6month, k=1.5)\n"
     ]
    },
    {
     "name": "stderr",
     "output_type": "stream",
     "text": [
      "\n",
      "/Users/edoardonicoletti/Desktop/EDHEC M2/QPM/ratio_value_strategy.py:57: FutureWarning: 'M' is deprecated and will be removed in a future version, please use 'ME' instead.\n",
      "  return data.resample(freq).last().dropna()\n"
     ]
    },
    {
     "name": "stdout",
     "output_type": "stream",
     "text": [
      "\n",
      "Running backtest for ABT using best params (6month, k=1.5)\n"
     ]
    },
    {
     "name": "stderr",
     "output_type": "stream",
     "text": [
      "[*********************100%***********************]  1 of 1 completed\n",
      "/Users/edoardonicoletti/Desktop/EDHEC M2/QPM/ratio_value_strategy.py:57: FutureWarning: 'M' is deprecated and will be removed in a future version, please use 'ME' instead.\n",
      "  return data.resample(freq).last().dropna()\n"
     ]
    },
    {
     "name": "stdout",
     "output_type": "stream",
     "text": [
      "\n",
      "Running backtest for ADI using best params (6month, k=1.5)\n"
     ]
    },
    {
     "name": "stderr",
     "output_type": "stream",
     "text": [
      "[*********************100%***********************]  1 of 1 completed\n",
      "/Users/edoardonicoletti/Desktop/EDHEC M2/QPM/ratio_value_strategy.py:57: FutureWarning: 'M' is deprecated and will be removed in a future version, please use 'ME' instead.\n",
      "  return data.resample(freq).last().dropna()\n"
     ]
    },
    {
     "name": "stdout",
     "output_type": "stream",
     "text": [
      "\n",
      "Running backtest for ADM using best params (6month, k=1.5)\n"
     ]
    },
    {
     "name": "stderr",
     "output_type": "stream",
     "text": [
      "[*********************100%***********************]  1 of 1 completed\n",
      "/Users/edoardonicoletti/Desktop/EDHEC M2/QPM/ratio_value_strategy.py:57: FutureWarning: 'M' is deprecated and will be removed in a future version, please use 'ME' instead.\n",
      "  return data.resample(freq).last().dropna()\n"
     ]
    },
    {
     "name": "stdout",
     "output_type": "stream",
     "text": [
      "\n",
      "Running backtest for ADP using best params (6month, k=1.5)\n"
     ]
    },
    {
     "name": "stderr",
     "output_type": "stream",
     "text": [
      "[*********************100%***********************]  1 of 1 completed\n",
      "/Users/edoardonicoletti/Desktop/EDHEC M2/QPM/ratio_value_strategy.py:57: FutureWarning: 'M' is deprecated and will be removed in a future version, please use 'ME' instead.\n",
      "  return data.resample(freq).last().dropna()\n"
     ]
    },
    {
     "name": "stdout",
     "output_type": "stream",
     "text": [
      "\n",
      "Running backtest for ADSK using best params (6month, k=1.5)\n"
     ]
    },
    {
     "name": "stderr",
     "output_type": "stream",
     "text": [
      "[*********************100%***********************]  1 of 1 completed\n",
      "/Users/edoardonicoletti/Desktop/EDHEC M2/QPM/ratio_value_strategy.py:57: FutureWarning: 'M' is deprecated and will be removed in a future version, please use 'ME' instead.\n",
      "  return data.resample(freq).last().dropna()\n"
     ]
    },
    {
     "name": "stdout",
     "output_type": "stream",
     "text": [
      "\n",
      "Running backtest for AEE using best params (6month, k=1.5)\n"
     ]
    },
    {
     "name": "stderr",
     "output_type": "stream",
     "text": [
      "[*********************100%***********************]  1 of 1 completed\n",
      "/Users/edoardonicoletti/Desktop/EDHEC M2/QPM/ratio_value_strategy.py:57: FutureWarning: 'M' is deprecated and will be removed in a future version, please use 'ME' instead.\n",
      "  return data.resample(freq).last().dropna()\n"
     ]
    },
    {
     "name": "stdout",
     "output_type": "stream",
     "text": [
      "\n",
      "Running backtest for AEP using best params (6month, k=1.5)\n"
     ]
    },
    {
     "name": "stderr",
     "output_type": "stream",
     "text": [
      "[*********************100%***********************]  1 of 1 completed\n",
      "/Users/edoardonicoletti/Desktop/EDHEC M2/QPM/ratio_value_strategy.py:57: FutureWarning: 'M' is deprecated and will be removed in a future version, please use 'ME' instead.\n",
      "  return data.resample(freq).last().dropna()\n"
     ]
    },
    {
     "name": "stdout",
     "output_type": "stream",
     "text": [
      "\n",
      "Running backtest for AJG using best params (6month, k=1.5)\n"
     ]
    },
    {
     "name": "stderr",
     "output_type": "stream",
     "text": [
      "[*********************100%***********************]  1 of 1 completed\n",
      "/Users/edoardonicoletti/Desktop/EDHEC M2/QPM/ratio_value_strategy.py:57: FutureWarning: 'M' is deprecated and will be removed in a future version, please use 'ME' instead.\n",
      "  return data.resample(freq).last().dropna()\n",
      "[*********************100%***********************]  1 of 1 completed"
     ]
    },
    {
     "name": "stdout",
     "output_type": "stream",
     "text": [
      "\n",
      "Running backtest for AKAM using best params (6month, k=1.5)\n"
     ]
    },
    {
     "name": "stderr",
     "output_type": "stream",
     "text": [
      "\n",
      "/Users/edoardonicoletti/Desktop/EDHEC M2/QPM/ratio_value_strategy.py:57: FutureWarning: 'M' is deprecated and will be removed in a future version, please use 'ME' instead.\n",
      "  return data.resample(freq).last().dropna()\n"
     ]
    },
    {
     "name": "stdout",
     "output_type": "stream",
     "text": [
      "\n",
      "Running backtest for ALB using best params (6month, k=1.5)\n"
     ]
    },
    {
     "name": "stderr",
     "output_type": "stream",
     "text": [
      "[*********************100%***********************]  1 of 1 completed\n",
      "/Users/edoardonicoletti/Desktop/EDHEC M2/QPM/ratio_value_strategy.py:57: FutureWarning: 'M' is deprecated and will be removed in a future version, please use 'ME' instead.\n",
      "  return data.resample(freq).last().dropna()\n"
     ]
    },
    {
     "name": "stdout",
     "output_type": "stream",
     "text": [
      "\n",
      "Running backtest for AMAT using best params (6month, k=1.5)\n"
     ]
    },
    {
     "name": "stderr",
     "output_type": "stream",
     "text": [
      "[*********************100%***********************]  1 of 1 completed\n",
      "/Users/edoardonicoletti/Desktop/EDHEC M2/QPM/ratio_value_strategy.py:57: FutureWarning: 'M' is deprecated and will be removed in a future version, please use 'ME' instead.\n",
      "  return data.resample(freq).last().dropna()\n",
      "[*********************100%***********************]  1 of 1 completed"
     ]
    },
    {
     "name": "stdout",
     "output_type": "stream",
     "text": [
      "\n",
      "Running backtest for AMD using best params (6month, k=1.5)\n"
     ]
    },
    {
     "name": "stderr",
     "output_type": "stream",
     "text": [
      "\n",
      "/Users/edoardonicoletti/Desktop/EDHEC M2/QPM/ratio_value_strategy.py:57: FutureWarning: 'M' is deprecated and will be removed in a future version, please use 'ME' instead.\n",
      "  return data.resample(freq).last().dropna()\n"
     ]
    },
    {
     "name": "stdout",
     "output_type": "stream",
     "text": [
      "\n",
      "Running backtest for AME using best params (6month, k=1.5)\n"
     ]
    },
    {
     "name": "stderr",
     "output_type": "stream",
     "text": [
      "[*********************100%***********************]  1 of 1 completed\n",
      "/Users/edoardonicoletti/Desktop/EDHEC M2/QPM/ratio_value_strategy.py:57: FutureWarning: 'M' is deprecated and will be removed in a future version, please use 'ME' instead.\n",
      "  return data.resample(freq).last().dropna()\n"
     ]
    },
    {
     "name": "stdout",
     "output_type": "stream",
     "text": [
      "\n",
      "Running backtest for AMGN using best params (6month, k=1.5)\n"
     ]
    },
    {
     "name": "stderr",
     "output_type": "stream",
     "text": [
      "[*********************100%***********************]  1 of 1 completed\n",
      "/Users/edoardonicoletti/Desktop/EDHEC M2/QPM/ratio_value_strategy.py:57: FutureWarning: 'M' is deprecated and will be removed in a future version, please use 'ME' instead.\n",
      "  return data.resample(freq).last().dropna()\n",
      "[*********************100%***********************]  1 of 1 completed"
     ]
    },
    {
     "name": "stdout",
     "output_type": "stream",
     "text": [
      "\n",
      "Running backtest for AMT using best params (6month, k=1.5)\n"
     ]
    },
    {
     "name": "stderr",
     "output_type": "stream",
     "text": [
      "\n",
      "/Users/edoardonicoletti/Desktop/EDHEC M2/QPM/ratio_value_strategy.py:57: FutureWarning: 'M' is deprecated and will be removed in a future version, please use 'ME' instead.\n",
      "  return data.resample(freq).last().dropna()\n"
     ]
    },
    {
     "name": "stdout",
     "output_type": "stream",
     "text": [
      "\n",
      "Running backtest for AMZN using best params (6month, k=1.5)\n"
     ]
    },
    {
     "name": "stderr",
     "output_type": "stream",
     "text": [
      "[*********************100%***********************]  1 of 1 completed\n",
      "/Users/edoardonicoletti/Desktop/EDHEC M2/QPM/ratio_value_strategy.py:57: FutureWarning: 'M' is deprecated and will be removed in a future version, please use 'ME' instead.\n",
      "  return data.resample(freq).last().dropna()\n"
     ]
    },
    {
     "name": "stdout",
     "output_type": "stream",
     "text": [
      "\n",
      "Running backtest for AON using best params (6month, k=1.5)\n"
     ]
    },
    {
     "name": "stderr",
     "output_type": "stream",
     "text": [
      "[*********************100%***********************]  1 of 1 completed\n",
      "/Users/edoardonicoletti/Desktop/EDHEC M2/QPM/ratio_value_strategy.py:57: FutureWarning: 'M' is deprecated and will be removed in a future version, please use 'ME' instead.\n",
      "  return data.resample(freq).last().dropna()\n"
     ]
    },
    {
     "name": "stdout",
     "output_type": "stream",
     "text": [
      "\n",
      "Running backtest for AOS using best params (6month, k=1.5)\n"
     ]
    },
    {
     "name": "stderr",
     "output_type": "stream",
     "text": [
      "[*********************100%***********************]  1 of 1 completed\n",
      "/Users/edoardonicoletti/Desktop/EDHEC M2/QPM/ratio_value_strategy.py:57: FutureWarning: 'M' is deprecated and will be removed in a future version, please use 'ME' instead.\n",
      "  return data.resample(freq).last().dropna()\n"
     ]
    },
    {
     "name": "stdout",
     "output_type": "stream",
     "text": [
      "\n",
      "Running backtest for APA using best params (6month, k=1.5)\n"
     ]
    },
    {
     "name": "stderr",
     "output_type": "stream",
     "text": [
      "[*********************100%***********************]  1 of 1 completed\n",
      "/Users/edoardonicoletti/Desktop/EDHEC M2/QPM/ratio_value_strategy.py:57: FutureWarning: 'M' is deprecated and will be removed in a future version, please use 'ME' instead.\n",
      "  return data.resample(freq).last().dropna()\n"
     ]
    },
    {
     "name": "stdout",
     "output_type": "stream",
     "text": [
      "\n",
      "Running backtest for APD using best params (6month, k=1.5)\n"
     ]
    },
    {
     "name": "stderr",
     "output_type": "stream",
     "text": [
      "[*********************100%***********************]  1 of 1 completed\n",
      "/Users/edoardonicoletti/Desktop/EDHEC M2/QPM/ratio_value_strategy.py:57: FutureWarning: 'M' is deprecated and will be removed in a future version, please use 'ME' instead.\n",
      "  return data.resample(freq).last().dropna()\n"
     ]
    },
    {
     "name": "stdout",
     "output_type": "stream",
     "text": [
      "\n",
      "Running backtest for APH using best params (6month, k=1.5)\n"
     ]
    },
    {
     "name": "stderr",
     "output_type": "stream",
     "text": [
      "[*********************100%***********************]  1 of 1 completed\n",
      "/Users/edoardonicoletti/Desktop/EDHEC M2/QPM/ratio_value_strategy.py:57: FutureWarning: 'M' is deprecated and will be removed in a future version, please use 'ME' instead.\n",
      "  return data.resample(freq).last().dropna()\n"
     ]
    },
    {
     "name": "stdout",
     "output_type": "stream",
     "text": [
      "\n",
      "Running backtest for ARE using best params (6month, k=1.5)\n"
     ]
    },
    {
     "name": "stderr",
     "output_type": "stream",
     "text": [
      "[*********************100%***********************]  1 of 1 completed\n",
      "/Users/edoardonicoletti/Desktop/EDHEC M2/QPM/ratio_value_strategy.py:57: FutureWarning: 'M' is deprecated and will be removed in a future version, please use 'ME' instead.\n",
      "  return data.resample(freq).last().dropna()\n"
     ]
    },
    {
     "name": "stdout",
     "output_type": "stream",
     "text": [
      "\n",
      "Running backtest for AVB using best params (6month, k=1.5)\n"
     ]
    },
    {
     "name": "stderr",
     "output_type": "stream",
     "text": [
      "[*********************100%***********************]  1 of 1 completed\n",
      "/Users/edoardonicoletti/Desktop/EDHEC M2/QPM/ratio_value_strategy.py:57: FutureWarning: 'M' is deprecated and will be removed in a future version, please use 'ME' instead.\n",
      "  return data.resample(freq).last().dropna()\n"
     ]
    },
    {
     "name": "stdout",
     "output_type": "stream",
     "text": [
      "\n",
      "Running backtest for AVY using best params (6month, k=1.5)\n"
     ]
    },
    {
     "name": "stderr",
     "output_type": "stream",
     "text": [
      "[*********************100%***********************]  1 of 1 completed\n",
      "/Users/edoardonicoletti/Desktop/EDHEC M2/QPM/ratio_value_strategy.py:57: FutureWarning: 'M' is deprecated and will be removed in a future version, please use 'ME' instead.\n",
      "  return data.resample(freq).last().dropna()\n"
     ]
    },
    {
     "name": "stdout",
     "output_type": "stream",
     "text": [
      "\n",
      "Running backtest for AXP using best params (6month, k=1.5)\n"
     ]
    },
    {
     "name": "stderr",
     "output_type": "stream",
     "text": [
      "[*********************100%***********************]  1 of 1 completed\n",
      "/Users/edoardonicoletti/Desktop/EDHEC M2/QPM/ratio_value_strategy.py:57: FutureWarning: 'M' is deprecated and will be removed in a future version, please use 'ME' instead.\n",
      "  return data.resample(freq).last().dropna()\n"
     ]
    },
    {
     "name": "stdout",
     "output_type": "stream",
     "text": [
      "\n",
      "Running backtest for AZO using best params (6month, k=1.5)\n"
     ]
    },
    {
     "name": "stderr",
     "output_type": "stream",
     "text": [
      "[*********************100%***********************]  1 of 1 completed\n",
      "/Users/edoardonicoletti/Desktop/EDHEC M2/QPM/ratio_value_strategy.py:57: FutureWarning: 'M' is deprecated and will be removed in a future version, please use 'ME' instead.\n",
      "  return data.resample(freq).last().dropna()\n"
     ]
    },
    {
     "name": "stdout",
     "output_type": "stream",
     "text": [
      "\n",
      "Running backtest for BA using best params (6month, k=1.5)\n"
     ]
    },
    {
     "name": "stderr",
     "output_type": "stream",
     "text": [
      "[*********************100%***********************]  1 of 1 completed\n",
      "/Users/edoardonicoletti/Desktop/EDHEC M2/QPM/ratio_value_strategy.py:57: FutureWarning: 'M' is deprecated and will be removed in a future version, please use 'ME' instead.\n",
      "  return data.resample(freq).last().dropna()\n"
     ]
    },
    {
     "name": "stdout",
     "output_type": "stream",
     "text": [
      "\n",
      "Running backtest for BAC using best params (6month, k=1.5)\n"
     ]
    },
    {
     "name": "stderr",
     "output_type": "stream",
     "text": [
      "[*********************100%***********************]  1 of 1 completed\n",
      "/Users/edoardonicoletti/Desktop/EDHEC M2/QPM/ratio_value_strategy.py:57: FutureWarning: 'M' is deprecated and will be removed in a future version, please use 'ME' instead.\n",
      "  return data.resample(freq).last().dropna()\n"
     ]
    },
    {
     "name": "stdout",
     "output_type": "stream",
     "text": [
      "\n",
      "Running backtest for BAX using best params (6month, k=1.5)\n"
     ]
    },
    {
     "name": "stderr",
     "output_type": "stream",
     "text": [
      "[*********************100%***********************]  1 of 1 completed\n",
      "/Users/edoardonicoletti/Desktop/EDHEC M2/QPM/ratio_value_strategy.py:57: FutureWarning: 'M' is deprecated and will be removed in a future version, please use 'ME' instead.\n",
      "  return data.resample(freq).last().dropna()\n"
     ]
    },
    {
     "name": "stdout",
     "output_type": "stream",
     "text": [
      "\n",
      "Running backtest for BBY using best params (6month, k=1.5)\n"
     ]
    },
    {
     "name": "stderr",
     "output_type": "stream",
     "text": [
      "[*********************100%***********************]  1 of 1 completed\n",
      "/Users/edoardonicoletti/Desktop/EDHEC M2/QPM/ratio_value_strategy.py:57: FutureWarning: 'M' is deprecated and will be removed in a future version, please use 'ME' instead.\n",
      "  return data.resample(freq).last().dropna()\n"
     ]
    },
    {
     "name": "stdout",
     "output_type": "stream",
     "text": [
      "\n",
      "Running backtest for BDX using best params (6month, k=1.5)\n"
     ]
    },
    {
     "name": "stderr",
     "output_type": "stream",
     "text": [
      "[*********************100%***********************]  1 of 1 completed\n",
      "/Users/edoardonicoletti/Desktop/EDHEC M2/QPM/ratio_value_strategy.py:57: FutureWarning: 'M' is deprecated and will be removed in a future version, please use 'ME' instead.\n",
      "  return data.resample(freq).last().dropna()\n"
     ]
    },
    {
     "name": "stdout",
     "output_type": "stream",
     "text": [
      "\n",
      "Running backtest for BEN using best params (6month, k=1.5)\n"
     ]
    },
    {
     "name": "stderr",
     "output_type": "stream",
     "text": [
      "[*********************100%***********************]  1 of 1 completed\n",
      "/Users/edoardonicoletti/Desktop/EDHEC M2/QPM/ratio_value_strategy.py:57: FutureWarning: 'M' is deprecated and will be removed in a future version, please use 'ME' instead.\n",
      "  return data.resample(freq).last().dropna()\n"
     ]
    },
    {
     "name": "stdout",
     "output_type": "stream",
     "text": [
      "\n",
      "Running backtest for BIIB using best params (6month, k=1.5)\n"
     ]
    },
    {
     "name": "stderr",
     "output_type": "stream",
     "text": [
      "[*********************100%***********************]  1 of 1 completed\n",
      "/Users/edoardonicoletti/Desktop/EDHEC M2/QPM/ratio_value_strategy.py:57: FutureWarning: 'M' is deprecated and will be removed in a future version, please use 'ME' instead.\n",
      "  return data.resample(freq).last().dropna()\n"
     ]
    },
    {
     "name": "stdout",
     "output_type": "stream",
     "text": [
      "\n",
      "Running backtest for BK using best params (6month, k=1.5)\n"
     ]
    },
    {
     "name": "stderr",
     "output_type": "stream",
     "text": [
      "[*********************100%***********************]  1 of 1 completed\n",
      "/Users/edoardonicoletti/Desktop/EDHEC M2/QPM/ratio_value_strategy.py:57: FutureWarning: 'M' is deprecated and will be removed in a future version, please use 'ME' instead.\n",
      "  return data.resample(freq).last().dropna()\n"
     ]
    },
    {
     "name": "stdout",
     "output_type": "stream",
     "text": [
      "\n",
      "Running backtest for BLK using best params (6month, k=1.5)\n"
     ]
    },
    {
     "name": "stderr",
     "output_type": "stream",
     "text": [
      "[*********************100%***********************]  1 of 1 completed\n",
      "/Users/edoardonicoletti/Desktop/EDHEC M2/QPM/ratio_value_strategy.py:57: FutureWarning: 'M' is deprecated and will be removed in a future version, please use 'ME' instead.\n",
      "  return data.resample(freq).last().dropna()\n"
     ]
    },
    {
     "name": "stdout",
     "output_type": "stream",
     "text": [
      "\n",
      "Running backtest for BMY using best params (6month, k=1.5)\n"
     ]
    },
    {
     "name": "stderr",
     "output_type": "stream",
     "text": [
      "[*********************100%***********************]  1 of 1 completed\n",
      "/Users/edoardonicoletti/Desktop/EDHEC M2/QPM/ratio_value_strategy.py:57: FutureWarning: 'M' is deprecated and will be removed in a future version, please use 'ME' instead.\n",
      "  return data.resample(freq).last().dropna()\n",
      "[*********************100%***********************]  1 of 1 completed"
     ]
    },
    {
     "name": "stdout",
     "output_type": "stream",
     "text": [
      "\n",
      "Running backtest for BSX using best params (6month, k=1.5)\n"
     ]
    },
    {
     "name": "stderr",
     "output_type": "stream",
     "text": [
      "\n",
      "/Users/edoardonicoletti/Desktop/EDHEC M2/QPM/ratio_value_strategy.py:57: FutureWarning: 'M' is deprecated and will be removed in a future version, please use 'ME' instead.\n",
      "  return data.resample(freq).last().dropna()\n"
     ]
    },
    {
     "name": "stdout",
     "output_type": "stream",
     "text": [
      "\n",
      "Running backtest for BXP using best params (6month, k=1.5)\n"
     ]
    },
    {
     "name": "stderr",
     "output_type": "stream",
     "text": [
      "[*********************100%***********************]  1 of 1 completed\n",
      "/Users/edoardonicoletti/Desktop/EDHEC M2/QPM/ratio_value_strategy.py:57: FutureWarning: 'M' is deprecated and will be removed in a future version, please use 'ME' instead.\n",
      "  return data.resample(freq).last().dropna()\n"
     ]
    },
    {
     "name": "stdout",
     "output_type": "stream",
     "text": [
      "\n",
      "Running backtest for C using best params (6month, k=1.5)\n"
     ]
    },
    {
     "name": "stderr",
     "output_type": "stream",
     "text": [
      "[*********************100%***********************]  1 of 1 completed\n",
      "/Users/edoardonicoletti/Desktop/EDHEC M2/QPM/ratio_value_strategy.py:57: FutureWarning: 'M' is deprecated and will be removed in a future version, please use 'ME' instead.\n",
      "  return data.resample(freq).last().dropna()\n"
     ]
    },
    {
     "name": "stdout",
     "output_type": "stream",
     "text": [
      "\n",
      "Running backtest for CAG using best params (6month, k=1.5)\n"
     ]
    },
    {
     "name": "stderr",
     "output_type": "stream",
     "text": [
      "[*********************100%***********************]  1 of 1 completed\n",
      "/Users/edoardonicoletti/Desktop/EDHEC M2/QPM/ratio_value_strategy.py:57: FutureWarning: 'M' is deprecated and will be removed in a future version, please use 'ME' instead.\n",
      "  return data.resample(freq).last().dropna()\n"
     ]
    },
    {
     "name": "stdout",
     "output_type": "stream",
     "text": [
      "\n",
      "Running backtest for CAH using best params (6month, k=1.5)\n"
     ]
    },
    {
     "name": "stderr",
     "output_type": "stream",
     "text": [
      "[*********************100%***********************]  1 of 1 completed\n",
      "/Users/edoardonicoletti/Desktop/EDHEC M2/QPM/ratio_value_strategy.py:57: FutureWarning: 'M' is deprecated and will be removed in a future version, please use 'ME' instead.\n",
      "  return data.resample(freq).last().dropna()\n"
     ]
    },
    {
     "name": "stdout",
     "output_type": "stream",
     "text": [
      "\n",
      "Running backtest for CAT using best params (6month, k=1.5)\n"
     ]
    },
    {
     "name": "stderr",
     "output_type": "stream",
     "text": [
      "[*********************100%***********************]  1 of 1 completed\n",
      "/Users/edoardonicoletti/Desktop/EDHEC M2/QPM/ratio_value_strategy.py:57: FutureWarning: 'M' is deprecated and will be removed in a future version, please use 'ME' instead.\n",
      "  return data.resample(freq).last().dropna()\n"
     ]
    },
    {
     "name": "stdout",
     "output_type": "stream",
     "text": [
      "\n",
      "Running backtest for CB using best params (6month, k=1.5)\n"
     ]
    },
    {
     "name": "stderr",
     "output_type": "stream",
     "text": [
      "[*********************100%***********************]  1 of 1 completed\n",
      "/Users/edoardonicoletti/Desktop/EDHEC M2/QPM/ratio_value_strategy.py:57: FutureWarning: 'M' is deprecated and will be removed in a future version, please use 'ME' instead.\n",
      "  return data.resample(freq).last().dropna()\n",
      "[*********************100%***********************]  1 of 1 completed"
     ]
    },
    {
     "name": "stdout",
     "output_type": "stream",
     "text": [
      "\n",
      "Running backtest for CCI using best params (6month, k=1.5)\n"
     ]
    },
    {
     "name": "stderr",
     "output_type": "stream",
     "text": [
      "\n",
      "/Users/edoardonicoletti/Desktop/EDHEC M2/QPM/ratio_value_strategy.py:57: FutureWarning: 'M' is deprecated and will be removed in a future version, please use 'ME' instead.\n",
      "  return data.resample(freq).last().dropna()\n"
     ]
    },
    {
     "name": "stdout",
     "output_type": "stream",
     "text": [
      "\n",
      "Running backtest for CDNS using best params (6month, k=1.5)\n"
     ]
    },
    {
     "name": "stderr",
     "output_type": "stream",
     "text": [
      "[*********************100%***********************]  1 of 1 completed\n",
      "/Users/edoardonicoletti/Desktop/EDHEC M2/QPM/ratio_value_strategy.py:57: FutureWarning: 'M' is deprecated and will be removed in a future version, please use 'ME' instead.\n",
      "  return data.resample(freq).last().dropna()\n"
     ]
    },
    {
     "name": "stdout",
     "output_type": "stream",
     "text": [
      "\n",
      "Running backtest for CHD using best params (6month, k=1.5)\n"
     ]
    },
    {
     "name": "stderr",
     "output_type": "stream",
     "text": [
      "[*********************100%***********************]  1 of 1 completed\n",
      "/Users/edoardonicoletti/Desktop/EDHEC M2/QPM/ratio_value_strategy.py:57: FutureWarning: 'M' is deprecated and will be removed in a future version, please use 'ME' instead.\n",
      "  return data.resample(freq).last().dropna()\n"
     ]
    },
    {
     "name": "stdout",
     "output_type": "stream",
     "text": [
      "\n",
      "Running backtest for CHRW using best params (6month, k=1.5)\n"
     ]
    },
    {
     "name": "stderr",
     "output_type": "stream",
     "text": [
      "[*********************100%***********************]  1 of 1 completed\n",
      "/Users/edoardonicoletti/Desktop/EDHEC M2/QPM/ratio_value_strategy.py:57: FutureWarning: 'M' is deprecated and will be removed in a future version, please use 'ME' instead.\n",
      "  return data.resample(freq).last().dropna()\n"
     ]
    },
    {
     "name": "stdout",
     "output_type": "stream",
     "text": [
      "\n",
      "Running backtest for CINF using best params (6month, k=1.5)\n"
     ]
    },
    {
     "name": "stderr",
     "output_type": "stream",
     "text": [
      "[*********************100%***********************]  1 of 1 completed\n",
      "/Users/edoardonicoletti/Desktop/EDHEC M2/QPM/ratio_value_strategy.py:57: FutureWarning: 'M' is deprecated and will be removed in a future version, please use 'ME' instead.\n",
      "  return data.resample(freq).last().dropna()\n"
     ]
    },
    {
     "name": "stdout",
     "output_type": "stream",
     "text": [
      "\n",
      "Running backtest for CL using best params (6month, k=1.5)\n"
     ]
    },
    {
     "name": "stderr",
     "output_type": "stream",
     "text": [
      "[*********************100%***********************]  1 of 1 completed\n",
      "/Users/edoardonicoletti/Desktop/EDHEC M2/QPM/ratio_value_strategy.py:57: FutureWarning: 'M' is deprecated and will be removed in a future version, please use 'ME' instead.\n",
      "  return data.resample(freq).last().dropna()\n"
     ]
    },
    {
     "name": "stdout",
     "output_type": "stream",
     "text": [
      "\n",
      "Running backtest for CLX using best params (6month, k=1.5)\n"
     ]
    },
    {
     "name": "stderr",
     "output_type": "stream",
     "text": [
      "[*********************100%***********************]  1 of 1 completed\n",
      "/Users/edoardonicoletti/Desktop/EDHEC M2/QPM/ratio_value_strategy.py:57: FutureWarning: 'M' is deprecated and will be removed in a future version, please use 'ME' instead.\n",
      "  return data.resample(freq).last().dropna()\n"
     ]
    },
    {
     "name": "stdout",
     "output_type": "stream",
     "text": [
      "\n",
      "Running backtest for CMI using best params (6month, k=1.5)\n"
     ]
    },
    {
     "name": "stderr",
     "output_type": "stream",
     "text": [
      "[*********************100%***********************]  1 of 1 completed\n",
      "/Users/edoardonicoletti/Desktop/EDHEC M2/QPM/ratio_value_strategy.py:57: FutureWarning: 'M' is deprecated and will be removed in a future version, please use 'ME' instead.\n",
      "  return data.resample(freq).last().dropna()\n"
     ]
    },
    {
     "name": "stdout",
     "output_type": "stream",
     "text": [
      "\n",
      "Running backtest for CNP using best params (6month, k=1.5)\n"
     ]
    },
    {
     "name": "stderr",
     "output_type": "stream",
     "text": [
      "[*********************100%***********************]  1 of 1 completed\n",
      "/Users/edoardonicoletti/Desktop/EDHEC M2/QPM/ratio_value_strategy.py:57: FutureWarning: 'M' is deprecated and will be removed in a future version, please use 'ME' instead.\n",
      "  return data.resample(freq).last().dropna()\n"
     ]
    },
    {
     "name": "stdout",
     "output_type": "stream",
     "text": [
      "\n",
      "Running backtest for COO using best params (6month, k=1.5)\n"
     ]
    },
    {
     "name": "stderr",
     "output_type": "stream",
     "text": [
      "[*********************100%***********************]  1 of 1 completed\n",
      "/Users/edoardonicoletti/Desktop/EDHEC M2/QPM/ratio_value_strategy.py:57: FutureWarning: 'M' is deprecated and will be removed in a future version, please use 'ME' instead.\n",
      "  return data.resample(freq).last().dropna()\n"
     ]
    },
    {
     "name": "stdout",
     "output_type": "stream",
     "text": [
      "\n",
      "Running backtest for COP using best params (6month, k=1.5)\n"
     ]
    },
    {
     "name": "stderr",
     "output_type": "stream",
     "text": [
      "[*********************100%***********************]  1 of 1 completed\n",
      "/Users/edoardonicoletti/Desktop/EDHEC M2/QPM/ratio_value_strategy.py:57: FutureWarning: 'M' is deprecated and will be removed in a future version, please use 'ME' instead.\n",
      "  return data.resample(freq).last().dropna()\n"
     ]
    },
    {
     "name": "stdout",
     "output_type": "stream",
     "text": [
      "\n",
      "Running backtest for COST using best params (6month, k=1.5)\n"
     ]
    },
    {
     "name": "stderr",
     "output_type": "stream",
     "text": [
      "[*********************100%***********************]  1 of 1 completed\n",
      "/Users/edoardonicoletti/Desktop/EDHEC M2/QPM/ratio_value_strategy.py:57: FutureWarning: 'M' is deprecated and will be removed in a future version, please use 'ME' instead.\n",
      "  return data.resample(freq).last().dropna()\n"
     ]
    },
    {
     "name": "stdout",
     "output_type": "stream",
     "text": [
      "\n",
      "Running backtest for CPB using best params (6month, k=1.5)\n"
     ]
    },
    {
     "name": "stderr",
     "output_type": "stream",
     "text": [
      "[*********************100%***********************]  1 of 1 completed\n",
      "/Users/edoardonicoletti/Desktop/EDHEC M2/QPM/ratio_value_strategy.py:57: FutureWarning: 'M' is deprecated and will be removed in a future version, please use 'ME' instead.\n",
      "  return data.resample(freq).last().dropna()\n",
      "[*********************100%***********************]  1 of 1 completed"
     ]
    },
    {
     "name": "stdout",
     "output_type": "stream",
     "text": [
      "\n",
      "Running backtest for CPRT using best params (6month, k=1.5)\n"
     ]
    },
    {
     "name": "stderr",
     "output_type": "stream",
     "text": [
      "\n",
      "/Users/edoardonicoletti/Desktop/EDHEC M2/QPM/ratio_value_strategy.py:57: FutureWarning: 'M' is deprecated and will be removed in a future version, please use 'ME' instead.\n",
      "  return data.resample(freq).last().dropna()\n"
     ]
    },
    {
     "name": "stdout",
     "output_type": "stream",
     "text": [
      "\n",
      "Running backtest for CSCO using best params (6month, k=1.5)\n"
     ]
    },
    {
     "name": "stderr",
     "output_type": "stream",
     "text": [
      "[*********************100%***********************]  1 of 1 completed\n",
      "/Users/edoardonicoletti/Desktop/EDHEC M2/QPM/ratio_value_strategy.py:57: FutureWarning: 'M' is deprecated and will be removed in a future version, please use 'ME' instead.\n",
      "  return data.resample(freq).last().dropna()\n"
     ]
    },
    {
     "name": "stdout",
     "output_type": "stream",
     "text": [
      "\n",
      "Running backtest for CTAS using best params (6month, k=1.5)\n"
     ]
    },
    {
     "name": "stderr",
     "output_type": "stream",
     "text": [
      "[*********************100%***********************]  1 of 1 completed\n",
      "/Users/edoardonicoletti/Desktop/EDHEC M2/QPM/ratio_value_strategy.py:57: FutureWarning: 'M' is deprecated and will be removed in a future version, please use 'ME' instead.\n",
      "  return data.resample(freq).last().dropna()\n"
     ]
    },
    {
     "name": "stdout",
     "output_type": "stream",
     "text": [
      "\n",
      "Running backtest for CTSH using best params (6month, k=1.5)\n"
     ]
    },
    {
     "name": "stderr",
     "output_type": "stream",
     "text": [
      "[*********************100%***********************]  1 of 1 completed\n",
      "/Users/edoardonicoletti/Desktop/EDHEC M2/QPM/ratio_value_strategy.py:57: FutureWarning: 'M' is deprecated and will be removed in a future version, please use 'ME' instead.\n",
      "  return data.resample(freq).last().dropna()\n"
     ]
    },
    {
     "name": "stdout",
     "output_type": "stream",
     "text": [
      "\n",
      "Running backtest for D using best params (6month, k=1.5)\n"
     ]
    },
    {
     "name": "stderr",
     "output_type": "stream",
     "text": [
      "[*********************100%***********************]  1 of 1 completed\n",
      "/Users/edoardonicoletti/Desktop/EDHEC M2/QPM/ratio_value_strategy.py:57: FutureWarning: 'M' is deprecated and will be removed in a future version, please use 'ME' instead.\n",
      "  return data.resample(freq).last().dropna()\n"
     ]
    },
    {
     "name": "stdout",
     "output_type": "stream",
     "text": [
      "\n",
      "Running backtest for DE using best params (6month, k=1.5)\n"
     ]
    },
    {
     "name": "stderr",
     "output_type": "stream",
     "text": [
      "[*********************100%***********************]  1 of 1 completed\n",
      "/Users/edoardonicoletti/Desktop/EDHEC M2/QPM/ratio_value_strategy.py:57: FutureWarning: 'M' is deprecated and will be removed in a future version, please use 'ME' instead.\n",
      "  return data.resample(freq).last().dropna()\n"
     ]
    },
    {
     "name": "stdout",
     "output_type": "stream",
     "text": [
      "\n",
      "Running backtest for DGX using best params (6month, k=1.5)\n"
     ]
    },
    {
     "name": "stderr",
     "output_type": "stream",
     "text": [
      "[*********************100%***********************]  1 of 1 completed\n",
      "/Users/edoardonicoletti/Desktop/EDHEC M2/QPM/ratio_value_strategy.py:57: FutureWarning: 'M' is deprecated and will be removed in a future version, please use 'ME' instead.\n",
      "  return data.resample(freq).last().dropna()\n"
     ]
    },
    {
     "name": "stdout",
     "output_type": "stream",
     "text": [
      "\n",
      "Running backtest for DHI using best params (6month, k=1.5)\n"
     ]
    },
    {
     "name": "stderr",
     "output_type": "stream",
     "text": [
      "[*********************100%***********************]  1 of 1 completed\n",
      "/Users/edoardonicoletti/Desktop/EDHEC M2/QPM/ratio_value_strategy.py:57: FutureWarning: 'M' is deprecated and will be removed in a future version, please use 'ME' instead.\n",
      "  return data.resample(freq).last().dropna()\n"
     ]
    },
    {
     "name": "stdout",
     "output_type": "stream",
     "text": [
      "\n",
      "Running backtest for DIS using best params (6month, k=1.5)\n"
     ]
    },
    {
     "name": "stderr",
     "output_type": "stream",
     "text": [
      "[*********************100%***********************]  1 of 1 completed\n",
      "/Users/edoardonicoletti/Desktop/EDHEC M2/QPM/ratio_value_strategy.py:57: FutureWarning: 'M' is deprecated and will be removed in a future version, please use 'ME' instead.\n",
      "  return data.resample(freq).last().dropna()\n"
     ]
    },
    {
     "name": "stdout",
     "output_type": "stream",
     "text": [
      "\n",
      "Running backtest for DLTR using best params (6month, k=1.5)\n"
     ]
    },
    {
     "name": "stderr",
     "output_type": "stream",
     "text": [
      "[*********************100%***********************]  1 of 1 completed\n",
      "/Users/edoardonicoletti/Desktop/EDHEC M2/QPM/ratio_value_strategy.py:57: FutureWarning: 'M' is deprecated and will be removed in a future version, please use 'ME' instead.\n",
      "  return data.resample(freq).last().dropna()\n"
     ]
    },
    {
     "name": "stdout",
     "output_type": "stream",
     "text": [
      "\n",
      "Running backtest for DOV using best params (6month, k=1.5)\n"
     ]
    },
    {
     "name": "stderr",
     "output_type": "stream",
     "text": [
      "[*********************100%***********************]  1 of 1 completed\n",
      "/Users/edoardonicoletti/Desktop/EDHEC M2/QPM/ratio_value_strategy.py:57: FutureWarning: 'M' is deprecated and will be removed in a future version, please use 'ME' instead.\n",
      "  return data.resample(freq).last().dropna()\n"
     ]
    },
    {
     "name": "stdout",
     "output_type": "stream",
     "text": [
      "\n",
      "Running backtest for DRI using best params (6month, k=1.5)\n"
     ]
    },
    {
     "name": "stderr",
     "output_type": "stream",
     "text": [
      "[*********************100%***********************]  1 of 1 completed\n",
      "/Users/edoardonicoletti/Desktop/EDHEC M2/QPM/ratio_value_strategy.py:57: FutureWarning: 'M' is deprecated and will be removed in a future version, please use 'ME' instead.\n",
      "  return data.resample(freq).last().dropna()\n"
     ]
    },
    {
     "name": "stdout",
     "output_type": "stream",
     "text": [
      "\n",
      "Running backtest for DTE using best params (6month, k=1.5)\n"
     ]
    },
    {
     "name": "stderr",
     "output_type": "stream",
     "text": [
      "[*********************100%***********************]  1 of 1 completed\n",
      "/Users/edoardonicoletti/Desktop/EDHEC M2/QPM/ratio_value_strategy.py:57: FutureWarning: 'M' is deprecated and will be removed in a future version, please use 'ME' instead.\n",
      "  return data.resample(freq).last().dropna()\n",
      "[*********************100%***********************]  1 of 1 completed"
     ]
    },
    {
     "name": "stdout",
     "output_type": "stream",
     "text": [
      "\n",
      "Running backtest for DVA using best params (6month, k=1.5)\n"
     ]
    },
    {
     "name": "stderr",
     "output_type": "stream",
     "text": [
      "\n",
      "/Users/edoardonicoletti/Desktop/EDHEC M2/QPM/ratio_value_strategy.py:57: FutureWarning: 'M' is deprecated and will be removed in a future version, please use 'ME' instead.\n",
      "  return data.resample(freq).last().dropna()\n"
     ]
    },
    {
     "name": "stdout",
     "output_type": "stream",
     "text": [
      "\n",
      "Running backtest for EA using best params (6month, k=1.5)\n"
     ]
    },
    {
     "name": "stderr",
     "output_type": "stream",
     "text": [
      "[*********************100%***********************]  1 of 1 completed\n",
      "/Users/edoardonicoletti/Desktop/EDHEC M2/QPM/ratio_value_strategy.py:57: FutureWarning: 'M' is deprecated and will be removed in a future version, please use 'ME' instead.\n",
      "  return data.resample(freq).last().dropna()\n"
     ]
    },
    {
     "name": "stdout",
     "output_type": "stream",
     "text": [
      "\n",
      "Running backtest for EBAY using best params (6month, k=1.5)\n"
     ]
    },
    {
     "name": "stderr",
     "output_type": "stream",
     "text": [
      "[*********************100%***********************]  1 of 1 completed\n",
      "/Users/edoardonicoletti/Desktop/EDHEC M2/QPM/ratio_value_strategy.py:57: FutureWarning: 'M' is deprecated and will be removed in a future version, please use 'ME' instead.\n",
      "  return data.resample(freq).last().dropna()\n"
     ]
    },
    {
     "name": "stdout",
     "output_type": "stream",
     "text": [
      "\n",
      "Running backtest for ECL using best params (6month, k=1.5)\n"
     ]
    },
    {
     "name": "stderr",
     "output_type": "stream",
     "text": [
      "[*********************100%***********************]  1 of 1 completed\n",
      "/Users/edoardonicoletti/Desktop/EDHEC M2/QPM/ratio_value_strategy.py:57: FutureWarning: 'M' is deprecated and will be removed in a future version, please use 'ME' instead.\n",
      "  return data.resample(freq).last().dropna()\n"
     ]
    },
    {
     "name": "stdout",
     "output_type": "stream",
     "text": [
      "\n",
      "Running backtest for ED using best params (6month, k=1.5)\n"
     ]
    },
    {
     "name": "stderr",
     "output_type": "stream",
     "text": [
      "[*********************100%***********************]  1 of 1 completed\n",
      "/Users/edoardonicoletti/Desktop/EDHEC M2/QPM/ratio_value_strategy.py:57: FutureWarning: 'M' is deprecated and will be removed in a future version, please use 'ME' instead.\n",
      "  return data.resample(freq).last().dropna()\n"
     ]
    },
    {
     "name": "stdout",
     "output_type": "stream",
     "text": [
      "\n",
      "Running backtest for EFX using best params (6month, k=1.5)\n"
     ]
    },
    {
     "name": "stderr",
     "output_type": "stream",
     "text": [
      "[*********************100%***********************]  1 of 1 completed\n",
      "/Users/edoardonicoletti/Desktop/EDHEC M2/QPM/ratio_value_strategy.py:57: FutureWarning: 'M' is deprecated and will be removed in a future version, please use 'ME' instead.\n",
      "  return data.resample(freq).last().dropna()\n"
     ]
    },
    {
     "name": "stdout",
     "output_type": "stream",
     "text": [
      "\n",
      "Running backtest for EIX using best params (6month, k=1.5)\n"
     ]
    },
    {
     "name": "stderr",
     "output_type": "stream",
     "text": [
      "[*********************100%***********************]  1 of 1 completed\n",
      "/Users/edoardonicoletti/Desktop/EDHEC M2/QPM/ratio_value_strategy.py:57: FutureWarning: 'M' is deprecated and will be removed in a future version, please use 'ME' instead.\n",
      "  return data.resample(freq).last().dropna()\n"
     ]
    },
    {
     "name": "stdout",
     "output_type": "stream",
     "text": [
      "\n",
      "Running backtest for EL using best params (6month, k=1.5)\n"
     ]
    },
    {
     "name": "stderr",
     "output_type": "stream",
     "text": [
      "[*********************100%***********************]  1 of 1 completed\n",
      "/Users/edoardonicoletti/Desktop/EDHEC M2/QPM/ratio_value_strategy.py:57: FutureWarning: 'M' is deprecated and will be removed in a future version, please use 'ME' instead.\n",
      "  return data.resample(freq).last().dropna()\n"
     ]
    },
    {
     "name": "stdout",
     "output_type": "stream",
     "text": [
      "\n",
      "Running backtest for EMN using best params (6month, k=1.5)\n"
     ]
    },
    {
     "name": "stderr",
     "output_type": "stream",
     "text": [
      "[*********************100%***********************]  1 of 1 completed\n",
      "/Users/edoardonicoletti/Desktop/EDHEC M2/QPM/ratio_value_strategy.py:57: FutureWarning: 'M' is deprecated and will be removed in a future version, please use 'ME' instead.\n",
      "  return data.resample(freq).last().dropna()\n"
     ]
    },
    {
     "name": "stdout",
     "output_type": "stream",
     "text": [
      "\n",
      "Running backtest for EMR using best params (6month, k=1.5)\n"
     ]
    },
    {
     "name": "stderr",
     "output_type": "stream",
     "text": [
      "[*********************100%***********************]  1 of 1 completed\n",
      "/Users/edoardonicoletti/Desktop/EDHEC M2/QPM/ratio_value_strategy.py:57: FutureWarning: 'M' is deprecated and will be removed in a future version, please use 'ME' instead.\n",
      "  return data.resample(freq).last().dropna()\n"
     ]
    },
    {
     "name": "stdout",
     "output_type": "stream",
     "text": [
      "\n",
      "Running backtest for EOG using best params (6month, k=1.5)\n"
     ]
    },
    {
     "name": "stderr",
     "output_type": "stream",
     "text": [
      "[*********************100%***********************]  1 of 1 completed\n",
      "/Users/edoardonicoletti/Desktop/EDHEC M2/QPM/ratio_value_strategy.py:57: FutureWarning: 'M' is deprecated and will be removed in a future version, please use 'ME' instead.\n",
      "  return data.resample(freq).last().dropna()\n"
     ]
    },
    {
     "name": "stdout",
     "output_type": "stream",
     "text": [
      "\n",
      "Running backtest for EQR using best params (6month, k=1.5)\n"
     ]
    },
    {
     "name": "stderr",
     "output_type": "stream",
     "text": [
      "[*********************100%***********************]  1 of 1 completed\n",
      "/Users/edoardonicoletti/Desktop/EDHEC M2/QPM/ratio_value_strategy.py:57: FutureWarning: 'M' is deprecated and will be removed in a future version, please use 'ME' instead.\n",
      "  return data.resample(freq).last().dropna()\n"
     ]
    },
    {
     "name": "stdout",
     "output_type": "stream",
     "text": [
      "\n",
      "Running backtest for ES using best params (6month, k=1.5)\n"
     ]
    },
    {
     "name": "stderr",
     "output_type": "stream",
     "text": [
      "[*********************100%***********************]  1 of 1 completed\n",
      "/Users/edoardonicoletti/Desktop/EDHEC M2/QPM/ratio_value_strategy.py:57: FutureWarning: 'M' is deprecated and will be removed in a future version, please use 'ME' instead.\n",
      "  return data.resample(freq).last().dropna()\n"
     ]
    },
    {
     "name": "stdout",
     "output_type": "stream",
     "text": [
      "\n",
      "Running backtest for ESS using best params (6month, k=1.5)\n"
     ]
    },
    {
     "name": "stderr",
     "output_type": "stream",
     "text": [
      "[*********************100%***********************]  1 of 1 completed\n",
      "/Users/edoardonicoletti/Desktop/EDHEC M2/QPM/ratio_value_strategy.py:57: FutureWarning: 'M' is deprecated and will be removed in a future version, please use 'ME' instead.\n",
      "  return data.resample(freq).last().dropna()\n"
     ]
    },
    {
     "name": "stdout",
     "output_type": "stream",
     "text": [
      "\n",
      "Running backtest for F using best params (6month, k=1.5)\n"
     ]
    },
    {
     "name": "stderr",
     "output_type": "stream",
     "text": [
      "[*********************100%***********************]  1 of 1 completed\n",
      "/Users/edoardonicoletti/Desktop/EDHEC M2/QPM/ratio_value_strategy.py:57: FutureWarning: 'M' is deprecated and will be removed in a future version, please use 'ME' instead.\n",
      "  return data.resample(freq).last().dropna()\n"
     ]
    },
    {
     "name": "stdout",
     "output_type": "stream",
     "text": [
      "\n",
      "Running backtest for FAST using best params (6month, k=1.5)\n"
     ]
    },
    {
     "name": "stderr",
     "output_type": "stream",
     "text": [
      "[*********************100%***********************]  1 of 1 completed\n",
      "/Users/edoardonicoletti/Desktop/EDHEC M2/QPM/ratio_value_strategy.py:57: FutureWarning: 'M' is deprecated and will be removed in a future version, please use 'ME' instead.\n",
      "  return data.resample(freq).last().dropna()\n"
     ]
    },
    {
     "name": "stdout",
     "output_type": "stream",
     "text": [
      "\n",
      "Running backtest for FCX using best params (6month, k=1.5)\n"
     ]
    },
    {
     "name": "stderr",
     "output_type": "stream",
     "text": [
      "[*********************100%***********************]  1 of 1 completed\n",
      "/Users/edoardonicoletti/Desktop/EDHEC M2/QPM/ratio_value_strategy.py:57: FutureWarning: 'M' is deprecated and will be removed in a future version, please use 'ME' instead.\n",
      "  return data.resample(freq).last().dropna()\n"
     ]
    },
    {
     "name": "stdout",
     "output_type": "stream",
     "text": [
      "\n",
      "Running backtest for FDX using best params (6month, k=1.5)\n"
     ]
    },
    {
     "name": "stderr",
     "output_type": "stream",
     "text": [
      "[*********************100%***********************]  1 of 1 completed\n",
      "/Users/edoardonicoletti/Desktop/EDHEC M2/QPM/ratio_value_strategy.py:57: FutureWarning: 'M' is deprecated and will be removed in a future version, please use 'ME' instead.\n",
      "  return data.resample(freq).last().dropna()\n"
     ]
    },
    {
     "name": "stdout",
     "output_type": "stream",
     "text": [
      "\n",
      "Running backtest for FE using best params (6month, k=1.5)\n"
     ]
    },
    {
     "name": "stderr",
     "output_type": "stream",
     "text": [
      "[*********************100%***********************]  1 of 1 completed\n",
      "/Users/edoardonicoletti/Desktop/EDHEC M2/QPM/ratio_value_strategy.py:57: FutureWarning: 'M' is deprecated and will be removed in a future version, please use 'ME' instead.\n",
      "  return data.resample(freq).last().dropna()\n"
     ]
    },
    {
     "name": "stdout",
     "output_type": "stream",
     "text": [
      "\n",
      "Running backtest for FFIV using best params (6month, k=1.5)\n"
     ]
    },
    {
     "name": "stderr",
     "output_type": "stream",
     "text": [
      "[*********************100%***********************]  1 of 1 completed\n",
      "/Users/edoardonicoletti/Desktop/EDHEC M2/QPM/ratio_value_strategy.py:57: FutureWarning: 'M' is deprecated and will be removed in a future version, please use 'ME' instead.\n",
      "  return data.resample(freq).last().dropna()\n"
     ]
    },
    {
     "name": "stdout",
     "output_type": "stream",
     "text": [
      "\n",
      "Running backtest for FITB using best params (6month, k=1.5)\n"
     ]
    },
    {
     "name": "stderr",
     "output_type": "stream",
     "text": [
      "[*********************100%***********************]  1 of 1 completed\n",
      "/Users/edoardonicoletti/Desktop/EDHEC M2/QPM/ratio_value_strategy.py:57: FutureWarning: 'M' is deprecated and will be removed in a future version, please use 'ME' instead.\n",
      "  return data.resample(freq).last().dropna()\n"
     ]
    },
    {
     "name": "stdout",
     "output_type": "stream",
     "text": [
      "\n",
      "Running backtest for FRT using best params (6month, k=1.5)\n"
     ]
    },
    {
     "name": "stderr",
     "output_type": "stream",
     "text": [
      "[*********************100%***********************]  1 of 1 completed\n",
      "/Users/edoardonicoletti/Desktop/EDHEC M2/QPM/ratio_value_strategy.py:57: FutureWarning: 'M' is deprecated and will be removed in a future version, please use 'ME' instead.\n",
      "  return data.resample(freq).last().dropna()\n"
     ]
    },
    {
     "name": "stdout",
     "output_type": "stream",
     "text": [
      "\n",
      "Running backtest for GD using best params (6month, k=1.5)\n"
     ]
    },
    {
     "name": "stderr",
     "output_type": "stream",
     "text": [
      "[*********************100%***********************]  1 of 1 completed\n",
      "/Users/edoardonicoletti/Desktop/EDHEC M2/QPM/ratio_value_strategy.py:57: FutureWarning: 'M' is deprecated and will be removed in a future version, please use 'ME' instead.\n",
      "  return data.resample(freq).last().dropna()\n"
     ]
    },
    {
     "name": "stdout",
     "output_type": "stream",
     "text": [
      "\n",
      "Running backtest for GE using best params (6month, k=1.5)\n"
     ]
    },
    {
     "name": "stderr",
     "output_type": "stream",
     "text": [
      "[*********************100%***********************]  1 of 1 completed\n",
      "/Users/edoardonicoletti/Desktop/EDHEC M2/QPM/ratio_value_strategy.py:57: FutureWarning: 'M' is deprecated and will be removed in a future version, please use 'ME' instead.\n",
      "  return data.resample(freq).last().dropna()\n"
     ]
    },
    {
     "name": "stdout",
     "output_type": "stream",
     "text": [
      "\n",
      "Running backtest for GILD using best params (6month, k=1.5)\n"
     ]
    },
    {
     "name": "stderr",
     "output_type": "stream",
     "text": [
      "[*********************100%***********************]  1 of 1 completed\n",
      "/Users/edoardonicoletti/Desktop/EDHEC M2/QPM/ratio_value_strategy.py:57: FutureWarning: 'M' is deprecated and will be removed in a future version, please use 'ME' instead.\n",
      "  return data.resample(freq).last().dropna()\n"
     ]
    },
    {
     "name": "stdout",
     "output_type": "stream",
     "text": [
      "\n",
      "Running backtest for GIS using best params (6month, k=1.5)\n"
     ]
    },
    {
     "name": "stderr",
     "output_type": "stream",
     "text": [
      "[*********************100%***********************]  1 of 1 completed\n",
      "/Users/edoardonicoletti/Desktop/EDHEC M2/QPM/ratio_value_strategy.py:57: FutureWarning: 'M' is deprecated and will be removed in a future version, please use 'ME' instead.\n",
      "  return data.resample(freq).last().dropna()\n"
     ]
    },
    {
     "name": "stdout",
     "output_type": "stream",
     "text": [
      "\n",
      "Running backtest for GPC using best params (6month, k=1.5)\n"
     ]
    },
    {
     "name": "stderr",
     "output_type": "stream",
     "text": [
      "[*********************100%***********************]  1 of 1 completed\n",
      "/Users/edoardonicoletti/Desktop/EDHEC M2/QPM/ratio_value_strategy.py:57: FutureWarning: 'M' is deprecated and will be removed in a future version, please use 'ME' instead.\n",
      "  return data.resample(freq).last().dropna()\n"
     ]
    },
    {
     "name": "stdout",
     "output_type": "stream",
     "text": [
      "\n",
      "Running backtest for GWW using best params (6month, k=1.5)\n"
     ]
    },
    {
     "name": "stderr",
     "output_type": "stream",
     "text": [
      "[*********************100%***********************]  1 of 1 completed\n",
      "/Users/edoardonicoletti/Desktop/EDHEC M2/QPM/ratio_value_strategy.py:57: FutureWarning: 'M' is deprecated and will be removed in a future version, please use 'ME' instead.\n",
      "  return data.resample(freq).last().dropna()\n"
     ]
    },
    {
     "name": "stdout",
     "output_type": "stream",
     "text": [
      "\n",
      "Running backtest for HAL using best params (6month, k=1.5)\n"
     ]
    },
    {
     "name": "stderr",
     "output_type": "stream",
     "text": [
      "[*********************100%***********************]  1 of 1 completed\n",
      "/Users/edoardonicoletti/Desktop/EDHEC M2/QPM/ratio_value_strategy.py:57: FutureWarning: 'M' is deprecated and will be removed in a future version, please use 'ME' instead.\n",
      "  return data.resample(freq).last().dropna()\n"
     ]
    },
    {
     "name": "stdout",
     "output_type": "stream",
     "text": [
      "\n",
      "Running backtest for HAS using best params (6month, k=1.5)\n"
     ]
    },
    {
     "name": "stderr",
     "output_type": "stream",
     "text": [
      "[*********************100%***********************]  1 of 1 completed\n",
      "/Users/edoardonicoletti/Desktop/EDHEC M2/QPM/ratio_value_strategy.py:57: FutureWarning: 'M' is deprecated and will be removed in a future version, please use 'ME' instead.\n",
      "  return data.resample(freq).last().dropna()\n"
     ]
    }
   ],
   "source": [
    "import matplotlib.pyplot as plt\n",
    "import seaborn as sns\n",
    "\n",
    "# Your universal best parameters (replace with your actual values)\n",
    "best_frequency = '6month'\n",
    "best_k = 1.5\n",
    "\n",
    "# Storage for results\n",
    "performance_summary = []\n",
    "\n",
    "portfolio_series_list=[]\n",
    "\n",
    "# Backtest each stock with the same strategy parameters\n",
    "for ticker in tickers:\n",
    "    print(f\"\\nRunning backtest for {ticker} using best params ({best_frequency}, k={best_k})\")\n",
    "\n",
    "    data_handler = DataHandler(ticker=ticker, start_date='2015-12-12', end_date='2019-12-25')\n",
    "    prices = data_handler.fetch_data()\n",
    "    pb_series = data_handler.fetch_pe_series(file_path)\n",
    "\n",
    "    strategy = RatioValueStrategy(pb_series, \"PE\", window=5, k=best_k, frequency=best_frequency)\n",
    "    backtest = Backtest(data=prices, strategy=strategy, plot_results=False)\n",
    "    result = backtest.run()\n",
    "    \n",
    "    \n",
    "    portfolio_series = backtest.get_portfolio_value_series()\n",
    "    portfolio_series_list.append(portfolio_series.rename(ticker))\n",
    "\n",
    "    performance_summary.append({\n",
    "        'Ticker': ticker,\n",
    "        'Final Value': result['Final Value'],\n",
    "        'Return': result['Return'],\n",
    "        'Sharpe Ratio': result['Sharpe Ratio'],\n",
    "        'Max Drawdown': result['Max Drawdown']\n",
    "    })"
   ]
  },
  {
   "cell_type": "code",
   "execution_count": 10,
   "id": "a41b339f-784d-4cce-94ac-614cc5f49284",
   "metadata": {
    "tags": []
   },
   "outputs": [
    {
     "name": "stdout",
     "output_type": "stream",
     "text": [
      "\n",
      "=== Summary Statistics ===\n",
      "       Final Value    Return  Sharpe Ratio  Max Drawdown\n",
      "count     100.0000  100.0000       27.0000      100.0000\n",
      "mean   112600.7721    0.1260        0.6837       -0.0583\n",
      "std     26638.6086    0.2664        0.3098        0.1092\n",
      "min     92945.2011   -0.0705       -0.0339       -0.5791\n",
      "25%    100000.0000    0.0000        0.5346       -0.0843\n",
      "50%    100000.0000    0.0000        0.7383        0.0000\n",
      "75%    102550.9993    0.0255        0.8647        0.0000\n",
      "max    224924.2359    1.2492        1.1622        0.0000\n",
      "\n",
      "=== Mean Metrics ===\n",
      "Return               0.1260\n",
      "Sharpe Ratio         0.6837\n",
      "Final Value     112600.7721\n",
      "Max Drawdown        -0.0583\n",
      "dtype: float64\n"
     ]
    },
    {
     "name": "stderr",
     "output_type": "stream",
     "text": [
      "/Users/edoardonicoletti/anaconda3/lib/python3.11/site-packages/seaborn/_oldcore.py:1119: FutureWarning: use_inf_as_na option is deprecated and will be removed in a future version. Convert inf values to NaN before operating instead.\n",
      "  with pd.option_context('mode.use_inf_as_na', True):\n"
     ]
    },
    {
     "data": {
      "image/png": "[encoded data removed]",
      "text/plain": [
       "<Figure size 800x500 with 1 Axes>"
      ]
     },
     "metadata": {},
     "output_type": "display_data"
    }
   ],
   "source": [
    "# Create DataFrame\n",
    "perf_df = pd.DataFrame(performance_summary)\n",
    "\n",
    "# Display summary statistics\n",
    "print(\"\\n=== Summary Statistics ===\")\n",
    "print(perf_df.describe().round(4))\n",
    "\n",
    "\n",
    "# Mean values\n",
    "mean_metrics = perf_df[['Return', 'Sharpe Ratio', 'Final Value', 'Max Drawdown']].mean()\n",
    "print(\"\\n=== Mean Metrics ===\")\n",
    "print(mean_metrics.round(4))\n",
    "\n",
    "# --- Plots ---\n",
    "sns.set(style=\"whitegrid\")\n",
    "\n",
    "# 1. Histogram of Sharpe ratios\n",
    "plt.figure(figsize=(8, 5))\n",
    "sns.histplot(perf_df['Sharpe Ratio'], kde=True, bins=15)\n",
    "plt.title('Distribution of Sharpe Ratios')\n",
    "plt.xlabel('Sharpe Ratio')\n",
    "plt.ylabel('Number of Stocks')\n",
    "plt.show()\n",
    "\n",
    "# 2. Optional: Save results to CSV\n",
    "perf_df.to_csv('backtest_pe_results_universal_params.csv', index=False)"
   ]
  },
  {
   "cell_type": "code",
   "execution_count": 12,
   "id": "0d5e511b-c392-4090-a900-d2da728d3e74",
   "metadata": {
    "tags": []
   },
   "outputs": [
    {
     "name": "stderr",
     "output_type": "stream",
     "text": [
      "/var/folders/tp/t7h5dj8d7jjc96457jjj5ghm0000gn/T/ipykernel_7140/878063367.py:14: UserWarning: Tight layout not applied. The bottom and top margins cannot be made large enough to accommodate all Axes decorations.\n",
      "  plt.tight_layout()\n"
     ]
    },
    {
     "data": {
      "image/png": "[encoded data removed]",
      "text/plain": [
       "<Figure size 1200x600 with 1 Axes>"
      ]
     },
     "metadata": {},
     "output_type": "display_data"
    }
   ],
   "source": [
    "combined_portfolio = pd.concat(portfolio_series_list, axis=1)\n",
    "ax = combined_portfolio.plot(figsize=(12, 6))\n",
    "\n",
    "# Title and labels\n",
    "plt.title('Portfolio Value for Each Stock')\n",
    "plt.xlabel('Date')\n",
    "plt.ylabel('Portfolio Value')\n",
    "\n",
    "# Customize legend\n",
    "plt.legend(title='Tickers', loc='upper left', bbox_to_anchor=(1, 1), fontsize=10, title_fontsize=12, ncol=2, borderpad=1, borderaxespad=1)\n",
    "\n",
    "# Add grid and show plot\n",
    "plt.grid(True)\n",
    "plt.tight_layout()\n",
    "plt.show()"
   ]
  },
  {
   "cell_type": "code",
   "execution_count": null,
   "id": "d5c80cbe-1c8e-47a5-8eff-6cc241efe71f",
   "metadata": {},
   "outputs": [],
   "source": []
  }
 ],
 "metadata": {
  "kernelspec": {
   "display_name": "Python 3 (ipykernel)",
   "language": "python",
   "name": "python3"
  },
  "language_info": {
   "codemirror_mode": {
    "name": "ipython",
    "version": 3
   },
   "file_extension": ".py",
   "mimetype": "text/x-python",
   "name": "python",
   "nbconvert_exporter": "python",
   "pygments_lexer": "ipython3",
   "version": "3.11.7"
  }
 },
 "nbformat": 4,
 "nbformat_minor": 5
}
