{
 "cells": [
  {
   "cell_type": "code",
   "execution_count": 29,
   "id": "1da0316d-6e88-4c40-8f7d-4508c76d5ad6",
   "metadata": {},
   "outputs": [],
   "source": [
    "import sys\n",
    "import os\n",
    "\n",
    "# Get the parent directory of the \"notebook\" folder\n",
    "project_root = os.path.abspath(os.path.join(os.getcwd(), \"..\"))\n",
    "\n",
    "# Add it to the Python path\n",
    "sys.path.append(project_root)"
   ]
  },
  {
   "cell_type": "code",
   "execution_count": 31,
   "id": "9e95a6c9-827d-43c0-8bbd-a31cfbb15839",
   "metadata": {},
   "outputs": [],
   "source": [
    "from strategies.moving_average import MovingAverage\n",
    "from strategies.momentum import MomentumStrategy\n",
    "from utils.backtest import Backtest\n",
    "from utils.data_handler import DataHandler\n",
    "import yfinance as yf\n",
    "import pandas as pd\n",
    "import matplotlib as plt"
   ]
  },
  {
   "cell_type": "code",
   "execution_count": 33,
   "id": "62eb7b87-87dc-4714-af9f-bbd051989b20",
   "metadata": {},
   "outputs": [],
   "source": [
    "import pandas as pd\n",
    "from itertools import product\n",
    "\n",
    "# Define tickers and parameter grid\n",
    "tickers = tickers = [\n",
    "    \"AAPL\", \"ABT\", \"ADI\", \"ADM\", \"ADP\", \"ADSK\", \"AEE\", \"AEP\", \"AJG\", \"AKAM\",\n",
    "    \"ALB\", \"AMAT\", \"AMD\", \"AME\", \"AMGN\", \"AMT\", \"AMZN\", \"AON\", \"AOS\", \"APA\",\n",
    "    \"APD\", \"APH\", \"ARE\", \"AVB\", \"AVY\", \"AXP\", \"AZO\", \"BA\", \"BAC\", \"BAX\",\n",
    "    \"BBY\", \"BDX\", \"BEN\", \"BIIB\", \"BK\", \"BLK\", \"BMY\", \"BSX\", \"BXP\", \"C\",\n",
    "    \"CAG\", \"CAH\", \"CAT\", \"CB\", \"CCI\", \"CDNS\", \"CHD\", \"CHRW\", \"CINF\", \"CL\",\n",
    "    \"CLX\", \"CMI\", \"CNP\", \"COO\", \"COP\", \"COST\", \"CPB\", \"CPRT\", \"CSCO\", \"CTAS\",\n",
    "    \"CTSH\", \"D\", \"DE\", \"DGX\", \"DHI\", \"DIS\", \"DLTR\", \"DOV\", \"DRI\", \"DTE\",\n",
    "    \"DVA\", \"EA\", \"EBAY\", \"ECL\", \"ED\", \"EFX\", \"EIX\", \"EL\", \"EMN\", \"EMR\",\n",
    "    \"EOG\", \"EQR\", \"ES\", \"ESS\", \"F\", \"FAST\", \"FCX\", \"FDX\", \"FE\", \"FFIV\",\n",
    "    \"FITB\", \"FRT\", \"GD\", \"GE\", \"GILD\", \"GIS\", \"GPC\", \"GWW\", \"HAL\", \"HAS\"\n",
    "]  # Extend list as needed\n",
    "\n",
    "# Parameter grid\n",
    "short_windows = [5, 10, 20, 30, 50]\n",
    "long_windows = [50, 100, 150, 200, 300]\n",
    "invert_flags = [True, False]\n",
    "\n",
    "# Store results\n",
    "all_results = {}\n",
    "best_params = []\n"
   ]
  },
  {
   "cell_type": "code",
   "execution_count": null,
   "id": "8dd63f53-6c2c-4de9-82bd-2f1763280986",
   "metadata": {},
   "outputs": [
    {
     "name": "stderr",
     "output_type": "stream",
     "text": [
      "[*********************100%***********************]  1 of 1 completed"
     ]
    },
    {
     "name": "stdout",
     "output_type": "stream",
     "text": [
      "\n",
      "--- Evaluating AAPL ---\n"
     ]
    },
    {
     "name": "stderr",
     "output_type": "stream",
     "text": [
      "\n",
      "[*********************100%***********************]  1 of 1 completed"
     ]
    },
    {
     "name": "stdout",
     "output_type": "stream",
     "text": [
      "\n",
      "--- Evaluating ABT ---\n"
     ]
    },
    {
     "name": "stderr",
     "output_type": "stream",
     "text": [
      "\n",
      "[*********************100%***********************]  1 of 1 completed"
     ]
    },
    {
     "name": "stdout",
     "output_type": "stream",
     "text": [
      "\n",
      "--- Evaluating ADI ---\n"
     ]
    },
    {
     "name": "stderr",
     "output_type": "stream",
     "text": [
      "\n",
      "[*********************100%***********************]  1 of 1 completed"
     ]
    },
    {
     "name": "stdout",
     "output_type": "stream",
     "text": [
      "\n",
      "--- Evaluating ADM ---\n"
     ]
    },
    {
     "name": "stderr",
     "output_type": "stream",
     "text": [
      "\n",
      "[*********************100%***********************]  1 of 1 completed"
     ]
    },
    {
     "name": "stdout",
     "output_type": "stream",
     "text": [
      "\n",
      "--- Evaluating ADP ---\n"
     ]
    },
    {
     "name": "stderr",
     "output_type": "stream",
     "text": [
      "\n",
      "[*********************100%***********************]  1 of 1 completed"
     ]
    },
    {
     "name": "stdout",
     "output_type": "stream",
     "text": [
      "\n",
      "--- Evaluating ADSK ---\n"
     ]
    },
    {
     "name": "stderr",
     "output_type": "stream",
     "text": [
      "\n",
      "[*********************100%***********************]  1 of 1 completed"
     ]
    },
    {
     "name": "stdout",
     "output_type": "stream",
     "text": [
      "\n",
      "--- Evaluating AEE ---\n"
     ]
    },
    {
     "name": "stderr",
     "output_type": "stream",
     "text": [
      "\n",
      "[*********************100%***********************]  1 of 1 completed"
     ]
    },
    {
     "name": "stdout",
     "output_type": "stream",
     "text": [
      "\n",
      "--- Evaluating AEP ---\n"
     ]
    },
    {
     "name": "stderr",
     "output_type": "stream",
     "text": [
      "\n",
      "[*********************100%***********************]  1 of 1 completed"
     ]
    },
    {
     "name": "stdout",
     "output_type": "stream",
     "text": [
      "\n",
      "--- Evaluating AJG ---\n"
     ]
    },
    {
     "name": "stderr",
     "output_type": "stream",
     "text": [
      "\n",
      "[*********************100%***********************]  1 of 1 completed"
     ]
    },
    {
     "name": "stdout",
     "output_type": "stream",
     "text": [
      "\n",
      "--- Evaluating AKAM ---\n"
     ]
    },
    {
     "name": "stderr",
     "output_type": "stream",
     "text": [
      "\n",
      "[*********************100%***********************]  1 of 1 completed"
     ]
    },
    {
     "name": "stdout",
     "output_type": "stream",
     "text": [
      "\n",
      "--- Evaluating ALB ---\n"
     ]
    },
    {
     "name": "stderr",
     "output_type": "stream",
     "text": [
      "\n"
     ]
    }
   ],
   "source": [
    "# Step 1: Loop over all tickers and store all combinations\n",
    "for ticker in tickers:\n",
    "    print(f\"\\n--- Evaluating {ticker} ---\")\n",
    "    data_handler = DataHandler(ticker=ticker, start_date='2010-01-01', end_date='2020-01-01')\n",
    "    data = data_handler.fetch_data()\n",
    "\n",
    "    results = []\n",
    "\n",
    "    for short_w, long_w, invert in product(short_windows, long_windows, invert_flags):\n",
    "        if short_w >= long_w:\n",
    "            continue  # Skip invalid combo\n",
    "\n",
    "        strategy = MovingAverage(short_window=short_w, long_window=long_w, invert_signals=invert, mode='crossover')\n",
    "        backtest = Backtest(data, strategy, plot_results=False)\n",
    "\n",
    "        try:\n",
    "            result = backtest.run()\n",
    "            results.append({\n",
    "                'Ticker': ticker,\n",
    "                'Short Window': short_w,\n",
    "                'Long Window': long_w,\n",
    "                'Invert': invert,\n",
    "                **result\n",
    "            })\n",
    "        except Exception as e:\n",
    "            print(f\"Error on {ticker} | short={short_w}, long={long_w}, invert={invert}: {e}\")\n",
    "            continue\n",
    "\n",
    "    all_results[ticker] = results\n",
    "\n",
    "# Step 2: Flatten all results and build one DataFrame\n",
    "all_results_flat = [item for sublist in all_results.values() for item in sublist]\n",
    "all_results_df = pd.DataFrame(all_results_flat)"
   ]
  },
  {
   "cell_type": "code",
   "execution_count": null,
   "id": "43dc34b8-45d9-46f4-812c-ce26d7fe8535",
   "metadata": {},
   "outputs": [],
   "source": [
    "# Step 3: Aggregate mean Sharpe ratio per parameter combination\n",
    "aggregated = (\n",
    "    all_results_df\n",
    "    .groupby(['Short Window', 'Long Window', 'Invert'])\n",
    "    .agg({\n",
    "        'Sharpe Ratio': 'mean',\n",
    "        'Return': 'mean',\n",
    "        'Final Value': 'mean',\n",
    "        'Max Drawdown': 'mean'\n",
    "    })\n",
    "    .reset_index()\n",
    "    .sort_values(by='Sharpe Ratio', ascending=False)\n",
    ")\n",
    "\n",
    "# Display best parameter combinations\n",
    "print(\"\\n=== Aggregated Results by Parameter Combination (Sorted by Sharpe Ratio) ===\")\n",
    "print(aggregated.round(4))\n",
    "\n",
    "# Optional: Save results\n",
    "all_results_df.to_csv(\"all_backtest_results.csv\", index=False)\n",
    "aggregated.to_csv(\"aggregated_parameter_results.csv\", index=False)"
   ]
  },
  {
   "cell_type": "code",
   "execution_count": null,
   "id": "75de7c6e-74e9-42c9-a53d-b8fbb1286876",
   "metadata": {},
   "outputs": [],
   "source": []
  },
  {
   "cell_type": "code",
   "execution_count": null,
   "id": "937108ca-4ed5-4fd5-b4bb-0eeae5e21cd2",
   "metadata": {},
   "outputs": [],
   "source": []
  },
  {
   "cell_type": "code",
   "execution_count": null,
   "id": "f0ffe45e-699a-4dc3-9a21-7bb8f275212a",
   "metadata": {},
   "outputs": [],
   "source": []
  }
 ],
 "metadata": {
  "kernelspec": {
   "display_name": "Python 3 (ipykernel)",
   "language": "python",
   "name": "python3"
  },
  "language_info": {
   "codemirror_mode": {
    "name": "ipython",
    "version": 3
   },
   "file_extension": ".py",
   "mimetype": "text/x-python",
   "name": "python",
   "nbconvert_exporter": "python",
   "pygments_lexer": "ipython3",
   "version": "3.11.7"
  }
 },
 "nbformat": 4,
 "nbformat_minor": 5
}
