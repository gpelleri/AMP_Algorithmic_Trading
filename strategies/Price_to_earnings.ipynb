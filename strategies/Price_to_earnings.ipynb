{
 "cells": [
  {
   "cell_type": "code",
   "execution_count": 1,
   "id": "21be7135-d21f-438c-8d65-1d21f11c91a2",
   "metadata": {},
   "outputs": [],
   "source": [
    "import sys\n",
    "sys.path.append('..')  # Add parent directory to path\n",
    "from utils.backtest import Backtest\n",
    "from utils.data_handler import DataHandler\n",
    "\n",
    "from strategies.ratio_value import RatioValueStrategy\n",
    "from strategies.momentum import MomentumStrategy\n",
    "from utils.backtest import Backtest\n",
    "from utils.data_handler import DataHandler\n",
    "import yfinance as yf\n",
    "import pandas as pd"
   ]
  },
  {
   "cell_type": "code",
   "execution_count": 2,
   "id": "135d4720-91d7-423a-9ec9-d43c56bfe76b",
   "metadata": {},
   "outputs": [
    {
     "name": "stdout",
     "output_type": "stream",
     "text": [
      "\n",
      "--- Evaluating AAPL ---\n",
      "YF.download() has changed argument auto_adjust default to True\n"
     ]
    },
    {
     "name": "stderr",
     "output_type": "stream",
     "text": [
      "[*********************100%***********************]  1 of 1 completed\n"
     ]
    },
    {
     "name": "stdout",
     "output_type": "stream",
     "text": [
      "\n",
      "Testing weekly frequency strategy with k=0.5 for AAPL:\n",
      "Final Portfolio Value: $136,694.83\n",
      "Total Return: 36.69%\n",
      "Sharpe Ratio: 0.24\n",
      "Max Drawdown: -65.41%\n",
      "\n",
      "Testing weekly frequency strategy with k=1 for AAPL:\n",
      "Final Portfolio Value: $241,263.92\n",
      "Total Return: 141.26%\n",
      "Sharpe Ratio: 0.44\n",
      "Max Drawdown: -58.06%\n",
      "\n",
      "Testing weekly frequency strategy with k=1.5 for AAPL:\n",
      "Final Portfolio Value: $170,399.68\n",
      "Total Return: 70.40%\n",
      "Sharpe Ratio: 0.32\n",
      "Max Drawdown: -64.68%\n",
      "\n",
      "Testing monthly frequency strategy with k=0.5 for AAPL:\n"
     ]
    },
    {
     "name": "stderr",
     "output_type": "stream",
     "text": [
      "C:\\Users\\Gautier Pellerin\\Documents\\Code\\AMP_Algorithmic_Trading\\strategies\\..\\strategies\\ratio_value.py:57: FutureWarning: 'M' is deprecated and will be removed in a future version, please use 'ME' instead.\n",
      "  return data.resample(freq).last().dropna()\n"
     ]
    },
    {
     "name": "stdout",
     "output_type": "stream",
     "text": [
      "Final Portfolio Value: $252,202.44\n",
      "Total Return: 152.20%\n",
      "Sharpe Ratio: 0.45\n",
      "Max Drawdown: -58.83%\n",
      "\n",
      "Testing monthly frequency strategy with k=1 for AAPL:\n"
     ]
    },
    {
     "name": "stderr",
     "output_type": "stream",
     "text": [
      "C:\\Users\\Gautier Pellerin\\Documents\\Code\\AMP_Algorithmic_Trading\\strategies\\..\\strategies\\ratio_value.py:57: FutureWarning: 'M' is deprecated and will be removed in a future version, please use 'ME' instead.\n",
      "  return data.resample(freq).last().dropna()\n"
     ]
    },
    {
     "name": "stdout",
     "output_type": "stream",
     "text": [
      "Final Portfolio Value: $208,602.23\n",
      "Total Return: 108.60%\n",
      "Sharpe Ratio: 0.39\n",
      "Max Drawdown: -58.83%\n",
      "\n",
      "Testing monthly frequency strategy with k=1.5 for AAPL:\n"
     ]
    },
    {
     "name": "stderr",
     "output_type": "stream",
     "text": [
      "C:\\Users\\Gautier Pellerin\\Documents\\Code\\AMP_Algorithmic_Trading\\strategies\\..\\strategies\\ratio_value.py:57: FutureWarning: 'M' is deprecated and will be removed in a future version, please use 'ME' instead.\n",
      "  return data.resample(freq).last().dropna()\n"
     ]
    },
    {
     "name": "stdout",
     "output_type": "stream",
     "text": [
      "Final Portfolio Value: $146,408.98\n",
      "Total Return: 46.41%\n",
      "Sharpe Ratio: 0.27\n",
      "Max Drawdown: -58.83%\n",
      "\n",
      "Testing 6month frequency strategy with k=0.5 for AAPL:\n"
     ]
    },
    {
     "name": "stderr",
     "output_type": "stream",
     "text": [
      "C:\\Users\\Gautier Pellerin\\Documents\\Code\\AMP_Algorithmic_Trading\\strategies\\..\\strategies\\ratio_value.py:57: FutureWarning: 'M' is deprecated and will be removed in a future version, please use 'ME' instead.\n",
      "  return data.resample(freq).last().dropna()\n"
     ]
    },
    {
     "name": "stdout",
     "output_type": "stream",
     "text": [
      "Final Portfolio Value: $1,172,900.09\n",
      "Total Return: 1072.90%\n",
      "Sharpe Ratio: 0.88\n",
      "Max Drawdown: -60.87%\n",
      "\n",
      "Testing 6month frequency strategy with k=1 for AAPL:\n"
     ]
    },
    {
     "name": "stderr",
     "output_type": "stream",
     "text": [
      "C:\\Users\\Gautier Pellerin\\Documents\\Code\\AMP_Algorithmic_Trading\\strategies\\..\\strategies\\ratio_value.py:57: FutureWarning: 'M' is deprecated and will be removed in a future version, please use 'ME' instead.\n",
      "  return data.resample(freq).last().dropna()\n"
     ]
    },
    {
     "name": "stdout",
     "output_type": "stream",
     "text": [
      "Final Portfolio Value: $655,702.75\n",
      "Total Return: 555.70%\n",
      "Sharpe Ratio: 0.84\n",
      "Max Drawdown: -43.80%\n",
      "\n",
      "Testing 6month frequency strategy with k=1.5 for AAPL:\n"
     ]
    },
    {
     "name": "stderr",
     "output_type": "stream",
     "text": [
      "C:\\Users\\Gautier Pellerin\\Documents\\Code\\AMP_Algorithmic_Trading\\strategies\\..\\strategies\\ratio_value.py:57: FutureWarning: 'M' is deprecated and will be removed in a future version, please use 'ME' instead.\n",
      "  return data.resample(freq).last().dropna()\n"
     ]
    },
    {
     "name": "stdout",
     "output_type": "stream",
     "text": [
      "Final Portfolio Value: $100,000.00\n",
      "Total Return: 0.00%\n",
      "Sharpe Ratio: nan\n",
      "Max Drawdown: 0.00%\n",
      "\n",
      "Strategy Comparison Table:\n",
      "                Final Value   Return  Sharpe Ratio  Max Drawdown\n",
      "Frequency k                                                     \n",
      "weekly    0.5  1.366948e+05   0.3669        0.2399       -0.6541\n",
      "          1.0  2.412639e+05   1.4126        0.4371       -0.5806\n",
      "          1.5  1.703997e+05   0.7040        0.3180       -0.6468\n",
      "monthly   0.5  2.522024e+05   1.5220        0.4480       -0.5883\n",
      "          1.0  2.086022e+05   1.0860        0.3881       -0.5883\n",
      "          1.5  1.464090e+05   0.4641        0.2688       -0.5883\n",
      "6month    0.5  1.172900e+06  10.7290        0.8773       -0.6087\n",
      "          1.0  6.557027e+05   5.5570        0.8434       -0.4380\n",
      "          1.5  1.000000e+05   0.0000           NaN        0.0000\n",
      "\n",
      "--- Evaluating ABT ---\n"
     ]
    },
    {
     "name": "stderr",
     "output_type": "stream",
     "text": [
      "[*********************100%***********************]  1 of 1 completed\n"
     ]
    },
    {
     "name": "stdout",
     "output_type": "stream",
     "text": [
      "\n",
      "Testing weekly frequency strategy with k=0.5 for ABT:\n",
      "Final Portfolio Value: $66,933.55\n",
      "Total Return: -33.07%\n",
      "Sharpe Ratio: -0.16\n",
      "Max Drawdown: -41.43%\n",
      "\n",
      "Testing weekly frequency strategy with k=1 for ABT:\n",
      "Final Portfolio Value: $78,920.93\n",
      "Total Return: -21.08%\n",
      "Sharpe Ratio: -0.06\n",
      "Max Drawdown: -39.17%\n",
      "\n",
      "Testing weekly frequency strategy with k=1.5 for ABT:\n",
      "Final Portfolio Value: $133,802.04\n",
      "Total Return: 33.80%\n",
      "Sharpe Ratio: 0.24\n",
      "Max Drawdown: -29.39%\n",
      "\n",
      "Testing monthly frequency strategy with k=0.5 for ABT:\n"
     ]
    },
    {
     "name": "stderr",
     "output_type": "stream",
     "text": [
      "C:\\Users\\Gautier Pellerin\\Documents\\Code\\AMP_Algorithmic_Trading\\strategies\\..\\strategies\\ratio_value.py:57: FutureWarning: 'M' is deprecated and will be removed in a future version, please use 'ME' instead.\n",
      "  return data.resample(freq).last().dropna()\n"
     ]
    },
    {
     "name": "stdout",
     "output_type": "stream",
     "text": [
      "Final Portfolio Value: $117,131.60\n",
      "Total Return: 17.13%\n",
      "Sharpe Ratio: 0.17\n",
      "Max Drawdown: -28.92%\n",
      "\n",
      "Testing monthly frequency strategy with k=1 for ABT:\n"
     ]
    },
    {
     "name": "stderr",
     "output_type": "stream",
     "text": [
      "C:\\Users\\Gautier Pellerin\\Documents\\Code\\AMP_Algorithmic_Trading\\strategies\\..\\strategies\\ratio_value.py:57: FutureWarning: 'M' is deprecated and will be removed in a future version, please use 'ME' instead.\n",
      "  return data.resample(freq).last().dropna()\n"
     ]
    },
    {
     "name": "stdout",
     "output_type": "stream",
     "text": [
      "Final Portfolio Value: $181,491.63\n",
      "Total Return: 81.49%\n",
      "Sharpe Ratio: 0.42\n",
      "Max Drawdown: -28.93%\n",
      "\n",
      "Testing monthly frequency strategy with k=1.5 for ABT:\n"
     ]
    },
    {
     "name": "stderr",
     "output_type": "stream",
     "text": [
      "C:\\Users\\Gautier Pellerin\\Documents\\Code\\AMP_Algorithmic_Trading\\strategies\\..\\strategies\\ratio_value.py:57: FutureWarning: 'M' is deprecated and will be removed in a future version, please use 'ME' instead.\n",
      "  return data.resample(freq).last().dropna()\n"
     ]
    },
    {
     "name": "stdout",
     "output_type": "stream",
     "text": [
      "Final Portfolio Value: $151,683.12\n",
      "Total Return: 51.68%\n",
      "Sharpe Ratio: 0.32\n",
      "Max Drawdown: -28.93%\n",
      "\n",
      "Testing 6month frequency strategy with k=0.5 for ABT:\n"
     ]
    },
    {
     "name": "stderr",
     "output_type": "stream",
     "text": [
      "C:\\Users\\Gautier Pellerin\\Documents\\Code\\AMP_Algorithmic_Trading\\strategies\\..\\strategies\\ratio_value.py:57: FutureWarning: 'M' is deprecated and will be removed in a future version, please use 'ME' instead.\n",
      "  return data.resample(freq).last().dropna()\n"
     ]
    },
    {
     "name": "stdout",
     "output_type": "stream",
     "text": [
      "Final Portfolio Value: $183,102.71\n",
      "Total Return: 83.10%\n",
      "Sharpe Ratio: 0.43\n",
      "Max Drawdown: -28.93%\n",
      "\n",
      "Testing 6month frequency strategy with k=1 for ABT:\n"
     ]
    },
    {
     "name": "stderr",
     "output_type": "stream",
     "text": [
      "C:\\Users\\Gautier Pellerin\\Documents\\Code\\AMP_Algorithmic_Trading\\strategies\\..\\strategies\\ratio_value.py:57: FutureWarning: 'M' is deprecated and will be removed in a future version, please use 'ME' instead.\n",
      "  return data.resample(freq).last().dropna()\n"
     ]
    },
    {
     "name": "stdout",
     "output_type": "stream",
     "text": [
      "Final Portfolio Value: $140,176.86\n",
      "Total Return: 40.18%\n",
      "Sharpe Ratio: 0.29\n",
      "Max Drawdown: -28.92%\n",
      "\n",
      "Testing 6month frequency strategy with k=1.5 for ABT:\n"
     ]
    },
    {
     "name": "stderr",
     "output_type": "stream",
     "text": [
      "C:\\Users\\Gautier Pellerin\\Documents\\Code\\AMP_Algorithmic_Trading\\strategies\\..\\strategies\\ratio_value.py:57: FutureWarning: 'M' is deprecated and will be removed in a future version, please use 'ME' instead.\n",
      "  return data.resample(freq).last().dropna()\n"
     ]
    },
    {
     "name": "stdout",
     "output_type": "stream",
     "text": [
      "Final Portfolio Value: $207,951.35\n",
      "Total Return: 107.95%\n",
      "Sharpe Ratio: 0.48\n",
      "Max Drawdown: -28.92%\n",
      "\n",
      "Strategy Comparison Table:\n",
      "               Final Value  Return  Sharpe Ratio  Max Drawdown\n",
      "Frequency k                                                   \n",
      "weekly    0.5   66933.5470 -0.3307       -0.1583       -0.4143\n",
      "          1.0   78920.9345 -0.2108       -0.0586       -0.3917\n",
      "          1.5  133802.0396  0.3380        0.2437       -0.2939\n",
      "monthly   0.5  117131.5991  0.1713        0.1702       -0.2892\n",
      "          1.0  181491.6323  0.8149        0.4180       -0.2893\n",
      "          1.5  151683.1217  0.5168        0.3223       -0.2893\n",
      "6month    0.5  183102.7070  0.8310        0.4259       -0.2893\n",
      "          1.0  140176.8617  0.4018        0.2936       -0.2892\n",
      "          1.5  207951.3518  1.0795        0.4805       -0.2892\n",
      "\n",
      "--- Evaluating ADI ---\n"
     ]
    },
    {
     "name": "stderr",
     "output_type": "stream",
     "text": [
      "[*********************100%***********************]  1 of 1 completed\n"
     ]
    },
    {
     "name": "stdout",
     "output_type": "stream",
     "text": [
      "\n",
      "Testing weekly frequency strategy with k=0.5 for ADI:\n",
      "Final Portfolio Value: $110,124.46\n",
      "Total Return: 10.12%\n",
      "Sharpe Ratio: 0.14\n",
      "Max Drawdown: -29.87%\n",
      "\n",
      "Testing weekly frequency strategy with k=1 for ADI:\n",
      "Final Portfolio Value: $109,581.51\n",
      "Total Return: 9.58%\n",
      "Sharpe Ratio: 0.13\n",
      "Max Drawdown: -24.19%\n",
      "\n",
      "Testing weekly frequency strategy with k=1.5 for ADI:\n",
      "Final Portfolio Value: $129,501.81\n",
      "Total Return: 29.50%\n",
      "Sharpe Ratio: 0.29\n",
      "Max Drawdown: -19.80%\n",
      "\n",
      "Testing monthly frequency strategy with k=0.5 for ADI:\n"
     ]
    },
    {
     "name": "stderr",
     "output_type": "stream",
     "text": [
      "C:\\Users\\Gautier Pellerin\\Documents\\Code\\AMP_Algorithmic_Trading\\strategies\\..\\strategies\\ratio_value.py:57: FutureWarning: 'M' is deprecated and will be removed in a future version, please use 'ME' instead.\n",
      "  return data.resample(freq).last().dropna()\n"
     ]
    },
    {
     "name": "stdout",
     "output_type": "stream",
     "text": [
      "Final Portfolio Value: $143,172.94\n",
      "Total Return: 43.17%\n",
      "Sharpe Ratio: 0.36\n",
      "Max Drawdown: -22.18%\n",
      "\n",
      "Testing monthly frequency strategy with k=1 for ADI:\n"
     ]
    },
    {
     "name": "stderr",
     "output_type": "stream",
     "text": [
      "C:\\Users\\Gautier Pellerin\\Documents\\Code\\AMP_Algorithmic_Trading\\strategies\\..\\strategies\\ratio_value.py:57: FutureWarning: 'M' is deprecated and will be removed in a future version, please use 'ME' instead.\n",
      "  return data.resample(freq).last().dropna()\n"
     ]
    },
    {
     "name": "stdout",
     "output_type": "stream",
     "text": [
      "Final Portfolio Value: $131,558.41\n",
      "Total Return: 31.56%\n",
      "Sharpe Ratio: 0.31\n",
      "Max Drawdown: -18.31%\n",
      "\n",
      "Testing monthly frequency strategy with k=1.5 for ADI:\n"
     ]
    },
    {
     "name": "stderr",
     "output_type": "stream",
     "text": [
      "C:\\Users\\Gautier Pellerin\\Documents\\Code\\AMP_Algorithmic_Trading\\strategies\\..\\strategies\\ratio_value.py:57: FutureWarning: 'M' is deprecated and will be removed in a future version, please use 'ME' instead.\n",
      "  return data.resample(freq).last().dropna()\n"
     ]
    },
    {
     "name": "stdout",
     "output_type": "stream",
     "text": [
      "Final Portfolio Value: $138,781.74\n",
      "Total Return: 38.78%\n",
      "Sharpe Ratio: 0.30\n",
      "Max Drawdown: -26.38%\n",
      "\n",
      "Testing 6month frequency strategy with k=0.5 for ADI:\n"
     ]
    },
    {
     "name": "stderr",
     "output_type": "stream",
     "text": [
      "C:\\Users\\Gautier Pellerin\\Documents\\Code\\AMP_Algorithmic_Trading\\strategies\\..\\strategies\\ratio_value.py:57: FutureWarning: 'M' is deprecated and will be removed in a future version, please use 'ME' instead.\n",
      "  return data.resample(freq).last().dropna()\n"
     ]
    },
    {
     "name": "stdout",
     "output_type": "stream",
     "text": [
      "Final Portfolio Value: $130,560.32\n",
      "Total Return: 30.56%\n",
      "Sharpe Ratio: 0.37\n",
      "Max Drawdown: -11.01%\n",
      "\n",
      "Testing 6month frequency strategy with k=1 for ADI:\n"
     ]
    },
    {
     "name": "stderr",
     "output_type": "stream",
     "text": [
      "C:\\Users\\Gautier Pellerin\\Documents\\Code\\AMP_Algorithmic_Trading\\strategies\\..\\strategies\\ratio_value.py:57: FutureWarning: 'M' is deprecated and will be removed in a future version, please use 'ME' instead.\n",
      "  return data.resample(freq).last().dropna()\n"
     ]
    },
    {
     "name": "stdout",
     "output_type": "stream",
     "text": [
      "Final Portfolio Value: $135,465.30\n",
      "Total Return: 35.47%\n",
      "Sharpe Ratio: 0.38\n",
      "Max Drawdown: -11.01%\n",
      "\n",
      "Testing 6month frequency strategy with k=1.5 for ADI:\n"
     ]
    },
    {
     "name": "stderr",
     "output_type": "stream",
     "text": [
      "C:\\Users\\Gautier Pellerin\\Documents\\Code\\AMP_Algorithmic_Trading\\strategies\\..\\strategies\\ratio_value.py:57: FutureWarning: 'M' is deprecated and will be removed in a future version, please use 'ME' instead.\n",
      "  return data.resample(freq).last().dropna()\n"
     ]
    },
    {
     "name": "stdout",
     "output_type": "stream",
     "text": [
      "Final Portfolio Value: $100,000.00\n",
      "Total Return: 0.00%\n",
      "Sharpe Ratio: nan\n",
      "Max Drawdown: 0.00%\n",
      "\n",
      "Strategy Comparison Table:\n",
      "               Final Value  Return  Sharpe Ratio  Max Drawdown\n",
      "Frequency k                                                   \n",
      "weekly    0.5  110124.4633  0.1012        0.1350       -0.2987\n",
      "          1.0  109581.5117  0.0958        0.1305       -0.2419\n",
      "          1.5  129501.8148  0.2950        0.2902       -0.1980\n",
      "monthly   0.5  143172.9351  0.4317        0.3637       -0.2218\n",
      "          1.0  131558.4090  0.3156        0.3052       -0.1831\n",
      "          1.5  138781.7380  0.3878        0.3048       -0.2638\n",
      "6month    0.5  130560.3193  0.3056        0.3699       -0.1101\n",
      "          1.0  135465.2973  0.3547        0.3762       -0.1101\n",
      "          1.5  100000.0000  0.0000           NaN        0.0000\n",
      "\n",
      "--- Evaluating ADM ---\n"
     ]
    },
    {
     "name": "stderr",
     "output_type": "stream",
     "text": [
      "[*********************100%***********************]  1 of 1 completed\n"
     ]
    },
    {
     "name": "stdout",
     "output_type": "stream",
     "text": [
      "\n",
      "Testing weekly frequency strategy with k=0.5 for ADM:\n",
      "Final Portfolio Value: $57,823.55\n",
      "Total Return: -42.18%\n",
      "Sharpe Ratio: -0.08\n",
      "Max Drawdown: -70.00%\n",
      "\n",
      "Testing weekly frequency strategy with k=1 for ADM:\n",
      "Final Portfolio Value: $90,745.33\n",
      "Total Return: -9.25%\n",
      "Sharpe Ratio: 0.09\n",
      "Max Drawdown: -65.53%\n",
      "\n",
      "Testing weekly frequency strategy with k=1.5 for ADM:\n",
      "Final Portfolio Value: $138,156.78\n",
      "Total Return: 38.16%\n",
      "Sharpe Ratio: 0.24\n",
      "Max Drawdown: -65.72%\n",
      "\n",
      "Testing monthly frequency strategy with k=0.5 for ADM:\n"
     ]
    },
    {
     "name": "stderr",
     "output_type": "stream",
     "text": [
      "C:\\Users\\Gautier Pellerin\\Documents\\Code\\AMP_Algorithmic_Trading\\strategies\\..\\strategies\\ratio_value.py:57: FutureWarning: 'M' is deprecated and will be removed in a future version, please use 'ME' instead.\n",
      "  return data.resample(freq).last().dropna()\n"
     ]
    },
    {
     "name": "stdout",
     "output_type": "stream",
     "text": [
      "Final Portfolio Value: $74,889.06\n",
      "Total Return: -25.11%\n",
      "Sharpe Ratio: 0.02\n",
      "Max Drawdown: -70.30%\n",
      "\n",
      "Testing monthly frequency strategy with k=1 for ADM:\n"
     ]
    },
    {
     "name": "stderr",
     "output_type": "stream",
     "text": [
      "C:\\Users\\Gautier Pellerin\\Documents\\Code\\AMP_Algorithmic_Trading\\strategies\\..\\strategies\\ratio_value.py:57: FutureWarning: 'M' is deprecated and will be removed in a future version, please use 'ME' instead.\n",
      "  return data.resample(freq).last().dropna()\n"
     ]
    },
    {
     "name": "stdout",
     "output_type": "stream",
     "text": [
      "Final Portfolio Value: $86,727.70\n",
      "Total Return: -13.27%\n",
      "Sharpe Ratio: 0.08\n",
      "Max Drawdown: -58.10%\n",
      "\n",
      "Testing monthly frequency strategy with k=1.5 for ADM:\n"
     ]
    },
    {
     "name": "stderr",
     "output_type": "stream",
     "text": [
      "C:\\Users\\Gautier Pellerin\\Documents\\Code\\AMP_Algorithmic_Trading\\strategies\\..\\strategies\\ratio_value.py:57: FutureWarning: 'M' is deprecated and will be removed in a future version, please use 'ME' instead.\n",
      "  return data.resample(freq).last().dropna()\n"
     ]
    },
    {
     "name": "stdout",
     "output_type": "stream",
     "text": [
      "Final Portfolio Value: $247,597.42\n",
      "Total Return: 147.60%\n",
      "Sharpe Ratio: 0.53\n",
      "Max Drawdown: -39.20%\n",
      "\n",
      "Testing 6month frequency strategy with k=0.5 for ADM:\n"
     ]
    },
    {
     "name": "stderr",
     "output_type": "stream",
     "text": [
      "C:\\Users\\Gautier Pellerin\\Documents\\Code\\AMP_Algorithmic_Trading\\strategies\\..\\strategies\\ratio_value.py:57: FutureWarning: 'M' is deprecated and will be removed in a future version, please use 'ME' instead.\n",
      "  return data.resample(freq).last().dropna()\n"
     ]
    },
    {
     "name": "stdout",
     "output_type": "stream",
     "text": [
      "Final Portfolio Value: $124,646.69\n",
      "Total Return: 24.65%\n",
      "Sharpe Ratio: 0.21\n",
      "Max Drawdown: -67.99%\n",
      "\n",
      "Testing 6month frequency strategy with k=1 for ADM:\n"
     ]
    },
    {
     "name": "stderr",
     "output_type": "stream",
     "text": [
      "C:\\Users\\Gautier Pellerin\\Documents\\Code\\AMP_Algorithmic_Trading\\strategies\\..\\strategies\\ratio_value.py:57: FutureWarning: 'M' is deprecated and will be removed in a future version, please use 'ME' instead.\n",
      "  return data.resample(freq).last().dropna()\n"
     ]
    },
    {
     "name": "stdout",
     "output_type": "stream",
     "text": [
      "Final Portfolio Value: $226,109.78\n",
      "Total Return: 126.11%\n",
      "Sharpe Ratio: 0.44\n",
      "Max Drawdown: -35.14%\n",
      "\n",
      "Testing 6month frequency strategy with k=1.5 for ADM:\n"
     ]
    },
    {
     "name": "stderr",
     "output_type": "stream",
     "text": [
      "C:\\Users\\Gautier Pellerin\\Documents\\Code\\AMP_Algorithmic_Trading\\strategies\\..\\strategies\\ratio_value.py:57: FutureWarning: 'M' is deprecated and will be removed in a future version, please use 'ME' instead.\n",
      "  return data.resample(freq).last().dropna()\n"
     ]
    },
    {
     "name": "stdout",
     "output_type": "stream",
     "text": [
      "Final Portfolio Value: $188,035.03\n",
      "Total Return: 88.04%\n",
      "Sharpe Ratio: 0.36\n",
      "Max Drawdown: -35.14%\n",
      "\n",
      "Strategy Comparison Table:\n",
      "               Final Value  Return  Sharpe Ratio  Max Drawdown\n",
      "Frequency k                                                   \n",
      "weekly    0.5   57823.5503 -0.4218       -0.0842       -0.7000\n",
      "          1.0   90745.3289 -0.0925        0.0888       -0.6553\n",
      "          1.5  138156.7789  0.3816        0.2442       -0.6572\n",
      "monthly   0.5   74889.0599 -0.2511        0.0199       -0.7030\n",
      "          1.0   86727.6991 -0.1327        0.0799       -0.5810\n",
      "          1.5  247597.4193  1.4760        0.5299       -0.3920\n",
      "6month    0.5  124646.6941  0.2465        0.2120       -0.6799\n",
      "          1.0  226109.7830  1.2611        0.4426       -0.3514\n",
      "          1.5  188035.0348  0.8804        0.3596       -0.3514\n",
      "\n",
      "--- Evaluating ADP ---\n"
     ]
    },
    {
     "name": "stderr",
     "output_type": "stream",
     "text": [
      "[*********************100%***********************]  1 of 1 completed\n"
     ]
    },
    {
     "name": "stdout",
     "output_type": "stream",
     "text": [
      "\n",
      "Testing weekly frequency strategy with k=0.5 for ADP:\n",
      "Final Portfolio Value: $119,002.40\n",
      "Total Return: 19.00%\n",
      "Sharpe Ratio: 0.19\n",
      "Max Drawdown: -19.17%\n",
      "\n",
      "Testing weekly frequency strategy with k=1 for ADP:\n",
      "Final Portfolio Value: $165,597.16\n",
      "Total Return: 65.60%\n",
      "Sharpe Ratio: 0.40\n",
      "Max Drawdown: -13.64%\n",
      "\n",
      "Testing weekly frequency strategy with k=1.5 for ADP:\n",
      "Final Portfolio Value: $186,862.91\n",
      "Total Return: 86.86%\n",
      "Sharpe Ratio: 0.50\n",
      "Max Drawdown: -19.03%\n",
      "\n",
      "Testing monthly frequency strategy with k=0.5 for ADP:\n"
     ]
    },
    {
     "name": "stderr",
     "output_type": "stream",
     "text": [
      "C:\\Users\\Gautier Pellerin\\Documents\\Code\\AMP_Algorithmic_Trading\\strategies\\..\\strategies\\ratio_value.py:57: FutureWarning: 'M' is deprecated and will be removed in a future version, please use 'ME' instead.\n",
      "  return data.resample(freq).last().dropna()\n"
     ]
    },
    {
     "name": "stdout",
     "output_type": "stream",
     "text": [
      "Final Portfolio Value: $169,797.06\n",
      "Total Return: 69.80%\n",
      "Sharpe Ratio: 0.44\n",
      "Max Drawdown: -20.06%\n",
      "\n",
      "Testing monthly frequency strategy with k=1 for ADP:\n"
     ]
    },
    {
     "name": "stderr",
     "output_type": "stream",
     "text": [
      "C:\\Users\\Gautier Pellerin\\Documents\\Code\\AMP_Algorithmic_Trading\\strategies\\..\\strategies\\ratio_value.py:57: FutureWarning: 'M' is deprecated and will be removed in a future version, please use 'ME' instead.\n",
      "  return data.resample(freq).last().dropna()\n"
     ]
    },
    {
     "name": "stdout",
     "output_type": "stream",
     "text": [
      "Final Portfolio Value: $146,617.84\n",
      "Total Return: 46.62%\n",
      "Sharpe Ratio: 0.45\n",
      "Max Drawdown: -15.95%\n",
      "\n",
      "Testing monthly frequency strategy with k=1.5 for ADP:\n"
     ]
    },
    {
     "name": "stderr",
     "output_type": "stream",
     "text": [
      "C:\\Users\\Gautier Pellerin\\Documents\\Code\\AMP_Algorithmic_Trading\\strategies\\..\\strategies\\ratio_value.py:57: FutureWarning: 'M' is deprecated and will be removed in a future version, please use 'ME' instead.\n",
      "  return data.resample(freq).last().dropna()\n"
     ]
    },
    {
     "name": "stdout",
     "output_type": "stream",
     "text": [
      "Final Portfolio Value: $121,303.33\n",
      "Total Return: 21.30%\n",
      "Sharpe Ratio: 0.46\n",
      "Max Drawdown: -8.16%\n",
      "\n",
      "Testing 6month frequency strategy with k=0.5 for ADP:\n"
     ]
    },
    {
     "name": "stderr",
     "output_type": "stream",
     "text": [
      "C:\\Users\\Gautier Pellerin\\Documents\\Code\\AMP_Algorithmic_Trading\\strategies\\..\\strategies\\ratio_value.py:57: FutureWarning: 'M' is deprecated and will be removed in a future version, please use 'ME' instead.\n",
      "  return data.resample(freq).last().dropna()\n"
     ]
    },
    {
     "name": "stdout",
     "output_type": "stream",
     "text": [
      "Final Portfolio Value: $135,388.24\n",
      "Total Return: 35.39%\n",
      "Sharpe Ratio: 0.31\n",
      "Max Drawdown: -19.63%\n",
      "\n",
      "Testing 6month frequency strategy with k=1 for ADP:\n"
     ]
    },
    {
     "name": "stderr",
     "output_type": "stream",
     "text": [
      "C:\\Users\\Gautier Pellerin\\Documents\\Code\\AMP_Algorithmic_Trading\\strategies\\..\\strategies\\ratio_value.py:57: FutureWarning: 'M' is deprecated and will be removed in a future version, please use 'ME' instead.\n",
      "  return data.resample(freq).last().dropna()\n"
     ]
    },
    {
     "name": "stdout",
     "output_type": "stream",
     "text": [
      "Final Portfolio Value: $226,652.62\n",
      "Total Return: 126.65%\n",
      "Sharpe Ratio: 0.59\n",
      "Max Drawdown: -19.63%\n",
      "\n",
      "Testing 6month frequency strategy with k=1.5 for ADP:\n"
     ]
    },
    {
     "name": "stderr",
     "output_type": "stream",
     "text": [
      "C:\\Users\\Gautier Pellerin\\Documents\\Code\\AMP_Algorithmic_Trading\\strategies\\..\\strategies\\ratio_value.py:57: FutureWarning: 'M' is deprecated and will be removed in a future version, please use 'ME' instead.\n",
      "  return data.resample(freq).last().dropna()\n"
     ]
    },
    {
     "name": "stdout",
     "output_type": "stream",
     "text": [
      "Final Portfolio Value: $100,000.00\n",
      "Total Return: 0.00%\n",
      "Sharpe Ratio: nan\n",
      "Max Drawdown: 0.00%\n",
      "\n",
      "Strategy Comparison Table:\n",
      "               Final Value  Return  Sharpe Ratio  Max Drawdown\n",
      "Frequency k                                                   \n",
      "weekly    0.5  119002.3991  0.1900        0.1902       -0.1917\n",
      "          1.0  165597.1583  0.6560        0.4033       -0.1364\n",
      "          1.5  186862.9081  0.8686        0.4980       -0.1903\n",
      "monthly   0.5  169797.0627  0.6980        0.4437       -0.2006\n",
      "          1.0  146617.8357  0.4662        0.4461       -0.1595\n",
      "          1.5  121303.3336  0.2130        0.4621       -0.0816\n",
      "6month    0.5  135388.2375  0.3539        0.3058       -0.1963\n",
      "          1.0  226652.6182  1.2665        0.5854       -0.1963\n",
      "          1.5  100000.0000  0.0000           NaN        0.0000\n",
      "\n",
      "--- Evaluating ADSK ---\n"
     ]
    },
    {
     "name": "stderr",
     "output_type": "stream",
     "text": [
      "[*********************100%***********************]  1 of 1 completed\n"
     ]
    },
    {
     "name": "stdout",
     "output_type": "stream",
     "text": [
      "\n",
      "Testing weekly frequency strategy with k=0.5 for ADSK:\n",
      "Final Portfolio Value: $59,402.44\n",
      "Total Return: -40.60%\n",
      "Sharpe Ratio: -0.03\n",
      "Max Drawdown: -72.28%\n",
      "\n",
      "Testing weekly frequency strategy with k=1 for ADSK:\n",
      "Final Portfolio Value: $57,936.62\n",
      "Total Return: -42.06%\n",
      "Sharpe Ratio: -0.04\n",
      "Max Drawdown: -69.32%\n",
      "\n",
      "Testing weekly frequency strategy with k=1.5 for ADSK:\n",
      "Final Portfolio Value: $128,546.44\n",
      "Total Return: 28.55%\n",
      "Sharpe Ratio: 0.22\n",
      "Max Drawdown: -65.86%\n",
      "\n",
      "Testing monthly frequency strategy with k=0.5 for ADSK:\n"
     ]
    },
    {
     "name": "stderr",
     "output_type": "stream",
     "text": [
      "C:\\Users\\Gautier Pellerin\\Documents\\Code\\AMP_Algorithmic_Trading\\strategies\\..\\strategies\\ratio_value.py:57: FutureWarning: 'M' is deprecated and will be removed in a future version, please use 'ME' instead.\n",
      "  return data.resample(freq).last().dropna()\n"
     ]
    },
    {
     "name": "stdout",
     "output_type": "stream",
     "text": [
      "Final Portfolio Value: $52,286.47\n",
      "Total Return: -47.71%\n",
      "Sharpe Ratio: -0.05\n",
      "Max Drawdown: -76.91%\n",
      "\n",
      "Testing monthly frequency strategy with k=1 for ADSK:\n"
     ]
    },
    {
     "name": "stderr",
     "output_type": "stream",
     "text": [
      "C:\\Users\\Gautier Pellerin\\Documents\\Code\\AMP_Algorithmic_Trading\\strategies\\..\\strategies\\ratio_value.py:57: FutureWarning: 'M' is deprecated and will be removed in a future version, please use 'ME' instead.\n",
      "  return data.resample(freq).last().dropna()\n"
     ]
    },
    {
     "name": "stdout",
     "output_type": "stream",
     "text": [
      "Final Portfolio Value: $43,012.51\n",
      "Total Return: -56.99%\n",
      "Sharpe Ratio: -0.10\n",
      "Max Drawdown: -74.06%\n",
      "\n",
      "Testing monthly frequency strategy with k=1.5 for ADSK:\n"
     ]
    },
    {
     "name": "stderr",
     "output_type": "stream",
     "text": [
      "C:\\Users\\Gautier Pellerin\\Documents\\Code\\AMP_Algorithmic_Trading\\strategies\\..\\strategies\\ratio_value.py:57: FutureWarning: 'M' is deprecated and will be removed in a future version, please use 'ME' instead.\n",
      "  return data.resample(freq).last().dropna()\n"
     ]
    },
    {
     "name": "stdout",
     "output_type": "stream",
     "text": [
      "Final Portfolio Value: $58,006.25\n",
      "Total Return: -41.99%\n",
      "Sharpe Ratio: -0.01\n",
      "Max Drawdown: -74.05%\n",
      "\n",
      "Testing 6month frequency strategy with k=0.5 for ADSK:\n"
     ]
    },
    {
     "name": "stderr",
     "output_type": "stream",
     "text": [
      "C:\\Users\\Gautier Pellerin\\Documents\\Code\\AMP_Algorithmic_Trading\\strategies\\..\\strategies\\ratio_value.py:57: FutureWarning: 'M' is deprecated and will be removed in a future version, please use 'ME' instead.\n",
      "  return data.resample(freq).last().dropna()\n"
     ]
    },
    {
     "name": "stdout",
     "output_type": "stream",
     "text": [
      "Final Portfolio Value: $66,091.34\n",
      "Total Return: -33.91%\n",
      "Sharpe Ratio: 0.01\n",
      "Max Drawdown: -76.91%\n",
      "\n",
      "Testing 6month frequency strategy with k=1 for ADSK:\n"
     ]
    },
    {
     "name": "stderr",
     "output_type": "stream",
     "text": [
      "C:\\Users\\Gautier Pellerin\\Documents\\Code\\AMP_Algorithmic_Trading\\strategies\\..\\strategies\\ratio_value.py:57: FutureWarning: 'M' is deprecated and will be removed in a future version, please use 'ME' instead.\n",
      "  return data.resample(freq).last().dropna()\n"
     ]
    },
    {
     "name": "stdout",
     "output_type": "stream",
     "text": [
      "Final Portfolio Value: $117,458.91\n",
      "Total Return: 17.46%\n",
      "Sharpe Ratio: 0.20\n",
      "Max Drawdown: -76.91%\n",
      "\n",
      "Testing 6month frequency strategy with k=1.5 for ADSK:\n"
     ]
    },
    {
     "name": "stderr",
     "output_type": "stream",
     "text": [
      "C:\\Users\\Gautier Pellerin\\Documents\\Code\\AMP_Algorithmic_Trading\\strategies\\..\\strategies\\ratio_value.py:57: FutureWarning: 'M' is deprecated and will be removed in a future version, please use 'ME' instead.\n",
      "  return data.resample(freq).last().dropna()\n"
     ]
    },
    {
     "name": "stdout",
     "output_type": "stream",
     "text": [
      "Final Portfolio Value: $179,453.67\n",
      "Total Return: 79.45%\n",
      "Sharpe Ratio: 0.33\n",
      "Max Drawdown: -49.10%\n",
      "\n",
      "Strategy Comparison Table:\n",
      "               Final Value  Return  Sharpe Ratio  Max Drawdown\n",
      "Frequency k                                                   \n",
      "weekly    0.5   59402.4361 -0.4060       -0.0321       -0.7228\n",
      "          1.0   57936.6150 -0.4206       -0.0430       -0.6932\n",
      "          1.5  128546.4408  0.2855        0.2247       -0.6586\n",
      "monthly   0.5   52286.4704 -0.4771       -0.0457       -0.7691\n",
      "          1.0   43012.5088 -0.5699       -0.0970       -0.7406\n",
      "          1.5   58006.2514 -0.4199       -0.0060       -0.7405\n",
      "6month    0.5   66091.3426 -0.3391        0.0054       -0.7691\n",
      "          1.0  117458.9076  0.1746        0.1991       -0.7691\n",
      "          1.5  179453.6732  0.7945        0.3303       -0.4910\n",
      "\n",
      "--- Evaluating AEE ---\n"
     ]
    },
    {
     "name": "stderr",
     "output_type": "stream",
     "text": [
      "[*********************100%***********************]  1 of 1 completed\n"
     ]
    },
    {
     "name": "stdout",
     "output_type": "stream",
     "text": [
      "\n",
      "Testing weekly frequency strategy with k=0.5 for AEE:\n",
      "Final Portfolio Value: $73,220.91\n",
      "Total Return: -26.78%\n",
      "Sharpe Ratio: -0.09\n",
      "Max Drawdown: -51.16%\n",
      "\n",
      "Testing weekly frequency strategy with k=1 for AEE:\n",
      "Final Portfolio Value: $89,057.63\n",
      "Total Return: -10.94%\n",
      "Sharpe Ratio: 0.02\n",
      "Max Drawdown: -49.73%\n",
      "\n",
      "Testing weekly frequency strategy with k=1.5 for AEE:\n",
      "Final Portfolio Value: $152,820.63\n",
      "Total Return: 52.82%\n",
      "Sharpe Ratio: 0.31\n",
      "Max Drawdown: -46.08%\n",
      "\n",
      "Testing monthly frequency strategy with k=0.5 for AEE:\n"
     ]
    },
    {
     "name": "stderr",
     "output_type": "stream",
     "text": [
      "C:\\Users\\Gautier Pellerin\\Documents\\Code\\AMP_Algorithmic_Trading\\strategies\\..\\strategies\\ratio_value.py:57: FutureWarning: 'M' is deprecated and will be removed in a future version, please use 'ME' instead.\n",
      "  return data.resample(freq).last().dropna()\n"
     ]
    },
    {
     "name": "stdout",
     "output_type": "stream",
     "text": [
      "Final Portfolio Value: $104,819.89\n",
      "Total Return: 4.82%\n",
      "Sharpe Ratio: 0.11\n",
      "Max Drawdown: -55.69%\n",
      "\n",
      "Testing monthly frequency strategy with k=1 for AEE:\n"
     ]
    },
    {
     "name": "stderr",
     "output_type": "stream",
     "text": [
      "C:\\Users\\Gautier Pellerin\\Documents\\Code\\AMP_Algorithmic_Trading\\strategies\\..\\strategies\\ratio_value.py:57: FutureWarning: 'M' is deprecated and will be removed in a future version, please use 'ME' instead.\n",
      "  return data.resample(freq).last().dropna()\n"
     ]
    },
    {
     "name": "stdout",
     "output_type": "stream",
     "text": [
      "Final Portfolio Value: $86,985.48\n",
      "Total Return: -13.01%\n",
      "Sharpe Ratio: 0.01\n",
      "Max Drawdown: -55.69%\n",
      "\n",
      "Testing monthly frequency strategy with k=1.5 for AEE:\n"
     ]
    },
    {
     "name": "stderr",
     "output_type": "stream",
     "text": [
      "C:\\Users\\Gautier Pellerin\\Documents\\Code\\AMP_Algorithmic_Trading\\strategies\\..\\strategies\\ratio_value.py:57: FutureWarning: 'M' is deprecated and will be removed in a future version, please use 'ME' instead.\n",
      "  return data.resample(freq).last().dropna()\n"
     ]
    },
    {
     "name": "stdout",
     "output_type": "stream",
     "text": [
      "Final Portfolio Value: $71,414.47\n",
      "Total Return: -28.59%\n",
      "Sharpe Ratio: -0.11\n",
      "Max Drawdown: -55.69%\n",
      "\n",
      "Testing 6month frequency strategy with k=0.5 for AEE:\n"
     ]
    },
    {
     "name": "stderr",
     "output_type": "stream",
     "text": [
      "C:\\Users\\Gautier Pellerin\\Documents\\Code\\AMP_Algorithmic_Trading\\strategies\\..\\strategies\\ratio_value.py:57: FutureWarning: 'M' is deprecated and will be removed in a future version, please use 'ME' instead.\n",
      "  return data.resample(freq).last().dropna()\n"
     ]
    },
    {
     "name": "stdout",
     "output_type": "stream",
     "text": [
      "Final Portfolio Value: $75,929.81\n",
      "Total Return: -24.07%\n",
      "Sharpe Ratio: -0.08\n",
      "Max Drawdown: -51.59%\n",
      "\n",
      "Testing 6month frequency strategy with k=1 for AEE:\n"
     ]
    },
    {
     "name": "stderr",
     "output_type": "stream",
     "text": [
      "C:\\Users\\Gautier Pellerin\\Documents\\Code\\AMP_Algorithmic_Trading\\strategies\\..\\strategies\\ratio_value.py:57: FutureWarning: 'M' is deprecated and will be removed in a future version, please use 'ME' instead.\n",
      "  return data.resample(freq).last().dropna()\n"
     ]
    },
    {
     "name": "stdout",
     "output_type": "stream",
     "text": [
      "Final Portfolio Value: $75,929.81\n",
      "Total Return: -24.07%\n",
      "Sharpe Ratio: -0.08\n",
      "Max Drawdown: -51.59%\n",
      "\n",
      "Testing 6month frequency strategy with k=1.5 for AEE:\n"
     ]
    },
    {
     "name": "stderr",
     "output_type": "stream",
     "text": [
      "C:\\Users\\Gautier Pellerin\\Documents\\Code\\AMP_Algorithmic_Trading\\strategies\\..\\strategies\\ratio_value.py:57: FutureWarning: 'M' is deprecated and will be removed in a future version, please use 'ME' instead.\n",
      "  return data.resample(freq).last().dropna()\n"
     ]
    },
    {
     "name": "stdout",
     "output_type": "stream",
     "text": [
      "Final Portfolio Value: $156,729.56\n",
      "Total Return: 56.73%\n",
      "Sharpe Ratio: 0.35\n",
      "Max Drawdown: -42.36%\n",
      "\n",
      "Strategy Comparison Table:\n",
      "               Final Value  Return  Sharpe Ratio  Max Drawdown\n",
      "Frequency k                                                   \n",
      "weekly    0.5   73220.9137 -0.2678       -0.0889       -0.5116\n",
      "          1.0   89057.6339 -0.1094        0.0180       -0.4973\n",
      "          1.5  152820.6336  0.5282        0.3105       -0.4608\n",
      "monthly   0.5  104819.8868  0.0482        0.1137       -0.5569\n",
      "          1.0   86985.4824 -0.1301        0.0142       -0.5569\n",
      "          1.5   71414.4738 -0.2859       -0.1115       -0.5569\n",
      "6month    0.5   75929.8059 -0.2407       -0.0764       -0.5159\n",
      "          1.0   75929.8059 -0.2407       -0.0764       -0.5159\n",
      "          1.5  156729.5637  0.5673        0.3522       -0.4236\n",
      "\n",
      "--- Evaluating AEP ---\n"
     ]
    },
    {
     "name": "stderr",
     "output_type": "stream",
     "text": [
      "[*********************100%***********************]  1 of 1 completed\n"
     ]
    },
    {
     "name": "stdout",
     "output_type": "stream",
     "text": [
      "\n",
      "Testing weekly frequency strategy with k=0.5 for AEP:\n",
      "Final Portfolio Value: $100,000.00\n",
      "Total Return: 0.00%\n",
      "Sharpe Ratio: nan\n",
      "Max Drawdown: 0.00%\n",
      "\n",
      "Testing weekly frequency strategy with k=1 for AEP:\n",
      "Final Portfolio Value: $100,000.00\n",
      "Total Return: 0.00%\n",
      "Sharpe Ratio: nan\n",
      "Max Drawdown: 0.00%\n",
      "\n",
      "Testing weekly frequency strategy with k=1.5 for AEP:\n",
      "Final Portfolio Value: $100,000.00\n",
      "Total Return: 0.00%\n",
      "Sharpe Ratio: nan\n",
      "Max Drawdown: 0.00%\n",
      "\n",
      "Testing monthly frequency strategy with k=0.5 for AEP:\n"
     ]
    },
    {
     "name": "stderr",
     "output_type": "stream",
     "text": [
      "C:\\Users\\Gautier Pellerin\\Documents\\Code\\AMP_Algorithmic_Trading\\strategies\\..\\strategies\\ratio_value.py:57: FutureWarning: 'M' is deprecated and will be removed in a future version, please use 'ME' instead.\n",
      "  return data.resample(freq).last().dropna()\n"
     ]
    },
    {
     "name": "stdout",
     "output_type": "stream",
     "text": [
      "Final Portfolio Value: $100,000.00\n",
      "Total Return: 0.00%\n",
      "Sharpe Ratio: nan\n",
      "Max Drawdown: 0.00%\n",
      "\n",
      "Testing monthly frequency strategy with k=1 for AEP:\n"
     ]
    },
    {
     "name": "stderr",
     "output_type": "stream",
     "text": [
      "C:\\Users\\Gautier Pellerin\\Documents\\Code\\AMP_Algorithmic_Trading\\strategies\\..\\strategies\\ratio_value.py:57: FutureWarning: 'M' is deprecated and will be removed in a future version, please use 'ME' instead.\n",
      "  return data.resample(freq).last().dropna()\n"
     ]
    },
    {
     "name": "stdout",
     "output_type": "stream",
     "text": [
      "Final Portfolio Value: $100,000.00\n",
      "Total Return: 0.00%\n",
      "Sharpe Ratio: nan\n",
      "Max Drawdown: 0.00%\n",
      "\n",
      "Testing monthly frequency strategy with k=1.5 for AEP:\n"
     ]
    },
    {
     "name": "stderr",
     "output_type": "stream",
     "text": [
      "C:\\Users\\Gautier Pellerin\\Documents\\Code\\AMP_Algorithmic_Trading\\strategies\\..\\strategies\\ratio_value.py:57: FutureWarning: 'M' is deprecated and will be removed in a future version, please use 'ME' instead.\n",
      "  return data.resample(freq).last().dropna()\n"
     ]
    },
    {
     "name": "stdout",
     "output_type": "stream",
     "text": [
      "Final Portfolio Value: $100,000.00\n",
      "Total Return: 0.00%\n",
      "Sharpe Ratio: nan\n",
      "Max Drawdown: 0.00%\n",
      "\n",
      "Testing 6month frequency strategy with k=0.5 for AEP:\n"
     ]
    },
    {
     "name": "stderr",
     "output_type": "stream",
     "text": [
      "C:\\Users\\Gautier Pellerin\\Documents\\Code\\AMP_Algorithmic_Trading\\strategies\\..\\strategies\\ratio_value.py:57: FutureWarning: 'M' is deprecated and will be removed in a future version, please use 'ME' instead.\n",
      "  return data.resample(freq).last().dropna()\n"
     ]
    },
    {
     "name": "stdout",
     "output_type": "stream",
     "text": [
      "Final Portfolio Value: $100,000.00\n",
      "Total Return: 0.00%\n",
      "Sharpe Ratio: nan\n",
      "Max Drawdown: 0.00%\n",
      "\n",
      "Testing 6month frequency strategy with k=1 for AEP:\n"
     ]
    },
    {
     "name": "stderr",
     "output_type": "stream",
     "text": [
      "C:\\Users\\Gautier Pellerin\\Documents\\Code\\AMP_Algorithmic_Trading\\strategies\\..\\strategies\\ratio_value.py:57: FutureWarning: 'M' is deprecated and will be removed in a future version, please use 'ME' instead.\n",
      "  return data.resample(freq).last().dropna()\n"
     ]
    },
    {
     "name": "stdout",
     "output_type": "stream",
     "text": [
      "Final Portfolio Value: $100,000.00\n",
      "Total Return: 0.00%\n",
      "Sharpe Ratio: nan\n",
      "Max Drawdown: 0.00%\n",
      "\n",
      "Testing 6month frequency strategy with k=1.5 for AEP:\n"
     ]
    },
    {
     "name": "stderr",
     "output_type": "stream",
     "text": [
      "C:\\Users\\Gautier Pellerin\\Documents\\Code\\AMP_Algorithmic_Trading\\strategies\\..\\strategies\\ratio_value.py:57: FutureWarning: 'M' is deprecated and will be removed in a future version, please use 'ME' instead.\n",
      "  return data.resample(freq).last().dropna()\n"
     ]
    },
    {
     "name": "stdout",
     "output_type": "stream",
     "text": [
      "Final Portfolio Value: $100,000.00\n",
      "Total Return: 0.00%\n",
      "Sharpe Ratio: nan\n",
      "Max Drawdown: 0.00%\n"
     ]
    },
    {
     "name": "stderr",
     "output_type": "stream",
     "text": [
      "C:\\Users\\Gautier Pellerin\\AppData\\Local\\Temp\\ipykernel_10944\\2797192504.py:70: FutureWarning: The behavior of Series.idxmax with all-NA values, or any-NA and skipna=False, is deprecated. In a future version this will raise ValueError\n",
      "  best_idx = comparison['Sharpe Ratio'].idxmax()\n"
     ]
    },
    {
     "ename": "KeyError",
     "evalue": "nan",
     "output_type": "error",
     "traceback": [
      "\u001b[1;31m---------------------------------------------------------------------------\u001b[0m",
      "\u001b[1;31mKeyError\u001b[0m                                  Traceback (most recent call last)",
      "Cell \u001b[1;32mIn[2], line 71\u001b[0m\n\u001b[0;32m     69\u001b[0m \u001b[38;5;66;03m# Find best combo based on Sharpe Ratio\u001b[39;00m\n\u001b[0;32m     70\u001b[0m best_idx \u001b[38;5;241m=\u001b[39m comparison[\u001b[38;5;124m'\u001b[39m\u001b[38;5;124mSharpe Ratio\u001b[39m\u001b[38;5;124m'\u001b[39m]\u001b[38;5;241m.\u001b[39midxmax()\n\u001b[1;32m---> 71\u001b[0m best_row \u001b[38;5;241m=\u001b[39m comparison\u001b[38;5;241m.\u001b[39mloc[best_idx]\n\u001b[0;32m     72\u001b[0m best_params\u001b[38;5;241m.\u001b[39mappend({\n\u001b[0;32m     73\u001b[0m     \u001b[38;5;124m'\u001b[39m\u001b[38;5;124mTicker\u001b[39m\u001b[38;5;124m'\u001b[39m: ticker,\n\u001b[0;32m     74\u001b[0m     \u001b[38;5;124m'\u001b[39m\u001b[38;5;124mBest Frequency\u001b[39m\u001b[38;5;124m'\u001b[39m: best_idx[\u001b[38;5;241m0\u001b[39m],\n\u001b[1;32m   (...)\u001b[0m\n\u001b[0;32m     79\u001b[0m     \u001b[38;5;124m'\u001b[39m\u001b[38;5;124mMax Drawdown\u001b[39m\u001b[38;5;124m'\u001b[39m: best_row[\u001b[38;5;124m'\u001b[39m\u001b[38;5;124mMax Drawdown\u001b[39m\u001b[38;5;124m'\u001b[39m]\n\u001b[0;32m     80\u001b[0m })\n\u001b[0;32m     82\u001b[0m \u001b[38;5;66;03m# Optionally show per-stock comparison table\u001b[39;00m\n",
      "File \u001b[1;32m~\\anaconda3\\Lib\\site-packages\\pandas\\core\\indexing.py:1191\u001b[0m, in \u001b[0;36m_LocationIndexer.__getitem__\u001b[1;34m(self, key)\u001b[0m\n\u001b[0;32m   1189\u001b[0m maybe_callable \u001b[38;5;241m=\u001b[39m com\u001b[38;5;241m.\u001b[39mapply_if_callable(key, \u001b[38;5;28mself\u001b[39m\u001b[38;5;241m.\u001b[39mobj)\n\u001b[0;32m   1190\u001b[0m maybe_callable \u001b[38;5;241m=\u001b[39m \u001b[38;5;28mself\u001b[39m\u001b[38;5;241m.\u001b[39m_check_deprecated_callable_usage(key, maybe_callable)\n\u001b[1;32m-> 1191\u001b[0m \u001b[38;5;28;01mreturn\u001b[39;00m \u001b[38;5;28mself\u001b[39m\u001b[38;5;241m.\u001b[39m_getitem_axis(maybe_callable, axis\u001b[38;5;241m=\u001b[39maxis)\n",
      "File \u001b[1;32m~\\anaconda3\\Lib\\site-packages\\pandas\\core\\indexing.py:1431\u001b[0m, in \u001b[0;36m_LocIndexer._getitem_axis\u001b[1;34m(self, key, axis)\u001b[0m\n\u001b[0;32m   1429\u001b[0m \u001b[38;5;66;03m# fall thru to straight lookup\u001b[39;00m\n\u001b[0;32m   1430\u001b[0m \u001b[38;5;28mself\u001b[39m\u001b[38;5;241m.\u001b[39m_validate_key(key, axis)\n\u001b[1;32m-> 1431\u001b[0m \u001b[38;5;28;01mreturn\u001b[39;00m \u001b[38;5;28mself\u001b[39m\u001b[38;5;241m.\u001b[39m_get_label(key, axis\u001b[38;5;241m=\u001b[39maxis)\n",
      "File \u001b[1;32m~\\anaconda3\\Lib\\site-packages\\pandas\\core\\indexing.py:1381\u001b[0m, in \u001b[0;36m_LocIndexer._get_label\u001b[1;34m(self, label, axis)\u001b[0m\n\u001b[0;32m   1379\u001b[0m \u001b[38;5;28;01mdef\u001b[39;00m \u001b[38;5;21m_get_label\u001b[39m(\u001b[38;5;28mself\u001b[39m, label, axis: AxisInt):\n\u001b[0;32m   1380\u001b[0m     \u001b[38;5;66;03m# GH#5567 this will fail if the label is not present in the axis.\u001b[39;00m\n\u001b[1;32m-> 1381\u001b[0m     \u001b[38;5;28;01mreturn\u001b[39;00m \u001b[38;5;28mself\u001b[39m\u001b[38;5;241m.\u001b[39mobj\u001b[38;5;241m.\u001b[39mxs(label, axis\u001b[38;5;241m=\u001b[39maxis)\n",
      "File \u001b[1;32m~\\anaconda3\\Lib\\site-packages\\pandas\\core\\generic.py:4293\u001b[0m, in \u001b[0;36mNDFrame.xs\u001b[1;34m(self, key, axis, level, drop_level)\u001b[0m\n\u001b[0;32m   4290\u001b[0m     index \u001b[38;5;241m=\u001b[39m \u001b[38;5;28mself\u001b[39m\u001b[38;5;241m.\u001b[39mindex\n\u001b[0;32m   4292\u001b[0m \u001b[38;5;28;01mif\u001b[39;00m \u001b[38;5;28misinstance\u001b[39m(index, MultiIndex):\n\u001b[1;32m-> 4293\u001b[0m     loc, new_index \u001b[38;5;241m=\u001b[39m index\u001b[38;5;241m.\u001b[39m_get_loc_level(key, level\u001b[38;5;241m=\u001b[39m\u001b[38;5;241m0\u001b[39m)\n\u001b[0;32m   4294\u001b[0m     \u001b[38;5;28;01mif\u001b[39;00m \u001b[38;5;129;01mnot\u001b[39;00m drop_level:\n\u001b[0;32m   4295\u001b[0m         \u001b[38;5;28;01mif\u001b[39;00m lib\u001b[38;5;241m.\u001b[39mis_integer(loc):\n\u001b[0;32m   4296\u001b[0m             \u001b[38;5;66;03m# Slice index must be an integer or None\u001b[39;00m\n",
      "File \u001b[1;32m~\\anaconda3\\Lib\\site-packages\\pandas\\core\\indexes\\multi.py:3290\u001b[0m, in \u001b[0;36mMultiIndex._get_loc_level\u001b[1;34m(self, key, level)\u001b[0m\n\u001b[0;32m   3288\u001b[0m         \u001b[38;5;28;01mreturn\u001b[39;00m indexer, maybe_mi_droplevels(indexer, ilevels)\n\u001b[0;32m   3289\u001b[0m \u001b[38;5;28;01melse\u001b[39;00m:\n\u001b[1;32m-> 3290\u001b[0m     indexer \u001b[38;5;241m=\u001b[39m \u001b[38;5;28mself\u001b[39m\u001b[38;5;241m.\u001b[39m_get_level_indexer(key, level\u001b[38;5;241m=\u001b[39mlevel)\n\u001b[0;32m   3291\u001b[0m     \u001b[38;5;28;01mif\u001b[39;00m (\n\u001b[0;32m   3292\u001b[0m         \u001b[38;5;28misinstance\u001b[39m(key, \u001b[38;5;28mstr\u001b[39m)\n\u001b[0;32m   3293\u001b[0m         \u001b[38;5;129;01mand\u001b[39;00m \u001b[38;5;28mself\u001b[39m\u001b[38;5;241m.\u001b[39mlevels[level]\u001b[38;5;241m.\u001b[39m_supports_partial_string_indexing\n\u001b[0;32m   3294\u001b[0m     ):\n\u001b[0;32m   3295\u001b[0m         \u001b[38;5;66;03m# check to see if we did an exact lookup vs sliced\u001b[39;00m\n\u001b[0;32m   3296\u001b[0m         check \u001b[38;5;241m=\u001b[39m \u001b[38;5;28mself\u001b[39m\u001b[38;5;241m.\u001b[39mlevels[level]\u001b[38;5;241m.\u001b[39mget_loc(key)\n",
      "File \u001b[1;32m~\\anaconda3\\Lib\\site-packages\\pandas\\core\\indexes\\multi.py:3418\u001b[0m, in \u001b[0;36mMultiIndex._get_level_indexer\u001b[1;34m(self, key, level, indexer)\u001b[0m\n\u001b[0;32m   3414\u001b[0m     end \u001b[38;5;241m=\u001b[39m algos\u001b[38;5;241m.\u001b[39msearchsorted(level_codes, idx, side\u001b[38;5;241m=\u001b[39m\u001b[38;5;124m\"\u001b[39m\u001b[38;5;124mright\u001b[39m\u001b[38;5;124m\"\u001b[39m)\n\u001b[0;32m   3416\u001b[0m \u001b[38;5;28;01mif\u001b[39;00m start \u001b[38;5;241m==\u001b[39m end:\n\u001b[0;32m   3417\u001b[0m     \u001b[38;5;66;03m# The label is present in self.levels[level] but unused:\u001b[39;00m\n\u001b[1;32m-> 3418\u001b[0m     \u001b[38;5;28;01mraise\u001b[39;00m \u001b[38;5;167;01mKeyError\u001b[39;00m(key)\n\u001b[0;32m   3419\u001b[0m \u001b[38;5;28;01mreturn\u001b[39;00m \u001b[38;5;28mslice\u001b[39m(start, end)\n",
      "\u001b[1;31mKeyError\u001b[0m: nan"
     ]
    }
   ],
   "source": [
    "import pandas as pd\n",
    "\n",
    "# Define tickers and parameter grid\n",
    "tickers = [\n",
    "    \"AAPL\", \"ABT\", \"ADI\", \"ADM\", \"ADP\", \"ADSK\", \"AEE\", \"AEP\", \"AJG\", \"AKAM\",\n",
    "    \"ALB\", \"AMAT\", \"AMD\", \"AME\", \"AMGN\", \"AMT\", \"AMZN\", \"AON\", \"AOS\", \"APA\",\n",
    "    \"APD\", \"APH\", \"ARE\", \"AVB\", \"AVY\", \"AXP\", \"AZO\", \"BA\", \"BAC\", \"BAX\",\n",
    "    \"BBY\", \"BDX\", \"BEN\", \"BIIB\", \"BK\", \"BLK\", \"BMY\", \"BSX\", \"BXP\", \"C\",\n",
    "    \"CAG\", \"CAH\", \"CAT\", \"CB\", \"CCI\", \"CDNS\", \"CHD\", \"CHRW\", \"CINF\", \"CL\",\n",
    "    \"CLX\", \"CMI\", \"CNP\", \"COO\", \"COP\", \"COST\", \"CPB\", \"CPRT\", \"CSCO\", \"CTAS\",\n",
    "    \"CTSH\", \"D\", \"DE\", \"DGX\", \"DHI\", \"DIS\", \"DLTR\", \"DOV\", \"DRI\", \"DTE\",\n",
    "    \"DVA\", \"EA\", \"EBAY\", \"ECL\", \"ED\", \"EFX\", \"EIX\", \"EL\", \"EMN\", \"EMR\",\n",
    "    \"EOG\", \"EQR\", \"ES\", \"ESS\", \"F\", \"FAST\", \"FCX\", \"FDX\", \"FE\", \"FFIV\",\n",
    "    \"FITB\", \"FRT\", \"GD\", \"GE\", \"GILD\", \"GIS\", \"GPC\", \"GWW\", \"HAL\", \"HAS\"\n",
    "] # Add more tickers as needed\n",
    "frequencies = ['weekly', 'monthly', '6month']\n",
    "K = [0.5, 1, 1.5]\n",
    "\n",
    "# Initialize final results container\n",
    "all_results = {}\n",
    "best_params = []\n",
    "\n",
    "# Loop over each ticker\n",
    "for ticker in tickers:\n",
    "    print(f\"\\n--- Evaluating {ticker} ---\")\n",
    "\n",
    "    # Initialize data\n",
    "    data_handler = DataHandler(ticker=ticker, start_date='2004-12-12', end_date='2015-12-12')\n",
    "    prices = data_handler.fetch_data()\n",
    "    pb_series = data_handler.fetch_pe_series('../data/PE RATIO.xlsx')\n",
    "\n",
    "    results = {}\n",
    "\n",
    "    # Loop over each frequency and threshold\n",
    "    for freq in frequencies:\n",
    "        results[freq] = {}\n",
    "        for thresh in K:\n",
    "            print(f\"\\nTesting {freq} frequency strategy with k={thresh} for {ticker}:\")\n",
    "\n",
    "            # Initialize strategy\n",
    "            strategy = RatioValueStrategy(pb_series, \"PE\", window=5, k=thresh, frequency=freq)\n",
    "\n",
    "            # Run backtest\n",
    "            backtest = Backtest(\n",
    "                data=prices,\n",
    "                strategy=strategy,\n",
    "                plot_results=False\n",
    "            )\n",
    "\n",
    "            # Store results\n",
    "            result = backtest.run()\n",
    "            results[freq][thresh] = result\n",
    "\n",
    "            # Print metrics\n",
    "            print(f\"Final Portfolio Value: ${result['Final Value']:,.2f}\")\n",
    "            print(f\"Total Return: {result['Return']:.2%}\")\n",
    "            print(f\"Sharpe Ratio: {result['Sharpe Ratio']:.2f}\")\n",
    "            print(f\"Max Drawdown: {result['Max Drawdown']:.2%}\")\n",
    "\n",
    "    # Save all results for this ticker\n",
    "    all_results[ticker] = results\n",
    "\n",
    "    # Flatten and create comparison DataFrame\n",
    "    comparison = pd.concat({\n",
    "        freq: pd.DataFrame.from_dict(results[freq], orient='index')\n",
    "        for freq in frequencies\n",
    "    }, names=['Frequency', 'k'])\n",
    "\n",
    "    # Find best combo based on Sharpe Ratio\n",
    "    best_idx = comparison['Sharpe Ratio'].idxmax()\n",
    "    best_row = comparison.loc[best_idx]\n",
    "    best_params.append({\n",
    "        'Ticker': ticker,\n",
    "        'Best Frequency': best_idx[0],\n",
    "        'Best k': best_idx[1],\n",
    "        'Sharpe Ratio': best_row['Sharpe Ratio'],\n",
    "        'Total Return': best_row['Return'],\n",
    "        'Final Value': best_row['Final Value'],\n",
    "        'Max Drawdown': best_row['Max Drawdown']\n",
    "    })\n",
    "\n",
    "    # Optionally show per-stock comparison table\n",
    "    print(\"\\nStrategy Comparison Table:\")\n",
    "    print(comparison.round(4))\n",
    "\n",
    "# Convert best parameter summary to DataFrame\n",
    "best_params_df = pd.DataFrame(best_params)\n",
    "print(\"\\n=== Summary of Best Parameters by Ticker ===\")\n",
    "print(best_params_df.round(4))\n"
   ]
  },
  {
   "cell_type": "code",
   "execution_count": null,
   "id": "db071819-e316-4d23-907c-6620f49d74e9",
   "metadata": {},
   "outputs": [],
   "source": [
    "# Get the top 2 most frequent (frequency, k) combinations\n",
    "top_combinations = (\n",
    "    best_params_df[['Best Frequency', 'Best k']]\n",
    "    .value_counts()\n",
    "    .head(2)\n",
    ")\n",
    "\n",
    "# Display them\n",
    "print(\"\\n✅ Top 2 most common parameter combinations across tickers:\")\n",
    "for i, ((freq, k), count) in enumerate(top_combinations.items(), start=1):\n",
    "    print(f\"{i}. Frequency: {freq}, k: {k} (appears {count} times)\")\n"
   ]
  },
  {
   "cell_type": "code",
   "execution_count": null,
   "id": "b4f0fa0e-e65e-44d8-a72b-2cdf30e769bb",
   "metadata": {},
   "outputs": [],
   "source": []
  }
 ],
 "metadata": {
  "kernelspec": {
   "display_name": "Python 3 (ipykernel)",
   "language": "python",
   "name": "python3"
  },
  "language_info": {
   "codemirror_mode": {
    "name": "ipython",
    "version": 3
   },
   "file_extension": ".py",
   "mimetype": "text/x-python",
   "name": "python",
   "nbconvert_exporter": "python",
   "pygments_lexer": "ipython3",
   "version": "3.11.7"
  }
 },
 "nbformat": 4,
 "nbformat_minor": 5
}
