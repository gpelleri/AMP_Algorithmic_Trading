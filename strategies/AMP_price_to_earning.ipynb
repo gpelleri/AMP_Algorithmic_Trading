{
 "cells": [
  {
   "cell_type": "code",
   "execution_count": 1,
   "id": "d563a221-4ac1-42d0-8283-e1790f10355e",
   "metadata": {
    "tags": []
   },
   "outputs": [],
   "source": [
    "import yfinance as yf\n",
    "import pandas as pd\n",
    "import numpy as np\n",
    "import matplotlib.pyplot as plt\n",
    "import os"
   ]
  },
  {
   "cell_type": "code",
   "execution_count": 2,
   "id": "85832a5d-6ccf-46ff-82f1-8bec23cf293e",
   "metadata": {
    "tags": []
   },
   "outputs": [
    {
     "ename": "FileNotFoundError",
     "evalue": "[Errno 2] No such file or directory: 'C:\\\\Users\\\\Gautier Pellerin\\\\Documents\\\\Code\\\\AMP_Algorithmic_Trading\\\\strategies\\\\pe_ratio.xlsx'",
     "output_type": "error",
     "traceback": [
      "\u001b[1;31m---------------------------------------------------------------------------\u001b[0m",
      "\u001b[1;31mFileNotFoundError\u001b[0m                         Traceback (most recent call last)",
      "Cell \u001b[1;32mIn[2], line 7\u001b[0m\n\u001b[0;32m      4\u001b[0m file_path \u001b[38;5;241m=\u001b[39m os\u001b[38;5;241m.\u001b[39mpath\u001b[38;5;241m.\u001b[39mjoin(current_dir, file_name)\n\u001b[0;32m      6\u001b[0m \u001b[38;5;66;03m# Load the Excel file and sheet\u001b[39;00m\n\u001b[1;32m----> 7\u001b[0m xls \u001b[38;5;241m=\u001b[39m pd\u001b[38;5;241m.\u001b[39mExcelFile(file_path)\n\u001b[0;32m      8\u001b[0m df_pe \u001b[38;5;241m=\u001b[39m pd\u001b[38;5;241m.\u001b[39mread_excel(xls, sheet_name\u001b[38;5;241m=\u001b[39m\u001b[38;5;124m\"\u001b[39m\u001b[38;5;124mPE_ratio_hist\u001b[39m\u001b[38;5;124m\"\u001b[39m)  \u001b[38;5;66;03m# Adjust if the sheet name changes\u001b[39;00m\n\u001b[0;32m     10\u001b[0m \u001b[38;5;66;03m# Ensure datetime index is set properly\u001b[39;00m\n",
      "File \u001b[1;32m~\\anaconda3\\Lib\\site-packages\\pandas\\io\\excel\\_base.py:1550\u001b[0m, in \u001b[0;36mExcelFile.__init__\u001b[1;34m(self, path_or_buffer, engine, storage_options, engine_kwargs)\u001b[0m\n\u001b[0;32m   1548\u001b[0m     ext \u001b[38;5;241m=\u001b[39m \u001b[38;5;124m\"\u001b[39m\u001b[38;5;124mxls\u001b[39m\u001b[38;5;124m\"\u001b[39m\n\u001b[0;32m   1549\u001b[0m \u001b[38;5;28;01melse\u001b[39;00m:\n\u001b[1;32m-> 1550\u001b[0m     ext \u001b[38;5;241m=\u001b[39m inspect_excel_format(\n\u001b[0;32m   1551\u001b[0m         content_or_path\u001b[38;5;241m=\u001b[39mpath_or_buffer, storage_options\u001b[38;5;241m=\u001b[39mstorage_options\n\u001b[0;32m   1552\u001b[0m     )\n\u001b[0;32m   1553\u001b[0m     \u001b[38;5;28;01mif\u001b[39;00m ext \u001b[38;5;129;01mis\u001b[39;00m \u001b[38;5;28;01mNone\u001b[39;00m:\n\u001b[0;32m   1554\u001b[0m         \u001b[38;5;28;01mraise\u001b[39;00m \u001b[38;5;167;01mValueError\u001b[39;00m(\n\u001b[0;32m   1555\u001b[0m             \u001b[38;5;124m\"\u001b[39m\u001b[38;5;124mExcel file format cannot be determined, you must specify \u001b[39m\u001b[38;5;124m\"\u001b[39m\n\u001b[0;32m   1556\u001b[0m             \u001b[38;5;124m\"\u001b[39m\u001b[38;5;124man engine manually.\u001b[39m\u001b[38;5;124m\"\u001b[39m\n\u001b[0;32m   1557\u001b[0m         )\n",
      "File \u001b[1;32m~\\anaconda3\\Lib\\site-packages\\pandas\\io\\excel\\_base.py:1402\u001b[0m, in \u001b[0;36minspect_excel_format\u001b[1;34m(content_or_path, storage_options)\u001b[0m\n\u001b[0;32m   1399\u001b[0m \u001b[38;5;28;01mif\u001b[39;00m \u001b[38;5;28misinstance\u001b[39m(content_or_path, \u001b[38;5;28mbytes\u001b[39m):\n\u001b[0;32m   1400\u001b[0m     content_or_path \u001b[38;5;241m=\u001b[39m BytesIO(content_or_path)\n\u001b[1;32m-> 1402\u001b[0m \u001b[38;5;28;01mwith\u001b[39;00m get_handle(\n\u001b[0;32m   1403\u001b[0m     content_or_path, \u001b[38;5;124m\"\u001b[39m\u001b[38;5;124mrb\u001b[39m\u001b[38;5;124m\"\u001b[39m, storage_options\u001b[38;5;241m=\u001b[39mstorage_options, is_text\u001b[38;5;241m=\u001b[39m\u001b[38;5;28;01mFalse\u001b[39;00m\n\u001b[0;32m   1404\u001b[0m ) \u001b[38;5;28;01mas\u001b[39;00m handle:\n\u001b[0;32m   1405\u001b[0m     stream \u001b[38;5;241m=\u001b[39m handle\u001b[38;5;241m.\u001b[39mhandle\n\u001b[0;32m   1406\u001b[0m     stream\u001b[38;5;241m.\u001b[39mseek(\u001b[38;5;241m0\u001b[39m)\n",
      "File \u001b[1;32m~\\anaconda3\\Lib\\site-packages\\pandas\\io\\common.py:882\u001b[0m, in \u001b[0;36mget_handle\u001b[1;34m(path_or_buf, mode, encoding, compression, memory_map, is_text, errors, storage_options)\u001b[0m\n\u001b[0;32m    873\u001b[0m         handle \u001b[38;5;241m=\u001b[39m \u001b[38;5;28mopen\u001b[39m(\n\u001b[0;32m    874\u001b[0m             handle,\n\u001b[0;32m    875\u001b[0m             ioargs\u001b[38;5;241m.\u001b[39mmode,\n\u001b[1;32m   (...)\u001b[0m\n\u001b[0;32m    878\u001b[0m             newline\u001b[38;5;241m=\u001b[39m\u001b[38;5;124m\"\u001b[39m\u001b[38;5;124m\"\u001b[39m,\n\u001b[0;32m    879\u001b[0m         )\n\u001b[0;32m    880\u001b[0m     \u001b[38;5;28;01melse\u001b[39;00m:\n\u001b[0;32m    881\u001b[0m         \u001b[38;5;66;03m# Binary mode\u001b[39;00m\n\u001b[1;32m--> 882\u001b[0m         handle \u001b[38;5;241m=\u001b[39m \u001b[38;5;28mopen\u001b[39m(handle, ioargs\u001b[38;5;241m.\u001b[39mmode)\n\u001b[0;32m    883\u001b[0m     handles\u001b[38;5;241m.\u001b[39mappend(handle)\n\u001b[0;32m    885\u001b[0m \u001b[38;5;66;03m# Convert BytesIO or file objects passed with an encoding\u001b[39;00m\n",
      "\u001b[1;31mFileNotFoundError\u001b[0m: [Errno 2] No such file or directory: 'C:\\\\Users\\\\Gautier Pellerin\\\\Documents\\\\Code\\\\AMP_Algorithmic_Trading\\\\strategies\\\\pe_ratio.xlsx'"
     ]
    }
   ],
   "source": [
    "file_name = \"pe_ratio.xlsx\"\n",
    "\n",
    "current_dir = os.getcwd()  # Gets the directory where this script/notebook is run\n",
    "file_path = os.path.join(current_dir, file_name)\n",
    "\n",
    "# Load the Excel file and sheet\n",
    "xls = pd.ExcelFile(file_path)\n",
    "df_pe = pd.read_excel(xls, sheet_name=\"PE_ratio_hist\")  # Adjust if the sheet name changes\n",
    "\n",
    "# Ensure datetime index is set properly\n",
    "df_pe['Dates'] = pd.to_datetime(df_pe['Dates'], errors='coerce')\n",
    "df_pe.set_index('Dates', inplace=True)\n",
    "\n",
    "# Preview the DataFrame\n",
    "df_pe.head()"
   ]
  },
  {
   "cell_type": "code",
   "execution_count": null,
   "id": "98de806f-06b0-4a48-a007-adfa05ecaf2f",
   "metadata": {
    "tags": []
   },
   "outputs": [],
   "source": [
    "#Extracting Apple P/E\n",
    "pe_aapl = df_pe[['AAPL UW Equity']].dropna()\n",
    "pe_aapl = pe_aapl.rename(columns={'AAPL UW Equity': 'PE_Ratio'})"
   ]
  },
  {
   "cell_type": "code",
   "execution_count": null,
   "id": "2645dabd-ec88-49f7-9856-27443dd90f8b",
   "metadata": {
    "tags": []
   },
   "outputs": [],
   "source": [
    "#Weekly data to ensure comparability as in the dummy strategy\n",
    "pe_aapl_weekly = pe_aapl.resample('W-FRI').last()"
   ]
  },
  {
   "cell_type": "code",
   "execution_count": null,
   "id": "fb42ed85-c373-4bef-bbc1-3fb610dd56dd",
   "metadata": {
    "tags": []
   },
   "outputs": [],
   "source": [
    "#Compare range as in the dummy strategy\n",
    "pe_aapl_weekly= pe_aapl_weekly.loc['2014-12-12':'2016-12-12']"
   ]
  },
  {
   "cell_type": "code",
   "execution_count": null,
   "id": "724e0416-d7f6-4266-9d92-ddcde70f14ad",
   "metadata": {
    "tags": []
   },
   "outputs": [],
   "source": [
    "#Calculating Mean Over the reference Range\n",
    "pe_value_mean = pe_aapl_weekly.mean()"
   ]
  },
  {
   "cell_type": "code",
   "execution_count": null,
   "id": "2013ecc2-ff73-400b-967f-5ca8ec999cc2",
   "metadata": {
    "tags": []
   },
   "outputs": [],
   "source": [
    "default_std = pe_aapl_weekly.std()"
   ]
  },
  {
   "cell_type": "code",
   "execution_count": null,
   "id": "35708272-a34a-4830-b455-cbe94cbaac3c",
   "metadata": {
    "tags": []
   },
   "outputs": [],
   "source": [
    "def generate_signals(pe_series, window, k, pe_value=pe_value_mean, default_std=default_std):\n",
    "    # 1. Rolling stats\n",
    "    rolling_mean = pe_series.rolling(window=window).mean()\n",
    "    rolling_std = pe_series.rolling(window=window).std()\n",
    "\n",
    "    # 2. Fill missing values with default assumptions\n",
    "    rolling_mean_filled = rolling_mean.fillna(pe_value)\n",
    "    rolling_std_filled = rolling_std.fillna(default_std)\n",
    "\n",
    "    # 3. Create upper/lower bands\n",
    "    upper_band = rolling_mean_filled + k * rolling_std_filled\n",
    "    lower_band = rolling_mean_filled - k * rolling_std_filled\n",
    "\n",
    "    # 4. Generate trading signals\n",
    "    signals = pd.Series(0, index=pe_series.index)\n",
    "    signals[pe_series < lower_band] = 1   # Long\n",
    "    signals[pe_series > upper_band] = -1  # Short\n",
    "\n",
    "    # 5. Return filled values (used for plotting) and signals\n",
    "    return signals, rolling_mean_filled, upper_band, lower_band"
   ]
  },
  {
   "cell_type": "code",
   "execution_count": null,
   "id": "bdd72eb1-7a76-4a7c-b9a7-4bc24be23b29",
   "metadata": {
    "tags": []
   },
   "outputs": [],
   "source": [
    "signals, rolling_mean, upper_band, lower_band = generate_signals(\n",
    "    pe_aapl_weekly[\"PE_Ratio\"], window=5, k=0.5\n",
    ")"
   ]
  },
  {
   "cell_type": "code",
   "execution_count": null,
   "id": "cab0db1e-d516-4712-a208-9e3b38b05db5",
   "metadata": {
    "tags": []
   },
   "outputs": [],
   "source": [
    "def get_weekly_prices(ticker, start, end):\n",
    "    data = yf.download(ticker, start=start, end=end)  # auto_adjust=True is default\n",
    "    data.index = pd.to_datetime(data.index)\n",
    "    weekly_prices = data['Close'].resample('W-FRI').last()\n",
    "    return weekly_prices.dropna()"
   ]
  },
  {
   "cell_type": "code",
   "execution_count": null,
   "id": "c7aa415c-6b57-41d2-8807-7d13cc39204f",
   "metadata": {
    "tags": []
   },
   "outputs": [],
   "source": [
    "TICKER = \"AAPL\"\n",
    "START_DATE = \"2014-12-12\"\n",
    "END_DATE = \"2016-12-12\""
   ]
  },
  {
   "cell_type": "code",
   "execution_count": null,
   "id": "72358e22-4d08-47c0-aa27-c9c085eca1f3",
   "metadata": {
    "tags": []
   },
   "outputs": [],
   "source": [
    "weekly_prices=get_weekly_prices(TICKER, START_DATE,END_DATE)\n",
    "weekly_prices.head(5)"
   ]
  },
  {
   "cell_type": "code",
   "execution_count": null,
   "id": "8065cf61-5cca-459e-ae92-1848cb0bdf60",
   "metadata": {
    "tags": []
   },
   "outputs": [],
   "source": [
    "returns = weekly_prices.pct_change().fillna(0)"
   ]
  },
  {
   "cell_type": "code",
   "execution_count": null,
   "id": "8f82caf2-9e94-4355-82db-8298a68f8adf",
   "metadata": {
    "tags": []
   },
   "outputs": [],
   "source": [
    "#Ensuring it will be 1 DImensional\n",
    "if isinstance(returns, pd.DataFrame):\n",
    "    returns = returns['AAPL']"
   ]
  },
  {
   "cell_type": "code",
   "execution_count": null,
   "id": "e4bebd7f-c9f5-4e53-b681-e0a3c7fcb473",
   "metadata": {
    "tags": []
   },
   "outputs": [],
   "source": [
    "strategy_returns = signals.shift(1) * returns "
   ]
  },
  {
   "cell_type": "code",
   "execution_count": null,
   "id": "71451f17-5761-47cf-9aa9-1bc23c1c3a54",
   "metadata": {
    "tags": []
   },
   "outputs": [],
   "source": [
    "cumulative_returns = (1 + strategy_returns).cumprod()\n",
    "cumulative_returns"
   ]
  },
  {
   "cell_type": "code",
   "execution_count": null,
   "id": "9f8dadc7-86ee-4691-b142-7dbedafbfeb3",
   "metadata": {
    "tags": []
   },
   "outputs": [],
   "source": [
    "results_df = pd.DataFrame({\n",
    "    \"Signal\": signals,\n",
    "    \"P/E\": pe_aapl_weekly[\"PE_Ratio\"],\n",
    "    \"Upper Band\": upper_band,\n",
    "    \"Lower band\": lower_band,\n",
    "    \"Return\": returns,\n",
    "    \"Strategy_Return\": strategy_returns,\n",
    "    \"Cumulative_Return\": cumulative_returns\n",
    "})"
   ]
  },
  {
   "cell_type": "code",
   "execution_count": null,
   "id": "6643399f-685e-409d-9cfb-4009b0fa3d25",
   "metadata": {
    "tags": []
   },
   "outputs": [],
   "source": [
    "def plot_results(cumulative_returns, pe_series, rolling_mean, upper_band, lower_band, signals):\n",
    "    # Align series\n",
    "    signals = signals.loc[pe_series.index]\n",
    "\n",
    "    fig, axs = plt.subplots(2, 1, figsize=(12, 10), sharex=True)\n",
    "\n",
    "    # Plot cumulative returns\n",
    "    axs[0].plot(cumulative_returns, label='Strategy Cumulative Return')\n",
    "    axs[0].set_title(\"Value Strategy on AAPL (P/E-based)\")\n",
    "    axs[0].set_ylabel(\"Cumulative Return\")\n",
    "    axs[0].legend()\n",
    "    axs[0].grid(True)\n",
    "\n",
    "    # Plot P/E and signals\n",
    "    axs[1].plot(pe_series, label='P/E', color='black', alpha=0.6)\n",
    "    axs[1].plot(rolling_mean, label='Rolling Mean', linestyle='--')\n",
    "    axs[1].plot(upper_band, label='Upper Band', linestyle=':')\n",
    "    axs[1].plot(lower_band, label='Lower Band', linestyle=':')\n",
    "\n",
    "    axs[1].scatter(signals[signals == 1].index, pe_series[signals == 1], label='Long', marker='^', color='green')\n",
    "    axs[1].scatter(signals[signals == -1].index, pe_series[signals == -1], label='Short', marker='v', color='red')\n",
    "\n",
    "    axs[1].set_title(\"Simulated P/E with Signal Bands\")\n",
    "    axs[1].set_ylabel(\"P/E Ratio\")\n",
    "    axs[1].legend()\n",
    "    axs[1].grid(True)\n",
    "\n",
    "    plt.xlabel(\"Date\")\n",
    "    plt.tight_layout()\n",
    "    plt.show()"
   ]
  },
  {
   "cell_type": "code",
   "execution_count": null,
   "id": "fb4098b5-470b-46e3-bb12-7170f09ca73a",
   "metadata": {
    "tags": []
   },
   "outputs": [],
   "source": [
    "plot_results(cumulative_returns, pe_aapl_weekly, rolling_mean, upper_band, lower_band, signals)"
   ]
  },
  {
   "cell_type": "code",
   "execution_count": null,
   "id": "ea3ef71a-12e2-4191-8068-b17242940081",
   "metadata": {
    "tags": []
   },
   "outputs": [],
   "source": [
    "# Define base transaction cost\n",
    "base_cost = 0.001  # 0.1% per trade\n",
    "\n",
    "# Compute rolling volatility need to choose the time frame\n",
    "rolling_vol = returns.rolling(window=4).std()\n",
    "\n",
    "# Normalize volatility relative to mean so to avoid extreme values \n",
    "scaled_vol = rolling_vol / rolling_vol.mean()\n",
    "\n",
    "# Compute dynamic cost\n",
    "dynamic_cost_per_trade = base_cost * scaled_vol\n",
    "\n",
    "# Detect position changes (you trade only when signal changes)\n",
    "position = signals.shift(1)  # Position held at each time step\n",
    "position_change = position.diff().abs().fillna(0)  # 0→1 or 1→-1 etc.\n",
    "\n",
    "# Compute transaction costs\n",
    "transaction_costs = dynamic_cost_per_trade * position_change\n",
    "\n",
    "# Apply cost to strategy returns\n",
    "strategy_returns_net = strategy_returns - transaction_costs\n",
    "\n",
    "# Recalculate cumulative returns\n",
    "cumulative_returns_net = (1 + strategy_returns_net).cumprod()\n",
    "\n",
    "# Store everything in the results DataFrame\n",
    "results_df[\"Rolling_Vol\"] = rolling_vol\n",
    "results_df[\"Dynamic_Cost\"] = transaction_costs\n",
    "results_df[\"Strategy_Return_Net\"] = strategy_returns_net\n",
    "results_df[\"Cumulative_Return_Net\"] = cumulative_returns_net\n"
   ]
  },
  {
   "cell_type": "markdown",
   "id": "a0f43b8f-a8a2-4164-bdf1-54af47fcc96f",
   "metadata": {},
   "source": [
    "### The cost structure applies transaction costs only when a position change occurs, such as moving from long to short or from a position to cash. These costs are adjusted dynamically according to market volatility. In periods of high volatility, transaction costs are higher due to wider bid-ask spreads and increased slippage, while in stable periods, costs are lower. This approach creates a more realistic backtest by reflecting the true cost of trading under different market conditions."
   ]
  },
  {
   "cell_type": "code",
   "execution_count": null,
   "id": "c55ce538-0b4b-4498-b37f-8072dad0e875",
   "metadata": {
    "tags": []
   },
   "outputs": [],
   "source": [
    "results_df.tail(5)"
   ]
  },
  {
   "cell_type": "code",
   "execution_count": null,
   "id": "8244531b-0b12-47b3-8c79-8d7cf5196789",
   "metadata": {
    "tags": []
   },
   "outputs": [],
   "source": [
    "# Create subplots\n",
    "fig, axs = plt.subplots(2, 1, figsize=(14, 10), sharex=True, gridspec_kw={'height_ratios': [2, 1]})\n",
    "\n",
    "# Top plot\n",
    "axs[0].plot(results_df[\"Cumulative_Return\"], label=\"Without Transaction Costs\", linewidth=2)\n",
    "axs[0].plot(results_df[\"Cumulative_Return_Net\"], label=\"With Transaction Costs\", linewidth=2, linestyle='--')\n",
    "axs[0].set_title(\"Strategy Cumulative Returns: With vs Without Transaction Costs\")\n",
    "axs[0].set_ylabel(\"Cumulative Return\")\n",
    "axs[0].legend()\n",
    "axs[0].grid(True)\n",
    "\n",
    "# Bottom plot\n",
    "axs[1].plot(results_df[\"Dynamic_Cost\"], label=\"Volatility-Adjusted Cost per Trade\", color='mediumseagreen', linewidth=2)\n",
    "axs[1].fill_between(results_df.index, results_df[\"Dynamic_Cost\"], alpha=0.3, color='mediumseagreen')\n",
    "axs[1].set_title(\"Volatility-Adjusted Transaction Cost Over Time\")\n",
    "axs[1].set_ylabel(\"Transaction Cost\")\n",
    "axs[1].set_xlabel(\"Date\")\n",
    "axs[1].legend()\n",
    "axs[1].grid(True)\n",
    "\n",
    "plt.tight_layout()\n",
    "plt.show()"
   ]
  },
  {
   "cell_type": "code",
   "execution_count": null,
   "id": "0c6d65be-5604-48e8-a2fe-0d64e240d2c3",
   "metadata": {},
   "outputs": [],
   "source": []
  }
 ],
 "metadata": {
  "kernelspec": {
   "display_name": "Python 3 (ipykernel)",
   "language": "python",
   "name": "python3"
  },
  "language_info": {
   "codemirror_mode": {
    "name": "ipython",
    "version": 3
   },
   "file_extension": ".py",
   "mimetype": "text/x-python",
   "name": "python",
   "nbconvert_exporter": "python",
   "pygments_lexer": "ipython3",
   "version": "3.11.7"
  }
 },
 "nbformat": 4,
 "nbformat_minor": 5
}
