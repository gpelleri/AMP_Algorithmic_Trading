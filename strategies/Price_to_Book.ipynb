{
 "cells": [
  {
   "cell_type": "code",
   "execution_count": 1,
   "id": "2b565a8c-a377-4212-9260-835c914b994d",
   "metadata": {},
   "outputs": [],
   "source": [
    "import sys\n",
    "sys.path.append('..')  # Add parent directory to path\n",
    "from utils.backtest import Backtest\n",
    "from utils.data_handler import DataHandler\n",
    "\n",
    "from strategies.ratio_value import RatioValueStrategy\n",
    "from strategies.momentum import MomentumStrategy\n",
    "from utils.backtest import Backtest\n",
    "from utils.data_handler import DataHandler\n",
    "import yfinance as yf\n",
    "import pandas as pd"
   ]
  },
  {
   "cell_type": "code",
   "execution_count": 14,
   "id": "416a5eee-7a62-4061-8d60-748bb08e283e",
   "metadata": {},
   "outputs": [
    {
     "name": "stderr",
     "output_type": "stream",
     "text": [
      "[*********************100%***********************]  1 of 1 completed\n"
     ]
    },
    {
     "name": "stdout",
     "output_type": "stream",
     "text": [
      "\n",
      "Testing weekly frequency strategy with k=0.5:\n",
      "Final Portfolio Value: $218,714.03\n",
      "Total Return: 118.71%\n",
      "Sharpe Ratio: 0.40\n",
      "Max Drawdown: -64.04%\n",
      "\n",
      "Testing weekly frequency strategy with k=1:\n",
      "Final Portfolio Value: $287,243.05\n",
      "Total Return: 187.24%\n",
      "Sharpe Ratio: 0.49\n",
      "Max Drawdown: -62.57%\n",
      "\n",
      "Testing weekly frequency strategy with k=1.5:\n",
      "Final Portfolio Value: $550,507.96\n",
      "Total Return: 450.51%\n",
      "Sharpe Ratio: 0.72\n",
      "Max Drawdown: -60.66%\n",
      "\n",
      "Testing monthly frequency strategy with k=0.5:\n"
     ]
    },
    {
     "name": "stderr",
     "output_type": "stream",
     "text": [
      "C:\\Users\\Gautier Pellerin\\Documents\\Code\\AMP_Algorithmic_Trading\\strategies\\..\\strategies\\ratio_value.py:57: FutureWarning: 'M' is deprecated and will be removed in a future version, please use 'ME' instead.\n",
      "  return data.resample(freq).last().dropna()\n"
     ]
    },
    {
     "name": "stdout",
     "output_type": "stream",
     "text": [
      "Final Portfolio Value: $514,398.33\n",
      "Total Return: 414.40%\n",
      "Sharpe Ratio: 0.69\n",
      "Max Drawdown: -58.83%\n",
      "\n",
      "Testing monthly frequency strategy with k=1:\n"
     ]
    },
    {
     "name": "stderr",
     "output_type": "stream",
     "text": [
      "C:\\Users\\Gautier Pellerin\\Documents\\Code\\AMP_Algorithmic_Trading\\strategies\\..\\strategies\\ratio_value.py:57: FutureWarning: 'M' is deprecated and will be removed in a future version, please use 'ME' instead.\n",
      "  return data.resample(freq).last().dropna()\n"
     ]
    },
    {
     "name": "stdout",
     "output_type": "stream",
     "text": [
      "Final Portfolio Value: $382,281.71\n",
      "Total Return: 282.28%\n",
      "Sharpe Ratio: 0.61\n",
      "Max Drawdown: -58.83%\n",
      "\n",
      "Testing monthly frequency strategy with k=1.5:\n"
     ]
    },
    {
     "name": "stderr",
     "output_type": "stream",
     "text": [
      "C:\\Users\\Gautier Pellerin\\Documents\\Code\\AMP_Algorithmic_Trading\\strategies\\..\\strategies\\ratio_value.py:57: FutureWarning: 'M' is deprecated and will be removed in a future version, please use 'ME' instead.\n",
      "  return data.resample(freq).last().dropna()\n"
     ]
    },
    {
     "name": "stdout",
     "output_type": "stream",
     "text": [
      "Final Portfolio Value: $97,420.53\n",
      "Total Return: -2.58%\n",
      "Sharpe Ratio: 0.08\n",
      "Max Drawdown: -58.83%\n",
      "\n",
      "Testing 6month frequency strategy with k=0.5:\n"
     ]
    },
    {
     "name": "stderr",
     "output_type": "stream",
     "text": [
      "C:\\Users\\Gautier Pellerin\\Documents\\Code\\AMP_Algorithmic_Trading\\strategies\\..\\strategies\\ratio_value.py:57: FutureWarning: 'M' is deprecated and will be removed in a future version, please use 'ME' instead.\n",
      "  return data.resample(freq).last().dropna()\n"
     ]
    },
    {
     "name": "stdout",
     "output_type": "stream",
     "text": [
      "Final Portfolio Value: $4,201,646.45\n",
      "Total Return: 4101.65%\n",
      "Sharpe Ratio: 1.35\n",
      "Max Drawdown: -43.80%\n",
      "\n",
      "Testing 6month frequency strategy with k=1:\n"
     ]
    },
    {
     "name": "stderr",
     "output_type": "stream",
     "text": [
      "C:\\Users\\Gautier Pellerin\\Documents\\Code\\AMP_Algorithmic_Trading\\strategies\\..\\strategies\\ratio_value.py:57: FutureWarning: 'M' is deprecated and will be removed in a future version, please use 'ME' instead.\n",
      "  return data.resample(freq).last().dropna()\n"
     ]
    },
    {
     "name": "stdout",
     "output_type": "stream",
     "text": [
      "Final Portfolio Value: $872,884.89\n",
      "Total Return: 772.88%\n",
      "Sharpe Ratio: 1.06\n",
      "Max Drawdown: -43.80%\n",
      "\n",
      "Testing 6month frequency strategy with k=1.5:\n"
     ]
    },
    {
     "name": "stderr",
     "output_type": "stream",
     "text": [
      "C:\\Users\\Gautier Pellerin\\Documents\\Code\\AMP_Algorithmic_Trading\\strategies\\..\\strategies\\ratio_value.py:57: FutureWarning: 'M' is deprecated and will be removed in a future version, please use 'ME' instead.\n",
      "  return data.resample(freq).last().dropna()\n"
     ]
    },
    {
     "name": "stdout",
     "output_type": "stream",
     "text": [
      "Final Portfolio Value: $928,301.93\n",
      "Total Return: 828.30%\n",
      "Sharpe Ratio: 1.03\n",
      "Max Drawdown: -43.80%\n",
      "\n",
      "Testing yearly frequency strategy with k=0.5:\n"
     ]
    },
    {
     "name": "stderr",
     "output_type": "stream",
     "text": [
      "C:\\Users\\Gautier Pellerin\\Documents\\Code\\AMP_Algorithmic_Trading\\strategies\\..\\strategies\\ratio_value.py:57: FutureWarning: 'Y' is deprecated and will be removed in a future version, please use 'YE' instead.\n",
      "  return data.resample(freq).last().dropna()\n"
     ]
    },
    {
     "name": "stdout",
     "output_type": "stream",
     "text": [
      "Final Portfolio Value: $5,268,052.47\n",
      "Total Return: 5168.05%\n",
      "Sharpe Ratio: 1.40\n",
      "Max Drawdown: -43.80%\n",
      "\n",
      "Testing yearly frequency strategy with k=1:\n"
     ]
    },
    {
     "name": "stderr",
     "output_type": "stream",
     "text": [
      "C:\\Users\\Gautier Pellerin\\Documents\\Code\\AMP_Algorithmic_Trading\\strategies\\..\\strategies\\ratio_value.py:57: FutureWarning: 'Y' is deprecated and will be removed in a future version, please use 'YE' instead.\n",
      "  return data.resample(freq).last().dropna()\n"
     ]
    },
    {
     "name": "stdout",
     "output_type": "stream",
     "text": [
      "Final Portfolio Value: $928,301.93\n",
      "Total Return: 828.30%\n",
      "Sharpe Ratio: 1.03\n",
      "Max Drawdown: -43.80%\n",
      "\n",
      "Testing yearly frequency strategy with k=1.5:\n"
     ]
    },
    {
     "name": "stderr",
     "output_type": "stream",
     "text": [
      "C:\\Users\\Gautier Pellerin\\Documents\\Code\\AMP_Algorithmic_Trading\\strategies\\..\\strategies\\ratio_value.py:57: FutureWarning: 'Y' is deprecated and will be removed in a future version, please use 'YE' instead.\n",
      "  return data.resample(freq).last().dropna()\n"
     ]
    },
    {
     "name": "stdout",
     "output_type": "stream",
     "text": [
      "Final Portfolio Value: $100,000.00\n",
      "Total Return: 0.00%\n",
      "Sharpe Ratio: nan\n",
      "Max Drawdown: 0.00%\n",
      "\n",
      "Strategy Comparison:\n",
      "                Final Value   Return  Sharpe Ratio  Max Drawdown\n",
      "Frequency k                                                     \n",
      "weekly    0.5  2.187140e+05   1.1871        0.4008       -0.6404\n",
      "          1.0  2.872430e+05   1.8724        0.4928       -0.6257\n",
      "          1.5  5.505080e+05   4.5051        0.7216       -0.6066\n",
      "monthly   0.5  5.143983e+05   4.1440        0.6852       -0.5883\n",
      "          1.0  3.822817e+05   2.8228        0.6099       -0.5883\n",
      "          1.5  9.742053e+04  -0.0258        0.0825       -0.5883\n",
      "6month    0.5  4.201646e+06  41.0165        1.3527       -0.4380\n",
      "          1.0  8.728849e+05   7.7288        1.0584       -0.4380\n",
      "          1.5  9.283019e+05   8.2830        1.0286       -0.4380\n",
      "yearly    0.5  5.268052e+06  51.6805        1.3983       -0.4380\n",
      "          1.0  9.283019e+05   8.2830        1.0286       -0.4380\n",
      "          1.5  1.000000e+05   0.0000           NaN        0.0000\n"
     ]
    }
   ],
   "source": [
    "import pandas as pd\n",
    "\n",
    "# Initialize data handler and fetch data\n",
    "data_handler = DataHandler(ticker='AAPL', start_date='2004-12-12', end_date='2015-12-12')\n",
    "prices = data_handler.fetch_data()\n",
    "\n",
    "# Fetch the price-to-book series\n",
    "pb_series = data_handler.fetch_pb_series('../data/price_to_book_ratio.csv')\n",
    "\n",
    "# Parameters to test\n",
    "frequencies = ['weekly', 'monthly', '6month', 'yearly']\n",
    "K = [0.5, 1, 1.5]\n",
    "results = {}\n",
    "\n",
    "# Loop over each frequency and threshold\n",
    "for freq in frequencies:\n",
    "    results[freq] = {}  # Initialize sub-dictionary\n",
    "    for thresh in K:\n",
    "        print(f\"\\nTesting {freq} frequency strategy with k={thresh}:\")\n",
    "\n",
    "        # Initialize strategy\n",
    "        strategy = RatioValueStrategy(pb_series, \"PB\", window=5, k=thresh, frequency=freq)\n",
    "\n",
    "        # Run backtest\n",
    "        backtest = Backtest(\n",
    "            data=prices,\n",
    "            strategy=strategy,\n",
    "            plot_results=False\n",
    "        )\n",
    "\n",
    "        # Store results\n",
    "        result = backtest.run()\n",
    "        results[freq][thresh] = result\n",
    "\n",
    "        # Print metrics\n",
    "        print(f\"Final Portfolio Value: ${result['Final Value']:,.2f}\")\n",
    "        print(f\"Total Return: {result['Return']:.2%}\")\n",
    "        print(f\"Sharpe Ratio: {result['Sharpe Ratio']:.2f}\")\n",
    "        print(f\"Max Drawdown: {result['Max Drawdown']:.2%}\")\n",
    "\n",
    "# Create comparison DataFrame\n",
    "comparison = pd.concat({\n",
    "    freq: pd.DataFrame.from_dict(results[freq], orient='index')\n",
    "    for freq in frequencies\n",
    "}, names=['Frequency', 'k'])\n",
    "\n",
    "# Print comparison table\n",
    "print(\"\\nStrategy Comparison:\")\n",
    "print(comparison.round(4))\n"
   ]
  },
  {
   "cell_type": "code",
   "execution_count": null,
   "id": "df1b8133-aec3-4d9f-8a8b-82cf1bb2dae9",
   "metadata": {},
   "outputs": [],
   "source": []
  }
 ],
 "metadata": {
  "kernelspec": {
   "display_name": "Python 3 (ipykernel)",
   "language": "python",
   "name": "python3"
  },
  "language_info": {
   "codemirror_mode": {
    "name": "ipython",
    "version": 3
   },
   "file_extension": ".py",
   "mimetype": "text/x-python",
   "name": "python",
   "nbconvert_exporter": "python",
   "pygments_lexer": "ipython3",
   "version": "3.11.7"
  }
 },
 "nbformat": 4,
 "nbformat_minor": 5
}
