{
 "cells": [
  {
   "cell_type": "markdown",
   "id": "7dc85ce2-be71-4fca-a8d1-1a530d9024d3",
   "metadata": {},
   "source": []
  },
  {
   "cell_type": "code",
   "execution_count": 2,
   "id": "ba19c792-335e-49bb-a78f-c17f243243e6",
   "metadata": {},
   "outputs": [],
   "source": [
    "import sys\n",
    "import os\n",
    "\n",
    "# Get the parent directory of the \"notebook\" folder\n",
    "project_root = os.path.abspath(os.path.join(os.getcwd(), \"..\"))\n",
    "\n",
    "# Add it to the Python path\n",
    "sys.path.append(project_root)"
   ]
  },
  {
   "cell_type": "code",
   "execution_count": 3,
   "id": "99cc318a-b4c0-431e-b952-d3c7e0badf8b",
   "metadata": {},
   "outputs": [],
   "source": [
    "from strategies.moving_average import MovingAverage\n",
    "from strategies.momentum import MomentumStrategy\n",
    "from utils.backtest import Backtest\n",
    "from utils.data_handler import DataHandler\n",
    "import yfinance as yf\n",
    "import pandas as pd\n",
    "import matplotlib as plt"
   ]
  },
  {
   "cell_type": "code",
   "execution_count": null,
   "id": "8be137e8-a188-4920-a04d-5b987182516f",
   "metadata": {},
   "outputs": [],
   "source": []
  },
  {
   "cell_type": "code",
   "execution_count": null,
   "id": "286135dc-696e-45a5-9065-84a3ca82fe62",
   "metadata": {},
   "outputs": [],
   "source": []
  },
  {
   "cell_type": "code",
   "execution_count": null,
   "id": "529d86e0-8afc-435f-8408-fdd04780bb41",
   "metadata": {},
   "outputs": [
    {
     "name": "stderr",
     "output_type": "stream",
     "text": [
      "[*********************100%***********************]  1 of 1 completed"
     ]
    },
    {
     "name": "stdout",
     "output_type": "stream",
     "text": [
      "\n",
      "🔍 Evaluating AAPL\n"
     ]
    },
    {
     "name": "stderr",
     "output_type": "stream",
     "text": [
      "\n"
     ]
    },
    {
     "name": "stdout",
     "output_type": "stream",
     "text": [
      "    Short Window  Long Window       Mode  Invert Signals     Return  \\\n",
      "33            10          200  crossover           False  11.457279   \n",
      "91            50          200  crossover           False  12.278870   \n",
      "73            30          200  crossover           False  12.089586   \n",
      "53            20          200  crossover           False  11.145490   \n",
      "87            50          150  crossover           False  10.188304   \n",
      "\n",
      "    Sharpe Ratio  Max Drawdown  \n",
      "33      0.903220     -0.351761  \n",
      "91      0.897505     -0.466304  \n",
      "73      0.896187     -0.386550  \n",
      "53      0.883473     -0.360403  \n",
      "87      0.847070     -0.405602  \n",
      "\n",
      "🔍 Evaluating ABT\n"
     ]
    },
    {
     "name": "stderr",
     "output_type": "stream",
     "text": [
      "[*********************100%***********************]  1 of 1 completed\n"
     ]
    },
    {
     "name": "stdout",
     "output_type": "stream",
     "text": [
      "    Short Window  Long Window       Mode  Invert Signals    Return  \\\n",
      "82            50          100  crossover            True  1.971461   \n",
      "17             5          300  crossover           False  2.760062   \n",
      "95            50          300  crossover           False  3.317473   \n",
      "37            10          300  crossover           False  2.424366   \n",
      "90            50          200  crossover            True  1.272926   \n",
      "\n",
      "    Sharpe Ratio  Max Drawdown  \n",
      "82      0.688779     -0.222334  \n",
      "17      0.656081     -0.287886  \n",
      "95      0.654528     -0.316117  \n",
      "37      0.606870     -0.333514  \n",
      "90      0.582677     -0.246373  \n",
      "\n",
      "🔍 Evaluating ADI\n"
     ]
    },
    {
     "name": "stderr",
     "output_type": "stream",
     "text": [
      "[*********************100%***********************]  1 of 1 completed\n"
     ]
    },
    {
     "name": "stdout",
     "output_type": "stream",
     "text": [
      "    Short Window  Long Window       Mode  Invert Signals    Return  \\\n",
      "76            30          300  crossover            True  3.635010   \n",
      "94            50          300  crossover            True  2.634673   \n",
      "90            50          200  crossover            True  2.085176   \n",
      "56            20          300  crossover            True  1.953893   \n",
      "82            50          100  crossover            True  2.004657   \n",
      "\n",
      "    Sharpe Ratio  Max Drawdown  \n",
      "76      0.806234     -0.156297  \n",
      "94      0.704430     -0.236187  \n",
      "90      0.576878     -0.227252  \n",
      "56      0.574471     -0.181234  \n",
      "82      0.534731     -0.239860  \n",
      "\n",
      "🔍 Evaluating ADM\n"
     ]
    },
    {
     "name": "stderr",
     "output_type": "stream",
     "text": [
      "[*********************100%***********************]  1 of 1 completed\n"
     ]
    },
    {
     "name": "stdout",
     "output_type": "stream",
     "text": [
      "    Short Window  Long Window       Mode  Invert Signals    Return  \\\n",
      "94            50          300  crossover            True  0.818143   \n",
      "82            50          100  crossover            True  0.788792   \n",
      "53            20          200  crossover           False  0.782879   \n",
      "77            30          300  crossover           False  0.646371   \n",
      "61            30           50  crossover           False  0.636958   \n",
      "\n",
      "    Sharpe Ratio  Max Drawdown  \n",
      "94      0.350861     -0.344448  \n",
      "82      0.327959     -0.385468  \n",
      "53      0.319537     -0.435707  \n",
      "77      0.287602     -0.421898  \n",
      "61      0.285819     -0.544853  \n",
      "\n",
      "🔍 Evaluating ADP\n"
     ]
    },
    {
     "name": "stderr",
     "output_type": "stream",
     "text": [
      "[*********************100%***********************]  1 of 1 completed\n"
     ]
    },
    {
     "name": "stdout",
     "output_type": "stream",
     "text": [
      "    Short Window  Long Window       Mode  Invert Signals    Return  \\\n",
      "82            50          100  crossover            True  2.685446   \n",
      "64            30          100  crossover            True  2.560797   \n",
      "17             5          300  crossover           False  2.897751   \n",
      "37            10          300  crossover           False  2.901428   \n",
      "86            50          150  crossover            True  1.621792   \n",
      "\n",
      "    Sharpe Ratio  Max Drawdown  \n",
      "82      0.768857     -0.185044  \n",
      "64      0.742834     -0.157041  \n",
      "17      0.635305     -0.281797  \n",
      "37      0.630632     -0.296047  \n",
      "86      0.627209     -0.191175  \n",
      "\n",
      "🔍 Evaluating ADSK\n"
     ]
    },
    {
     "name": "stderr",
     "output_type": "stream",
     "text": [
      "[*********************100%***********************]  1 of 1 completed\n"
     ]
    },
    {
     "name": "stdout",
     "output_type": "stream",
     "text": [
      "    Short Window  Long Window       Mode  Invert Signals    Return  \\\n",
      "64            30          100  crossover            True  5.315749   \n",
      "44            20          100  crossover            True  5.226305   \n",
      "68            30          150  crossover            True  3.897481   \n",
      "48            20          150  crossover            True  3.890970   \n",
      "82            50          100  crossover            True  3.130551   \n",
      "\n",
      "    Sharpe Ratio  Max Drawdown  \n",
      "64      0.661235     -0.422054  \n",
      "44      0.653599     -0.421968  \n",
      "68      0.612293     -0.422043  \n",
      "48      0.595703     -0.421920  \n",
      "82      0.547911     -0.534150  \n",
      "\n",
      "🔍 Evaluating AEE\n"
     ]
    },
    {
     "name": "stderr",
     "output_type": "stream",
     "text": [
      "[*********************100%***********************]  1 of 1 completed\n"
     ]
    },
    {
     "name": "stdout",
     "output_type": "stream",
     "text": [
      "    Short Window  Long Window       Mode  Invert Signals    Return  \\\n",
      "86            50          150  crossover            True  1.079337   \n",
      "32            10          200  crossover            True  1.146299   \n",
      "90            50          200  crossover            True  0.812155   \n",
      "44            20          100  crossover            True  1.060417   \n",
      "56            20          300  crossover            True  0.749892   \n",
      "\n",
      "    Sharpe Ratio  Max Drawdown  \n",
      "86      0.563655     -0.187864  \n",
      "32      0.542169     -0.134786  \n",
      "90      0.520024     -0.187847  \n",
      "44      0.470028     -0.168816  \n",
      "56      0.468721     -0.187887  \n",
      "\n",
      "🔍 Evaluating AEP\n"
     ]
    },
    {
     "name": "stderr",
     "output_type": "stream",
     "text": [
      "[*********************100%***********************]  1 of 1 completed\n"
     ]
    },
    {
     "name": "stdout",
     "output_type": "stream",
     "text": [
      "    Short Window  Long Window       Mode  Invert Signals    Return  \\\n",
      "64            30          100  crossover            True  1.164457   \n",
      "82            50          100  crossover            True  0.848699   \n",
      "44            20          100  crossover            True  0.966108   \n",
      "48            20          150  crossover            True  0.891634   \n",
      "76            30          300  crossover            True  0.690149   \n",
      "\n",
      "    Sharpe Ratio  Max Drawdown  \n",
      "64      0.523758     -0.180339  \n",
      "82      0.459017     -0.233530  \n",
      "44      0.448221     -0.188225  \n",
      "48      0.443803     -0.199464  \n",
      "76      0.434379     -0.233540  \n",
      "\n",
      "🔍 Evaluating AJG\n"
     ]
    },
    {
     "name": "stderr",
     "output_type": "stream",
     "text": [
      "[*********************100%***********************]  1 of 1 completed\n"
     ]
    },
    {
     "name": "stdout",
     "output_type": "stream",
     "text": [
      "    Short Window  Long Window       Mode  Invert Signals    Return  \\\n",
      "91            50          200  crossover           False  5.565295   \n",
      "87            50          150  crossover           False  5.563904   \n",
      "57            20          300  crossover           False  5.285489   \n",
      "53            20          200  crossover           False  4.827460   \n",
      "95            50          300  crossover           False  5.221192   \n",
      "\n",
      "    Sharpe Ratio  Max Drawdown  \n",
      "91      0.830393     -0.372183  \n",
      "87      0.829948     -0.372175  \n",
      "57      0.808490     -0.372190  \n",
      "53      0.799218     -0.372166  \n",
      "95      0.793677     -0.372181  \n",
      "\n",
      "🔍 Evaluating AKAM\n"
     ]
    },
    {
     "name": "stderr",
     "output_type": "stream",
     "text": [
      "[*********************100%***********************]  1 of 1 completed\n"
     ]
    },
    {
     "name": "stdout",
     "output_type": "stream",
     "text": [
      "    Short Window  Long Window       Mode  Invert Signals    Return  \\\n",
      "36            10          300  crossover            True  1.847982   \n",
      "76            30          300  crossover            True  1.552074   \n",
      "56            20          300  crossover            True  1.544985   \n",
      "44            20          100  crossover            True  1.572413   \n",
      "16             5          300  crossover            True  1.234925   \n",
      "\n",
      "    Sharpe Ratio  Max Drawdown  \n",
      "36      0.431579     -0.544825  \n",
      "76      0.412433     -0.544885  \n",
      "56      0.406088     -0.544825  \n",
      "44      0.394660     -0.642896  \n",
      "16      0.360893     -0.544825  \n",
      "\n",
      "🔍 Evaluating ALB\n"
     ]
    },
    {
     "name": "stderr",
     "output_type": "stream",
     "text": [
      "[*********************100%***********************]  1 of 1 completed\n"
     ]
    },
    {
     "name": "stdout",
     "output_type": "stream",
     "text": [
      "    Short Window  Long Window       Mode  Invert Signals    Return  \\\n",
      "52            20          200  crossover            True  1.690903   \n",
      "72            30          200  crossover            True  1.697969   \n",
      "87            50          150  crossover           False  1.535471   \n",
      "82            50          100  crossover            True  0.997813   \n",
      "68            30          150  crossover            True  0.927476   \n",
      "\n",
      "    Sharpe Ratio  Max Drawdown  \n",
      "52      0.408831     -0.533737  \n",
      "72      0.408643     -0.533738  \n",
      "87      0.376912     -0.648990  \n",
      "82      0.323183     -0.507831  \n",
      "68      0.312246     -0.512209  \n",
      "\n",
      "🔍 Evaluating AMAT\n"
     ]
    },
    {
     "name": "stderr",
     "output_type": "stream",
     "text": [
      "[*********************100%***********************]  1 of 1 completed\n"
     ]
    },
    {
     "name": "stdout",
     "output_type": "stream",
     "text": [
      "    Short Window  Long Window       Mode  Invert Signals     Return  \\\n",
      "53            20          200  crossover           False  12.393073   \n",
      "91            50          200  crossover           False  13.129262   \n",
      "73            30          200  crossover           False  11.923145   \n",
      "69            30          150  crossover           False  10.409529   \n",
      "49            20          150  crossover           False  10.083672   \n",
      "\n",
      "    Sharpe Ratio  Max Drawdown  \n",
      "53      0.801223     -0.445485  \n",
      "91      0.795650     -0.436414  \n",
      "73      0.781774     -0.457859  \n",
      "69      0.754246     -0.446160  \n",
      "49      0.753684     -0.418775  \n",
      "\n",
      "🔍 Evaluating AMD\n"
     ]
    },
    {
     "name": "stderr",
     "output_type": "stream",
     "text": [
      "[*********************100%***********************]  1 of 1 completed\n"
     ]
    },
    {
     "name": "stdout",
     "output_type": "stream",
     "text": [
      "    Short Window  Long Window       Mode  Invert Signals     Return  \\\n",
      "17             5          300  crossover           False  24.699552   \n",
      "37            10          300  crossover           False  18.275342   \n",
      "53            20          200  crossover           False  16.562971   \n",
      "69            30          150  crossover           False  15.031413   \n",
      "33            10          200  crossover           False  15.606678   \n",
      "\n",
      "    Sharpe Ratio  Max Drawdown  \n",
      "17      0.742210     -0.503016  \n",
      "37      0.695942     -0.608518  \n",
      "53      0.677416     -0.652361  \n",
      "69      0.671697     -0.635116  \n",
      "33      0.669178     -0.592056  \n",
      "\n",
      "🔍 Evaluating AME\n"
     ]
    },
    {
     "name": "stderr",
     "output_type": "stream",
     "text": [
      "[*********************100%***********************]  1 of 1 completed\n"
     ]
    },
    {
     "name": "stdout",
     "output_type": "stream",
     "text": [
      "    Short Window  Long Window       Mode  Invert Signals    Return  \\\n",
      "56            20          300  crossover            True  1.526172   \n",
      "86            50          150  crossover            True  1.602913   \n",
      "94            50          300  crossover            True  1.162357   \n",
      "64            30          100  crossover            True  1.678559   \n",
      "91            50          200  crossover           False  2.031598   \n",
      "\n",
      "    Sharpe Ratio  Max Drawdown  \n",
      "56      0.552264     -0.197913  \n",
      "86      0.541521     -0.210515  \n",
      "94      0.519049     -0.240749  \n",
      "64      0.506269     -0.356358  \n",
      "91      0.499180     -0.427109  \n",
      "\n",
      "🔍 Evaluating AMGN\n"
     ]
    },
    {
     "name": "stderr",
     "output_type": "stream",
     "text": [
      "[*********************100%***********************]  1 of 1 completed\n"
     ]
    },
    {
     "name": "stdout",
     "output_type": "stream",
     "text": [
      "    Short Window  Long Window       Mode  Invert Signals    Return  \\\n",
      "86            50          150  crossover            True  2.780949   \n",
      "68            30          150  crossover            True  2.535511   \n",
      "72            30          200  crossover            True  2.020416   \n",
      "64            30          100  crossover            True  3.302765   \n",
      "48            20          150  crossover            True  2.618499   \n",
      "\n",
      "    Sharpe Ratio  Max Drawdown  \n",
      "86      0.850659     -0.249272  \n",
      "68      0.786803     -0.166897  \n",
      "72      0.773399     -0.168555  \n",
      "64      0.764877     -0.239121  \n",
      "48      0.752890     -0.168746  \n",
      "\n",
      "🔍 Evaluating AMT\n"
     ]
    },
    {
     "name": "stderr",
     "output_type": "stream",
     "text": [
      "[*********************100%***********************]  1 of 1 completed\n"
     ]
    },
    {
     "name": "stdout",
     "output_type": "stream",
     "text": [
      "    Short Window  Long Window       Mode  Invert Signals    Return  \\\n",
      "82            50          100  crossover            True  1.500246   \n",
      "24            10          100  crossover            True  1.553246   \n",
      "28            10          150  crossover            True  1.444824   \n",
      "44            20          100  crossover            True  1.316464   \n",
      "86            50          150  crossover            True  1.141747   \n",
      "\n",
      "    Sharpe Ratio  Max Drawdown  \n",
      "82      0.536764     -0.245857  \n",
      "24      0.509397     -0.251306  \n",
      "28      0.503702     -0.324137  \n",
      "44      0.479122     -0.269752  \n",
      "86      0.470755     -0.311932  \n",
      "\n",
      "🔍 Evaluating AMZN\n"
     ]
    },
    {
     "name": "stderr",
     "output_type": "stream",
     "text": [
      "[*********************100%***********************]  1 of 1 completed\n"
     ]
    },
    {
     "name": "stdout",
     "output_type": "stream",
     "text": [
      "    Short Window  Long Window       Mode  Invert Signals     Return  \\\n",
      "53            20          200  crossover           False  10.338774   \n",
      "73            30          200  crossover           False   9.533337   \n",
      "77            30          300  crossover           False   9.715555   \n",
      "69            30          150  crossover           False   9.155803   \n",
      "95            50          300  crossover           False   9.419389   \n",
      "\n",
      "    Sharpe Ratio  Max Drawdown  \n",
      "53      0.811596     -0.366471  \n",
      "73      0.787825     -0.407443  \n",
      "77      0.777467     -0.368178  \n",
      "69      0.776461     -0.363715  \n",
      "95      0.769898     -0.360745  \n",
      "\n",
      "🔍 Evaluating AON\n"
     ]
    },
    {
     "name": "stderr",
     "output_type": "stream",
     "text": [
      "[*********************100%***********************]  1 of 1 completed\n"
     ]
    },
    {
     "name": "stdout",
     "output_type": "stream",
     "text": [
      "    Short Window  Long Window       Mode  Invert Signals    Return  \\\n",
      "36            10          300  crossover            True  1.384106   \n",
      "76            30          300  crossover            True  1.089684   \n",
      "52            20          200  crossover            True  1.415764   \n",
      "68            30          150  crossover            True  1.334449   \n",
      "94            50          300  crossover            True  0.789946   \n",
      "\n",
      "    Sharpe Ratio  Max Drawdown  \n",
      "36      0.633334     -0.127270  \n",
      "76      0.601433     -0.126898  \n",
      "52      0.596576     -0.151630  \n",
      "68      0.549026     -0.158750  \n",
      "94      0.543097     -0.139960  \n",
      "\n",
      "🔍 Evaluating AOS\n"
     ]
    },
    {
     "name": "stderr",
     "output_type": "stream",
     "text": [
      "[*********************100%***********************]  1 of 1 completed\n"
     ]
    },
    {
     "name": "stdout",
     "output_type": "stream",
     "text": [
      "    Short Window  Long Window       Mode  Invert Signals    Return  \\\n",
      "95            50          300  crossover           False  6.600248   \n",
      "77            30          300  crossover           False  5.938102   \n",
      "91            50          200  crossover           False  4.946512   \n",
      "57            20          300  crossover           False  4.233318   \n",
      "87            50          150  crossover           False  3.875563   \n",
      "\n",
      "    Sharpe Ratio  Max Drawdown  \n",
      "95      0.809067     -0.292730  \n",
      "77      0.786187     -0.263759  \n",
      "91      0.709717     -0.407623  \n",
      "57      0.686772     -0.379641  \n",
      "87      0.652071     -0.424946  \n",
      "\n",
      "🔍 Evaluating APA\n"
     ]
    },
    {
     "name": "stderr",
     "output_type": "stream",
     "text": [
      "[*********************100%***********************]  1 of 1 completed\n"
     ]
    },
    {
     "name": "stdout",
     "output_type": "stream",
     "text": [
      "    Short Window  Long Window       Mode  Invert Signals    Return  \\\n",
      "86            50          150  crossover            True  7.364470   \n",
      "82            50          100  crossover            True  5.453641   \n",
      "68            30          150  crossover            True  5.208422   \n",
      "48            20          150  crossover            True  3.443120   \n",
      "64            30          100  crossover            True  2.970378   \n",
      "\n",
      "    Sharpe Ratio  Max Drawdown  \n",
      "86      0.593781     -0.625542  \n",
      "82      0.552094     -0.590565  \n",
      "68      0.528317     -0.608435  \n",
      "48      0.466391     -0.687623  \n",
      "64      0.447497     -0.632291  \n",
      "\n",
      "🔍 Evaluating APD\n"
     ]
    },
    {
     "name": "stderr",
     "output_type": "stream",
     "text": [
      "[*********************100%***********************]  1 of 1 completed\n"
     ]
    },
    {
     "name": "stdout",
     "output_type": "stream",
     "text": [
      "    Short Window  Long Window       Mode  Invert Signals    Return  \\\n",
      "90            50          200  crossover            True  1.590303   \n",
      "94            50          300  crossover            True  1.336448   \n",
      "56            20          300  crossover            True  1.481851   \n",
      "68            30          150  crossover            True  1.656546   \n",
      "64            30          100  crossover            True  1.690880   \n",
      "\n",
      "    Sharpe Ratio  Max Drawdown  \n",
      "90      0.615548     -0.207744  \n",
      "94      0.591926     -0.179199  \n",
      "56      0.584633     -0.176648  \n",
      "68      0.565545     -0.206401  \n",
      "64      0.543900     -0.199197  \n",
      "\n",
      "🔍 Evaluating APH\n"
     ]
    },
    {
     "name": "stderr",
     "output_type": "stream",
     "text": [
      "[*********************100%***********************]  1 of 1 completed\n"
     ]
    },
    {
     "name": "stdout",
     "output_type": "stream",
     "text": [
      "    Short Window  Long Window       Mode  Invert Signals    Return  \\\n",
      "91            50          200  crossover           False  2.930732   \n",
      "69            30          150  crossover           False  2.646397   \n",
      "76            30          300  crossover            True  1.642562   \n",
      "17             5          300  crossover           False  2.245449   \n",
      "53            20          200  crossover           False  2.180874   \n",
      "\n",
      "    Sharpe Ratio  Max Drawdown  \n",
      "91      0.613212     -0.430357  \n",
      "69      0.600076     -0.415501  \n",
      "76      0.575296     -0.221686  \n",
      "17      0.564326     -0.311140  \n",
      "53      0.554869     -0.361196  \n",
      "\n",
      "🔍 Evaluating ARE\n"
     ]
    },
    {
     "name": "stderr",
     "output_type": "stream",
     "text": [
      "[*********************100%***********************]  1 of 1 completed\n"
     ]
    },
    {
     "name": "stdout",
     "output_type": "stream",
     "text": [
      "    Short Window  Long Window       Mode  Invert Signals    Return  \\\n",
      "64            30          100  crossover            True  1.474824   \n",
      "44            20          100  crossover            True  1.452430   \n",
      "60            30           50  crossover            True  1.203065   \n",
      "52            20          200  crossover            True  1.069942   \n",
      "68            30          150  crossover            True  0.941950   \n",
      "\n",
      "    Sharpe Ratio  Max Drawdown  \n",
      "64      0.463299     -0.367029  \n",
      "44      0.454845     -0.344694  \n",
      "60      0.419871     -0.241087  \n",
      "52      0.396445     -0.380555  \n",
      "68      0.373686     -0.401451  \n",
      "\n",
      "🔍 Evaluating AVB\n"
     ]
    },
    {
     "name": "stderr",
     "output_type": "stream",
     "text": [
      "[*********************100%***********************]  1 of 1 completed\n"
     ]
    },
    {
     "name": "stdout",
     "output_type": "stream",
     "text": [
      "    Short Window  Long Window       Mode  Invert Signals    Return  \\\n",
      "76            30          300  crossover            True  0.761400   \n",
      "94            50          300  crossover            True  0.580787   \n",
      "44            20          100  crossover            True  0.637897   \n",
      "90            50          200  crossover            True  0.509405   \n",
      "86            50          150  crossover            True  0.530680   \n",
      "\n",
      "    Sharpe Ratio  Max Drawdown  \n",
      "76      0.353670     -0.287326  \n",
      "94      0.304697     -0.287301  \n",
      "44      0.294707     -0.333013  \n",
      "90      0.274734     -0.287112  \n",
      "86      0.274373     -0.287091  \n",
      "\n",
      "🔍 Evaluating AVY\n"
     ]
    },
    {
     "name": "stderr",
     "output_type": "stream",
     "text": [
      "[*********************100%***********************]  1 of 1 completed\n"
     ]
    },
    {
     "name": "stdout",
     "output_type": "stream",
     "text": [
      "    Short Window  Long Window       Mode  Invert Signals    Return  \\\n",
      "91            50          200  crossover           False  2.598782   \n",
      "87            50          150  crossover           False  2.617443   \n",
      "73            30          200  crossover           False  2.168706   \n",
      "33            10          200  crossover           False  1.808712   \n",
      "77            30          300  crossover           False  2.079818   \n",
      "\n",
      "    Sharpe Ratio  Max Drawdown  \n",
      "91      0.543423     -0.435207  \n",
      "87      0.542900     -0.513275  \n",
      "73      0.507668     -0.435135  \n",
      "33      0.494790     -0.398666  \n",
      "77      0.490173     -0.435096  \n",
      "\n",
      "🔍 Evaluating AXP\n"
     ]
    },
    {
     "name": "stderr",
     "output_type": "stream",
     "text": [
      "[*********************100%***********************]  1 of 1 completed\n"
     ]
    },
    {
     "name": "stdout",
     "output_type": "stream",
     "text": [
      "    Short Window  Long Window       Mode  Invert Signals    Return  \\\n",
      "4              5          100  crossover            True  2.872363   \n",
      "82            50          100  crossover            True  1.960069   \n",
      "17             5          300  crossover           False  1.880005   \n",
      "24            10          100  crossover            True  2.015574   \n",
      "37            10          300  crossover           False  1.616988   \n",
      "\n",
      "    Sharpe Ratio  Max Drawdown  \n",
      "4       0.545805     -0.403932  \n",
      "82      0.519689     -0.366413  \n",
      "17      0.501717     -0.406936  \n",
      "24      0.469581     -0.410717  \n",
      "37      0.456782     -0.437487  \n",
      "\n",
      "🔍 Evaluating AZO\n"
     ]
    },
    {
     "name": "stderr",
     "output_type": "stream",
     "text": [
      "[*********************100%***********************]  1 of 1 completed\n"
     ]
    },
    {
     "name": "stdout",
     "output_type": "stream",
     "text": [
      "    Short Window  Long Window       Mode  Invert Signals    Return  \\\n",
      "77            30          300  crossover           False  6.372755   \n",
      "37            10          300  crossover           False  6.146760   \n",
      "57            20          300  crossover           False  5.963745   \n",
      "87            50          150  crossover           False  5.072654   \n",
      "91            50          200  crossover           False  4.991745   \n",
      "\n",
      "    Sharpe Ratio  Max Drawdown  \n",
      "77      0.847266     -0.312980  \n",
      "37      0.831615     -0.370257  \n",
      "57      0.824235     -0.351198  \n",
      "87      0.789420     -0.273354  \n",
      "91      0.773204     -0.313123  \n",
      "\n",
      "🔍 Evaluating BA\n"
     ]
    },
    {
     "name": "stderr",
     "output_type": "stream",
     "text": [
      "[*********************100%***********************]  1 of 1 completed\n"
     ]
    },
    {
     "name": "stdout",
     "output_type": "stream",
     "text": [
      "    Short Window  Long Window       Mode  Invert Signals    Return  \\\n",
      "95            50          300  crossover           False  1.630640   \n",
      "53            20          200  crossover           False  1.133987   \n",
      "33            10          200  crossover           False  1.127798   \n",
      "57            20          300  crossover           False  1.088817   \n",
      "77            30          300  crossover           False  0.954514   \n",
      "\n",
      "    Sharpe Ratio  Max Drawdown  \n",
      "95      0.440223     -0.490070  \n",
      "53      0.378397     -0.527491  \n",
      "33      0.375602     -0.502881  \n",
      "57      0.364995     -0.548237  \n",
      "77      0.338642     -0.525607  \n",
      "\n",
      "🔍 Evaluating BAC\n"
     ]
    },
    {
     "name": "stderr",
     "output_type": "stream",
     "text": [
      "[*********************100%***********************]  1 of 1 completed\n"
     ]
    },
    {
     "name": "stdout",
     "output_type": "stream",
     "text": [
      "    Short Window  Long Window       Mode  Invert Signals    Return  \\\n",
      "17             5          300  crossover           False  1.395837   \n",
      "77            30          300  crossover           False  0.967629   \n",
      "86            50          150  crossover            True  1.096802   \n",
      "90            50          200  crossover            True  0.973293   \n",
      "95            50          300  crossover           False  0.837374   \n",
      "\n",
      "    Sharpe Ratio  Max Drawdown  \n",
      "17      0.435444     -0.429999  \n",
      "77      0.341385     -0.497671  \n",
      "86      0.338027     -0.602474  \n",
      "90      0.321751     -0.599204  \n",
      "95      0.311680     -0.559858  \n",
      "\n",
      "🔍 Evaluating BAX\n"
     ]
    },
    {
     "name": "stderr",
     "output_type": "stream",
     "text": [
      "[*********************100%***********************]  1 of 1 completed\n"
     ]
    },
    {
     "name": "stdout",
     "output_type": "stream",
     "text": [
      "    Short Window  Long Window       Mode  Invert Signals    Return  \\\n",
      "86            50          150  crossover            True  0.783284   \n",
      "68            30          150  crossover            True  0.607390   \n",
      "72            30          200  crossover            True  0.375544   \n",
      "94            50          300  crossover            True  0.341691   \n",
      "90            50          200  crossover            True  0.287621   \n",
      "\n",
      "    Sharpe Ratio  Max Drawdown  \n",
      "86      0.350794     -0.511331  \n",
      "68      0.294231     -0.527742  \n",
      "72      0.226685     -0.558468  \n",
      "94      0.221723     -0.568616  \n",
      "90      0.197005     -0.551879  \n",
      "\n",
      "🔍 Evaluating BBY\n"
     ]
    },
    {
     "name": "stderr",
     "output_type": "stream",
     "text": [
      "[*********************100%***********************]  1 of 1 completed\n"
     ]
    },
    {
     "name": "stdout",
     "output_type": "stream",
     "text": [
      "    Short Window  Long Window       Mode  Invert Signals    Return  \\\n",
      "86            50          150  crossover            True  2.081958   \n",
      "76            30          300  crossover            True  1.865056   \n",
      "94            50          300  crossover            True  1.594406   \n",
      "21            10           50  crossover           False  1.560319   \n",
      "28            10          150  crossover            True  1.534701   \n",
      "\n",
      "    Sharpe Ratio  Max Drawdown  \n",
      "86      0.435295     -0.595690  \n",
      "76      0.416358     -0.631992  \n",
      "94      0.390603     -0.631992  \n",
      "21      0.384298     -0.585464  \n",
      "28      0.379138     -0.514798  \n",
      "\n",
      "🔍 Evaluating BDX\n"
     ]
    },
    {
     "name": "stderr",
     "output_type": "stream",
     "text": [
      "[*********************100%***********************]  1 of 1 completed\n"
     ]
    },
    {
     "name": "stdout",
     "output_type": "stream",
     "text": [
      "    Short Window  Long Window       Mode  Invert Signals    Return  \\\n",
      "68            30          150  crossover            True  1.962414   \n",
      "76            30          300  crossover            True  1.303377   \n",
      "72            30          200  crossover            True  1.601431   \n",
      "82            50          100  crossover            True  1.393543   \n",
      "44            20          100  crossover            True  1.627212   \n",
      "\n",
      "    Sharpe Ratio  Max Drawdown  \n",
      "68      0.690882     -0.192704  \n",
      "76      0.683638     -0.164403  \n",
      "72      0.669727     -0.192657  \n",
      "82      0.571658     -0.172305  \n",
      "44      0.571220     -0.192728  \n",
      "\n",
      "🔍 Evaluating BEN\n"
     ]
    },
    {
     "name": "stderr",
     "output_type": "stream",
     "text": [
      "[*********************100%***********************]  1 of 1 completed\n"
     ]
    },
    {
     "name": "stdout",
     "output_type": "stream",
     "text": [
      "    Short Window  Long Window       Mode  Invert Signals    Return  \\\n",
      "64            30          100  crossover            True  0.992995   \n",
      "86            50          150  crossover            True  0.710620   \n",
      "24            10          100  crossover            True  0.530275   \n",
      "48            20          150  crossover            True  0.512740   \n",
      "68            30          150  crossover            True  0.505519   \n",
      "\n",
      "    Sharpe Ratio  Max Drawdown  \n",
      "64      0.326606     -0.520243  \n",
      "86      0.281139     -0.508536  \n",
      "24      0.246674     -0.516758  \n",
      "48      0.243356     -0.484456  \n",
      "68      0.241936     -0.498640  \n",
      "\n",
      "🔍 Evaluating BIIB\n"
     ]
    },
    {
     "name": "stderr",
     "output_type": "stream",
     "text": [
      "[*********************100%***********************]  1 of 1 completed\n"
     ]
    },
    {
     "name": "stdout",
     "output_type": "stream",
     "text": [
      "    Short Window  Long Window       Mode  Invert Signals    Return  \\\n",
      "16             5          300  crossover            True  2.801351   \n",
      "87            50          150  crossover           False  2.272972   \n",
      "4              5          100  crossover            True  2.148051   \n",
      "44            20          100  crossover            True  2.000030   \n",
      "94            50          300  crossover            True  1.977341   \n",
      "\n",
      "    Sharpe Ratio  Max Drawdown  \n",
      "16      0.472224     -0.351176  \n",
      "87      0.429293     -0.656126  \n",
      "4       0.414714     -0.390788  \n",
      "44      0.414278     -0.517730  \n",
      "94      0.407040     -0.335496  \n",
      "\n",
      "🔍 Evaluating BK\n"
     ]
    },
    {
     "name": "stderr",
     "output_type": "stream",
     "text": [
      "[*********************100%***********************]  1 of 1 completed\n"
     ]
    },
    {
     "name": "stdout",
     "output_type": "stream",
     "text": [
      "    Short Window  Long Window       Mode  Invert Signals    Return  \\\n",
      "94            50          300  crossover            True  1.272673   \n",
      "90            50          200  crossover            True  0.962987   \n",
      "57            20          300  crossover           False  0.598962   \n",
      "69            30          150  crossover           False  0.489326   \n",
      "49            20          150  crossover           False  0.465093   \n",
      "\n",
      "    Sharpe Ratio  Max Drawdown  \n",
      "94      0.394174     -0.348132  \n",
      "90      0.350996     -0.338561  \n",
      "57      0.284348     -0.331003  \n",
      "69      0.249474     -0.457150  \n",
      "49      0.242069     -0.464905  \n",
      "\n",
      "🔍 Evaluating BLK\n"
     ]
    },
    {
     "name": "stderr",
     "output_type": "stream",
     "text": [
      "[*********************100%***********************]  1 of 1 completed\n"
     ]
    },
    {
     "name": "stdout",
     "output_type": "stream",
     "text": [
      "    Short Window  Long Window       Mode  Invert Signals    Return  \\\n",
      "73            30          200  crossover           False  2.180763   \n",
      "53            20          200  crossover           False  1.976252   \n",
      "68            30          150  crossover            True  1.401780   \n",
      "56            20          300  crossover            True  1.313039   \n",
      "94            50          300  crossover            True  1.132051   \n",
      "\n",
      "    Sharpe Ratio  Max Drawdown  \n",
      "73      0.505621     -0.429888  \n",
      "53      0.495842     -0.404133  \n",
      "68      0.436160     -0.292391  \n",
      "56      0.432202     -0.339459  \n",
      "94      0.422783     -0.310159  \n",
      "\n",
      "🔍 Evaluating BMY\n"
     ]
    },
    {
     "name": "stderr",
     "output_type": "stream",
     "text": [
      "[*********************100%***********************]  1 of 1 completed\n"
     ]
    },
    {
     "name": "stdout",
     "output_type": "stream",
     "text": [
      "    Short Window  Long Window       Mode  Invert Signals    Return  \\\n",
      "48            20          150  crossover            True  0.825073   \n",
      "57            20          300  crossover           False  1.092596   \n",
      "64            30          100  crossover            True  0.756836   \n",
      "44            20          100  crossover            True  0.718147   \n",
      "17             5          300  crossover           False  0.837980   \n",
      "\n",
      "    Sharpe Ratio  Max Drawdown  \n",
      "48      0.377508     -0.334341  \n",
      "57      0.375803     -0.507778  \n",
      "64      0.358105     -0.331614  \n",
      "44      0.338255     -0.331611  \n",
      "17      0.329888     -0.448811  \n",
      "\n",
      "🔍 Evaluating BSX\n"
     ]
    },
    {
     "name": "stderr",
     "output_type": "stream",
     "text": [
      "[*********************100%***********************]  1 of 1 completed\n"
     ]
    },
    {
     "name": "stdout",
     "output_type": "stream",
     "text": [
      "    Short Window  Long Window       Mode  Invert Signals    Return  \\\n",
      "77            30          300  crossover           False  3.305358   \n",
      "57            20          300  crossover           False  3.203047   \n",
      "37            10          300  crossover           False  2.895312   \n",
      "90            50          200  crossover            True  2.060272   \n",
      "95            50          300  crossover           False  2.552650   \n",
      "\n",
      "    Sharpe Ratio  Max Drawdown  \n",
      "77      0.579856     -0.438782  \n",
      "57      0.578238     -0.392121  \n",
      "37      0.556777     -0.444037  \n",
      "90      0.539065     -0.304015  \n",
      "95      0.512992     -0.507682  \n",
      "\n",
      "🔍 Evaluating BXP\n"
     ]
    },
    {
     "name": "stderr",
     "output_type": "stream",
     "text": [
      "[*********************100%***********************]  1 of 1 completed\n"
     ]
    },
    {
     "name": "stdout",
     "output_type": "stream",
     "text": [
      "    Short Window  Long Window       Mode  Invert Signals    Return  \\\n",
      "68            30          150  crossover            True  1.502003   \n",
      "72            30          200  crossover            True  1.392996   \n",
      "86            50          150  crossover            True  1.350807   \n",
      "90            50          200  crossover            True  1.169150   \n",
      "64            30          100  crossover            True  1.183445   \n",
      "\n",
      "    Sharpe Ratio  Max Drawdown  \n",
      "68      0.423128     -0.563011  \n",
      "72      0.411545     -0.573727  \n",
      "86      0.409186     -0.518258  \n",
      "90      0.382442     -0.521519  \n",
      "64      0.369666     -0.412924  \n",
      "\n",
      "🔍 Evaluating C\n"
     ]
    },
    {
     "name": "stderr",
     "output_type": "stream",
     "text": [
      "[*********************100%***********************]  1 of 1 completed\n"
     ]
    },
    {
     "name": "stdout",
     "output_type": "stream",
     "text": [
      "    Short Window  Long Window       Mode  Invert Signals    Return  \\\n",
      "76            30          300  crossover            True  0.781241   \n",
      "90            50          200  crossover            True  0.641976   \n",
      "82            50          100  crossover            True  0.557650   \n",
      "94            50          300  crossover            True  0.501720   \n",
      "56            20          300  crossover            True  0.315152   \n",
      "\n",
      "    Sharpe Ratio  Max Drawdown  \n",
      "76      0.288181     -0.460907  \n",
      "90      0.266130     -0.460856  \n",
      "82      0.252216     -0.552810  \n",
      "94      0.241697     -0.460880  \n",
      "56      0.207520     -0.460849  \n",
      "\n",
      "🔍 Evaluating CAG\n"
     ]
    },
    {
     "name": "stderr",
     "output_type": "stream",
     "text": [
      "[*********************100%***********************]  1 of 1 completed\n"
     ]
    },
    {
     "name": "stdout",
     "output_type": "stream",
     "text": [
      "    Short Window  Long Window       Mode  Invert Signals    Return  \\\n",
      "52            20          200  crossover            True  0.763296   \n",
      "32            10          200  crossover            True  0.704316   \n",
      "95            50          300  crossover           False  0.826881   \n",
      "68            30          150  crossover            True  0.634974   \n",
      "64            30          100  crossover            True  0.670061   \n",
      "\n",
      "    Sharpe Ratio  Max Drawdown  \n",
      "52      0.368114     -0.438761  \n",
      "32      0.338312     -0.438760  \n",
      "95      0.325422     -0.338125  \n",
      "68      0.323064     -0.438757  \n",
      "64      0.315427     -0.460091  \n",
      "\n",
      "🔍 Evaluating CAH\n"
     ]
    },
    {
     "name": "stderr",
     "output_type": "stream",
     "text": [
      "[*********************100%***********************]  1 of 1 completed\n"
     ]
    },
    {
     "name": "stdout",
     "output_type": "stream",
     "text": [
      "    Short Window  Long Window       Mode  Invert Signals    Return  \\\n",
      "28            10          150  crossover            True  2.378664   \n",
      "48            20          150  crossover            True  2.146226   \n",
      "64            30          100  crossover            True  2.166915   \n",
      "44            20          100  crossover            True  2.039545   \n",
      "68            30          150  crossover            True  1.716772   \n",
      "\n",
      "    Sharpe Ratio  Max Drawdown  \n",
      "28      0.588369     -0.257589  \n",
      "48      0.567442     -0.257593  \n",
      "64      0.559975     -0.280145  \n",
      "44      0.549125     -0.257585  \n",
      "68      0.516596     -0.257594  \n",
      "\n",
      "🔍 Evaluating CAT\n"
     ]
    },
    {
     "name": "stderr",
     "output_type": "stream",
     "text": [
      "[*********************100%***********************]  1 of 1 completed\n"
     ]
    }
   ],
   "source": [
    "import pandas as pd\n",
    "from itertools import product\n",
    "\n",
    "# Define tickers and parameter grid\n",
    "tickers = tickers = [\n",
    "    \"AAPL\", \"ABT\", \"ADI\", \"ADM\", \"ADP\", \"ADSK\", \"AEE\", \"AEP\", \"AJG\", \"AKAM\",\n",
    "    \"ALB\", \"AMAT\", \"AMD\", \"AME\", \"AMGN\", \"AMT\", \"AMZN\", \"AON\", \"AOS\", \"APA\",\n",
    "    \"APD\", \"APH\", \"ARE\", \"AVB\", \"AVY\", \"AXP\", \"AZO\", \"BA\", \"BAC\", \"BAX\",\n",
    "    \"BBY\", \"BDX\", \"BEN\", \"BIIB\", \"BK\", \"BLK\", \"BMY\", \"BSX\", \"BXP\", \"C\",\n",
    "    \"CAG\", \"CAH\", \"CAT\", \"CB\", \"CCI\", \"CDNS\", \"CHD\", \"CHRW\", \"CINF\", \"CL\",\n",
    "    \"CLX\", \"CMI\", \"CNP\", \"COO\", \"COP\", \"COST\", \"CPB\", \"CPRT\", \"CSCO\", \"CTAS\",\n",
    "    \"CTSH\", \"D\", \"DE\", \"DGX\", \"DHI\", \"DIS\", \"DLTR\", \"DOV\", \"DRI\", \"DTE\",\n",
    "    \"DVA\", \"EA\", \"EBAY\", \"ECL\", \"ED\", \"EFX\", \"EIX\", \"EL\", \"EMN\", \"EMR\",\n",
    "    \"EOG\", \"EQR\", \"ES\", \"ESS\", \"F\", \"FAST\", \"FCX\", \"FDX\", \"FE\", \"FFIV\",\n",
    "    \"FITB\", \"FRT\", \"GD\", \"GE\", \"GILD\", \"GIS\", \"GPC\", \"GWW\", \"HAL\", \"HAS\"\n",
    "]  # Extend list as needed\n",
    "\n",
    "# Parameter grid\n",
    "short_windows = [5, 10, 20, 30, 50]\n",
    "long_windows = [50, 100, 150, 200, 300]\n",
    "modes = ['crossover', 'single']\n",
    "invert_flags = [True, False]\n",
    "\n",
    "# Store results\n",
    "all_results = {}\n",
    "best_params = []\n",
    "\n",
    "# Loop over tickers\n",
    "for ticker in tickers:\n",
    "    print(f\"\\n🔍 Evaluating {ticker}\")\n",
    "    data_handler = DataHandler(ticker=ticker, start_date='2010-01-01', end_date='2024-01-01')\n",
    "    data = data_handler.fetch_data()\n",
    "\n",
    "    results = []\n",
    "\n",
    "    # Test each parameter combination\n",
    "    for short_w, long_w, mode, invert in product(short_windows, long_windows, modes, invert_flags):\n",
    "        if mode == 'crossover' and short_w >= long_w:\n",
    "            continue\n",
    "\n",
    "        strategy = MovingAverage(short_window=short_w, long_window=long_w, mode=mode, invert_signals=invert)\n",
    "        backtest = Backtest(data, strategy, plot_results=False)\n",
    "\n",
    "        try:\n",
    "            result = backtest.run()\n",
    "            results.append({\n",
    "                'Ticker': ticker,\n",
    "                'Short Window': short_w,\n",
    "                'Long Window': long_w,\n",
    "                'Mode': mode,\n",
    "                'Invert Signals': invert,\n",
    "                **result  # Includes Final Value, Return, Sharpe Ratio, Max Drawdown, etc.\n",
    "            })\n",
    "        except Exception as e:\n",
    "            print(f\"❌ Error for {ticker} | short={short_w} long={long_w} mode={mode} invert={invert}: {e}\")\n",
    "            continue\n",
    "\n",
    "    # Save all results for this ticker\n",
    "    all_results[ticker] = results\n",
    "\n",
    "    # Create DataFrame and find best based on Sharpe Ratio\n",
    "    if results:\n",
    "        df = pd.DataFrame(results)\n",
    "        best_row = df.loc[df['Sharpe Ratio'].idxmax()]\n",
    "        best_params.append(best_row)\n",
    "\n",
    "        # Optional: display the per-stock comparison table\n",
    "        print(df[['Short Window', 'Long Window', 'Mode', 'Invert Signals', 'Return', 'Sharpe Ratio', 'Max Drawdown']].sort_values(by='Sharpe Ratio', ascending=False).head())\n",
    "    else:\n",
    "        print(f\"⚠️ No results for {ticker}\")\n",
    "\n",
    "# Compile best strategy per stock\n",
    "best_params_df = pd.DataFrame(best_params)\n",
    "\n",
    "print(\"\\n=== ✅ Summary of Best Parameters by Ticker ===\")\n",
    "print(best_params_df[['Ticker', 'Short Window', 'Long Window', 'Mode', 'Invert Signals', 'Sharpe Ratio', 'Return', 'Max Drawdown']].round(4))\n",
    "\n"
   ]
  },
  {
   "cell_type": "code",
   "execution_count": null,
   "id": "79e3b5e3-5747-465d-bf7c-3209a31da2df",
   "metadata": {},
   "outputs": [],
   "source": []
  }
 ],
 "metadata": {
  "kernelspec": {
   "display_name": "Python 3 (ipykernel)",
   "language": "python",
   "name": "python3"
  },
  "language_info": {
   "codemirror_mode": {
    "name": "ipython",
    "version": 3
   },
   "file_extension": ".py",
   "mimetype": "text/x-python",
   "name": "python",
   "nbconvert_exporter": "python",
   "pygments_lexer": "ipython3",
   "version": "3.11.7"
  }
 },
 "nbformat": 4,
 "nbformat_minor": 5
}
