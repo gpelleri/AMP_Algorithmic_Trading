{
 "cells": [
  {
   "cell_type": "markdown",
   "id": "7dc85ce2-be71-4fca-a8d1-1a530d9024d3",
   "metadata": {},
   "source": []
  },
  {
   "cell_type": "code",
   "execution_count": 2,
   "id": "ba19c792-335e-49bb-a78f-c17f243243e6",
   "metadata": {},
   "outputs": [],
   "source": [
    "import sys\n",
    "import os\n",
    "\n",
    "# Get the parent directory of the \"notebook\" folder\n",
    "project_root = os.path.abspath(os.path.join(os.getcwd(), \"..\"))\n",
    "\n",
    "# Add it to the Python path\n",
    "sys.path.append(project_root)"
   ]
  },
  {
   "cell_type": "code",
   "execution_count": 3,
   "id": "99cc318a-b4c0-431e-b952-d3c7e0badf8b",
   "metadata": {},
   "outputs": [],
   "source": [
    "from strategies.moving_average import MovingAverage\n",
    "from strategies.momentum import MomentumStrategy\n",
    "from utils.backtest import Backtest\n",
    "from utils.data_handler import DataHandler\n",
    "import yfinance as yf\n",
    "import pandas as pd\n",
    "import matplotlib as plt"
   ]
  },
  {
   "cell_type": "code",
   "execution_count": null,
   "id": "8be137e8-a188-4920-a04d-5b987182516f",
   "metadata": {},
   "outputs": [],
   "source": []
  },
  {
   "cell_type": "code",
   "execution_count": null,
   "id": "286135dc-696e-45a5-9065-84a3ca82fe62",
   "metadata": {},
   "outputs": [],
   "source": []
  },
  {
   "cell_type": "code",
   "execution_count": 17,
   "id": "529d86e0-8afc-435f-8408-fdd04780bb41",
   "metadata": {},
   "outputs": [
    {
     "name": "stdout",
     "output_type": "stream",
     "text": [
      "\n",
      "🔍 Evaluating AAPL\n"
     ]
    },
    {
     "name": "stderr",
     "output_type": "stream",
     "text": [
      "[*********************100%***********************]  1 of 1 completed\n"
     ]
    },
    {
     "name": "stdout",
     "output_type": "stream",
     "text": [
      "    Short Window  Long Window       Mode  Invert Signals     Return  \\\n",
      "29            10          150  crossover           False  15.184561   \n",
      "9              5          150  crossover           False  14.665477   \n",
      "49            20          150  crossover           False  11.967918   \n",
      "33            10          200  crossover           False  11.561681   \n",
      "65            30          100  crossover           False  10.681628   \n",
      "\n",
      "    Sharpe Ratio  Max Drawdown  \n",
      "29      1.109179     -0.490607  \n",
      "9       1.101425     -0.463434  \n",
      "49      1.029837     -0.542199  \n",
      "33      1.023296     -0.447550  \n",
      "65      1.016034     -0.450273  \n",
      "\n",
      "🔍 Evaluating ABT\n"
     ]
    },
    {
     "name": "stderr",
     "output_type": "stream",
     "text": [
      "[*********************100%***********************]  1 of 1 completed\n"
     ]
    },
    {
     "name": "stdout",
     "output_type": "stream",
     "text": [
      "    Short Window  Long Window       Mode  Invert Signals    Return  \\\n",
      "52            20          200  crossover            True  0.763379   \n",
      "90            50          200  crossover            True  0.694441   \n",
      "32            10          200  crossover            True  0.644480   \n",
      "56            20          300  crossover            True  0.486502   \n",
      "94            50          300  crossover            True  0.475960   \n",
      "\n",
      "    Sharpe Ratio  Max Drawdown  \n",
      "52      0.497763     -0.147315  \n",
      "90      0.474737     -0.268093  \n",
      "32      0.439230     -0.148706  \n",
      "56      0.410140     -0.164594  \n",
      "94      0.402034     -0.268111  \n",
      "\n",
      "🔍 Evaluating ADI\n"
     ]
    },
    {
     "name": "stderr",
     "output_type": "stream",
     "text": [
      "[*********************100%***********************]  1 of 1 completed\n"
     ]
    },
    {
     "name": "stdout",
     "output_type": "stream",
     "text": [
      "    Short Window  Long Window       Mode  Invert Signals    Return  \\\n",
      "83            50          100  crossover           False  1.364842   \n",
      "65            30          100  crossover           False  0.986940   \n",
      "76            30          300  crossover            True  0.468998   \n",
      "94            50          300  crossover            True  0.446178   \n",
      "69            30          150  crossover           False  0.428480   \n",
      "\n",
      "    Sharpe Ratio  Max Drawdown  \n",
      "83      0.478789     -0.273750  \n",
      "65      0.403376     -0.269282  \n",
      "76      0.271975     -0.506515  \n",
      "94      0.265373     -0.521715  \n",
      "69      0.261232     -0.318970  \n",
      "\n",
      "🔍 Evaluating ADM\n"
     ]
    },
    {
     "name": "stderr",
     "output_type": "stream",
     "text": [
      "[*********************100%***********************]  1 of 1 completed\n"
     ]
    },
    {
     "name": "stdout",
     "output_type": "stream",
     "text": [
      "    Short Window  Long Window       Mode  Invert Signals    Return  \\\n",
      "83            50          100  crossover           False  1.180112   \n",
      "5              5          100  crossover           False  1.011025   \n",
      "65            30          100  crossover           False  0.941461   \n",
      "45            20          100  crossover           False  0.828410   \n",
      "87            50          150  crossover           False  0.827333   \n",
      "\n",
      "    Sharpe Ratio  Max Drawdown  \n",
      "83      0.439054     -0.353889  \n",
      "5       0.390535     -0.373286  \n",
      "65      0.383015     -0.376224  \n",
      "45      0.356882     -0.398345  \n",
      "87      0.356504     -0.414030  \n",
      "\n",
      "🔍 Evaluating ADP\n"
     ]
    },
    {
     "name": "stderr",
     "output_type": "stream",
     "text": [
      "[*********************100%***********************]  1 of 1 completed\n"
     ]
    },
    {
     "name": "stdout",
     "output_type": "stream",
     "text": [
      "    Short Window  Long Window       Mode  Invert Signals    Return  \\\n",
      "64            30          100  crossover            True  1.278127   \n",
      "37            10          300  crossover           False  1.096042   \n",
      "17             5          300  crossover           False  0.987925   \n",
      "57            20          300  crossover           False  0.957676   \n",
      "87            50          150  crossover           False  0.759224   \n",
      "\n",
      "    Sharpe Ratio  Max Drawdown  \n",
      "64      0.579512     -0.182286  \n",
      "37      0.525966     -0.194534  \n",
      "17      0.496920     -0.243517  \n",
      "57      0.480606     -0.271456  \n",
      "87      0.433156     -0.275853  \n",
      "\n",
      "🔍 Evaluating ADSK\n"
     ]
    },
    {
     "name": "stderr",
     "output_type": "stream",
     "text": [
      "[*********************100%***********************]  1 of 1 completed\n"
     ]
    },
    {
     "name": "stdout",
     "output_type": "stream",
     "text": [
      "    Short Window  Long Window       Mode  Invert Signals    Return  \\\n",
      "87            50          150  crossover           False  0.604391   \n",
      "69            30          150  crossover           False  0.446772   \n",
      "91            50          200  crossover           False  0.337439   \n",
      "40            20           50  crossover            True  0.298192   \n",
      "94            50          300  crossover            True  0.288927   \n",
      "\n",
      "    Sharpe Ratio  Max Drawdown  \n",
      "87      0.300365     -0.464576  \n",
      "69      0.261014     -0.400362  \n",
      "91      0.231220     -0.374637  \n",
      "40      0.227446     -0.647536  \n",
      "94      0.224551     -0.716039  \n",
      "\n",
      "🔍 Evaluating AEE\n"
     ]
    },
    {
     "name": "stderr",
     "output_type": "stream",
     "text": [
      "[*********************100%***********************]  1 of 1 completed\n"
     ]
    },
    {
     "name": "stdout",
     "output_type": "stream",
     "text": [
      "    Short Window  Long Window       Mode  Invert Signals    Return  \\\n",
      "64            30          100  crossover            True  0.328184   \n",
      "77            30          300  crossover           False  0.156302   \n",
      "44            20          100  crossover            True  0.159254   \n",
      "68            30          150  crossover            True  0.116113   \n",
      "95            50          300  crossover           False  0.079745   \n",
      "\n",
      "    Sharpe Ratio  Max Drawdown  \n",
      "64      0.237692     -0.442452  \n",
      "77      0.164443     -0.321987  \n",
      "44      0.163500     -0.410950  \n",
      "68      0.144531     -0.556944  \n",
      "95      0.120010     -0.400557  \n",
      "\n",
      "🔍 Evaluating AEP\n"
     ]
    },
    {
     "name": "stderr",
     "output_type": "stream",
     "text": [
      "[*********************100%***********************]  1 of 1 completed\n"
     ]
    },
    {
     "name": "stdout",
     "output_type": "stream",
     "text": [
      "    Short Window  Long Window       Mode  Invert Signals    Return  \\\n",
      "37            10          300  crossover           False  1.092862   \n",
      "95            50          300  crossover           False  1.051010   \n",
      "17             5          300  crossover           False  0.999072   \n",
      "57            20          300  crossover           False  0.985771   \n",
      "77            30          300  crossover           False  0.959172   \n",
      "\n",
      "    Sharpe Ratio  Max Drawdown  \n",
      "37      0.533084     -0.232940  \n",
      "95      0.514479     -0.231573  \n",
      "17      0.505176     -0.223816  \n",
      "57      0.498879     -0.235865  \n",
      "77      0.490194     -0.237904  \n",
      "\n",
      "🔍 Evaluating AJG\n"
     ]
    },
    {
     "name": "stderr",
     "output_type": "stream",
     "text": [
      "[*********************100%***********************]  1 of 1 completed\n"
     ]
    },
    {
     "name": "stdout",
     "output_type": "stream",
     "text": [
      "    Short Window  Long Window       Mode  Invert Signals    Return  \\\n",
      "91            50          200  crossover           False  1.057576   \n",
      "76            30          300  crossover            True  0.851983   \n",
      "56            20          300  crossover            True  0.720196   \n",
      "94            50          300  crossover            True  0.594612   \n",
      "87            50          150  crossover           False  0.599800   \n",
      "\n",
      "    Sharpe Ratio  Max Drawdown  \n",
      "91      0.485923     -0.248836  \n",
      "76      0.468424     -0.188165  \n",
      "56      0.408585     -0.216844  \n",
      "94      0.376110     -0.306036  \n",
      "87      0.345354     -0.246697  \n",
      "\n",
      "🔍 Evaluating AKAM\n"
     ]
    },
    {
     "name": "stderr",
     "output_type": "stream",
     "text": [
      "[*********************100%***********************]  1 of 1 completed\n"
     ]
    },
    {
     "name": "stdout",
     "output_type": "stream",
     "text": [
      "    Short Window  Long Window       Mode  Invert Signals    Return  \\\n",
      "49            20          150  crossover           False  4.141142   \n",
      "33            10          200  crossover           False  3.823470   \n",
      "65            30          100  crossover           False  3.446018   \n",
      "29            10          150  crossover           False  3.349988   \n",
      "73            30          200  crossover           False  3.040185   \n",
      "\n",
      "    Sharpe Ratio  Max Drawdown  \n",
      "49      0.613362     -0.458391  \n",
      "33      0.598390     -0.426751  \n",
      "65      0.574394     -0.648566  \n",
      "29      0.565440     -0.507313  \n",
      "73      0.550388     -0.503000  \n",
      "\n",
      "🔍 Evaluating ALB\n"
     ]
    },
    {
     "name": "stderr",
     "output_type": "stream",
     "text": [
      "[*********************100%***********************]  1 of 1 completed\n"
     ]
    },
    {
     "name": "stdout",
     "output_type": "stream",
     "text": [
      "    Short Window  Long Window       Mode  Invert Signals    Return  \\\n",
      "37            10          300  crossover           False  0.738540   \n",
      "73            30          200  crossover           False  0.681681   \n",
      "33            10          200  crossover           False  0.670445   \n",
      "95            50          300  crossover           False  0.642685   \n",
      "57            20          300  crossover           False  0.620920   \n",
      "\n",
      "    Sharpe Ratio  Max Drawdown  \n",
      "37      0.336436     -0.515981  \n",
      "73      0.318042     -0.512042  \n",
      "33      0.315688     -0.549106  \n",
      "95      0.310061     -0.585055  \n",
      "57      0.307092     -0.480246  \n",
      "\n",
      "🔍 Evaluating AMAT\n"
     ]
    },
    {
     "name": "stderr",
     "output_type": "stream",
     "text": [
      "[*********************100%***********************]  1 of 1 completed\n"
     ]
    },
    {
     "name": "stdout",
     "output_type": "stream",
     "text": [
      "    Short Window  Long Window       Mode  Invert Signals    Return  \\\n",
      "53            20          200  crossover           False  0.323401   \n",
      "25            10          100  crossover           False  0.258869   \n",
      "49            20          150  crossover           False  0.208228   \n",
      "91            50          200  crossover           False  0.196538   \n",
      "45            20          100  crossover           False  0.150372   \n",
      "\n",
      "    Sharpe Ratio  Max Drawdown  \n",
      "53      0.226923     -0.458118  \n",
      "25      0.204875     -0.445116  \n",
      "49      0.187281     -0.455821  \n",
      "91      0.182520     -0.484340  \n",
      "45      0.166976     -0.425139  \n",
      "\n",
      "🔍 Evaluating AMD\n"
     ]
    },
    {
     "name": "stderr",
     "output_type": "stream",
     "text": [
      "[*********************100%***********************]  1 of 1 completed\n"
     ]
    },
    {
     "name": "stdout",
     "output_type": "stream",
     "text": [
      "    Short Window  Long Window       Mode  Invert Signals    Return  \\\n",
      "69            30          150  crossover           False  1.016026   \n",
      "49            20          150  crossover           False  0.820982   \n",
      "87            50          150  crossover           False  0.727410   \n",
      "29            10          150  crossover           False  0.390894   \n",
      "33            10          200  crossover           False  0.343492   \n",
      "\n",
      "    Sharpe Ratio  Max Drawdown  \n",
      "69      0.362326     -0.549987  \n",
      "49      0.331625     -0.559145  \n",
      "87      0.315362     -0.582528  \n",
      "29      0.251589     -0.562731  \n",
      "33      0.238962     -0.595964  \n",
      "\n",
      "🔍 Evaluating AME\n"
     ]
    },
    {
     "name": "stderr",
     "output_type": "stream",
     "text": [
      "[*********************100%***********************]  1 of 1 completed\n"
     ]
    },
    {
     "name": "stdout",
     "output_type": "stream",
     "text": [
      "    Short Window  Long Window       Mode  Invert Signals    Return  \\\n",
      "83            50          100  crossover           False  2.348151   \n",
      "91            50          200  crossover           False  2.513431   \n",
      "87            50          150  crossover           False  2.469459   \n",
      "77            30          300  crossover           False  2.391759   \n",
      "73            30          200  crossover           False  2.337254   \n",
      "\n",
      "    Sharpe Ratio  Max Drawdown  \n",
      "83      0.659422     -0.212197  \n",
      "91      0.652898     -0.326635  \n",
      "87      0.650784     -0.309523  \n",
      "77      0.642157     -0.277542  \n",
      "73      0.633144     -0.287034  \n",
      "\n",
      "🔍 Evaluating AMGN\n"
     ]
    },
    {
     "name": "stderr",
     "output_type": "stream",
     "text": [
      "[*********************100%***********************]  1 of 1 completed\n"
     ]
    },
    {
     "name": "stdout",
     "output_type": "stream",
     "text": [
      "    Short Window  Long Window       Mode  Invert Signals    Return  \\\n",
      "76            30          300  crossover            True  0.689506   \n",
      "90            50          200  crossover            True  0.690838   \n",
      "86            50          150  crossover            True  0.702113   \n",
      "72            30          200  crossover            True  0.476645   \n",
      "68            30          150  crossover            True  0.453523   \n",
      "\n",
      "    Sharpe Ratio  Max Drawdown  \n",
      "76      0.393498     -0.472806  \n",
      "90      0.391677     -0.385963  \n",
      "86      0.391411     -0.373796  \n",
      "72      0.309524     -0.390320  \n",
      "68      0.295592     -0.390769  \n",
      "\n",
      "🔍 Evaluating AMT\n"
     ]
    },
    {
     "name": "stderr",
     "output_type": "stream",
     "text": [
      "[*********************100%***********************]  1 of 1 completed\n"
     ]
    },
    {
     "name": "stdout",
     "output_type": "stream",
     "text": [
      "    Short Window  Long Window       Mode  Invert Signals    Return  \\\n",
      "91            50          200  crossover           False  1.952535   \n",
      "45            20          100  crossover           False  1.648811   \n",
      "53            20          200  crossover           False  1.416307   \n",
      "65            30          100  crossover           False  1.384187   \n",
      "69            30          150  crossover           False  1.222592   \n",
      "\n",
      "    Sharpe Ratio  Max Drawdown  \n",
      "91      0.584847     -0.361844  \n",
      "45      0.541014     -0.346583  \n",
      "53      0.503484     -0.442274  \n",
      "65      0.489207     -0.383799  \n",
      "69      0.458404     -0.416767  \n",
      "\n",
      "🔍 Evaluating AMZN\n"
     ]
    },
    {
     "name": "stderr",
     "output_type": "stream",
     "text": [
      "[*********************100%***********************]  1 of 1 completed\n"
     ]
    },
    {
     "name": "stdout",
     "output_type": "stream",
     "text": [
      "    Short Window  Long Window       Mode  Invert Signals    Return  \\\n",
      "95            50          300  crossover           False  7.276981   \n",
      "57            20          300  crossover           False  6.258821   \n",
      "83            50          100  crossover           False  5.848667   \n",
      "73            30          200  crossover           False  5.086287   \n",
      "33            10          200  crossover           False  4.742802   \n",
      "\n",
      "    Sharpe Ratio  Max Drawdown  \n",
      "95      0.771928     -0.380775  \n",
      "57      0.727919     -0.441475  \n",
      "83      0.693757     -0.416309  \n",
      "73      0.677070     -0.428989  \n",
      "33      0.668728     -0.408417  \n",
      "\n",
      "🔍 Evaluating AON\n"
     ]
    },
    {
     "name": "stderr",
     "output_type": "stream",
     "text": [
      "[*********************100%***********************]  1 of 1 completed\n"
     ]
    },
    {
     "name": "stdout",
     "output_type": "stream",
     "text": [
      "    Short Window  Long Window       Mode  Invert Signals    Return  \\\n",
      "94            50          300  crossover            True  1.122339   \n",
      "45            20          100  crossover           False  1.414429   \n",
      "83            50          100  crossover           False  1.445881   \n",
      "65            30          100  crossover           False  1.375044   \n",
      "90            50          200  crossover            True  1.029260   \n",
      "\n",
      "    Sharpe Ratio  Max Drawdown  \n",
      "94      0.569272     -0.226627  \n",
      "45      0.548714     -0.385817  \n",
      "83      0.546044     -0.388846  \n",
      "65      0.526296     -0.436231  \n",
      "90      0.511499     -0.226643  \n",
      "\n",
      "🔍 Evaluating AOS\n"
     ]
    },
    {
     "name": "stderr",
     "output_type": "stream",
     "text": [
      "[*********************100%***********************]  1 of 1 completed\n"
     ]
    },
    {
     "name": "stdout",
     "output_type": "stream",
     "text": [
      "    Short Window  Long Window       Mode  Invert Signals    Return  \\\n",
      "87            50          150  crossover           False  6.854468   \n",
      "83            50          100  crossover           False  4.880559   \n",
      "91            50          200  crossover           False  4.588124   \n",
      "53            20          200  crossover           False  4.008899   \n",
      "33            10          200  crossover           False  3.686893   \n",
      "\n",
      "    Sharpe Ratio  Max Drawdown  \n",
      "87      0.875157     -0.431698  \n",
      "83      0.769193     -0.484228  \n",
      "91      0.740124     -0.584585  \n",
      "53      0.721049     -0.482219  \n",
      "33      0.701151     -0.493096  \n",
      "\n",
      "🔍 Evaluating APA\n"
     ]
    },
    {
     "name": "stderr",
     "output_type": "stream",
     "text": [
      "[*********************100%***********************]  1 of 1 completed\n"
     ]
    },
    {
     "name": "stdout",
     "output_type": "stream",
     "text": [
      "    Short Window  Long Window       Mode  Invert Signals    Return  \\\n",
      "60            30           50  crossover            True  0.157429   \n",
      "20            10           50  crossover            True -0.108421   \n",
      "44            20          100  crossover            True -0.141759   \n",
      "76            30          300  crossover            True -0.122576   \n",
      "40            20           50  crossover            True -0.145353   \n",
      "\n",
      "    Sharpe Ratio  Max Drawdown  \n",
      "60      0.192381     -0.589784  \n",
      "20      0.108862     -0.648355  \n",
      "44      0.105368     -0.691037  \n",
      "76      0.102462     -0.597937  \n",
      "40      0.100281     -0.647440  \n",
      "\n",
      "🔍 Evaluating APD\n"
     ]
    },
    {
     "name": "stderr",
     "output_type": "stream",
     "text": [
      "[*********************100%***********************]  1 of 1 completed\n"
     ]
    },
    {
     "name": "stdout",
     "output_type": "stream",
     "text": [
      "    Short Window  Long Window       Mode  Invert Signals    Return  \\\n",
      "83            50          100  crossover           False  1.727771   \n",
      "73            30          200  crossover           False  1.626397   \n",
      "49            20          150  crossover           False  1.377456   \n",
      "69            30          150  crossover           False  1.349752   \n",
      "53            20          200  crossover           False  1.213385   \n",
      "\n",
      "    Sharpe Ratio  Max Drawdown  \n",
      "83      0.586717     -0.263109  \n",
      "73      0.569954     -0.330965  \n",
      "49      0.529235     -0.310570  \n",
      "69      0.522365     -0.357057  \n",
      "53      0.486802     -0.307546  \n",
      "\n",
      "🔍 Evaluating APH\n"
     ]
    },
    {
     "name": "stderr",
     "output_type": "stream",
     "text": [
      "[*********************100%***********************]  1 of 1 completed\n"
     ]
    },
    {
     "name": "stdout",
     "output_type": "stream",
     "text": [
      "    Short Window  Long Window       Mode  Invert Signals    Return  \\\n",
      "83            50          100  crossover           False  3.082867   \n",
      "69            30          150  crossover           False  2.581384   \n",
      "65            30          100  crossover           False  2.424539   \n",
      "73            30          200  crossover           False  2.409355   \n",
      "33            10          200  crossover           False  2.347000   \n",
      "\n",
      "    Sharpe Ratio  Max Drawdown  \n",
      "83      0.666755     -0.421681  \n",
      "69      0.613993     -0.396539  \n",
      "65      0.598893     -0.318442  \n",
      "73      0.598297     -0.462114  \n",
      "33      0.594816     -0.317221  \n",
      "\n",
      "🔍 Evaluating ARE\n"
     ]
    },
    {
     "name": "stderr",
     "output_type": "stream",
     "text": [
      "[*********************100%***********************]  1 of 1 completed\n"
     ]
    },
    {
     "name": "stdout",
     "output_type": "stream",
     "text": [
      "    Short Window  Long Window       Mode  Invert Signals    Return  \\\n",
      "60            30           50  crossover            True  0.448170   \n",
      "76            30          300  crossover            True  0.399221   \n",
      "40            20           50  crossover            True  0.370681   \n",
      "33            10          200  crossover           False  0.356965   \n",
      "16             5          300  crossover            True  0.197904   \n",
      "\n",
      "    Sharpe Ratio  Max Drawdown  \n",
      "60      0.262402     -0.652936  \n",
      "76      0.251857     -0.558706  \n",
      "40      0.245021     -0.658766  \n",
      "33      0.237676     -0.412504  \n",
      "16      0.207778     -0.667585  \n",
      "\n",
      "🔍 Evaluating AVB\n"
     ]
    },
    {
     "name": "stderr",
     "output_type": "stream",
     "text": [
      "[*********************100%***********************]  1 of 1 completed\n"
     ]
    },
    {
     "name": "stdout",
     "output_type": "stream",
     "text": [
      "    Short Window  Long Window       Mode  Invert Signals    Return  \\\n",
      "87            50          150  crossover           False  2.754738   \n",
      "73            30          200  crossover           False  2.490719   \n",
      "77            30          300  crossover           False  1.988625   \n",
      "69            30          150  crossover           False  2.310946   \n",
      "95            50          300  crossover           False  1.757665   \n",
      "\n",
      "    Sharpe Ratio  Max Drawdown  \n",
      "87      0.655622     -0.345560  \n",
      "73      0.641421     -0.422152  \n",
      "77      0.616015     -0.275254  \n",
      "69      0.609913     -0.451207  \n",
      "95      0.586650     -0.314482  \n",
      "\n",
      "🔍 Evaluating AVY\n"
     ]
    },
    {
     "name": "stderr",
     "output_type": "stream",
     "text": [
      "[*********************100%***********************]  1 of 1 completed\n"
     ]
    },
    {
     "name": "stdout",
     "output_type": "stream",
     "text": [
      "    Short Window  Long Window       Mode  Invert Signals    Return  \\\n",
      "91            50          200  crossover           False  1.239718   \n",
      "73            30          200  crossover           False  0.865259   \n",
      "37            10          300  crossover           False  0.822681   \n",
      "77            30          300  crossover           False  0.677869   \n",
      "33            10          200  crossover           False  0.668655   \n",
      "\n",
      "    Sharpe Ratio  Max Drawdown  \n",
      "91      0.506951     -0.282290  \n",
      "73      0.418964     -0.352992  \n",
      "37      0.398456     -0.380467  \n",
      "77      0.355657     -0.294778  \n",
      "33      0.353286     -0.388334  \n",
      "\n",
      "🔍 Evaluating AXP\n"
     ]
    },
    {
     "name": "stderr",
     "output_type": "stream",
     "text": [
      "[*********************100%***********************]  1 of 1 completed\n"
     ]
    },
    {
     "name": "stdout",
     "output_type": "stream",
     "text": [
      "    Short Window  Long Window       Mode  Invert Signals    Return  \\\n",
      "77            30          300  crossover           False  1.801543   \n",
      "57            20          300  crossover           False  1.739085   \n",
      "95            50          300  crossover           False  1.626028   \n",
      "37            10          300  crossover           False  1.516139   \n",
      "73            30          200  crossover           False  1.506039   \n",
      "\n",
      "    Sharpe Ratio  Max Drawdown  \n",
      "77      0.565419     -0.215160  \n",
      "57      0.557521     -0.222595  \n",
      "95      0.534435     -0.216450  \n",
      "37      0.519717     -0.224695  \n",
      "73      0.506544     -0.272329  \n",
      "\n",
      "🔍 Evaluating AZO\n"
     ]
    },
    {
     "name": "stderr",
     "output_type": "stream",
     "text": [
      "[*********************100%***********************]  1 of 1 completed\n"
     ]
    },
    {
     "name": "stdout",
     "output_type": "stream",
     "text": [
      "    Short Window  Long Window       Mode  Invert Signals    Return  \\\n",
      "95            50          300  crossover           False  3.734187   \n",
      "73            30          200  crossover           False  2.315815   \n",
      "77            30          300  crossover           False  2.288592   \n",
      "87            50          150  crossover           False  2.275918   \n",
      "29            10          150  crossover           False  1.979339   \n",
      "\n",
      "    Sharpe Ratio  Max Drawdown  \n",
      "95      0.824199     -0.306357  \n",
      "73      0.697219     -0.299778  \n",
      "77      0.679152     -0.483487  \n",
      "87      0.678150     -0.361444  \n",
      "29      0.653849     -0.335495  \n",
      "\n",
      "🔍 Evaluating BA\n"
     ]
    },
    {
     "name": "stderr",
     "output_type": "stream",
     "text": [
      "[*********************100%***********************]  1 of 1 completed\n"
     ]
    },
    {
     "name": "stdout",
     "output_type": "stream",
     "text": [
      "    Short Window  Long Window       Mode  Invert Signals    Return  \\\n",
      "57            20          300  crossover           False  1.801453   \n",
      "95            50          300  crossover           False  1.676439   \n",
      "77            30          300  crossover           False  1.545666   \n",
      "65            30          100  crossover           False  1.361523   \n",
      "45            20          100  crossover           False  1.315575   \n",
      "\n",
      "    Sharpe Ratio  Max Drawdown  \n",
      "57      0.593263     -0.289631  \n",
      "95      0.564563     -0.273188  \n",
      "77      0.543019     -0.286687  \n",
      "65      0.514539     -0.411678  \n",
      "45      0.507190     -0.395039  \n",
      "\n",
      "🔍 Evaluating BAC\n"
     ]
    },
    {
     "name": "stderr",
     "output_type": "stream",
     "text": [
      "[*********************100%***********************]  1 of 1 completed\n"
     ]
    },
    {
     "name": "stdout",
     "output_type": "stream",
     "text": [
      "    Short Window  Long Window       Mode  Invert Signals    Return  \\\n",
      "45            20          100  crossover           False  0.516316   \n",
      "95            50          300  crossover           False  0.426781   \n",
      "25            10          100  crossover           False  0.452661   \n",
      "73            30          200  crossover           False  0.426622   \n",
      "53            20          200  crossover           False  0.415557   \n",
      "\n",
      "    Sharpe Ratio  Max Drawdown  \n",
      "45      0.276758     -0.519022  \n",
      "95      0.272411     -0.338140  \n",
      "25      0.263259     -0.541581  \n",
      "73      0.261551     -0.445889  \n",
      "53      0.258048     -0.436624  \n",
      "\n",
      "🔍 Evaluating BAX\n"
     ]
    },
    {
     "name": "stderr",
     "output_type": "stream",
     "text": [
      "[*********************100%***********************]  1 of 1 completed\n"
     ]
    },
    {
     "name": "stdout",
     "output_type": "stream",
     "text": [
      "    Short Window  Long Window       Mode  Invert Signals    Return  \\\n",
      "94            50          300  crossover            True  1.293148   \n",
      "90            50          200  crossover            True  1.009417   \n",
      "56            20          300  crossover            True  0.876500   \n",
      "86            50          150  crossover            True  0.937283   \n",
      "72            30          200  crossover            True  0.740188   \n",
      "\n",
      "    Sharpe Ratio  Max Drawdown  \n",
      "94      0.743966     -0.224732  \n",
      "90      0.562499     -0.224739  \n",
      "56      0.521433     -0.240406  \n",
      "86      0.509365     -0.240417  \n",
      "72      0.451064     -0.240412  \n",
      "\n",
      "🔍 Evaluating BBY\n"
     ]
    },
    {
     "name": "stderr",
     "output_type": "stream",
     "text": [
      "[*********************100%***********************]  1 of 1 completed\n"
     ]
    },
    {
     "name": "stdout",
     "output_type": "stream",
     "text": [
      "    Short Window  Long Window       Mode  Invert Signals    Return  \\\n",
      "82            50          100  crossover            True  0.797202   \n",
      "86            50          150  crossover            True  0.727035   \n",
      "64            30          100  crossover            True  0.671322   \n",
      "56            20          300  crossover            True  0.421451   \n",
      "94            50          300  crossover            True  0.301318   \n",
      "\n",
      "    Sharpe Ratio  Max Drawdown  \n",
      "82      0.327249     -0.573394  \n",
      "86      0.314941     -0.595681  \n",
      "64      0.305467     -0.527327  \n",
      "56      0.257226     -0.665494  \n",
      "94      0.231931     -0.664048  \n",
      "\n",
      "🔍 Evaluating BDX\n"
     ]
    },
    {
     "name": "stderr",
     "output_type": "stream",
     "text": [
      "[*********************100%***********************]  1 of 1 completed\n"
     ]
    },
    {
     "name": "stdout",
     "output_type": "stream",
     "text": [
      "    Short Window  Long Window       Mode  Invert Signals    Return  \\\n",
      "91            50          200  crossover           False  1.509927   \n",
      "57            20          300  crossover           False  1.356489   \n",
      "73            30          200  crossover           False  1.303884   \n",
      "37            10          300  crossover           False  1.218728   \n",
      "53            20          200  crossover           False  1.266286   \n",
      "\n",
      "    Sharpe Ratio  Max Drawdown  \n",
      "91      0.631797     -0.222912  \n",
      "57      0.615494     -0.270148  \n",
      "73      0.579427     -0.297295  \n",
      "37      0.575350     -0.277928  \n",
      "53      0.570937     -0.285799  \n",
      "\n",
      "🔍 Evaluating BEN\n"
     ]
    },
    {
     "name": "stderr",
     "output_type": "stream",
     "text": [
      "[*********************100%***********************]  1 of 1 completed\n"
     ]
    },
    {
     "name": "stdout",
     "output_type": "stream",
     "text": [
      "    Short Window  Long Window       Mode  Invert Signals    Return  \\\n",
      "5              5          100  crossover           False  0.823695   \n",
      "77            30          300  crossover           False  0.582396   \n",
      "53            20          200  crossover           False  0.571583   \n",
      "45            20          100  crossover           False  0.548766   \n",
      "49            20          150  crossover           False  0.535441   \n",
      "\n",
      "    Sharpe Ratio  Max Drawdown  \n",
      "5       0.377012     -0.435345  \n",
      "77      0.309106     -0.325230  \n",
      "53      0.304485     -0.338230  \n",
      "45      0.293464     -0.456121  \n",
      "49      0.289428     -0.371660  \n",
      "\n",
      "🔍 Evaluating BIIB\n"
     ]
    },
    {
     "name": "stderr",
     "output_type": "stream",
     "text": [
      "[*********************100%***********************]  1 of 1 completed\n"
     ]
    },
    {
     "name": "stdout",
     "output_type": "stream",
     "text": [
      "    Short Window  Long Window       Mode  Invert Signals    Return  \\\n",
      "37            10          300  crossover           False  2.866370   \n",
      "73            30          200  crossover           False  2.594831   \n",
      "83            50          100  crossover           False  2.254658   \n",
      "17             5          300  crossover           False  2.539947   \n",
      "20            10           50  crossover            True  1.666917   \n",
      "\n",
      "    Sharpe Ratio  Max Drawdown  \n",
      "37      0.573586     -0.540419  \n",
      "73      0.566996     -0.518536  \n",
      "83      0.548830     -0.588959  \n",
      "17      0.545260     -0.550696  \n",
      "20      0.522017     -0.285973  \n",
      "\n",
      "🔍 Evaluating BK\n"
     ]
    },
    {
     "name": "stderr",
     "output_type": "stream",
     "text": [
      "[*********************100%***********************]  1 of 1 completed\n"
     ]
    },
    {
     "name": "stdout",
     "output_type": "stream",
     "text": [
      "    Short Window  Long Window       Mode  Invert Signals    Return  \\\n",
      "83            50          100  crossover           False  0.462297   \n",
      "73            30          200  crossover           False  0.446561   \n",
      "60            30           50  crossover            True  0.358261   \n",
      "69            30          150  crossover           False  0.396874   \n",
      "87            50          150  crossover           False  0.388693   \n",
      "\n",
      "    Sharpe Ratio  Max Drawdown  \n",
      "83      0.273071     -0.291110  \n",
      "73      0.267316     -0.491669  \n",
      "60      0.252073     -0.464446  \n",
      "69      0.249096     -0.331518  \n",
      "87      0.248572     -0.416932  \n",
      "\n",
      "🔍 Evaluating BLK\n"
     ]
    },
    {
     "name": "stderr",
     "output_type": "stream",
     "text": [
      "[*********************100%***********************]  1 of 1 completed\n"
     ]
    },
    {
     "name": "stdout",
     "output_type": "stream",
     "text": [
      "    Short Window  Long Window       Mode  Invert Signals    Return  \\\n",
      "65            30          100  crossover           False  2.796938   \n",
      "53            20          200  crossover           False  2.118101   \n",
      "45            20          100  crossover           False  1.958821   \n",
      "49            20          150  crossover           False  2.021810   \n",
      "87            50          150  crossover           False  1.886417   \n",
      "\n",
      "    Sharpe Ratio  Max Drawdown  \n",
      "65      0.618412     -0.482528  \n",
      "53      0.541984     -0.419859  \n",
      "45      0.527007     -0.524444  \n",
      "49      0.526407     -0.522687  \n",
      "87      0.506578     -0.543550  \n",
      "\n",
      "🔍 Evaluating BMY\n"
     ]
    },
    {
     "name": "stderr",
     "output_type": "stream",
     "text": [
      "[*********************100%***********************]  1 of 1 completed\n"
     ]
    },
    {
     "name": "stdout",
     "output_type": "stream",
     "text": [
      "    Short Window  Long Window       Mode  Invert Signals    Return  \\\n",
      "95            50          300  crossover           False  2.454847   \n",
      "77            30          300  crossover           False  1.905205   \n",
      "57            20          300  crossover           False  1.704207   \n",
      "91            50          200  crossover           False  1.554510   \n",
      "73            30          200  crossover           False  1.403565   \n",
      "\n",
      "    Sharpe Ratio  Max Drawdown  \n",
      "95      0.677817     -0.449049  \n",
      "77      0.607135     -0.397460  \n",
      "57      0.575799     -0.402107  \n",
      "91      0.548775     -0.370235  \n",
      "73      0.524641     -0.315546  \n",
      "\n",
      "🔍 Evaluating BSX\n"
     ]
    },
    {
     "name": "stderr",
     "output_type": "stream",
     "text": [
      "[*********************100%***********************]  1 of 1 completed\n"
     ]
    },
    {
     "name": "stdout",
     "output_type": "stream",
     "text": [
      "    Short Window  Long Window       Mode  Invert Signals    Return  \\\n",
      "49            20          150  crossover           False  0.830215   \n",
      "69            30          150  crossover           False  0.724758   \n",
      "37            10          300  crossover           False  0.645182   \n",
      "87            50          150  crossover           False  0.652942   \n",
      "95            50          300  crossover           False  0.532170   \n",
      "\n",
      "    Sharpe Ratio  Max Drawdown  \n",
      "49      0.384249     -0.340671  \n",
      "69      0.354675     -0.418219  \n",
      "37      0.339115     -0.523474  \n",
      "87      0.335825     -0.367560  \n",
      "95      0.303426     -0.438045  \n",
      "\n",
      "🔍 Evaluating BXP\n"
     ]
    },
    {
     "name": "stderr",
     "output_type": "stream",
     "text": [
      "[*********************100%***********************]  1 of 1 completed\n"
     ]
    },
    {
     "name": "stdout",
     "output_type": "stream",
     "text": [
      "    Short Window  Long Window       Mode  Invert Signals    Return  \\\n",
      "49            20          150  crossover           False  1.532547   \n",
      "87            50          150  crossover           False  1.562858   \n",
      "69            30          150  crossover           False  1.462933   \n",
      "33            10          200  crossover           False  1.121092   \n",
      "29            10          150  crossover           False  1.173164   \n",
      "\n",
      "    Sharpe Ratio  Max Drawdown  \n",
      "49      0.491043     -0.408527  \n",
      "87      0.488235     -0.445755  \n",
      "69      0.476671     -0.438899  \n",
      "33      0.432964     -0.409113  \n",
      "29      0.429810     -0.472881  \n",
      "\n",
      "🔍 Evaluating C\n"
     ]
    },
    {
     "name": "stderr",
     "output_type": "stream",
     "text": [
      "[*********************100%***********************]  1 of 1 completed\n"
     ]
    },
    {
     "name": "stdout",
     "output_type": "stream",
     "text": [
      "    Short Window  Long Window       Mode  Invert Signals    Return  \\\n",
      "95            50          300  crossover           False  0.027998   \n",
      "77            30          300  crossover           False -0.123724   \n",
      "72            30          200  crossover            True -0.813605   \n",
      "37            10          300  crossover           False -0.159219   \n",
      "90            50          200  crossover            True -0.834554   \n",
      "\n",
      "    Sharpe Ratio  Max Drawdown  \n",
      "95      0.100452     -0.406467  \n",
      "77      0.013674     -0.388069  \n",
      "72     -0.003347     -0.977791  \n",
      "37     -0.008939     -0.409245  \n",
      "90     -0.022428     -0.977883  \n",
      "\n",
      "🔍 Evaluating CAG\n"
     ]
    },
    {
     "name": "stderr",
     "output_type": "stream",
     "text": [
      "[*********************100%***********************]  1 of 1 completed\n"
     ]
    },
    {
     "name": "stdout",
     "output_type": "stream",
     "text": [
      "    Short Window  Long Window       Mode  Invert Signals    Return  \\\n",
      "95            50          300  crossover           False  0.906541   \n",
      "77            30          300  crossover           False  0.919220   \n",
      "29            10          150  crossover           False  0.831575   \n",
      "53            20          200  crossover           False  0.805678   \n",
      "73            30          200  crossover           False  0.803189   \n",
      "\n",
      "    Sharpe Ratio  Max Drawdown  \n",
      "95      0.486508     -0.234922  \n",
      "77      0.479469     -0.289112  \n",
      "29      0.458288     -0.303593  \n",
      "53      0.443660     -0.291735  \n",
      "73      0.442347     -0.284806  \n",
      "\n",
      "🔍 Evaluating CAH\n"
     ]
    },
    {
     "name": "stderr",
     "output_type": "stream",
     "text": [
      "[*********************100%***********************]  1 of 1 completed\n"
     ]
    },
    {
     "name": "stdout",
     "output_type": "stream",
     "text": [
      "    Short Window  Long Window       Mode  Invert Signals    Return  \\\n",
      "83            50          100  crossover           False  1.790545   \n",
      "87            50          150  crossover           False  1.340608   \n",
      "91            50          200  crossover           False  1.308752   \n",
      "73            30          200  crossover           False  1.171203   \n",
      "69            30          150  crossover           False  1.038442   \n",
      "\n",
      "    Sharpe Ratio  Max Drawdown  \n",
      "83      0.670781     -0.277198  \n",
      "87      0.598640     -0.257957  \n",
      "91      0.579710     -0.259483  \n",
      "73      0.544624     -0.327708  \n",
      "69      0.492274     -0.343472  \n",
      "\n",
      "🔍 Evaluating CAT\n"
     ]
    },
    {
     "name": "stderr",
     "output_type": "stream",
     "text": [
      "[*********************100%***********************]  1 of 1 completed\n"
     ]
    },
    {
     "name": "stdout",
     "output_type": "stream",
     "text": [
      "    Short Window  Long Window       Mode  Invert Signals    Return  \\\n",
      "83            50          100  crossover           False  2.030834   \n",
      "87            50          150  crossover           False  1.871303   \n",
      "69            30          150  crossover           False  1.823273   \n",
      "65            30          100  crossover           False  1.461527   \n",
      "91            50          200  crossover           False  1.051552   \n",
      "\n",
      "    Sharpe Ratio  Max Drawdown  \n",
      "83      0.604256     -0.392660  \n",
      "87      0.568626     -0.392621  \n",
      "69      0.552043     -0.394034  \n",
      "65      0.505970     -0.388130  \n",
      "91      0.422166     -0.544767  \n",
      "\n",
      "🔍 Evaluating CB\n"
     ]
    },
    {
     "name": "stderr",
     "output_type": "stream",
     "text": [
      "[*********************100%***********************]  1 of 1 completed\n"
     ]
    },
    {
     "name": "stdout",
     "output_type": "stream",
     "text": [
      "    Short Window  Long Window       Mode  Invert Signals    Return  \\\n",
      "24            10          100  crossover            True  1.337593   \n",
      "4              5          100  crossover            True  1.097120   \n",
      "73            30          200  crossover           False  0.711316   \n",
      "77            30          300  crossover           False  0.716866   \n",
      "57            20          300  crossover           False  0.665117   \n",
      "\n",
      "    Sharpe Ratio  Max Drawdown  \n",
      "24      0.460766     -0.360215  \n",
      "4       0.413119     -0.360207  \n",
      "73      0.374167     -0.369512  \n",
      "77      0.370787     -0.245877  \n",
      "57      0.356339     -0.241591  \n",
      "\n",
      "🔍 Evaluating CCI\n"
     ]
    },
    {
     "name": "stderr",
     "output_type": "stream",
     "text": [
      "[*********************100%***********************]  1 of 1 completed\n"
     ]
    },
    {
     "name": "stdout",
     "output_type": "stream",
     "text": [
      "    Short Window  Long Window       Mode  Invert Signals    Return  \\\n",
      "83            50          100  crossover           False  2.713160   \n",
      "87            50          150  crossover           False  1.825307   \n",
      "91            50          200  crossover           False  1.702784   \n",
      "65            30          100  crossover           False  1.761431   \n",
      "95            50          300  crossover           False  1.533484   \n",
      "\n",
      "    Sharpe Ratio  Max Drawdown  \n",
      "83      0.658366     -0.306829  \n",
      "87      0.560417     -0.335720  \n",
      "91      0.543015     -0.306313  \n",
      "65      0.521770     -0.412411  \n",
      "95      0.519985     -0.327397  \n",
      "\n",
      "🔍 Evaluating CDNS\n"
     ]
    },
    {
     "name": "stderr",
     "output_type": "stream",
     "text": [
      "[*********************100%***********************]  1 of 1 completed\n"
     ]
    },
    {
     "name": "stdout",
     "output_type": "stream",
     "text": [
      "    Short Window  Long Window       Mode  Invert Signals    Return  \\\n",
      "25            10          100  crossover           False  2.118537   \n",
      "45            20          100  crossover           False  1.401639   \n",
      "29            10          150  crossover           False  1.155398   \n",
      "95            50          300  crossover           False  1.164891   \n",
      "73            30          200  crossover           False  1.079688   \n",
      "\n",
      "    Sharpe Ratio  Max Drawdown  \n",
      "25      0.569213     -0.379871  \n",
      "45      0.459285     -0.383356  \n",
      "29      0.427506     -0.427887  \n",
      "95      0.422325     -0.391046  \n",
      "73      0.412935     -0.355331  \n",
      "\n",
      "🔍 Evaluating CHD\n"
     ]
    },
    {
     "name": "stderr",
     "output_type": "stream",
     "text": [
      "[*********************100%***********************]  1 of 1 completed\n"
     ]
    },
    {
     "name": "stdout",
     "output_type": "stream",
     "text": [
      "    Short Window  Long Window       Mode  Invert Signals    Return  \\\n",
      "95            50          300  crossover           False  3.826803   \n",
      "57            20          300  crossover           False  3.373295   \n",
      "77            30          300  crossover           False  3.326886   \n",
      "17             5          300  crossover           False  2.874207   \n",
      "37            10          300  crossover           False  2.830516   \n",
      "\n",
      "    Sharpe Ratio  Max Drawdown  \n",
      "95      0.930642     -0.212853  \n",
      "57      0.881164     -0.250964  \n",
      "77      0.871971     -0.264178  \n",
      "17      0.816675     -0.233195  \n",
      "37      0.812712     -0.263662  \n",
      "\n",
      "🔍 Evaluating CHRW\n"
     ]
    },
    {
     "name": "stderr",
     "output_type": "stream",
     "text": [
      "[*********************100%***********************]  1 of 1 completed\n"
     ]
    },
    {
     "name": "stdout",
     "output_type": "stream",
     "text": [
      "    Short Window  Long Window       Mode  Invert Signals    Return  \\\n",
      "32            10          200  crossover            True  1.359394   \n",
      "12             5          200  crossover            True  1.306957   \n",
      "40            20           50  crossover            True  1.258613   \n",
      "52            20          200  crossover            True  1.112737   \n",
      "16             5          300  crossover            True  1.044224   \n",
      "\n",
      "    Sharpe Ratio  Max Drawdown  \n",
      "32      0.466890     -0.316320  \n",
      "12      0.461060     -0.291506  \n",
      "40      0.457053     -0.253879  \n",
      "52      0.420876     -0.316360  \n",
      "16      0.416298     -0.282884  \n",
      "\n",
      "🔍 Evaluating CINF\n"
     ]
    },
    {
     "name": "stderr",
     "output_type": "stream",
     "text": [
      "[*********************100%***********************]  1 of 1 completed\n"
     ]
    },
    {
     "name": "stdout",
     "output_type": "stream",
     "text": [
      "    Short Window  Long Window       Mode  Invert Signals    Return  \\\n",
      "91            50          200  crossover           False  1.588080   \n",
      "95            50          300  crossover           False  1.209933   \n",
      "77            30          300  crossover           False  1.160058   \n",
      "73            30          200  crossover           False  1.168865   \n",
      "57            20          300  crossover           False  1.030325   \n",
      "\n",
      "    Sharpe Ratio  Max Drawdown  \n",
      "91      0.735187     -0.225002  \n",
      "95      0.629324     -0.216264  \n",
      "77      0.612307     -0.199088  \n",
      "73      0.605776     -0.278717  \n",
      "57      0.566058     -0.238109  \n",
      "\n",
      "🔍 Evaluating CL\n"
     ]
    },
    {
     "name": "stderr",
     "output_type": "stream",
     "text": [
      "[*********************100%***********************]  1 of 1 completed\n"
     ]
    },
    {
     "name": "stdout",
     "output_type": "stream",
     "text": [
      "    Short Window  Long Window       Mode  Invert Signals    Return  \\\n",
      "69            30          150  crossover           False  1.102017   \n",
      "91            50          200  crossover           False  1.073307   \n",
      "73            30          200  crossover           False  1.000467   \n",
      "94            50          300  crossover            True  0.547902   \n",
      "87            50          150  crossover           False  0.772577   \n",
      "\n",
      "    Sharpe Ratio  Max Drawdown  \n",
      "69      0.537763     -0.315933  \n",
      "91      0.529739     -0.325316  \n",
      "73      0.506556     -0.314236  \n",
      "94      0.443898     -0.200792  \n",
      "87      0.430421     -0.414665  \n",
      "\n",
      "🔍 Evaluating CLX\n"
     ]
    },
    {
     "name": "stderr",
     "output_type": "stream",
     "text": [
      "[*********************100%***********************]  1 of 1 completed\n"
     ]
    },
    {
     "name": "stdout",
     "output_type": "stream",
     "text": [
      "    Short Window  Long Window       Mode  Invert Signals    Return  \\\n",
      "73            30          200  crossover           False  1.016163   \n",
      "77            30          300  crossover           False  0.892549   \n",
      "17             5          300  crossover           False  0.829496   \n",
      "82            50          100  crossover            True  0.640081   \n",
      "37            10          300  crossover           False  0.825802   \n",
      "\n",
      "    Sharpe Ratio  Max Drawdown  \n",
      "73      0.507681     -0.309775  \n",
      "77      0.459218     -0.367764  \n",
      "17      0.452497     -0.358807  \n",
      "82      0.448101     -0.178108  \n",
      "37      0.445809     -0.399779  \n",
      "\n",
      "🔍 Evaluating CMI\n"
     ]
    },
    {
     "name": "stderr",
     "output_type": "stream",
     "text": [
      "[*********************100%***********************]  1 of 1 completed\n"
     ]
    },
    {
     "name": "stdout",
     "output_type": "stream",
     "text": [
      "    Short Window  Long Window       Mode  Invert Signals    Return  \\\n",
      "83            50          100  crossover           False  6.548392   \n",
      "13             5          200  crossover           False  3.732653   \n",
      "49            20          150  crossover           False  3.846535   \n",
      "9              5          150  crossover           False  3.229184   \n",
      "69            30          150  crossover           False  3.027434   \n",
      "\n",
      "    Sharpe Ratio  Max Drawdown  \n",
      "83      0.784494     -0.410150  \n",
      "13      0.640053     -0.419712  \n",
      "49      0.633901     -0.478186  \n",
      "9       0.593935     -0.500703  \n",
      "69      0.573695     -0.620957  \n",
      "\n",
      "🔍 Evaluating CNP\n"
     ]
    },
    {
     "name": "stderr",
     "output_type": "stream",
     "text": [
      "[*********************100%***********************]  1 of 1 completed\n"
     ]
    },
    {
     "name": "stdout",
     "output_type": "stream",
     "text": [
      "    Short Window  Long Window       Mode  Invert Signals    Return  \\\n",
      "95            50          300  crossover           False  1.310442   \n",
      "57            20          300  crossover           False  0.875831   \n",
      "37            10          300  crossover           False  0.825184   \n",
      "77            30          300  crossover           False  0.820846   \n",
      "17             5          300  crossover           False  0.541936   \n",
      "\n",
      "    Sharpe Ratio  Max Drawdown  \n",
      "95      0.567831     -0.284562  \n",
      "57      0.443284     -0.420785  \n",
      "37      0.432448     -0.351320  \n",
      "77      0.425281     -0.427543  \n",
      "17      0.334740     -0.407046  \n",
      "\n",
      "🔍 Evaluating COO\n"
     ]
    },
    {
     "name": "stderr",
     "output_type": "stream",
     "text": [
      "[*********************100%***********************]  1 of 1 completed\n"
     ]
    },
    {
     "name": "stdout",
     "output_type": "stream",
     "text": [
      "    Short Window  Long Window       Mode  Invert Signals    Return  \\\n",
      "37            10          300  crossover           False  2.057825   \n",
      "77            30          300  crossover           False  1.876989   \n",
      "17             5          300  crossover           False  1.595062   \n",
      "57            20          300  crossover           False  1.591944   \n",
      "95            50          300  crossover           False  1.652901   \n",
      "\n",
      "    Sharpe Ratio  Max Drawdown  \n",
      "37      0.612322     -0.355689  \n",
      "77      0.574334     -0.395355  \n",
      "17      0.535415     -0.444248  \n",
      "57      0.529611     -0.450294  \n",
      "95      0.528961     -0.487215  \n",
      "\n",
      "🔍 Evaluating COP\n"
     ]
    },
    {
     "name": "stderr",
     "output_type": "stream",
     "text": [
      "[*********************100%***********************]  1 of 1 completed\n"
     ]
    },
    {
     "name": "stdout",
     "output_type": "stream",
     "text": [
      "    Short Window  Long Window       Mode  Invert Signals    Return  \\\n",
      "77            30          300  crossover           False  1.032298   \n",
      "57            20          300  crossover           False  0.948645   \n",
      "95            50          300  crossover           False  0.973273   \n",
      "37            10          300  crossover           False  0.564797   \n",
      "83            50          100  crossover           False  0.475573   \n",
      "\n",
      "    Sharpe Ratio  Max Drawdown  \n",
      "77      0.440338     -0.281157  \n",
      "57      0.421138     -0.290521  \n",
      "95      0.419543     -0.303627  \n",
      "37      0.313402     -0.310741  \n",
      "83      0.285237     -0.344610  \n",
      "\n",
      "🔍 Evaluating COST\n"
     ]
    },
    {
     "name": "stderr",
     "output_type": "stream",
     "text": [
      "[*********************100%***********************]  1 of 1 completed\n"
     ]
    },
    {
     "name": "stdout",
     "output_type": "stream",
     "text": [
      "    Short Window  Long Window       Mode  Invert Signals    Return  \\\n",
      "91            50          200  crossover           False  2.570164   \n",
      "73            30          200  crossover           False  2.189660   \n",
      "95            50          300  crossover           False  2.084123   \n",
      "53            20          200  crossover           False  1.894761   \n",
      "57            20          300  crossover           False  1.969341   \n",
      "\n",
      "    Sharpe Ratio  Max Drawdown  \n",
      "91      0.748212     -0.191648  \n",
      "73      0.694146     -0.219776  \n",
      "95      0.654077     -0.314796  \n",
      "53      0.641382     -0.283610  \n",
      "57      0.637866     -0.311614  \n",
      "\n",
      "🔍 Evaluating CPB\n"
     ]
    },
    {
     "name": "stderr",
     "output_type": "stream",
     "text": [
      "[*********************100%***********************]  1 of 1 completed\n"
     ]
    },
    {
     "name": "stdout",
     "output_type": "stream",
     "text": [
      "    Short Window  Long Window       Mode  Invert Signals    Return  \\\n",
      "87            50          150  crossover           False  0.635104   \n",
      "95            50          300  crossover           False  0.559553   \n",
      "36            10          300  crossover            True  0.312868   \n",
      "40            20           50  crossover            True  0.347878   \n",
      "91            50          200  crossover           False  0.378881   \n",
      "\n",
      "    Sharpe Ratio  Max Drawdown  \n",
      "87      0.383763     -0.295408  \n",
      "95      0.348758     -0.390816  \n",
      "36      0.284909     -0.220189  \n",
      "40      0.276491     -0.329485  \n",
      "91      0.276272     -0.363271  \n",
      "\n",
      "🔍 Evaluating CPRT\n"
     ]
    },
    {
     "name": "stderr",
     "output_type": "stream",
     "text": [
      "[*********************100%***********************]  1 of 1 completed\n"
     ]
    },
    {
     "name": "stdout",
     "output_type": "stream",
     "text": [
      "    Short Window  Long Window       Mode  Invert Signals    Return  \\\n",
      "52            20          200  crossover            True  1.260895   \n",
      "90            50          200  crossover            True  1.092271   \n",
      "86            50          150  crossover            True  1.130191   \n",
      "72            30          200  crossover            True  1.101501   \n",
      "82            50          100  crossover            True  0.915741   \n",
      "\n",
      "    Sharpe Ratio  Max Drawdown  \n",
      "52      0.526587     -0.360963  \n",
      "90      0.496638     -0.351531  \n",
      "86      0.492764     -0.367293  \n",
      "72      0.487151     -0.360964  \n",
      "82      0.423289     -0.418269  \n",
      "\n",
      "🔍 Evaluating CSCO\n"
     ]
    },
    {
     "name": "stderr",
     "output_type": "stream",
     "text": [
      "[*********************100%***********************]  1 of 1 completed\n"
     ]
    },
    {
     "name": "stdout",
     "output_type": "stream",
     "text": [
      "    Short Window  Long Window       Mode  Invert Signals    Return  \\\n",
      "53            20          200  crossover           False  0.337488   \n",
      "95            50          300  crossover           False  0.313874   \n",
      "73            30          200  crossover           False  0.302507   \n",
      "44            20          100  crossover            True  0.309613   \n",
      "56            20          300  crossover            True  0.252908   \n",
      "\n",
      "    Sharpe Ratio  Max Drawdown  \n",
      "53      0.236500     -0.358531  \n",
      "95      0.227636     -0.379701  \n",
      "73      0.223585     -0.369369  \n",
      "44      0.220790     -0.512058  \n",
      "56      0.203998     -0.529739  \n",
      "\n",
      "🔍 Evaluating CTAS\n"
     ]
    },
    {
     "name": "stderr",
     "output_type": "stream",
     "text": [
      "[*********************100%***********************]  1 of 1 completed\n"
     ]
    },
    {
     "name": "stdout",
     "output_type": "stream",
     "text": [
      "    Short Window  Long Window       Mode  Invert Signals    Return  \\\n",
      "82            50          100  crossover            True  1.256484   \n",
      "86            50          150  crossover            True  1.033344   \n",
      "64            30          100  crossover            True  1.012718   \n",
      "95            50          300  crossover           False  0.765818   \n",
      "37            10          300  crossover           False  0.725632   \n",
      "\n",
      "    Sharpe Ratio  Max Drawdown  \n",
      "82      0.499763     -0.385583  \n",
      "86      0.450576     -0.377984  \n",
      "64      0.431897     -0.368218  \n",
      "95      0.403485     -0.370959  \n",
      "37      0.388592     -0.451517  \n",
      "\n",
      "🔍 Evaluating CTSH\n"
     ]
    },
    {
     "name": "stderr",
     "output_type": "stream",
     "text": [
      "[*********************100%***********************]  1 of 1 completed\n"
     ]
    },
    {
     "name": "stdout",
     "output_type": "stream",
     "text": [
      "    Short Window  Long Window       Mode  Invert Signals    Return  \\\n",
      "83            50          100  crossover           False  3.662669   \n",
      "73            30          200  crossover           False  2.772142   \n",
      "91            50          200  crossover           False  2.483788   \n",
      "45            20          100  crossover           False  2.064087   \n",
      "53            20          200  crossover           False  1.801822   \n",
      "\n",
      "    Sharpe Ratio  Max Drawdown  \n",
      "83      0.682135     -0.373445  \n",
      "73      0.633871     -0.399766  \n",
      "91      0.597534     -0.382719  \n",
      "45      0.522620     -0.557616  \n",
      "53      0.517251     -0.454543  \n",
      "\n",
      "🔍 Evaluating D\n"
     ]
    },
    {
     "name": "stderr",
     "output_type": "stream",
     "text": [
      "[*********************100%***********************]  1 of 1 completed\n"
     ]
    },
    {
     "name": "stdout",
     "output_type": "stream",
     "text": [
      "    Short Window  Long Window       Mode  Invert Signals    Return  \\\n",
      "83            50          100  crossover           False  1.220021   \n",
      "37            10          300  crossover           False  1.048849   \n",
      "77            30          300  crossover           False  1.049666   \n",
      "57            20          300  crossover           False  1.051887   \n",
      "95            50          300  crossover           False  1.044728   \n",
      "\n",
      "    Sharpe Ratio  Max Drawdown  \n",
      "83      0.599556     -0.225589  \n",
      "37      0.538868     -0.233968  \n",
      "77      0.538713     -0.296530  \n",
      "57      0.538014     -0.267375  \n",
      "95      0.529669     -0.282008  \n",
      "\n",
      "🔍 Evaluating DE\n"
     ]
    },
    {
     "name": "stderr",
     "output_type": "stream",
     "text": [
      "[*********************100%***********************]  1 of 1 completed\n"
     ]
    },
    {
     "name": "stdout",
     "output_type": "stream",
     "text": [
      "    Short Window  Long Window       Mode  Invert Signals    Return  \\\n",
      "45            20          100  crossover           False  2.245182   \n",
      "49            20          150  crossover           False  2.024641   \n",
      "29            10          150  crossover           False  1.994123   \n",
      "53            20          200  crossover           False  1.823853   \n",
      "33            10          200  crossover           False  1.735186   \n",
      "\n",
      "    Sharpe Ratio  Max Drawdown  \n",
      "45      0.584543     -0.351419  \n",
      "49      0.552113     -0.366526  \n",
      "29      0.547890     -0.336028  \n",
      "53      0.530922     -0.426756  \n",
      "33      0.517374     -0.429750  \n",
      "\n",
      "🔍 Evaluating DGX\n"
     ]
    },
    {
     "name": "stderr",
     "output_type": "stream",
     "text": [
      "[*********************100%***********************]  1 of 1 completed\n"
     ]
    },
    {
     "name": "stdout",
     "output_type": "stream",
     "text": [
      "    Short Window  Long Window       Mode  Invert Signals    Return  \\\n",
      "76            30          300  crossover            True  1.323502   \n",
      "52            20          200  crossover            True  1.277263   \n",
      "94            50          300  crossover            True  1.081871   \n",
      "56            20          300  crossover            True  1.072258   \n",
      "72            30          200  crossover            True  0.990456   \n",
      "\n",
      "    Sharpe Ratio  Max Drawdown  \n",
      "76      0.572991     -0.237064  \n",
      "52      0.554753     -0.238925  \n",
      "94      0.512487     -0.225337  \n",
      "56      0.497410     -0.221518  \n",
      "72      0.478188     -0.204050  \n",
      "\n",
      "🔍 Evaluating DHI\n"
     ]
    },
    {
     "name": "stderr",
     "output_type": "stream",
     "text": [
      "[*********************100%***********************]  1 of 1 completed\n"
     ]
    },
    {
     "name": "stdout",
     "output_type": "stream",
     "text": [
      "    Short Window  Long Window       Mode  Invert Signals    Return  \\\n",
      "20            10           50  crossover            True  1.036697   \n",
      "40            20           50  crossover            True  0.765014   \n",
      "64            30          100  crossover            True  0.597774   \n",
      "82            50          100  crossover            True  0.561260   \n",
      "52            20          200  crossover            True  0.307568   \n",
      "\n",
      "    Sharpe Ratio  Max Drawdown  \n",
      "20      0.355857     -0.755607  \n",
      "40      0.321908     -0.728912  \n",
      "64      0.300077     -0.698747  \n",
      "82      0.294042     -0.684258  \n",
      "52      0.264781     -0.792286  \n",
      "\n",
      "🔍 Evaluating DIS\n"
     ]
    },
    {
     "name": "stderr",
     "output_type": "stream",
     "text": [
      "[*********************100%***********************]  1 of 1 completed\n"
     ]
    },
    {
     "name": "stdout",
     "output_type": "stream",
     "text": [
      "    Short Window  Long Window       Mode  Invert Signals    Return  \\\n",
      "87            50          150  crossover           False  3.571949   \n",
      "83            50          100  crossover           False  2.794886   \n",
      "17             5          300  crossover           False  2.854254   \n",
      "95            50          300  crossover           False  2.696440   \n",
      "37            10          300  crossover           False  2.748822   \n",
      "\n",
      "    Sharpe Ratio  Max Drawdown  \n",
      "87      0.892651     -0.223346  \n",
      "83      0.791557     -0.244391  \n",
      "17      0.786508     -0.304767  \n",
      "95      0.769906     -0.292642  \n",
      "37      0.766602     -0.294279  \n",
      "\n",
      "🔍 Evaluating DLTR\n"
     ]
    },
    {
     "name": "stderr",
     "output_type": "stream",
     "text": [
      "[*********************100%***********************]  1 of 1 completed\n"
     ]
    },
    {
     "name": "stdout",
     "output_type": "stream",
     "text": [
      "    Short Window  Long Window       Mode  Invert Signals    Return  \\\n",
      "25            10          100  crossover           False  5.885128   \n",
      "69            30          150  crossover           False  6.572941   \n",
      "87            50          150  crossover           False  6.000677   \n",
      "83            50          100  crossover           False  5.237127   \n",
      "45            20          100  crossover           False  4.949467   \n",
      "\n",
      "    Sharpe Ratio  Max Drawdown  \n",
      "25      0.887352     -0.283682  \n",
      "69      0.885209     -0.233934  \n",
      "87      0.854832     -0.233492  \n",
      "83      0.845780     -0.254034  \n",
      "45      0.831926     -0.287396  \n",
      "\n",
      "🔍 Evaluating DOV\n"
     ]
    },
    {
     "name": "stderr",
     "output_type": "stream",
     "text": [
      "[*********************100%***********************]  1 of 1 completed\n"
     ]
    },
    {
     "name": "stdout",
     "output_type": "stream",
     "text": [
      "    Short Window  Long Window       Mode  Invert Signals    Return  \\\n",
      "83            50          100  crossover           False  1.314359   \n",
      "65            30          100  crossover           False  1.048707   \n",
      "45            20          100  crossover           False  0.934785   \n",
      "77            30          300  crossover           False  0.756160   \n",
      "37            10          300  crossover           False  0.683726   \n",
      "\n",
      "    Sharpe Ratio  Max Drawdown  \n",
      "83      0.510913     -0.278332  \n",
      "65      0.446622     -0.304739  \n",
      "45      0.420160     -0.305145  \n",
      "77      0.363948     -0.406687  \n",
      "37      0.350846     -0.341464  \n",
      "\n",
      "🔍 Evaluating DRI\n"
     ]
    },
    {
     "name": "stderr",
     "output_type": "stream",
     "text": [
      "[*********************100%***********************]  1 of 1 completed\n"
     ]
    },
    {
     "name": "stdout",
     "output_type": "stream",
     "text": [
      "    Short Window  Long Window       Mode  Invert Signals    Return  \\\n",
      "32            10          200  crossover            True  1.630110   \n",
      "90            50          200  crossover            True  1.301240   \n",
      "52            20          200  crossover            True  1.380280   \n",
      "86            50          150  crossover            True  1.136634   \n",
      "72            30          200  crossover            True  0.893303   \n",
      "\n",
      "    Sharpe Ratio  Max Drawdown  \n",
      "32      0.472293     -0.590452  \n",
      "90      0.439293     -0.478894  \n",
      "52      0.438579     -0.616298  \n",
      "86      0.407438     -0.606070  \n",
      "72      0.360969     -0.549040  \n",
      "\n",
      "🔍 Evaluating DTE\n"
     ]
    },
    {
     "name": "stderr",
     "output_type": "stream",
     "text": [
      "[*********************100%***********************]  1 of 1 completed\n"
     ]
    },
    {
     "name": "stdout",
     "output_type": "stream",
     "text": [
      "    Short Window  Long Window       Mode  Invert Signals    Return  \\\n",
      "95            50          300  crossover           False  1.926713   \n",
      "57            20          300  crossover           False  1.664216   \n",
      "37            10          300  crossover           False  1.548308   \n",
      "17             5          300  crossover           False  1.550289   \n",
      "77            30          300  crossover           False  1.467645   \n",
      "\n",
      "    Sharpe Ratio  Max Drawdown  \n",
      "95      0.766721     -0.214598  \n",
      "57      0.701061     -0.260773  \n",
      "37      0.670715     -0.282565  \n",
      "17      0.670628     -0.231500  \n",
      "77      0.652410     -0.288891  \n",
      "\n",
      "🔍 Evaluating DVA\n"
     ]
    },
    {
     "name": "stderr",
     "output_type": "stream",
     "text": [
      "[*********************100%***********************]  1 of 1 completed\n"
     ]
    },
    {
     "name": "stdout",
     "output_type": "stream",
     "text": [
      "    Short Window  Long Window       Mode  Invert Signals    Return  \\\n",
      "83            50          100  crossover           False  1.082331   \n",
      "94            50          300  crossover            True  0.827043   \n",
      "69            30          150  crossover           False  0.831285   \n",
      "90            50          200  crossover            True  0.648562   \n",
      "65            30          100  crossover           False  0.724387   \n",
      "\n",
      "    Sharpe Ratio  Max Drawdown  \n",
      "83      0.461906     -0.402119  \n",
      "94      0.422145     -0.253898  \n",
      "69      0.400796     -0.446462  \n",
      "90      0.379404     -0.238171  \n",
      "65      0.370375     -0.369257  \n",
      "\n",
      "🔍 Evaluating EA\n"
     ]
    },
    {
     "name": "stderr",
     "output_type": "stream",
     "text": [
      "[*********************100%***********************]  1 of 1 completed\n"
     ]
    },
    {
     "name": "stdout",
     "output_type": "stream",
     "text": [
      "    Short Window  Long Window       Mode  Invert Signals    Return  \\\n",
      "95            50          300  crossover           False  1.663676   \n",
      "37            10          300  crossover           False  1.539942   \n",
      "91            50          200  crossover           False  1.035413   \n",
      "17             5          300  crossover           False  0.990208   \n",
      "83            50          100  crossover           False  0.980791   \n",
      "\n",
      "    Sharpe Ratio  Max Drawdown  \n",
      "95      0.499483     -0.367962  \n",
      "37      0.478019     -0.438405  \n",
      "91      0.385745     -0.491458  \n",
      "17      0.383669     -0.595136  \n",
      "83      0.374356     -0.597473  \n",
      "\n",
      "🔍 Evaluating EBAY\n"
     ]
    },
    {
     "name": "stderr",
     "output_type": "stream",
     "text": [
      "[*********************100%***********************]  1 of 1 completed\n"
     ]
    },
    {
     "name": "stdout",
     "output_type": "stream",
     "text": [
      "    Short Window  Long Window       Mode  Invert Signals    Return  \\\n",
      "87            50          150  crossover           False  1.186566   \n",
      "91            50          200  crossover           False  0.935064   \n",
      "57            20          300  crossover           False  0.714063   \n",
      "77            30          300  crossover           False  0.587555   \n",
      "73            30          200  crossover           False  0.494369   \n",
      "\n",
      "    Sharpe Ratio  Max Drawdown  \n",
      "87      0.423108     -0.326324  \n",
      "91      0.372337     -0.287909  \n",
      "57      0.329714     -0.295291  \n",
      "77      0.298003     -0.323892  \n",
      "73      0.272143     -0.342819  \n",
      "\n",
      "🔍 Evaluating ECL\n"
     ]
    },
    {
     "name": "stderr",
     "output_type": "stream",
     "text": [
      "[*********************100%***********************]  1 of 1 completed\n"
     ]
    },
    {
     "name": "stdout",
     "output_type": "stream",
     "text": [
      "    Short Window  Long Window       Mode  Invert Signals    Return  \\\n",
      "91            50          200  crossover           False  1.494895   \n",
      "68            30          150  crossover            True  0.966867   \n",
      "86            50          150  crossover            True  0.952420   \n",
      "95            50          300  crossover           False  1.080697   \n",
      "48            20          150  crossover            True  0.763901   \n",
      "\n",
      "    Sharpe Ratio  Max Drawdown  \n",
      "91      0.545353     -0.327614  \n",
      "68      0.507934     -0.259648  \n",
      "86      0.505989     -0.233615  \n",
      "95      0.448671     -0.339200  \n",
      "48      0.429905     -0.296594  \n",
      "\n",
      "🔍 Evaluating ED\n"
     ]
    },
    {
     "name": "stderr",
     "output_type": "stream",
     "text": [
      "[*********************100%***********************]  1 of 1 completed\n"
     ]
    },
    {
     "name": "stdout",
     "output_type": "stream",
     "text": [
      "    Short Window  Long Window       Mode  Invert Signals    Return  \\\n",
      "90            50          200  crossover            True  0.583094   \n",
      "72            30          200  crossover            True  0.536014   \n",
      "52            20          200  crossover            True  0.451837   \n",
      "56            20          300  crossover            True  0.534387   \n",
      "36            10          300  crossover            True  0.393454   \n",
      "\n",
      "    Sharpe Ratio  Max Drawdown  \n",
      "90      0.488019     -0.204382  \n",
      "72      0.471343     -0.143753  \n",
      "52      0.414613     -0.134084  \n",
      "56      0.411851     -0.207567  \n",
      "36      0.339690     -0.174276  \n",
      "\n",
      "🔍 Evaluating EFX\n"
     ]
    },
    {
     "name": "stderr",
     "output_type": "stream",
     "text": [
      "[*********************100%***********************]  1 of 1 completed\n"
     ]
    },
    {
     "name": "stdout",
     "output_type": "stream",
     "text": [
      "    Short Window  Long Window       Mode  Invert Signals    Return  \\\n",
      "73            30          200  crossover           False  1.872395   \n",
      "91            50          200  crossover           False  1.696790   \n",
      "53            20          200  crossover           False  1.691035   \n",
      "57            20          300  crossover           False  1.576609   \n",
      "25            10          100  crossover           False  1.469981   \n",
      "\n",
      "    Sharpe Ratio  Max Drawdown  \n",
      "73      0.663829     -0.398966  \n",
      "91      0.638851     -0.326064  \n",
      "53      0.628432     -0.425050  \n",
      "57      0.624452     -0.349533  \n",
      "25      0.590209     -0.355230  \n",
      "\n",
      "🔍 Evaluating EIX\n"
     ]
    },
    {
     "name": "stderr",
     "output_type": "stream",
     "text": [
      "[*********************100%***********************]  1 of 1 completed\n"
     ]
    },
    {
     "name": "stdout",
     "output_type": "stream",
     "text": [
      "    Short Window  Long Window       Mode  Invert Signals    Return  \\\n",
      "87            50          150  crossover           False  0.669938   \n",
      "69            30          150  crossover           False  0.577602   \n",
      "49            20          150  crossover           False  0.541286   \n",
      "77            30          300  crossover           False  0.498161   \n",
      "83            50          100  crossover           False  0.464116   \n",
      "\n",
      "    Sharpe Ratio  Max Drawdown  \n",
      "87      0.374672     -0.273152  \n",
      "69      0.344800     -0.285775  \n",
      "49      0.332456     -0.281016  \n",
      "77      0.315948     -0.230293  \n",
      "83      0.300886     -0.361511  \n",
      "\n",
      "🔍 Evaluating EL\n"
     ]
    },
    {
     "name": "stderr",
     "output_type": "stream",
     "text": [
      "[*********************100%***********************]  1 of 1 completed\n"
     ]
    },
    {
     "name": "stdout",
     "output_type": "stream",
     "text": [
      "    Short Window  Long Window       Mode  Invert Signals    Return  \\\n",
      "95            50          300  crossover           False  2.081318   \n",
      "64            30          100  crossover            True  1.589067   \n",
      "48            20          150  crossover            True  1.528379   \n",
      "91            50          200  crossover           False  1.609380   \n",
      "77            30          300  crossover           False  1.525688   \n",
      "\n",
      "    Sharpe Ratio  Max Drawdown  \n",
      "95      0.550881     -0.436476  \n",
      "64      0.521527     -0.447027  \n",
      "48      0.506614     -0.480236  \n",
      "91      0.498870     -0.443557  \n",
      "77      0.477898     -0.474674  \n",
      "\n",
      "🔍 Evaluating EMN\n"
     ]
    },
    {
     "name": "stderr",
     "output_type": "stream",
     "text": [
      "[*********************100%***********************]  1 of 1 completed\n"
     ]
    },
    {
     "name": "stdout",
     "output_type": "stream",
     "text": [
      "    Short Window  Long Window       Mode  Invert Signals    Return  \\\n",
      "45            20          100  crossover           False  2.439316   \n",
      "65            30          100  crossover           False  1.346107   \n",
      "69            30          150  crossover           False  1.161503   \n",
      "73            30          200  crossover           False  1.037802   \n",
      "91            50          200  crossover           False  0.816017   \n",
      "\n",
      "    Sharpe Ratio  Max Drawdown  \n",
      "45      0.611158     -0.305823  \n",
      "65      0.455334     -0.330400  \n",
      "69      0.424407     -0.381456  \n",
      "73      0.401505     -0.411981  \n",
      "91      0.354709     -0.428784  \n",
      "\n",
      "🔍 Evaluating EMR\n"
     ]
    },
    {
     "name": "stderr",
     "output_type": "stream",
     "text": [
      "[*********************100%***********************]  1 of 1 completed\n"
     ]
    },
    {
     "name": "stdout",
     "output_type": "stream",
     "text": [
      "    Short Window  Long Window       Mode  Invert Signals    Return  \\\n",
      "91            50          200  crossover           False  1.505952   \n",
      "53            20          200  crossover           False  1.065905   \n",
      "73            30          200  crossover           False  0.928134   \n",
      "87            50          150  crossover           False  0.841932   \n",
      "77            30          300  crossover           False  0.640452   \n",
      "\n",
      "    Sharpe Ratio  Max Drawdown  \n",
      "91      0.559613     -0.310560  \n",
      "53      0.465209     -0.313602  \n",
      "73      0.427028     -0.343095  \n",
      "87      0.405438     -0.325270  \n",
      "77      0.345461     -0.452838  \n",
      "\n",
      "🔍 Evaluating EOG\n"
     ]
    },
    {
     "name": "stderr",
     "output_type": "stream",
     "text": [
      "[*********************100%***********************]  1 of 1 completed\n"
     ]
    },
    {
     "name": "stdout",
     "output_type": "stream",
     "text": [
      "    Short Window  Long Window       Mode  Invert Signals    Return  \\\n",
      "45            20          100  crossover           False  1.279757   \n",
      "65            30          100  crossover           False  1.114815   \n",
      "61            30           50  crossover           False  1.033142   \n",
      "69            30          150  crossover           False  0.890038   \n",
      "49            20          150  crossover           False  0.804937   \n",
      "\n",
      "    Sharpe Ratio  Max Drawdown  \n",
      "45      0.421482     -0.371498  \n",
      "65      0.395427     -0.455189  \n",
      "61      0.376533     -0.553640  \n",
      "69      0.352983     -0.441826  \n",
      "49      0.337063     -0.492171  \n",
      "\n",
      "🔍 Evaluating EQR\n"
     ]
    },
    {
     "name": "stderr",
     "output_type": "stream",
     "text": [
      "[*********************100%***********************]  1 of 1 completed\n"
     ]
    },
    {
     "name": "stdout",
     "output_type": "stream",
     "text": [
      "    Short Window  Long Window       Mode  Invert Signals    Return  \\\n",
      "83            50          100  crossover           False  1.798749   \n",
      "87            50          150  crossover           False  1.650565   \n",
      "91            50          200  crossover           False  1.335640   \n",
      "73            30          200  crossover           False  1.069983   \n",
      "33            10          200  crossover           False  1.027203   \n",
      "\n",
      "    Sharpe Ratio  Max Drawdown  \n",
      "83      0.496648     -0.513933  \n",
      "87      0.476955     -0.434611  \n",
      "91      0.434880     -0.429774  \n",
      "73      0.390688     -0.417353  \n",
      "33      0.389244     -0.401482  \n",
      "\n",
      "🔍 Evaluating ES\n"
     ]
    },
    {
     "name": "stderr",
     "output_type": "stream",
     "text": [
      "[*********************100%***********************]  1 of 1 completed\n"
     ]
    },
    {
     "name": "stdout",
     "output_type": "stream",
     "text": [
      "    Short Window  Long Window       Mode  Invert Signals    Return  \\\n",
      "95            50          300  crossover           False  2.117512   \n",
      "57            20          300  crossover           False  2.061491   \n",
      "77            30          300  crossover           False  2.012539   \n",
      "17             5          300  crossover           False  1.998308   \n",
      "37            10          300  crossover           False  1.906386   \n",
      "\n",
      "    Sharpe Ratio  Max Drawdown  \n",
      "95      0.760765     -0.286575  \n",
      "57      0.753419     -0.258931  \n",
      "77      0.743439     -0.277683  \n",
      "17      0.741759     -0.246133  \n",
      "37      0.722189     -0.266324  \n",
      "\n",
      "🔍 Evaluating ESS\n"
     ]
    },
    {
     "name": "stderr",
     "output_type": "stream",
     "text": [
      "[*********************100%***********************]  1 of 1 completed\n"
     ]
    },
    {
     "name": "stdout",
     "output_type": "stream",
     "text": [
      "    Short Window  Long Window       Mode  Invert Signals    Return  \\\n",
      "83            50          100  crossover           False  2.559755   \n",
      "87            50          150  crossover           False  2.424351   \n",
      "91            50          200  crossover           False  2.208885   \n",
      "73            30          200  crossover           False  1.869268   \n",
      "33            10          200  crossover           False  1.692870   \n",
      "\n",
      "    Sharpe Ratio  Max Drawdown  \n",
      "83      0.618939     -0.441640  \n",
      "87      0.612703     -0.346413  \n",
      "91      0.579413     -0.368760  \n",
      "73      0.540440     -0.366322  \n",
      "33      0.532966     -0.368279  \n",
      "\n",
      "🔍 Evaluating F\n"
     ]
    },
    {
     "name": "stderr",
     "output_type": "stream",
     "text": [
      "[*********************100%***********************]  1 of 1 completed\n"
     ]
    },
    {
     "name": "stdout",
     "output_type": "stream",
     "text": [
      "    Short Window  Long Window       Mode  Invert Signals    Return  \\\n",
      "25            10          100  crossover           False  1.707492   \n",
      "95            50          300  crossover           False  1.296330   \n",
      "9              5          150  crossover           False  1.155012   \n",
      "45            20          100  crossover           False  1.010469   \n",
      "29            10          150  crossover           False  0.946241   \n",
      "\n",
      "    Sharpe Ratio  Max Drawdown  \n",
      "25      0.477110     -0.511408  \n",
      "95      0.450603     -0.327058  \n",
      "9       0.398657     -0.554184  \n",
      "45      0.372553     -0.645195  \n",
      "29      0.362883     -0.536709  \n",
      "\n",
      "🔍 Evaluating FAST\n"
     ]
    },
    {
     "name": "stderr",
     "output_type": "stream",
     "text": [
      "[*********************100%***********************]  1 of 1 completed\n"
     ]
    },
    {
     "name": "stdout",
     "output_type": "stream",
     "text": [
      "    Short Window  Long Window       Mode  Invert Signals    Return  \\\n",
      "48            20          150  crossover            True  1.599020   \n",
      "60            30           50  crossover            True  1.622038   \n",
      "64            30          100  crossover            True  1.373325   \n",
      "36            10          300  crossover            True  1.284809   \n",
      "76            30          300  crossover            True  1.114168   \n",
      "\n",
      "    Sharpe Ratio  Max Drawdown  \n",
      "48      0.492511     -0.363365  \n",
      "60      0.482703     -0.329835  \n",
      "64      0.460043     -0.363363  \n",
      "36      0.453326     -0.363372  \n",
      "76      0.436259     -0.363369  \n",
      "\n",
      "🔍 Evaluating FCX\n"
     ]
    },
    {
     "name": "stderr",
     "output_type": "stream",
     "text": [
      "[*********************100%***********************]  1 of 1 completed\n"
     ]
    },
    {
     "name": "stdout",
     "output_type": "stream",
     "text": [
      "    Short Window  Long Window       Mode  Invert Signals    Return  \\\n",
      "65            30          100  crossover           False  1.697204   \n",
      "83            50          100  crossover           False  1.671661   \n",
      "45            20          100  crossover           False  0.801867   \n",
      "77            30          300  crossover           False  0.621372   \n",
      "49            20          150  crossover           False  0.477884   \n",
      "\n",
      "    Sharpe Ratio  Max Drawdown  \n",
      "65      0.450579     -0.598729  \n",
      "83      0.447028     -0.529115  \n",
      "45      0.329438     -0.594455  \n",
      "77      0.297815     -0.432726  \n",
      "49      0.269808     -0.595282  \n",
      "\n",
      "🔍 Evaluating FDX\n"
     ]
    },
    {
     "name": "stderr",
     "output_type": "stream",
     "text": [
      "[*********************100%***********************]  1 of 1 completed\n"
     ]
    },
    {
     "name": "stdout",
     "output_type": "stream",
     "text": [
      "    Short Window  Long Window       Mode  Invert Signals    Return  \\\n",
      "87            50          150  crossover           False  0.672323   \n",
      "73            30          200  crossover           False  0.625660   \n",
      "57            20          300  crossover           False  0.600875   \n",
      "77            30          300  crossover           False  0.597828   \n",
      "95            50          300  crossover           False  0.546972   \n",
      "\n",
      "    Sharpe Ratio  Max Drawdown  \n",
      "87      0.355311     -0.420925  \n",
      "73      0.342481     -0.368850  \n",
      "57      0.325672     -0.318641  \n",
      "77      0.322791     -0.364244  \n",
      "95      0.305763     -0.324132  \n",
      "\n",
      "🔍 Evaluating FE\n"
     ]
    },
    {
     "name": "stderr",
     "output_type": "stream",
     "text": [
      "[*********************100%***********************]  1 of 1 completed\n"
     ]
    },
    {
     "name": "stdout",
     "output_type": "stream",
     "text": [
      "    Short Window  Long Window       Mode  Invert Signals    Return  \\\n",
      "17             5          300  crossover           False  0.187912   \n",
      "29            10          150  crossover           False  0.163105   \n",
      "25            10          100  crossover           False  0.147356   \n",
      "60            30           50  crossover            True  0.145044   \n",
      "95            50          300  crossover           False  0.075664   \n",
      "\n",
      "    Sharpe Ratio  Max Drawdown  \n",
      "17      0.179657     -0.331053  \n",
      "29      0.166963     -0.328064  \n",
      "25      0.158642     -0.323914  \n",
      "60      0.158254     -0.387189  \n",
      "95      0.120838     -0.429318  \n",
      "\n",
      "🔍 Evaluating FFIV\n"
     ]
    },
    {
     "name": "stderr",
     "output_type": "stream",
     "text": [
      "[*********************100%***********************]  1 of 1 completed\n"
     ]
    },
    {
     "name": "stdout",
     "output_type": "stream",
     "text": [
      "    Short Window  Long Window       Mode  Invert Signals    Return  \\\n",
      "94            50          300  crossover            True  2.440013   \n",
      "76            30          300  crossover            True  1.793190   \n",
      "90            50          200  crossover            True  1.763881   \n",
      "29            10          150  crossover           False  1.690698   \n",
      "72            30          200  crossover            True  1.528762   \n",
      "\n",
      "    Sharpe Ratio  Max Drawdown  \n",
      "94      0.533978     -0.398497  \n",
      "76      0.468175     -0.398496  \n",
      "90      0.458719     -0.416340  \n",
      "29      0.448426     -0.486414  \n",
      "72      0.427691     -0.416303  \n",
      "\n",
      "🔍 Evaluating FITB\n"
     ]
    },
    {
     "name": "stderr",
     "output_type": "stream",
     "text": [
      "[*********************100%***********************]  1 of 1 completed\n"
     ]
    },
    {
     "name": "stdout",
     "output_type": "stream",
     "text": [
      "    Short Window  Long Window       Mode  Invert Signals    Return  \\\n",
      "69            30          150  crossover           False  1.157506   \n",
      "53            20          200  crossover           False  1.062645   \n",
      "91            50          200  crossover           False  0.996458   \n",
      "87            50          150  crossover           False  0.863185   \n",
      "73            30          200  crossover           False  0.712747   \n",
      "\n",
      "    Sharpe Ratio  Max Drawdown  \n",
      "69      0.426811     -0.265075  \n",
      "53      0.414758     -0.393056  \n",
      "91      0.396698     -0.391197  \n",
      "87      0.367107     -0.304787  \n",
      "73      0.333878     -0.378840  \n",
      "\n",
      "🔍 Evaluating FRT\n"
     ]
    },
    {
     "name": "stderr",
     "output_type": "stream",
     "text": [
      "[*********************100%***********************]  1 of 1 completed\n"
     ]
    },
    {
     "name": "stdout",
     "output_type": "stream",
     "text": [
      "    Short Window  Long Window       Mode  Invert Signals    Return  \\\n",
      "33            10          200  crossover           False  1.416883   \n",
      "95            50          300  crossover           False  0.958319   \n",
      "64            30          100  crossover            True  1.204061   \n",
      "60            30           50  crossover            True  0.988021   \n",
      "25            10          100  crossover           False  0.834009   \n",
      "\n",
      "    Sharpe Ratio  Max Drawdown  \n",
      "33      0.502460     -0.450701  \n",
      "95      0.430828     -0.450560  \n",
      "64      0.401430     -0.410162  \n",
      "60      0.367704     -0.368929  \n",
      "25      0.363271     -0.398749  \n",
      "\n",
      "🔍 Evaluating GD\n"
     ]
    },
    {
     "name": "stderr",
     "output_type": "stream",
     "text": [
      "[*********************100%***********************]  1 of 1 completed\n"
     ]
    },
    {
     "name": "stdout",
     "output_type": "stream",
     "text": [
      "    Short Window  Long Window       Mode  Invert Signals    Return  \\\n",
      "25            10          100  crossover           False  1.604007   \n",
      "45            20          100  crossover           False  1.614155   \n",
      "29            10          150  crossover           False  1.576573   \n",
      "33            10          200  crossover           False  1.340985   \n",
      "65            30          100  crossover           False  1.262411   \n",
      "\n",
      "    Sharpe Ratio  Max Drawdown  \n",
      "25      0.606527     -0.288680  \n",
      "45      0.605665     -0.371780  \n",
      "29      0.598000     -0.271942  \n",
      "33      0.543576     -0.345107  \n",
      "65      0.523701     -0.414950  \n",
      "\n",
      "🔍 Evaluating GE\n"
     ]
    },
    {
     "name": "stderr",
     "output_type": "stream",
     "text": [
      "[*********************100%***********************]  1 of 1 completed\n"
     ]
    },
    {
     "name": "stdout",
     "output_type": "stream",
     "text": [
      "    Short Window  Long Window       Mode  Invert Signals    Return  \\\n",
      "53            20          200  crossover           False  0.310713   \n",
      "49            20          150  crossover           False  0.280870   \n",
      "69            30          150  crossover           False  0.253191   \n",
      "36            10          300  crossover            True  0.207962   \n",
      "91            50          200  crossover           False  0.204850   \n",
      "\n",
      "    Sharpe Ratio  Max Drawdown  \n",
      "53      0.234637     -0.286578  \n",
      "49      0.220928     -0.271260  \n",
      "69      0.207649     -0.319492  \n",
      "36      0.193249     -0.785209  \n",
      "91      0.186713     -0.289598  \n",
      "\n",
      "🔍 Evaluating GILD\n"
     ]
    },
    {
     "name": "stderr",
     "output_type": "stream",
     "text": [
      "[*********************100%***********************]  1 of 1 completed\n"
     ]
    },
    {
     "name": "stdout",
     "output_type": "stream",
     "text": [
      "    Short Window  Long Window       Mode  Invert Signals    Return  \\\n",
      "53            20          200  crossover           False  4.206159   \n",
      "91            50          200  crossover           False  3.989026   \n",
      "95            50          300  crossover           False  3.744008   \n",
      "45            20          100  crossover           False  3.197803   \n",
      "73            30          200  crossover           False  3.497115   \n",
      "\n",
      "    Sharpe Ratio  Max Drawdown  \n",
      "53      0.711899     -0.540704  \n",
      "91      0.688643     -0.547160  \n",
      "95      0.665862     -0.547985  \n",
      "45      0.657034     -0.535225  \n",
      "73      0.653636     -0.552152  \n",
      "\n",
      "🔍 Evaluating GIS\n"
     ]
    },
    {
     "name": "stderr",
     "output_type": "stream",
     "text": [
      "[*********************100%***********************]  1 of 1 completed\n"
     ]
    },
    {
     "name": "stdout",
     "output_type": "stream",
     "text": [
      "    Short Window  Long Window       Mode  Invert Signals    Return  \\\n",
      "77            30          300  crossover           False  1.750877   \n",
      "95            50          300  crossover           False  1.736681   \n",
      "57            20          300  crossover           False  1.468445   \n",
      "37            10          300  crossover           False  1.171934   \n",
      "91            50          200  crossover           False  1.074448   \n",
      "\n",
      "    Sharpe Ratio  Max Drawdown  \n",
      "77      0.695467     -0.167544  \n",
      "95      0.689063     -0.167542  \n",
      "57      0.630788     -0.185273  \n",
      "37      0.552674     -0.235419  \n",
      "91      0.531515     -0.194113  \n",
      "\n",
      "🔍 Evaluating GPC\n"
     ]
    },
    {
     "name": "stderr",
     "output_type": "stream",
     "text": [
      "[*********************100%***********************]  1 of 1 completed\n"
     ]
    },
    {
     "name": "stdout",
     "output_type": "stream",
     "text": [
      "    Short Window  Long Window       Mode  Invert Signals    Return  \\\n",
      "91            50          200  crossover           False  1.846391   \n",
      "37            10          300  crossover           False  1.802514   \n",
      "57            20          300  crossover           False  1.760713   \n",
      "77            30          300  crossover           False  1.594664   \n",
      "73            30          200  crossover           False  1.571486   \n",
      "\n",
      "    Sharpe Ratio  Max Drawdown  \n",
      "91      0.679124     -0.185442  \n",
      "37      0.660439     -0.186263  \n",
      "57      0.652554     -0.185437  \n",
      "77      0.619647     -0.185452  \n",
      "73      0.616950     -0.219350  \n",
      "\n",
      "🔍 Evaluating GWW\n"
     ]
    },
    {
     "name": "stderr",
     "output_type": "stream",
     "text": [
      "[*********************100%***********************]  1 of 1 completed\n"
     ]
    },
    {
     "name": "stdout",
     "output_type": "stream",
     "text": [
      "    Short Window  Long Window       Mode  Invert Signals    Return  \\\n",
      "83            50          100  crossover           False  1.031963   \n",
      "72            30          200  crossover            True  0.720338   \n",
      "69            30          150  crossover           False  0.924437   \n",
      "95            50          300  crossover           False  0.975728   \n",
      "77            30          300  crossover           False  0.910573   \n",
      "\n",
      "    Sharpe Ratio  Max Drawdown  \n",
      "83      0.439610     -0.364761  \n",
      "72      0.418280     -0.255845  \n",
      "69      0.412546     -0.350275  \n",
      "95      0.402168     -0.429233  \n",
      "77      0.390139     -0.364455  \n",
      "\n",
      "🔍 Evaluating HAL\n"
     ]
    },
    {
     "name": "stderr",
     "output_type": "stream",
     "text": [
      "[*********************100%***********************]  1 of 1 completed\n"
     ]
    },
    {
     "name": "stdout",
     "output_type": "stream",
     "text": [
      "    Short Window  Long Window       Mode  Invert Signals    Return  \\\n",
      "83            50          100  crossover           False  2.385626   \n",
      "65            30          100  crossover           False  2.066457   \n",
      "25            10          100  crossover           False  1.701054   \n",
      "69            30          150  crossover           False  1.735671   \n",
      "45            20          100  crossover           False  1.684359   \n",
      "\n",
      "    Sharpe Ratio  Max Drawdown  \n",
      "83      0.556377     -0.471822  \n",
      "65      0.526701     -0.448067  \n",
      "25      0.488158     -0.405375  \n",
      "69      0.483132     -0.462221  \n",
      "45      0.482191     -0.518698  \n",
      "\n",
      "🔍 Evaluating HAS\n"
     ]
    },
    {
     "name": "stderr",
     "output_type": "stream",
     "text": [
      "[*********************100%***********************]  1 of 1 completed\n"
     ]
    },
    {
     "name": "stdout",
     "output_type": "stream",
     "text": [
      "    Short Window  Long Window       Mode  Invert Signals    Return  \\\n",
      "33            10          200  crossover           False  2.670737   \n",
      "17             5          300  crossover           False  2.586731   \n",
      "37            10          300  crossover           False  2.196892   \n",
      "53            20          200  crossover           False  2.177095   \n",
      "13             5          200  crossover           False  2.036831   \n",
      "\n",
      "    Sharpe Ratio  Max Drawdown  \n",
      "33      0.695479     -0.295568  \n",
      "17      0.675775     -0.306253  \n",
      "37      0.621617     -0.344871  \n",
      "53      0.619984     -0.313297  \n",
      "13      0.610888     -0.324821  \n",
      "\n",
      "=== ✅ Summary of Best Parameters by Ticker ===\n",
      "   Ticker  Short Window  Long Window       Mode  Invert Signals  Sharpe Ratio  \\\n",
      "29   AAPL            10          150  crossover           False        1.1092   \n",
      "52    ABT            20          200  crossover            True        0.4978   \n",
      "83    ADI            50          100  crossover           False        0.4788   \n",
      "83    ADM            50          100  crossover           False        0.4391   \n",
      "64    ADP            30          100  crossover            True        0.5795   \n",
      "..    ...           ...          ...        ...             ...           ...   \n",
      "77    GIS            30          300  crossover           False        0.6955   \n",
      "91    GPC            50          200  crossover           False        0.6791   \n",
      "83    GWW            50          100  crossover           False        0.4396   \n",
      "83    HAL            50          100  crossover           False        0.5564   \n",
      "33    HAS            10          200  crossover           False        0.6955   \n",
      "\n",
      "     Return  Max Drawdown  \n",
      "29  15.1846       -0.4906  \n",
      "52   0.7634       -0.1473  \n",
      "83   1.3648       -0.2738  \n",
      "83   1.1801       -0.3539  \n",
      "64   1.2781       -0.1823  \n",
      "..      ...           ...  \n",
      "77   1.7509       -0.1675  \n",
      "91   1.8464       -0.1854  \n",
      "83   1.0320       -0.3648  \n",
      "83   2.3856       -0.4718  \n",
      "33   2.6707       -0.2956  \n",
      "\n",
      "[100 rows x 8 columns]\n"
     ]
    }
   ],
   "source": [
    "import pandas as pd\n",
    "from itertools import product\n",
    "\n",
    "# Define tickers and parameter grid\n",
    "tickers = tickers = [\n",
    "    \"AAPL\", \"ABT\", \"ADI\", \"ADM\", \"ADP\", \"ADSK\", \"AEE\", \"AEP\", \"AJG\", \"AKAM\",\n",
    "    \"ALB\", \"AMAT\", \"AMD\", \"AME\", \"AMGN\", \"AMT\", \"AMZN\", \"AON\", \"AOS\", \"APA\",\n",
    "    \"APD\", \"APH\", \"ARE\", \"AVB\", \"AVY\", \"AXP\", \"AZO\", \"BA\", \"BAC\", \"BAX\",\n",
    "    \"BBY\", \"BDX\", \"BEN\", \"BIIB\", \"BK\", \"BLK\", \"BMY\", \"BSX\", \"BXP\", \"C\",\n",
    "    \"CAG\", \"CAH\", \"CAT\", \"CB\", \"CCI\", \"CDNS\", \"CHD\", \"CHRW\", \"CINF\", \"CL\",\n",
    "    \"CLX\", \"CMI\", \"CNP\", \"COO\", \"COP\", \"COST\", \"CPB\", \"CPRT\", \"CSCO\", \"CTAS\",\n",
    "    \"CTSH\", \"D\", \"DE\", \"DGX\", \"DHI\", \"DIS\", \"DLTR\", \"DOV\", \"DRI\", \"DTE\",\n",
    "    \"DVA\", \"EA\", \"EBAY\", \"ECL\", \"ED\", \"EFX\", \"EIX\", \"EL\", \"EMN\", \"EMR\",\n",
    "    \"EOG\", \"EQR\", \"ES\", \"ESS\", \"F\", \"FAST\", \"FCX\", \"FDX\", \"FE\", \"FFIV\",\n",
    "    \"FITB\", \"FRT\", \"GD\", \"GE\", \"GILD\", \"GIS\", \"GPC\", \"GWW\", \"HAL\", \"HAS\"\n",
    "]  # Extend list as needed\n",
    "\n",
    "# Parameter grid\n",
    "short_windows = [5, 10, 20, 30, 50]\n",
    "long_windows = [50, 100, 150, 200, 300]\n",
    "modes = ['crossover', 'single']\n",
    "invert_flags = [True, False]\n",
    "\n",
    "# Store results\n",
    "all_results = {}\n",
    "best_params = []\n",
    "\n",
    "# Loop over tickers\n",
    "for ticker in tickers:\n",
    "    print(f\"\\n🔍 Evaluating {ticker}\")\n",
    "    data_handler = DataHandler(ticker=ticker, start_date='2004-12-12', end_date='2015-12-12')\n",
    "    data = data_handler.fetch_data()\n",
    "\n",
    "    results = []\n",
    "\n",
    "    # Test each parameter combination\n",
    "    for short_w, long_w, mode, invert in product(short_windows, long_windows, modes, invert_flags):\n",
    "        if mode == 'crossover' and short_w >= long_w:\n",
    "            continue\n",
    "\n",
    "        strategy = MovingAverage(short_window=short_w, long_window=long_w, mode=mode, invert_signals=invert)\n",
    "        backtest = Backtest(data, strategy, plot_results=False)\n",
    "\n",
    "        try:\n",
    "            result = backtest.run()\n",
    "            results.append({\n",
    "                'Ticker': ticker,\n",
    "                'Short Window': short_w,\n",
    "                'Long Window': long_w,\n",
    "                'Mode': mode,\n",
    "                'Invert Signals': invert,\n",
    "                **result  # Includes Final Value, Return, Sharpe Ratio, Max Drawdown, etc.\n",
    "            })\n",
    "        except Exception as e:\n",
    "            print(f\"❌ Error for {ticker} | short={short_w} long={long_w} mode={mode} invert={invert}: {e}\")\n",
    "            continue\n",
    "\n",
    "    # Save all results for this ticker\n",
    "    all_results[ticker] = results\n",
    "\n",
    "    # Create DataFrame and find best based on Sharpe Ratio\n",
    "    if results:\n",
    "        df = pd.DataFrame(results)\n",
    "        best_row = df.loc[df['Sharpe Ratio'].idxmax()]\n",
    "        best_params.append(best_row)\n",
    "\n",
    "        # Optional: display the per-stock comparison table\n",
    "        print(df[['Short Window', 'Long Window', 'Mode', 'Invert Signals', 'Return', 'Sharpe Ratio', 'Max Drawdown']].sort_values(by='Sharpe Ratio', ascending=False).head())\n",
    "    else:\n",
    "        print(f\"⚠️ No results for {ticker}\")\n",
    "\n",
    "# Compile best strategy per stock\n",
    "best_params_df = pd.DataFrame(best_params)\n",
    "\n",
    "print(\"\\n=== ✅ Summary of Best Parameters by Ticker ===\")\n",
    "print(best_params_df[['Ticker', 'Short Window', 'Long Window', 'Mode', 'Invert Signals', 'Sharpe Ratio', 'Return', 'Max Drawdown']].round(4))\n",
    "\n"
   ]
  },
  {
   "cell_type": "code",
   "execution_count": 19,
   "id": "79e3b5e3-5747-465d-bf7c-3209a31da2df",
   "metadata": {},
   "outputs": [
    {
     "name": "stdout",
     "output_type": "stream",
     "text": [
      "\n",
      "✅ Top 2 most common parameter combinations across tickers:\n",
      "1. Short: 50, Long: 100, Mode: crossover, Invert: False (appears 18 times)\n",
      "2. Short: 50, Long: 300, Mode: crossover, Invert: False (appears 11 times)\n",
      "3. Short: 50, Long: 200, Mode: crossover, Invert: False (appears 9 times)\n"
     ]
    }
   ],
   "source": [
    "# Count the most frequent parameter combinations\n",
    "top_combinations = (\n",
    "    best_params_df[['Short Window', 'Long Window', 'Mode', 'Invert Signals']]\n",
    "    .value_counts()\n",
    "    .head(3)  # or head(1) if you only want the top\n",
    ")\n",
    "\n",
    "# Display the most frequent ones\n",
    "print(\"\\n✅ Top 2 most common parameter combinations across tickers:\")\n",
    "for i, ((short_w, long_w, mode, invert), count) in enumerate(top_combinations.items(), start=1):\n",
    "    print(f\"{i}. Short: {short_w}, Long: {long_w}, Mode: {mode}, Invert: {invert} (appears {count} times)\")\n"
   ]
  },
  {
   "cell_type": "code",
   "execution_count": 30,
   "id": "7eb8bac5-b1c2-4b52-8b72-6707bc46c567",
   "metadata": {},
   "outputs": [
    {
     "name": "stderr",
     "output_type": "stream",
     "text": [
      "[*********************100%***********************]  1 of 1 completed"
     ]
    },
    {
     "name": "stdout",
     "output_type": "stream",
     "text": [
      "\n",
      "📈 Backtesting AAPL with most common params\n",
      "\n",
      "📈 Backtesting ABT with most common params\n"
     ]
    },
    {
     "name": "stderr",
     "output_type": "stream",
     "text": [
      "\n",
      "[*********************100%***********************]  1 of 1 completed\n"
     ]
    },
    {
     "name": "stdout",
     "output_type": "stream",
     "text": [
      "\n",
      "📈 Backtesting ADI with most common params\n"
     ]
    },
    {
     "name": "stderr",
     "output_type": "stream",
     "text": [
      "[*********************100%***********************]  1 of 1 completed\n"
     ]
    },
    {
     "name": "stdout",
     "output_type": "stream",
     "text": [
      "\n",
      "📈 Backtesting ADM with most common params\n"
     ]
    },
    {
     "name": "stderr",
     "output_type": "stream",
     "text": [
      "[*********************100%***********************]  1 of 1 completed\n"
     ]
    },
    {
     "name": "stdout",
     "output_type": "stream",
     "text": [
      "\n",
      "📈 Backtesting ADP with most common params\n"
     ]
    },
    {
     "name": "stderr",
     "output_type": "stream",
     "text": [
      "[*********************100%***********************]  1 of 1 completed\n"
     ]
    },
    {
     "name": "stdout",
     "output_type": "stream",
     "text": [
      "\n",
      "📈 Backtesting ADSK with most common params\n"
     ]
    },
    {
     "name": "stderr",
     "output_type": "stream",
     "text": [
      "[*********************100%***********************]  1 of 1 completed\n"
     ]
    },
    {
     "name": "stdout",
     "output_type": "stream",
     "text": [
      "\n",
      "📈 Backtesting AEE with most common params\n"
     ]
    },
    {
     "name": "stderr",
     "output_type": "stream",
     "text": [
      "[*********************100%***********************]  1 of 1 completed\n"
     ]
    },
    {
     "name": "stdout",
     "output_type": "stream",
     "text": [
      "\n",
      "📈 Backtesting AEP with most common params\n"
     ]
    },
    {
     "name": "stderr",
     "output_type": "stream",
     "text": [
      "[*********************100%***********************]  1 of 1 completed\n"
     ]
    },
    {
     "name": "stdout",
     "output_type": "stream",
     "text": [
      "\n",
      "📈 Backtesting AJG with most common params\n"
     ]
    },
    {
     "name": "stderr",
     "output_type": "stream",
     "text": [
      "[*********************100%***********************]  1 of 1 completed\n"
     ]
    },
    {
     "name": "stdout",
     "output_type": "stream",
     "text": [
      "\n",
      "📈 Backtesting AKAM with most common params\n"
     ]
    },
    {
     "name": "stderr",
     "output_type": "stream",
     "text": [
      "[*********************100%***********************]  1 of 1 completed\n"
     ]
    },
    {
     "name": "stdout",
     "output_type": "stream",
     "text": [
      "\n",
      "📈 Backtesting ALB with most common params\n"
     ]
    },
    {
     "name": "stderr",
     "output_type": "stream",
     "text": [
      "[*********************100%***********************]  1 of 1 completed\n"
     ]
    },
    {
     "name": "stdout",
     "output_type": "stream",
     "text": [
      "\n",
      "📈 Backtesting AMAT with most common params\n"
     ]
    },
    {
     "name": "stderr",
     "output_type": "stream",
     "text": [
      "[*********************100%***********************]  1 of 1 completed\n",
      "[*********************100%***********************]  1 of 1 completed"
     ]
    },
    {
     "name": "stdout",
     "output_type": "stream",
     "text": [
      "\n",
      "📈 Backtesting AMD with most common params\n"
     ]
    },
    {
     "name": "stderr",
     "output_type": "stream",
     "text": [
      "\n"
     ]
    },
    {
     "name": "stdout",
     "output_type": "stream",
     "text": [
      "\n",
      "📈 Backtesting AME with most common params\n"
     ]
    },
    {
     "name": "stderr",
     "output_type": "stream",
     "text": [
      "[*********************100%***********************]  1 of 1 completed\n"
     ]
    },
    {
     "name": "stdout",
     "output_type": "stream",
     "text": [
      "\n",
      "📈 Backtesting AMGN with most common params\n"
     ]
    },
    {
     "name": "stderr",
     "output_type": "stream",
     "text": [
      "[*********************100%***********************]  1 of 1 completed\n"
     ]
    },
    {
     "name": "stdout",
     "output_type": "stream",
     "text": [
      "\n",
      "📈 Backtesting AMT with most common params\n"
     ]
    },
    {
     "name": "stderr",
     "output_type": "stream",
     "text": [
      "[*********************100%***********************]  1 of 1 completed\n",
      "[*********************100%***********************]  1 of 1 completed"
     ]
    },
    {
     "name": "stdout",
     "output_type": "stream",
     "text": [
      "\n",
      "📈 Backtesting AMZN with most common params\n"
     ]
    },
    {
     "name": "stderr",
     "output_type": "stream",
     "text": [
      "\n"
     ]
    },
    {
     "name": "stdout",
     "output_type": "stream",
     "text": [
      "\n",
      "📈 Backtesting AON with most common params\n"
     ]
    },
    {
     "name": "stderr",
     "output_type": "stream",
     "text": [
      "[*********************100%***********************]  1 of 1 completed\n"
     ]
    },
    {
     "name": "stdout",
     "output_type": "stream",
     "text": [
      "\n",
      "📈 Backtesting AOS with most common params\n"
     ]
    },
    {
     "name": "stderr",
     "output_type": "stream",
     "text": [
      "[*********************100%***********************]  1 of 1 completed\n"
     ]
    },
    {
     "name": "stdout",
     "output_type": "stream",
     "text": [
      "\n",
      "📈 Backtesting APA with most common params\n"
     ]
    },
    {
     "name": "stderr",
     "output_type": "stream",
     "text": [
      "[*********************100%***********************]  1 of 1 completed\n"
     ]
    },
    {
     "name": "stdout",
     "output_type": "stream",
     "text": [
      "\n",
      "📈 Backtesting APD with most common params\n"
     ]
    },
    {
     "name": "stderr",
     "output_type": "stream",
     "text": [
      "[*********************100%***********************]  1 of 1 completed\n"
     ]
    },
    {
     "name": "stdout",
     "output_type": "stream",
     "text": [
      "\n",
      "📈 Backtesting APH with most common params\n"
     ]
    },
    {
     "name": "stderr",
     "output_type": "stream",
     "text": [
      "[*********************100%***********************]  1 of 1 completed\n"
     ]
    },
    {
     "name": "stdout",
     "output_type": "stream",
     "text": [
      "\n",
      "📈 Backtesting ARE with most common params\n"
     ]
    },
    {
     "name": "stderr",
     "output_type": "stream",
     "text": [
      "[*********************100%***********************]  1 of 1 completed\n"
     ]
    },
    {
     "name": "stdout",
     "output_type": "stream",
     "text": [
      "\n",
      "📈 Backtesting AVB with most common params\n"
     ]
    },
    {
     "name": "stderr",
     "output_type": "stream",
     "text": [
      "[*********************100%***********************]  1 of 1 completed\n"
     ]
    },
    {
     "name": "stdout",
     "output_type": "stream",
     "text": [
      "\n",
      "📈 Backtesting AVY with most common params\n"
     ]
    },
    {
     "name": "stderr",
     "output_type": "stream",
     "text": [
      "[*********************100%***********************]  1 of 1 completed\n"
     ]
    },
    {
     "name": "stdout",
     "output_type": "stream",
     "text": [
      "\n",
      "📈 Backtesting AXP with most common params\n"
     ]
    },
    {
     "name": "stderr",
     "output_type": "stream",
     "text": [
      "[*********************100%***********************]  1 of 1 completed\n"
     ]
    },
    {
     "name": "stdout",
     "output_type": "stream",
     "text": [
      "\n",
      "📈 Backtesting AZO with most common params\n"
     ]
    },
    {
     "name": "stderr",
     "output_type": "stream",
     "text": [
      "[*********************100%***********************]  1 of 1 completed\n"
     ]
    },
    {
     "name": "stdout",
     "output_type": "stream",
     "text": [
      "\n",
      "📈 Backtesting BA with most common params\n"
     ]
    },
    {
     "name": "stderr",
     "output_type": "stream",
     "text": [
      "[*********************100%***********************]  1 of 1 completed\n"
     ]
    },
    {
     "name": "stdout",
     "output_type": "stream",
     "text": [
      "\n",
      "📈 Backtesting BAC with most common params\n"
     ]
    },
    {
     "name": "stderr",
     "output_type": "stream",
     "text": [
      "[*********************100%***********************]  1 of 1 completed\n"
     ]
    },
    {
     "name": "stdout",
     "output_type": "stream",
     "text": [
      "\n",
      "📈 Backtesting BAX with most common params\n"
     ]
    },
    {
     "name": "stderr",
     "output_type": "stream",
     "text": [
      "[*********************100%***********************]  1 of 1 completed\n"
     ]
    },
    {
     "name": "stdout",
     "output_type": "stream",
     "text": [
      "\n",
      "📈 Backtesting BBY with most common params\n"
     ]
    },
    {
     "name": "stderr",
     "output_type": "stream",
     "text": [
      "[*********************100%***********************]  1 of 1 completed\n"
     ]
    },
    {
     "name": "stdout",
     "output_type": "stream",
     "text": [
      "\n",
      "📈 Backtesting BDX with most common params\n"
     ]
    },
    {
     "name": "stderr",
     "output_type": "stream",
     "text": [
      "[*********************100%***********************]  1 of 1 completed\n"
     ]
    },
    {
     "name": "stdout",
     "output_type": "stream",
     "text": [
      "\n",
      "📈 Backtesting BEN with most common params\n"
     ]
    },
    {
     "name": "stderr",
     "output_type": "stream",
     "text": [
      "[*********************100%***********************]  1 of 1 completed\n"
     ]
    },
    {
     "name": "stdout",
     "output_type": "stream",
     "text": [
      "\n",
      "📈 Backtesting BIIB with most common params\n"
     ]
    },
    {
     "name": "stderr",
     "output_type": "stream",
     "text": [
      "[*********************100%***********************]  1 of 1 completed\n"
     ]
    },
    {
     "name": "stdout",
     "output_type": "stream",
     "text": [
      "\n",
      "📈 Backtesting BK with most common params\n"
     ]
    },
    {
     "name": "stderr",
     "output_type": "stream",
     "text": [
      "[*********************100%***********************]  1 of 1 completed\n"
     ]
    },
    {
     "name": "stdout",
     "output_type": "stream",
     "text": [
      "\n",
      "📈 Backtesting BLK with most common params\n"
     ]
    },
    {
     "name": "stderr",
     "output_type": "stream",
     "text": [
      "[*********************100%***********************]  1 of 1 completed\n"
     ]
    },
    {
     "name": "stdout",
     "output_type": "stream",
     "text": [
      "\n",
      "📈 Backtesting BMY with most common params\n"
     ]
    },
    {
     "name": "stderr",
     "output_type": "stream",
     "text": [
      "[*********************100%***********************]  1 of 1 completed\n"
     ]
    },
    {
     "name": "stdout",
     "output_type": "stream",
     "text": [
      "\n",
      "📈 Backtesting BSX with most common params\n"
     ]
    },
    {
     "name": "stderr",
     "output_type": "stream",
     "text": [
      "[*********************100%***********************]  1 of 1 completed\n"
     ]
    },
    {
     "name": "stdout",
     "output_type": "stream",
     "text": [
      "\n",
      "📈 Backtesting BXP with most common params\n"
     ]
    },
    {
     "name": "stderr",
     "output_type": "stream",
     "text": [
      "[*********************100%***********************]  1 of 1 completed\n"
     ]
    },
    {
     "name": "stdout",
     "output_type": "stream",
     "text": [
      "\n",
      "📈 Backtesting C with most common params\n"
     ]
    },
    {
     "name": "stderr",
     "output_type": "stream",
     "text": [
      "[*********************100%***********************]  1 of 1 completed\n"
     ]
    },
    {
     "name": "stdout",
     "output_type": "stream",
     "text": [
      "\n",
      "📈 Backtesting CAG with most common params\n"
     ]
    },
    {
     "name": "stderr",
     "output_type": "stream",
     "text": [
      "[*********************100%***********************]  1 of 1 completed\n"
     ]
    },
    {
     "name": "stdout",
     "output_type": "stream",
     "text": [
      "\n",
      "📈 Backtesting CAH with most common params\n"
     ]
    },
    {
     "name": "stderr",
     "output_type": "stream",
     "text": [
      "[*********************100%***********************]  1 of 1 completed\n"
     ]
    },
    {
     "name": "stdout",
     "output_type": "stream",
     "text": [
      "\n",
      "📈 Backtesting CAT with most common params\n"
     ]
    },
    {
     "name": "stderr",
     "output_type": "stream",
     "text": [
      "[*********************100%***********************]  1 of 1 completed\n"
     ]
    },
    {
     "name": "stdout",
     "output_type": "stream",
     "text": [
      "\n",
      "📈 Backtesting CB with most common params\n"
     ]
    },
    {
     "name": "stderr",
     "output_type": "stream",
     "text": [
      "[*********************100%***********************]  1 of 1 completed\n"
     ]
    },
    {
     "name": "stdout",
     "output_type": "stream",
     "text": [
      "\n",
      "📈 Backtesting CCI with most common params\n"
     ]
    },
    {
     "name": "stderr",
     "output_type": "stream",
     "text": [
      "[*********************100%***********************]  1 of 1 completed\n",
      "[*********************100%***********************]  1 of 1 completed"
     ]
    },
    {
     "name": "stdout",
     "output_type": "stream",
     "text": [
      "\n",
      "📈 Backtesting CDNS with most common params\n"
     ]
    },
    {
     "name": "stderr",
     "output_type": "stream",
     "text": [
      "\n"
     ]
    },
    {
     "name": "stdout",
     "output_type": "stream",
     "text": [
      "\n",
      "📈 Backtesting CHD with most common params\n"
     ]
    },
    {
     "name": "stderr",
     "output_type": "stream",
     "text": [
      "[*********************100%***********************]  1 of 1 completed\n"
     ]
    },
    {
     "name": "stdout",
     "output_type": "stream",
     "text": [
      "\n",
      "📈 Backtesting CHRW with most common params\n"
     ]
    },
    {
     "name": "stderr",
     "output_type": "stream",
     "text": [
      "[*********************100%***********************]  1 of 1 completed\n"
     ]
    },
    {
     "name": "stdout",
     "output_type": "stream",
     "text": [
      "\n",
      "📈 Backtesting CINF with most common params\n"
     ]
    },
    {
     "name": "stderr",
     "output_type": "stream",
     "text": [
      "[*********************100%***********************]  1 of 1 completed\n"
     ]
    },
    {
     "name": "stdout",
     "output_type": "stream",
     "text": [
      "\n",
      "📈 Backtesting CL with most common params\n"
     ]
    },
    {
     "name": "stderr",
     "output_type": "stream",
     "text": [
      "[*********************100%***********************]  1 of 1 completed\n"
     ]
    },
    {
     "name": "stdout",
     "output_type": "stream",
     "text": [
      "\n",
      "📈 Backtesting CLX with most common params\n"
     ]
    },
    {
     "name": "stderr",
     "output_type": "stream",
     "text": [
      "[*********************100%***********************]  1 of 1 completed\n"
     ]
    },
    {
     "name": "stdout",
     "output_type": "stream",
     "text": [
      "\n",
      "📈 Backtesting CMI with most common params\n"
     ]
    },
    {
     "name": "stderr",
     "output_type": "stream",
     "text": [
      "[*********************100%***********************]  1 of 1 completed\n"
     ]
    },
    {
     "name": "stdout",
     "output_type": "stream",
     "text": [
      "\n",
      "📈 Backtesting CNP with most common params\n"
     ]
    },
    {
     "name": "stderr",
     "output_type": "stream",
     "text": [
      "[*********************100%***********************]  1 of 1 completed\n"
     ]
    },
    {
     "name": "stdout",
     "output_type": "stream",
     "text": [
      "\n",
      "📈 Backtesting COO with most common params\n"
     ]
    },
    {
     "name": "stderr",
     "output_type": "stream",
     "text": [
      "[*********************100%***********************]  1 of 1 completed\n"
     ]
    },
    {
     "name": "stdout",
     "output_type": "stream",
     "text": [
      "\n",
      "📈 Backtesting COP with most common params\n"
     ]
    },
    {
     "name": "stderr",
     "output_type": "stream",
     "text": [
      "[*********************100%***********************]  1 of 1 completed\n"
     ]
    },
    {
     "name": "stdout",
     "output_type": "stream",
     "text": [
      "\n",
      "📈 Backtesting COST with most common params\n"
     ]
    },
    {
     "name": "stderr",
     "output_type": "stream",
     "text": [
      "[*********************100%***********************]  1 of 1 completed\n"
     ]
    },
    {
     "name": "stdout",
     "output_type": "stream",
     "text": [
      "\n",
      "📈 Backtesting CPB with most common params\n"
     ]
    },
    {
     "name": "stderr",
     "output_type": "stream",
     "text": [
      "[*********************100%***********************]  1 of 1 completed\n"
     ]
    },
    {
     "name": "stdout",
     "output_type": "stream",
     "text": [
      "\n",
      "📈 Backtesting CPRT with most common params\n"
     ]
    },
    {
     "name": "stderr",
     "output_type": "stream",
     "text": [
      "[*********************100%***********************]  1 of 1 completed\n"
     ]
    },
    {
     "name": "stdout",
     "output_type": "stream",
     "text": [
      "\n",
      "📈 Backtesting CSCO with most common params\n"
     ]
    },
    {
     "name": "stderr",
     "output_type": "stream",
     "text": [
      "[*********************100%***********************]  1 of 1 completed\n"
     ]
    },
    {
     "name": "stdout",
     "output_type": "stream",
     "text": [
      "\n",
      "📈 Backtesting CTAS with most common params\n"
     ]
    },
    {
     "name": "stderr",
     "output_type": "stream",
     "text": [
      "[*********************100%***********************]  1 of 1 completed\n",
      "[*********************100%***********************]  1 of 1 completed"
     ]
    },
    {
     "name": "stdout",
     "output_type": "stream",
     "text": [
      "\n",
      "📈 Backtesting CTSH with most common params\n"
     ]
    },
    {
     "name": "stderr",
     "output_type": "stream",
     "text": [
      "\n"
     ]
    },
    {
     "name": "stdout",
     "output_type": "stream",
     "text": [
      "\n",
      "📈 Backtesting D with most common params\n"
     ]
    },
    {
     "name": "stderr",
     "output_type": "stream",
     "text": [
      "[*********************100%***********************]  1 of 1 completed\n"
     ]
    },
    {
     "name": "stdout",
     "output_type": "stream",
     "text": [
      "\n",
      "📈 Backtesting DE with most common params\n"
     ]
    },
    {
     "name": "stderr",
     "output_type": "stream",
     "text": [
      "[*********************100%***********************]  1 of 1 completed\n"
     ]
    },
    {
     "name": "stdout",
     "output_type": "stream",
     "text": [
      "\n",
      "📈 Backtesting DGX with most common params\n"
     ]
    },
    {
     "name": "stderr",
     "output_type": "stream",
     "text": [
      "[*********************100%***********************]  1 of 1 completed\n"
     ]
    },
    {
     "name": "stdout",
     "output_type": "stream",
     "text": [
      "\n",
      "📈 Backtesting DHI with most common params\n"
     ]
    },
    {
     "name": "stderr",
     "output_type": "stream",
     "text": [
      "[*********************100%***********************]  1 of 1 completed\n"
     ]
    },
    {
     "name": "stdout",
     "output_type": "stream",
     "text": [
      "\n",
      "📈 Backtesting DIS with most common params\n"
     ]
    },
    {
     "name": "stderr",
     "output_type": "stream",
     "text": [
      "[*********************100%***********************]  1 of 1 completed\n"
     ]
    },
    {
     "name": "stdout",
     "output_type": "stream",
     "text": [
      "\n",
      "📈 Backtesting DLTR with most common params\n"
     ]
    },
    {
     "name": "stderr",
     "output_type": "stream",
     "text": [
      "[*********************100%***********************]  1 of 1 completed\n"
     ]
    },
    {
     "name": "stdout",
     "output_type": "stream",
     "text": [
      "\n",
      "📈 Backtesting DOV with most common params\n"
     ]
    },
    {
     "name": "stderr",
     "output_type": "stream",
     "text": [
      "[*********************100%***********************]  1 of 1 completed\n"
     ]
    },
    {
     "name": "stdout",
     "output_type": "stream",
     "text": [
      "\n",
      "📈 Backtesting DRI with most common params\n"
     ]
    },
    {
     "name": "stderr",
     "output_type": "stream",
     "text": [
      "[*********************100%***********************]  1 of 1 completed\n"
     ]
    },
    {
     "name": "stdout",
     "output_type": "stream",
     "text": [
      "\n",
      "📈 Backtesting DTE with most common params\n"
     ]
    },
    {
     "name": "stderr",
     "output_type": "stream",
     "text": [
      "[*********************100%***********************]  1 of 1 completed\n"
     ]
    },
    {
     "name": "stdout",
     "output_type": "stream",
     "text": [
      "\n",
      "📈 Backtesting DVA with most common params\n"
     ]
    },
    {
     "name": "stderr",
     "output_type": "stream",
     "text": [
      "[*********************100%***********************]  1 of 1 completed\n"
     ]
    },
    {
     "name": "stdout",
     "output_type": "stream",
     "text": [
      "\n",
      "📈 Backtesting EA with most common params\n"
     ]
    },
    {
     "name": "stderr",
     "output_type": "stream",
     "text": [
      "[*********************100%***********************]  1 of 1 completed\n"
     ]
    },
    {
     "name": "stdout",
     "output_type": "stream",
     "text": [
      "\n",
      "📈 Backtesting EBAY with most common params\n"
     ]
    },
    {
     "name": "stderr",
     "output_type": "stream",
     "text": [
      "[*********************100%***********************]  1 of 1 completed\n"
     ]
    },
    {
     "name": "stdout",
     "output_type": "stream",
     "text": [
      "\n",
      "📈 Backtesting ECL with most common params\n"
     ]
    },
    {
     "name": "stderr",
     "output_type": "stream",
     "text": [
      "[*********************100%***********************]  1 of 1 completed\n"
     ]
    },
    {
     "name": "stdout",
     "output_type": "stream",
     "text": [
      "\n",
      "📈 Backtesting ED with most common params\n"
     ]
    },
    {
     "name": "stderr",
     "output_type": "stream",
     "text": [
      "[*********************100%***********************]  1 of 1 completed\n"
     ]
    },
    {
     "name": "stdout",
     "output_type": "stream",
     "text": [
      "\n",
      "📈 Backtesting EFX with most common params\n"
     ]
    },
    {
     "name": "stderr",
     "output_type": "stream",
     "text": [
      "[*********************100%***********************]  1 of 1 completed\n"
     ]
    },
    {
     "name": "stdout",
     "output_type": "stream",
     "text": [
      "\n",
      "📈 Backtesting EIX with most common params\n"
     ]
    },
    {
     "name": "stderr",
     "output_type": "stream",
     "text": [
      "[*********************100%***********************]  1 of 1 completed\n"
     ]
    },
    {
     "name": "stdout",
     "output_type": "stream",
     "text": [
      "\n",
      "📈 Backtesting EL with most common params\n"
     ]
    },
    {
     "name": "stderr",
     "output_type": "stream",
     "text": [
      "[*********************100%***********************]  1 of 1 completed\n"
     ]
    },
    {
     "name": "stdout",
     "output_type": "stream",
     "text": [
      "\n",
      "📈 Backtesting EMN with most common params\n"
     ]
    },
    {
     "name": "stderr",
     "output_type": "stream",
     "text": [
      "[*********************100%***********************]  1 of 1 completed\n"
     ]
    },
    {
     "name": "stdout",
     "output_type": "stream",
     "text": [
      "\n",
      "📈 Backtesting EMR with most common params\n"
     ]
    },
    {
     "name": "stderr",
     "output_type": "stream",
     "text": [
      "[*********************100%***********************]  1 of 1 completed\n"
     ]
    },
    {
     "name": "stdout",
     "output_type": "stream",
     "text": [
      "\n",
      "📈 Backtesting EOG with most common params\n"
     ]
    },
    {
     "name": "stderr",
     "output_type": "stream",
     "text": [
      "[*********************100%***********************]  1 of 1 completed\n"
     ]
    },
    {
     "name": "stdout",
     "output_type": "stream",
     "text": [
      "\n",
      "📈 Backtesting EQR with most common params\n"
     ]
    },
    {
     "name": "stderr",
     "output_type": "stream",
     "text": [
      "[*********************100%***********************]  1 of 1 completed\n"
     ]
    },
    {
     "name": "stdout",
     "output_type": "stream",
     "text": [
      "\n",
      "📈 Backtesting ES with most common params\n"
     ]
    },
    {
     "name": "stderr",
     "output_type": "stream",
     "text": [
      "[*********************100%***********************]  1 of 1 completed\n"
     ]
    },
    {
     "name": "stdout",
     "output_type": "stream",
     "text": [
      "\n",
      "📈 Backtesting ESS with most common params\n"
     ]
    },
    {
     "name": "stderr",
     "output_type": "stream",
     "text": [
      "[*********************100%***********************]  1 of 1 completed\n"
     ]
    },
    {
     "name": "stdout",
     "output_type": "stream",
     "text": [
      "\n",
      "📈 Backtesting F with most common params\n"
     ]
    },
    {
     "name": "stderr",
     "output_type": "stream",
     "text": [
      "[*********************100%***********************]  1 of 1 completed\n"
     ]
    },
    {
     "name": "stdout",
     "output_type": "stream",
     "text": [
      "\n",
      "📈 Backtesting FAST with most common params\n"
     ]
    },
    {
     "name": "stderr",
     "output_type": "stream",
     "text": [
      "[*********************100%***********************]  1 of 1 completed\n"
     ]
    },
    {
     "name": "stdout",
     "output_type": "stream",
     "text": [
      "\n",
      "📈 Backtesting FCX with most common params\n"
     ]
    },
    {
     "name": "stderr",
     "output_type": "stream",
     "text": [
      "[*********************100%***********************]  1 of 1 completed\n"
     ]
    },
    {
     "name": "stdout",
     "output_type": "stream",
     "text": [
      "\n",
      "📈 Backtesting FDX with most common params\n"
     ]
    },
    {
     "name": "stderr",
     "output_type": "stream",
     "text": [
      "[*********************100%***********************]  1 of 1 completed\n"
     ]
    },
    {
     "name": "stdout",
     "output_type": "stream",
     "text": [
      "\n",
      "📈 Backtesting FE with most common params\n"
     ]
    },
    {
     "name": "stderr",
     "output_type": "stream",
     "text": [
      "[*********************100%***********************]  1 of 1 completed\n"
     ]
    },
    {
     "name": "stdout",
     "output_type": "stream",
     "text": [
      "\n",
      "📈 Backtesting FFIV with most common params\n"
     ]
    },
    {
     "name": "stderr",
     "output_type": "stream",
     "text": [
      "[*********************100%***********************]  1 of 1 completed\n"
     ]
    },
    {
     "name": "stdout",
     "output_type": "stream",
     "text": [
      "\n",
      "📈 Backtesting FITB with most common params\n"
     ]
    },
    {
     "name": "stderr",
     "output_type": "stream",
     "text": [
      "[*********************100%***********************]  1 of 1 completed\n"
     ]
    },
    {
     "name": "stdout",
     "output_type": "stream",
     "text": [
      "\n",
      "📈 Backtesting FRT with most common params\n"
     ]
    },
    {
     "name": "stderr",
     "output_type": "stream",
     "text": [
      "[*********************100%***********************]  1 of 1 completed\n"
     ]
    },
    {
     "name": "stdout",
     "output_type": "stream",
     "text": [
      "\n",
      "📈 Backtesting GD with most common params\n"
     ]
    },
    {
     "name": "stderr",
     "output_type": "stream",
     "text": [
      "[*********************100%***********************]  1 of 1 completed\n"
     ]
    },
    {
     "name": "stdout",
     "output_type": "stream",
     "text": [
      "\n",
      "📈 Backtesting GE with most common params\n"
     ]
    },
    {
     "name": "stderr",
     "output_type": "stream",
     "text": [
      "[*********************100%***********************]  1 of 1 completed\n"
     ]
    },
    {
     "name": "stdout",
     "output_type": "stream",
     "text": [
      "\n",
      "📈 Backtesting GILD with most common params\n"
     ]
    },
    {
     "name": "stderr",
     "output_type": "stream",
     "text": [
      "[*********************100%***********************]  1 of 1 completed\n"
     ]
    },
    {
     "name": "stdout",
     "output_type": "stream",
     "text": [
      "\n",
      "📈 Backtesting GIS with most common params\n"
     ]
    },
    {
     "name": "stderr",
     "output_type": "stream",
     "text": [
      "[*********************100%***********************]  1 of 1 completed\n"
     ]
    },
    {
     "name": "stdout",
     "output_type": "stream",
     "text": [
      "\n",
      "📈 Backtesting GPC with most common params\n"
     ]
    },
    {
     "name": "stderr",
     "output_type": "stream",
     "text": [
      "[*********************100%***********************]  1 of 1 completed\n"
     ]
    },
    {
     "name": "stdout",
     "output_type": "stream",
     "text": [
      "\n",
      "📈 Backtesting GWW with most common params\n"
     ]
    },
    {
     "name": "stderr",
     "output_type": "stream",
     "text": [
      "[*********************100%***********************]  1 of 1 completed\n"
     ]
    },
    {
     "name": "stdout",
     "output_type": "stream",
     "text": [
      "\n",
      "📈 Backtesting HAL with most common params\n"
     ]
    },
    {
     "name": "stderr",
     "output_type": "stream",
     "text": [
      "[*********************100%***********************]  1 of 1 completed\n"
     ]
    },
    {
     "name": "stdout",
     "output_type": "stream",
     "text": [
      "\n",
      "📈 Backtesting HAS with most common params\n"
     ]
    },
    {
     "name": "stderr",
     "output_type": "stream",
     "text": [
      "[*********************100%***********************]  1 of 1 completed\n"
     ]
    }
   ],
   "source": [
    "performance_summary = []\n",
    "\n",
    "for ticker in tickers:\n",
    "    print(f\"\\n📈 Backtesting {ticker} with most common params\")\n",
    "\n",
    "    data_handler = DataHandler(ticker=ticker, start_date='2015-12-12', end_date='2019-12-25')\n",
    "    data = data_handler.fetch_data()\n",
    "\n",
    "    strategy = MovingAverage(\n",
    "        short_window=50,\n",
    "        long_window=100,\n",
    "        mode=\"crossover\",\n",
    "        invert_signals=False\n",
    "    )\n",
    "    backtest = Backtest(data, strategy, plot_results=False)\n",
    "    result = backtest.run()\n",
    "\n",
    "    performance_summary.append({\n",
    "        'Ticker': ticker,\n",
    "        'Final Value': result['Final Value'],\n",
    "        'Return': result['Return'],\n",
    "        'Sharpe Ratio': result['Sharpe Ratio'],\n",
    "        'Max Drawdown': result['Max Drawdown']\n",
    "    })\n",
    "\n",
    "# Make a DataFrame\n",
    "perf_df = pd.DataFrame(performance_summary)"
   ]
  },
  {
   "cell_type": "code",
   "execution_count": 35,
   "id": "2aeb8698-eec8-4cb3-95e7-6ffb74e83293",
   "metadata": {},
   "outputs": [
    {
     "name": "stdout",
     "output_type": "stream",
     "text": [
      "\n",
      "=== Summary Statistics ===\n",
      "       Final Value    Return  Sharpe Ratio  Max Drawdown\n",
      "count     100.0000  100.0000      100.0000      100.0000\n",
      "mean   126853.2511    0.2685        0.2939       -0.2906\n",
      "std     58585.7989    0.5859        0.5094        0.1125\n",
      "min     37163.8572   -0.6284       -0.9619       -0.6644\n",
      "25%     91917.8664   -0.0808       -0.0225       -0.3510\n",
      "50%    117338.6582    0.1734        0.3361       -0.2685\n",
      "75%    144433.6920    0.4443        0.6542       -0.2092\n",
      "max    442168.7461    3.4217        1.6179       -0.1182\n",
      "\n",
      "=== Mean Metrics ===\n",
      "Return               0.2685\n",
      "Sharpe Ratio         0.2939\n",
      "Final Value     126853.2511\n",
      "Max Drawdown        -0.2906\n",
      "dtype: float64\n"
     ]
    },
    {
     "data": {
      "image/png": "[encoded data removed]",
      "text/plain": [
       "<Figure size 800x500 with 1 Axes>"
      ]
     },
     "metadata": {},
     "output_type": "display_data"
    },
    {
     "data": {
      "image/png": "[encoded data removed]",
      "text/plain": [
       "<Figure size 1000x500 with 1 Axes>"
      ]
     },
     "metadata": {},
     "output_type": "display_data"
    }
   ],
   "source": [
    "import seaborn as sns\n",
    "import matplotlib.pyplot as plt\n",
    "\n",
    "# Create DataFrame from performance summary\n",
    "perf_df = pd.DataFrame(performance_summary)\n",
    "\n",
    "# Display summary statistics\n",
    "print(\"\\n=== Summary Statistics ===\")\n",
    "print(perf_df.describe().round(4))\n",
    "\n",
    "# Mean values\n",
    "mean_metrics = perf_df[['Return', 'Sharpe Ratio', 'Final Value', 'Max Drawdown']].mean()\n",
    "print(\"\\n=== Mean Metrics ===\")\n",
    "print(mean_metrics.round(4))\n",
    "\n",
    "# --- Plots ---\n",
    "sns.set(style=\"whitegrid\")\n",
    "\n",
    "# 1. Histogram of Sharpe Ratios\n",
    "plt.figure(figsize=(8, 5))\n",
    "sns.histplot(perf_df['Sharpe Ratio'], kde=True, bins=15)\n",
    "plt.title('Distribution of Sharpe Ratios')\n",
    "plt.xlabel('Sharpe Ratio')\n",
    "plt.ylabel('Number of Stocks')\n",
    "plt.show()\n",
    "\n",
    "# 2. Bar chart of Returns (sorted by Return)\n",
    "plt.figure(figsize=(10, 5))\n",
    "sorted_df = perf_df.sort_values(by='Return', ascending=False)\n",
    "sns.barplot(x='Ticker', y='Return', data=sorted_df)\n",
    "plt.title('Total Return by Ticker')\n",
    "plt.ylabel('Return')\n",
    "plt.xticks(rotation=45)\n",
    "plt.show()\n",
    "\n",
    "# 3. Optional: Save results to CSV\n",
    "perf_df.to_csv('backtest_mavg_results_universal_params.csv', index=False)"
   ]
  },
  {
   "cell_type": "code",
   "execution_count": null,
   "id": "2d9ef537-2744-4120-a94a-9a26fbd63157",
   "metadata": {},
   "outputs": [],
   "source": [
    "# --- Plot Cumulative PnL ---\n",
    "plt.figure(figsize=(12, 6))\n",
    "\n",
    "# Plot cumulative PnL for each stock\n",
    "for ticker in perf_df['Ticker']:\n",
    "    data_handler = DataHandler(ticker=ticker, start_date='2015-12-12', end_date='2019-12-25')\n",
    "    data = data_handler.fetch_data()\n",
    "\n",
    "    strategy = MovingAverage(\n",
    "        short_window=50,\n",
    "        long_window=100,\n",
    "        mode=\"crossover\",\n",
    "        invert_signals=False\n",
    "    )\n",
    "    backtest = Backtest(data, strategy, plot_results=False)\n",
    "    pnl_series = backtest.get_portfolio_value_series()\n",
    "\n",
    "    plt.plot(pnl_series, label=ticker)\n",
    "\n",
    "plt.legend(loc='upper left', bbox_to_anchor=(1, 1))\n",
    "plt.title('Cumulative PnL of All Strategies')\n",
    "plt.xlabel('Date')\n",
    "plt.ylabel('Portfolio Value')\n",
    "plt.tight_layout()\n",
    "plt.show()\n"
   ]
  },
  {
   "cell_type": "code",
   "execution_count": null,
   "id": "b6ea3803-9f57-44d9-9d2d-af1e389ad08c",
   "metadata": {},
   "outputs": [],
   "source": []
  }
 ],
 "metadata": {
  "kernelspec": {
   "display_name": "Python 3 (ipykernel)",
   "language": "python",
   "name": "python3"
  },
  "language_info": {
   "codemirror_mode": {
    "name": "ipython",
    "version": 3
   },
   "file_extension": ".py",
   "mimetype": "text/x-python",
   "name": "python",
   "nbconvert_exporter": "python",
   "pygments_lexer": "ipython3",
   "version": "3.11.7"
  }
 },
 "nbformat": 4,
 "nbformat_minor": 5
}
