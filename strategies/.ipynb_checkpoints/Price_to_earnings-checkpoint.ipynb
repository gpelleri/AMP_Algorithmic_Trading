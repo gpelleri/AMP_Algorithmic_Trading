{
 "cells": [
  {
   "cell_type": "code",
   "execution_count": 1,
   "id": "21be7135-d21f-438c-8d65-1d21f11c91a2",
   "metadata": {},
   "outputs": [],
   "source": [
    "import sys\n",
    "sys.path.append('..')  # Add parent directory to path\n",
    "from utils.backtest import Backtest\n",
    "from utils.data_handler import DataHandler\n",
    "\n",
    "from strategies.ratio_value import RatioValueStrategy\n",
    "from strategies.momentum import MomentumStrategy\n",
    "from utils.backtest import Backtest\n",
    "from utils.data_handler import DataHandler\n",
    "import yfinance as yf\n",
    "import pandas as pd"
   ]
  },
  {
   "cell_type": "code",
   "execution_count": 2,
   "id": "135d4720-91d7-423a-9ec9-d43c56bfe76b",
   "metadata": {},
   "outputs": [
    {
     "name": "stdout",
     "output_type": "stream",
     "text": [
      "\n",
      "--- Evaluating AAPL ---\n",
      "YF.download() has changed argument auto_adjust default to True\n"
     ]
    },
    {
     "name": "stderr",
     "output_type": "stream",
     "text": [
      "[*********************100%***********************]  1 of 1 completed\n"
     ]
    },
    {
     "name": "stdout",
     "output_type": "stream",
     "text": [
      "\n",
      "Testing weekly frequency strategy with k=0.5 for AAPL:\n"
     ]
    },
    {
     "ename": "TypeError",
     "evalue": "Backtest.__init__() got an unexpected keyword argument 'plot_results'",
     "output_type": "error",
     "traceback": [
      "\u001b[1;31m---------------------------------------------------------------------------\u001b[0m",
      "\u001b[1;31mTypeError\u001b[0m                                 Traceback (most recent call last)",
      "Cell \u001b[1;32mIn[2], line 44\u001b[0m\n\u001b[0;32m     41\u001b[0m strategy \u001b[38;5;241m=\u001b[39m RatioValueStrategy(pb_series, \u001b[38;5;124m\"\u001b[39m\u001b[38;5;124mPE\u001b[39m\u001b[38;5;124m\"\u001b[39m, window\u001b[38;5;241m=\u001b[39m\u001b[38;5;241m5\u001b[39m, k\u001b[38;5;241m=\u001b[39mthresh, frequency\u001b[38;5;241m=\u001b[39mfreq)\n\u001b[0;32m     43\u001b[0m \u001b[38;5;66;03m# Run backtest\u001b[39;00m\n\u001b[1;32m---> 44\u001b[0m backtest \u001b[38;5;241m=\u001b[39m Backtest(\n\u001b[0;32m     45\u001b[0m     data\u001b[38;5;241m=\u001b[39mprices,\n\u001b[0;32m     46\u001b[0m     strategy\u001b[38;5;241m=\u001b[39mstrategy,\n\u001b[0;32m     47\u001b[0m     plot_results\u001b[38;5;241m=\u001b[39m\u001b[38;5;28;01mFalse\u001b[39;00m\n\u001b[0;32m     48\u001b[0m )\n\u001b[0;32m     50\u001b[0m \u001b[38;5;66;03m# Store results\u001b[39;00m\n\u001b[0;32m     51\u001b[0m result \u001b[38;5;241m=\u001b[39m backtest\u001b[38;5;241m.\u001b[39mrun()\n",
      "\u001b[1;31mTypeError\u001b[0m: Backtest.__init__() got an unexpected keyword argument 'plot_results'"
     ]
    }
   ],
   "source": [
    "import pandas as pd\n",
    "\n",
    "# Define tickers and parameter grid\n",
    "tickers = [\n",
    "    \"AAPL\", \"ABT\", \"ADI\", \"ADM\", \"ADP\", \"ADSK\", \"AEE\", \"AEP\", \"AJG\", \"AKAM\",\n",
    "    \"ALB\", \"AMAT\", \"AMD\", \"AME\", \"AMGN\", \"AMT\", \"AMZN\", \"AON\", \"AOS\", \"APA\",\n",
    "    \"APD\", \"APH\", \"ARE\", \"AVB\", \"AVY\", \"AXP\", \"AZO\", \"BA\", \"BAC\", \"BAX\",\n",
    "    \"BBY\", \"BDX\", \"BEN\", \"BIIB\", \"BK\", \"BLK\", \"BMY\", \"BSX\", \"BXP\", \"C\",\n",
    "    \"CAG\", \"CAH\", \"CAT\", \"CB\", \"CCI\", \"CDNS\", \"CHD\", \"CHRW\", \"CINF\", \"CL\",\n",
    "    \"CLX\", \"CMI\", \"CNP\", \"COO\", \"COP\", \"COST\", \"CPB\", \"CPRT\", \"CSCO\", \"CTAS\",\n",
    "    \"CTSH\", \"D\", \"DE\", \"DGX\", \"DHI\", \"DIS\", \"DLTR\", \"DOV\", \"DRI\", \"DTE\",\n",
    "    \"DVA\", \"EA\", \"EBAY\", \"ECL\", \"ED\", \"EFX\", \"EIX\", \"EL\", \"EMN\", \"EMR\",\n",
    "    \"EOG\", \"EQR\", \"ES\", \"ESS\", \"F\", \"FAST\", \"FCX\", \"FDX\", \"FE\", \"FFIV\",\n",
    "    \"FITB\", \"FRT\", \"GD\", \"GE\", \"GILD\", \"GIS\", \"GPC\", \"GWW\", \"HAL\", \"HAS\"\n",
    "] # Add more tickers as needed\n",
    "frequencies = ['weekly', 'monthly', '6month']\n",
    "K = [0.5, 1, 1.5]\n",
    "\n",
    "# Initialize final results container\n",
    "all_results = {}\n",
    "best_params = []\n",
    "\n",
    "# Loop over each ticker\n",
    "for ticker in tickers:\n",
    "    print(f\"\\n--- Evaluating {ticker} ---\")\n",
    "\n",
    "    # Initialize data\n",
    "    data_handler = DataHandler(ticker=ticker, start_date='2004-12-12', end_date='2015-12-12')\n",
    "    prices = data_handler.fetch_data()\n",
    "    pb_series = data_handler.fetch_pe_series('../data/PE RATIO.xlsx')\n",
    "\n",
    "    results = {}\n",
    "\n",
    "    # Loop over each frequency and threshold\n",
    "    for freq in frequencies:\n",
    "        results[freq] = {}\n",
    "        for thresh in K:\n",
    "            print(f\"\\nTesting {freq} frequency strategy with k={thresh} for {ticker}:\")\n",
    "\n",
    "            # Initialize strategy\n",
    "            strategy = RatioValueStrategy(pb_series, \"PE\", window=5, k=thresh, frequency=freq)\n",
    "\n",
    "            # Run backtest\n",
    "            backtest = Backtest(\n",
    "                data=prices,\n",
    "                strategy=strategy,\n",
    "                plot_results=False\n",
    "            )\n",
    "\n",
    "            # Store results\n",
    "            result = backtest.run()\n",
    "            results[freq][thresh] = result\n",
    "\n",
    "            # Print metrics\n",
    "            print(f\"Final Portfolio Value: ${result['Final Value']:,.2f}\")\n",
    "            print(f\"Total Return: {result['Return']:.2%}\")\n",
    "            print(f\"Sharpe Ratio: {result['Sharpe Ratio']:.2f}\")\n",
    "            print(f\"Max Drawdown: {result['Max Drawdown']:.2%}\")\n",
    "\n",
    "    # Save all results for this ticker\n",
    "    all_results[ticker] = results\n",
    "\n",
    "    # Flatten and create comparison DataFrame\n",
    "    comparison = pd.concat({\n",
    "        freq: pd.DataFrame.from_dict(results[freq], orient='index')\n",
    "        for freq in frequencies\n",
    "    }, names=['Frequency', 'k'])\n",
    "\n",
    "    # Find best combo based on Sharpe Ratio\n",
    "    best_idx = comparison['Sharpe Ratio'].idxmax()\n",
    "    best_row = comparison.loc[best_idx]\n",
    "    best_params.append({\n",
    "        'Ticker': ticker,\n",
    "        'Best Frequency': best_idx[0],\n",
    "        'Best k': best_idx[1],\n",
    "        'Sharpe Ratio': best_row['Sharpe Ratio'],\n",
    "        'Total Return': best_row['Return'],\n",
    "        'Final Value': best_row['Final Value'],\n",
    "        'Max Drawdown': best_row['Max Drawdown']\n",
    "    })\n",
    "\n",
    "    # Optionally show per-stock comparison table\n",
    "    print(\"\\nStrategy Comparison Table:\")\n",
    "    print(comparison.round(4))\n",
    "\n",
    "# Convert best parameter summary to DataFrame\n",
    "best_params_df = pd.DataFrame(best_params)\n",
    "print(\"\\n=== Summary of Best Parameters by Ticker ===\")\n",
    "print(best_params_df.round(4))\n"
   ]
  },
  {
   "cell_type": "code",
   "execution_count": null,
   "id": "db071819-e316-4d23-907c-6620f49d74e9",
   "metadata": {},
   "outputs": [],
   "source": [
    "# Get the top 2 most frequent (frequency, k) combinations\n",
    "top_combinations = (\n",
    "    best_params_df[['Best Frequency', 'Best k']]\n",
    "    .value_counts()\n",
    "    .head(2)\n",
    ")\n",
    "\n",
    "# Display them\n",
    "print(\"\\n✅ Top 2 most common parameter combinations across tickers:\")\n",
    "for i, ((freq, k), count) in enumerate(top_combinations.items(), start=1):\n",
    "    print(f\"{i}. Frequency: {freq}, k: {k} (appears {count} times)\")\n"
   ]
  },
  {
   "cell_type": "code",
   "execution_count": null,
   "id": "b4f0fa0e-e65e-44d8-a72b-2cdf30e769bb",
   "metadata": {},
   "outputs": [],
   "source": []
  }
 ],
 "metadata": {
  "kernelspec": {
   "display_name": "Python 3 (ipykernel)",
   "language": "python",
   "name": "python3"
  },
  "language_info": {
   "codemirror_mode": {
    "name": "ipython",
    "version": 3
   },
   "file_extension": ".py",
   "mimetype": "text/x-python",
   "name": "python",
   "nbconvert_exporter": "python",
   "pygments_lexer": "ipython3",
   "version": "3.11.7"
  }
 },
 "nbformat": 4,
 "nbformat_minor": 5
}
